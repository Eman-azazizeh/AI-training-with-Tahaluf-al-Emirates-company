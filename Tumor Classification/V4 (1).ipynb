{
  "nbformat": 4,
  "nbformat_minor": 0,
  "metadata": {
    "colab": {
      "provenance": []
    },
    "kernelspec": {
      "name": "python3",
      "display_name": "Python 3"
    },
    "language_info": {
      "name": "python"
    },
    "accelerator": "TPU"
  },
  "cells": [
    {
      "cell_type": "code",
      "execution_count": 16,
      "metadata": {
        "id": "fjSSChI4y2kM"
      },
      "outputs": [],
      "source": [
        "import matplotlib.pyplot as plt\n",
        "from sklearn.model_selection import train_test_split\n",
        "from sklearn.preprocessing import LabelEncoder\n",
        "\n",
        "import numpy as np\n",
        "import pandas as pd\n",
        "import seaborn as sns\n",
        "from PIL import Image\n",
        "import os\n",
        "from tqdm import tqdm\n",
        "import cv2\n",
        "\n",
        "import shutil"
      ]
    },
    {
      "cell_type": "code",
      "source": [],
      "metadata": {
        "id": "S8PEnW6MgJG4"
      },
      "execution_count": 16,
      "outputs": []
    },
    {
      "cell_type": "code",
      "source": [
        "from google.colab import files"
      ],
      "metadata": {
        "id": "rJBGA9h824W3"
      },
      "execution_count": 17,
      "outputs": []
    },
    {
      "cell_type": "code",
      "source": [
        "!mkdir -p ~/.kaggle\n",
        "!cp kaggle.json ~/.kaggle/\n",
        "!chmod 600 ~/.kaggle/kaggle.json"
      ],
      "metadata": {
        "id": "e2FtCpQj3BFs"
      },
      "execution_count": 18,
      "outputs": []
    },
    {
      "cell_type": "code",
      "source": [
        "!kaggle competitions download -c umor-classification"
      ],
      "metadata": {
        "colab": {
          "base_uri": "https://localhost:8080/"
        },
        "id": "J70B_3vF4dus",
        "outputId": "b4df5344-3201-4156-e5a6-abf95e58302a"
      },
      "execution_count": 19,
      "outputs": [
        {
          "output_type": "stream",
          "name": "stdout",
          "text": [
            "umor-classification.zip: Skipping, found more recently modified local copy (use --force to force download)\n"
          ]
        }
      ]
    },
    {
      "cell_type": "code",
      "source": [
        "!unzip umor-classification.zip"
      ],
      "metadata": {
        "colab": {
          "base_uri": "https://localhost:8080/"
        },
        "id": "YZ9J4pZKGRXt",
        "outputId": "68efb731-f2de-4e91-80f5-d0f07bf74968"
      },
      "execution_count": 20,
      "outputs": [
        {
          "output_type": "stream",
          "name": "stdout",
          "text": [
            "Archive:  umor-classification.zip\n",
            "replace images/images/1006.png? [y]es, [n]o, [A]ll, [N]one, [r]ename: "
          ]
        }
      ]
    },
    {
      "cell_type": "markdown",
      "source": [
        "### Load the CSV files containing the data:"
      ],
      "metadata": {
        "id": "ZAy_ijwjDjIi"
      }
    },
    {
      "cell_type": "code",
      "source": [
        "# # Load and preprocess training images\n",
        "image_folder   = '/content/images/images/'"
      ],
      "metadata": {
        "id": "ck-QpnIOXZ9s"
      },
      "execution_count": 21,
      "outputs": []
    },
    {
      "cell_type": "code",
      "source": [
        "print(f\"There are {len(os.listdir(image_folder ))} images in  dataset\")"
      ],
      "metadata": {
        "colab": {
          "base_uri": "https://localhost:8080/"
        },
        "id": "eCjzuWABkcSS",
        "outputId": "4db45dfa-a7d5-45ae-8034-3fb3325c508f"
      },
      "execution_count": 22,
      "outputs": [
        {
          "output_type": "stream",
          "name": "stdout",
          "text": [
            "There are 775 images in  dataset\n"
          ]
        }
      ]
    },
    {
      "cell_type": "code",
      "source": [
        "train_df  = pd.read_csv('trainset.csv')\n",
        "test_df   = pd.read_csv('testset.csv')"
      ],
      "metadata": {
        "id": "NkFvpbwZDRP1"
      },
      "execution_count": 23,
      "outputs": []
    },
    {
      "cell_type": "code",
      "source": [
        "train_df['Class'].value_counts()"
      ],
      "metadata": {
        "colab": {
          "base_uri": "https://localhost:8080/"
        },
        "id": "7ROnxCYbwGNQ",
        "outputId": "c1eac7c4-12ae-40d1-99b3-88113dd17a84"
      },
      "execution_count": 24,
      "outputs": [
        {
          "output_type": "execute_result",
          "data": {
            "text/plain": [
              "Benign       300\n",
              "Malignant    148\n",
              "Normal        91\n",
              "Name: Class, dtype: int64"
            ]
          },
          "metadata": {},
          "execution_count": 24
        }
      ]
    },
    {
      "cell_type": "code",
      "source": [
        "train_df[:50]"
      ],
      "metadata": {
        "colab": {
          "base_uri": "https://localhost:8080/",
          "height": 1000
        },
        "id": "eLBtHKT7lO0b",
        "outputId": "61157498-37fe-4f3d-e8d8-0106f2a83c4a"
      },
      "execution_count": 25,
      "outputs": [
        {
          "output_type": "execute_result",
          "data": {
            "text/plain": [
              "    Unnamed: 0    Id      Class\n",
              "0          211  8602  Malignant\n",
              "1          315  7464  Malignant\n",
              "2          165  5832  Malignant\n",
              "3          188  2843  Malignant\n",
              "4          710  5272     Benign\n",
              "5          285  9436  Malignant\n",
              "6           34  4050     Normal\n",
              "7          708  7653     Benign\n",
              "8          334  7048  Malignant\n",
              "9          776  2885     Benign\n",
              "10         422  1884     Benign\n",
              "11         490  1300     Benign\n",
              "12         648  6626     Benign\n",
              "13         155  6539  Malignant\n",
              "14         482  8558     Benign\n",
              "15         369  2145     Benign\n",
              "16         760  4072     Benign\n",
              "17         358  4317     Benign\n",
              "18         243  2651  Malignant\n",
              "19         200  8507  Malignant\n",
              "20          66  4412     Normal\n",
              "21         557  9895     Benign\n",
              "22         299  3135  Malignant\n",
              "23         337  2273  Malignant\n",
              "24         161  6102  Malignant\n",
              "25         268  1815  Malignant\n",
              "26         670  2388     Benign\n",
              "27         521  6738     Benign\n",
              "28         301  7071  Malignant\n",
              "29         545  4644     Benign\n",
              "30         407  9618     Benign\n",
              "31         516  1844     Benign\n",
              "32         452  9053     Benign\n",
              "33         229  3921  Malignant\n",
              "34         542  9659     Benign\n",
              "35         538  1503     Benign\n",
              "36         485  2460     Benign\n",
              "37         712  5390     Benign\n",
              "38         757  5124     Benign\n",
              "39         692  6089     Benign\n",
              "40          15  4888     Normal\n",
              "41         245  8054  Malignant\n",
              "42         424  7415     Benign\n",
              "43           6  8497     Normal\n",
              "44         331  7900  Malignant\n",
              "45         350  4253     Benign\n",
              "46         104  9506     Normal\n",
              "47         468  4833     Benign\n",
              "48         415  2724     Benign\n",
              "49         616  5737     Benign"
            ],
            "text/html": [
              "\n",
              "  <div id=\"df-d68f1884-fe14-4288-af53-9d6acaab7962\" class=\"colab-df-container\">\n",
              "    <div>\n",
              "<style scoped>\n",
              "    .dataframe tbody tr th:only-of-type {\n",
              "        vertical-align: middle;\n",
              "    }\n",
              "\n",
              "    .dataframe tbody tr th {\n",
              "        vertical-align: top;\n",
              "    }\n",
              "\n",
              "    .dataframe thead th {\n",
              "        text-align: right;\n",
              "    }\n",
              "</style>\n",
              "<table border=\"1\" class=\"dataframe\">\n",
              "  <thead>\n",
              "    <tr style=\"text-align: right;\">\n",
              "      <th></th>\n",
              "      <th>Unnamed: 0</th>\n",
              "      <th>Id</th>\n",
              "      <th>Class</th>\n",
              "    </tr>\n",
              "  </thead>\n",
              "  <tbody>\n",
              "    <tr>\n",
              "      <th>0</th>\n",
              "      <td>211</td>\n",
              "      <td>8602</td>\n",
              "      <td>Malignant</td>\n",
              "    </tr>\n",
              "    <tr>\n",
              "      <th>1</th>\n",
              "      <td>315</td>\n",
              "      <td>7464</td>\n",
              "      <td>Malignant</td>\n",
              "    </tr>\n",
              "    <tr>\n",
              "      <th>2</th>\n",
              "      <td>165</td>\n",
              "      <td>5832</td>\n",
              "      <td>Malignant</td>\n",
              "    </tr>\n",
              "    <tr>\n",
              "      <th>3</th>\n",
              "      <td>188</td>\n",
              "      <td>2843</td>\n",
              "      <td>Malignant</td>\n",
              "    </tr>\n",
              "    <tr>\n",
              "      <th>4</th>\n",
              "      <td>710</td>\n",
              "      <td>5272</td>\n",
              "      <td>Benign</td>\n",
              "    </tr>\n",
              "    <tr>\n",
              "      <th>5</th>\n",
              "      <td>285</td>\n",
              "      <td>9436</td>\n",
              "      <td>Malignant</td>\n",
              "    </tr>\n",
              "    <tr>\n",
              "      <th>6</th>\n",
              "      <td>34</td>\n",
              "      <td>4050</td>\n",
              "      <td>Normal</td>\n",
              "    </tr>\n",
              "    <tr>\n",
              "      <th>7</th>\n",
              "      <td>708</td>\n",
              "      <td>7653</td>\n",
              "      <td>Benign</td>\n",
              "    </tr>\n",
              "    <tr>\n",
              "      <th>8</th>\n",
              "      <td>334</td>\n",
              "      <td>7048</td>\n",
              "      <td>Malignant</td>\n",
              "    </tr>\n",
              "    <tr>\n",
              "      <th>9</th>\n",
              "      <td>776</td>\n",
              "      <td>2885</td>\n",
              "      <td>Benign</td>\n",
              "    </tr>\n",
              "    <tr>\n",
              "      <th>10</th>\n",
              "      <td>422</td>\n",
              "      <td>1884</td>\n",
              "      <td>Benign</td>\n",
              "    </tr>\n",
              "    <tr>\n",
              "      <th>11</th>\n",
              "      <td>490</td>\n",
              "      <td>1300</td>\n",
              "      <td>Benign</td>\n",
              "    </tr>\n",
              "    <tr>\n",
              "      <th>12</th>\n",
              "      <td>648</td>\n",
              "      <td>6626</td>\n",
              "      <td>Benign</td>\n",
              "    </tr>\n",
              "    <tr>\n",
              "      <th>13</th>\n",
              "      <td>155</td>\n",
              "      <td>6539</td>\n",
              "      <td>Malignant</td>\n",
              "    </tr>\n",
              "    <tr>\n",
              "      <th>14</th>\n",
              "      <td>482</td>\n",
              "      <td>8558</td>\n",
              "      <td>Benign</td>\n",
              "    </tr>\n",
              "    <tr>\n",
              "      <th>15</th>\n",
              "      <td>369</td>\n",
              "      <td>2145</td>\n",
              "      <td>Benign</td>\n",
              "    </tr>\n",
              "    <tr>\n",
              "      <th>16</th>\n",
              "      <td>760</td>\n",
              "      <td>4072</td>\n",
              "      <td>Benign</td>\n",
              "    </tr>\n",
              "    <tr>\n",
              "      <th>17</th>\n",
              "      <td>358</td>\n",
              "      <td>4317</td>\n",
              "      <td>Benign</td>\n",
              "    </tr>\n",
              "    <tr>\n",
              "      <th>18</th>\n",
              "      <td>243</td>\n",
              "      <td>2651</td>\n",
              "      <td>Malignant</td>\n",
              "    </tr>\n",
              "    <tr>\n",
              "      <th>19</th>\n",
              "      <td>200</td>\n",
              "      <td>8507</td>\n",
              "      <td>Malignant</td>\n",
              "    </tr>\n",
              "    <tr>\n",
              "      <th>20</th>\n",
              "      <td>66</td>\n",
              "      <td>4412</td>\n",
              "      <td>Normal</td>\n",
              "    </tr>\n",
              "    <tr>\n",
              "      <th>21</th>\n",
              "      <td>557</td>\n",
              "      <td>9895</td>\n",
              "      <td>Benign</td>\n",
              "    </tr>\n",
              "    <tr>\n",
              "      <th>22</th>\n",
              "      <td>299</td>\n",
              "      <td>3135</td>\n",
              "      <td>Malignant</td>\n",
              "    </tr>\n",
              "    <tr>\n",
              "      <th>23</th>\n",
              "      <td>337</td>\n",
              "      <td>2273</td>\n",
              "      <td>Malignant</td>\n",
              "    </tr>\n",
              "    <tr>\n",
              "      <th>24</th>\n",
              "      <td>161</td>\n",
              "      <td>6102</td>\n",
              "      <td>Malignant</td>\n",
              "    </tr>\n",
              "    <tr>\n",
              "      <th>25</th>\n",
              "      <td>268</td>\n",
              "      <td>1815</td>\n",
              "      <td>Malignant</td>\n",
              "    </tr>\n",
              "    <tr>\n",
              "      <th>26</th>\n",
              "      <td>670</td>\n",
              "      <td>2388</td>\n",
              "      <td>Benign</td>\n",
              "    </tr>\n",
              "    <tr>\n",
              "      <th>27</th>\n",
              "      <td>521</td>\n",
              "      <td>6738</td>\n",
              "      <td>Benign</td>\n",
              "    </tr>\n",
              "    <tr>\n",
              "      <th>28</th>\n",
              "      <td>301</td>\n",
              "      <td>7071</td>\n",
              "      <td>Malignant</td>\n",
              "    </tr>\n",
              "    <tr>\n",
              "      <th>29</th>\n",
              "      <td>545</td>\n",
              "      <td>4644</td>\n",
              "      <td>Benign</td>\n",
              "    </tr>\n",
              "    <tr>\n",
              "      <th>30</th>\n",
              "      <td>407</td>\n",
              "      <td>9618</td>\n",
              "      <td>Benign</td>\n",
              "    </tr>\n",
              "    <tr>\n",
              "      <th>31</th>\n",
              "      <td>516</td>\n",
              "      <td>1844</td>\n",
              "      <td>Benign</td>\n",
              "    </tr>\n",
              "    <tr>\n",
              "      <th>32</th>\n",
              "      <td>452</td>\n",
              "      <td>9053</td>\n",
              "      <td>Benign</td>\n",
              "    </tr>\n",
              "    <tr>\n",
              "      <th>33</th>\n",
              "      <td>229</td>\n",
              "      <td>3921</td>\n",
              "      <td>Malignant</td>\n",
              "    </tr>\n",
              "    <tr>\n",
              "      <th>34</th>\n",
              "      <td>542</td>\n",
              "      <td>9659</td>\n",
              "      <td>Benign</td>\n",
              "    </tr>\n",
              "    <tr>\n",
              "      <th>35</th>\n",
              "      <td>538</td>\n",
              "      <td>1503</td>\n",
              "      <td>Benign</td>\n",
              "    </tr>\n",
              "    <tr>\n",
              "      <th>36</th>\n",
              "      <td>485</td>\n",
              "      <td>2460</td>\n",
              "      <td>Benign</td>\n",
              "    </tr>\n",
              "    <tr>\n",
              "      <th>37</th>\n",
              "      <td>712</td>\n",
              "      <td>5390</td>\n",
              "      <td>Benign</td>\n",
              "    </tr>\n",
              "    <tr>\n",
              "      <th>38</th>\n",
              "      <td>757</td>\n",
              "      <td>5124</td>\n",
              "      <td>Benign</td>\n",
              "    </tr>\n",
              "    <tr>\n",
              "      <th>39</th>\n",
              "      <td>692</td>\n",
              "      <td>6089</td>\n",
              "      <td>Benign</td>\n",
              "    </tr>\n",
              "    <tr>\n",
              "      <th>40</th>\n",
              "      <td>15</td>\n",
              "      <td>4888</td>\n",
              "      <td>Normal</td>\n",
              "    </tr>\n",
              "    <tr>\n",
              "      <th>41</th>\n",
              "      <td>245</td>\n",
              "      <td>8054</td>\n",
              "      <td>Malignant</td>\n",
              "    </tr>\n",
              "    <tr>\n",
              "      <th>42</th>\n",
              "      <td>424</td>\n",
              "      <td>7415</td>\n",
              "      <td>Benign</td>\n",
              "    </tr>\n",
              "    <tr>\n",
              "      <th>43</th>\n",
              "      <td>6</td>\n",
              "      <td>8497</td>\n",
              "      <td>Normal</td>\n",
              "    </tr>\n",
              "    <tr>\n",
              "      <th>44</th>\n",
              "      <td>331</td>\n",
              "      <td>7900</td>\n",
              "      <td>Malignant</td>\n",
              "    </tr>\n",
              "    <tr>\n",
              "      <th>45</th>\n",
              "      <td>350</td>\n",
              "      <td>4253</td>\n",
              "      <td>Benign</td>\n",
              "    </tr>\n",
              "    <tr>\n",
              "      <th>46</th>\n",
              "      <td>104</td>\n",
              "      <td>9506</td>\n",
              "      <td>Normal</td>\n",
              "    </tr>\n",
              "    <tr>\n",
              "      <th>47</th>\n",
              "      <td>468</td>\n",
              "      <td>4833</td>\n",
              "      <td>Benign</td>\n",
              "    </tr>\n",
              "    <tr>\n",
              "      <th>48</th>\n",
              "      <td>415</td>\n",
              "      <td>2724</td>\n",
              "      <td>Benign</td>\n",
              "    </tr>\n",
              "    <tr>\n",
              "      <th>49</th>\n",
              "      <td>616</td>\n",
              "      <td>5737</td>\n",
              "      <td>Benign</td>\n",
              "    </tr>\n",
              "  </tbody>\n",
              "</table>\n",
              "</div>\n",
              "    <div class=\"colab-df-buttons\">\n",
              "\n",
              "  <div class=\"colab-df-container\">\n",
              "    <button class=\"colab-df-convert\" onclick=\"convertToInteractive('df-d68f1884-fe14-4288-af53-9d6acaab7962')\"\n",
              "            title=\"Convert this dataframe to an interactive table.\"\n",
              "            style=\"display:none;\">\n",
              "\n",
              "  <svg xmlns=\"http://www.w3.org/2000/svg\" height=\"24px\" viewBox=\"0 -960 960 960\">\n",
              "    <path d=\"M120-120v-720h720v720H120Zm60-500h600v-160H180v160Zm220 220h160v-160H400v160Zm0 220h160v-160H400v160ZM180-400h160v-160H180v160Zm440 0h160v-160H620v160ZM180-180h160v-160H180v160Zm440 0h160v-160H620v160Z\"/>\n",
              "  </svg>\n",
              "    </button>\n",
              "\n",
              "  <style>\n",
              "    .colab-df-container {\n",
              "      display:flex;\n",
              "      gap: 12px;\n",
              "    }\n",
              "\n",
              "    .colab-df-convert {\n",
              "      background-color: #E8F0FE;\n",
              "      border: none;\n",
              "      border-radius: 50%;\n",
              "      cursor: pointer;\n",
              "      display: none;\n",
              "      fill: #1967D2;\n",
              "      height: 32px;\n",
              "      padding: 0 0 0 0;\n",
              "      width: 32px;\n",
              "    }\n",
              "\n",
              "    .colab-df-convert:hover {\n",
              "      background-color: #E2EBFA;\n",
              "      box-shadow: 0px 1px 2px rgba(60, 64, 67, 0.3), 0px 1px 3px 1px rgba(60, 64, 67, 0.15);\n",
              "      fill: #174EA6;\n",
              "    }\n",
              "\n",
              "    .colab-df-buttons div {\n",
              "      margin-bottom: 4px;\n",
              "    }\n",
              "\n",
              "    [theme=dark] .colab-df-convert {\n",
              "      background-color: #3B4455;\n",
              "      fill: #D2E3FC;\n",
              "    }\n",
              "\n",
              "    [theme=dark] .colab-df-convert:hover {\n",
              "      background-color: #434B5C;\n",
              "      box-shadow: 0px 1px 3px 1px rgba(0, 0, 0, 0.15);\n",
              "      filter: drop-shadow(0px 1px 2px rgba(0, 0, 0, 0.3));\n",
              "      fill: #FFFFFF;\n",
              "    }\n",
              "  </style>\n",
              "\n",
              "    <script>\n",
              "      const buttonEl =\n",
              "        document.querySelector('#df-d68f1884-fe14-4288-af53-9d6acaab7962 button.colab-df-convert');\n",
              "      buttonEl.style.display =\n",
              "        google.colab.kernel.accessAllowed ? 'block' : 'none';\n",
              "\n",
              "      async function convertToInteractive(key) {\n",
              "        const element = document.querySelector('#df-d68f1884-fe14-4288-af53-9d6acaab7962');\n",
              "        const dataTable =\n",
              "          await google.colab.kernel.invokeFunction('convertToInteractive',\n",
              "                                                    [key], {});\n",
              "        if (!dataTable) return;\n",
              "\n",
              "        const docLinkHtml = 'Like what you see? Visit the ' +\n",
              "          '<a target=\"_blank\" href=https://colab.research.google.com/notebooks/data_table.ipynb>data table notebook</a>'\n",
              "          + ' to learn more about interactive tables.';\n",
              "        element.innerHTML = '';\n",
              "        dataTable['output_type'] = 'display_data';\n",
              "        await google.colab.output.renderOutput(dataTable, element);\n",
              "        const docLink = document.createElement('div');\n",
              "        docLink.innerHTML = docLinkHtml;\n",
              "        element.appendChild(docLink);\n",
              "      }\n",
              "    </script>\n",
              "  </div>\n",
              "\n",
              "\n",
              "<div id=\"df-8c1e9fa9-f28a-45f5-a363-ce52a337ff3c\">\n",
              "  <button class=\"colab-df-quickchart\" onclick=\"quickchart('df-8c1e9fa9-f28a-45f5-a363-ce52a337ff3c')\"\n",
              "            title=\"Suggest charts.\"\n",
              "            style=\"display:none;\">\n",
              "\n",
              "<svg xmlns=\"http://www.w3.org/2000/svg\" height=\"24px\"viewBox=\"0 0 24 24\"\n",
              "     width=\"24px\">\n",
              "    <g>\n",
              "        <path d=\"M19 3H5c-1.1 0-2 .9-2 2v14c0 1.1.9 2 2 2h14c1.1 0 2-.9 2-2V5c0-1.1-.9-2-2-2zM9 17H7v-7h2v7zm4 0h-2V7h2v10zm4 0h-2v-4h2v4z\"/>\n",
              "    </g>\n",
              "</svg>\n",
              "  </button>\n",
              "\n",
              "<style>\n",
              "  .colab-df-quickchart {\n",
              "    background-color: #E8F0FE;\n",
              "    border: none;\n",
              "    border-radius: 50%;\n",
              "    cursor: pointer;\n",
              "    display: none;\n",
              "    fill: #1967D2;\n",
              "    height: 32px;\n",
              "    padding: 0 0 0 0;\n",
              "    width: 32px;\n",
              "  }\n",
              "\n",
              "  .colab-df-quickchart:hover {\n",
              "    background-color: #E2EBFA;\n",
              "    box-shadow: 0px 1px 2px rgba(60, 64, 67, 0.3), 0px 1px 3px 1px rgba(60, 64, 67, 0.15);\n",
              "    fill: #174EA6;\n",
              "  }\n",
              "\n",
              "  [theme=dark] .colab-df-quickchart {\n",
              "    background-color: #3B4455;\n",
              "    fill: #D2E3FC;\n",
              "  }\n",
              "\n",
              "  [theme=dark] .colab-df-quickchart:hover {\n",
              "    background-color: #434B5C;\n",
              "    box-shadow: 0px 1px 3px 1px rgba(0, 0, 0, 0.15);\n",
              "    filter: drop-shadow(0px 1px 2px rgba(0, 0, 0, 0.3));\n",
              "    fill: #FFFFFF;\n",
              "  }\n",
              "</style>\n",
              "\n",
              "  <script>\n",
              "    async function quickchart(key) {\n",
              "      const charts = await google.colab.kernel.invokeFunction(\n",
              "          'suggestCharts', [key], {});\n",
              "    }\n",
              "    (() => {\n",
              "      let quickchartButtonEl =\n",
              "        document.querySelector('#df-8c1e9fa9-f28a-45f5-a363-ce52a337ff3c button');\n",
              "      quickchartButtonEl.style.display =\n",
              "        google.colab.kernel.accessAllowed ? 'block' : 'none';\n",
              "    })();\n",
              "  </script>\n",
              "</div>\n",
              "    </div>\n",
              "  </div>\n"
            ]
          },
          "metadata": {},
          "execution_count": 25
        }
      ]
    },
    {
      "cell_type": "code",
      "source": [
        "image_filenames = os.listdir(image_folder)"
      ],
      "metadata": {
        "id": "4mGQm7IvdsH7"
      },
      "execution_count": 26,
      "outputs": []
    },
    {
      "cell_type": "code",
      "source": [
        "id_to_label = dict(zip(train_df['Id'], train_df['Class']))"
      ],
      "metadata": {
        "id": "mMKlsQ-XdsKU"
      },
      "execution_count": 27,
      "outputs": []
    },
    {
      "cell_type": "code",
      "source": [
        "def load_images_with_labels(df):\n",
        "    images = []\n",
        "    labels = []\n",
        "    for index, row in df.iterrows():\n",
        "        image_id = row['Id']\n",
        "        if image_id in id_to_label:\n",
        "            label = id_to_label[image_id]\n",
        "\n",
        "            image_path = os.path.join(image_folder, f\"{image_id}.png\")\n",
        "            if os.path.exists(image_path):  # Check if the image file exists\n",
        "                image = cv2.imread(image_path)  # Load the image using cv2\n",
        "\n",
        "                if image is not None:  # Check if the image was loaded successfully\n",
        "                    images.append(image)\n",
        "                    labels.append(label)\n",
        "                else:\n",
        "                    print(f\"Warning: Unable to load image: {image_path}\")\n",
        "            else:\n",
        "                print(f\"Warning: Image not found: {image_path}\")\n",
        "    return np.array(images), np.array(labels)"
      ],
      "metadata": {
        "id": "Oxy8_gNBDRBO"
      },
      "execution_count": 28,
      "outputs": []
    },
    {
      "cell_type": "code",
      "source": [
        "X_train, y_train = load_images_with_labels(train_df)"
      ],
      "metadata": {
        "id": "FIlqubvNrYFY"
      },
      "execution_count": null,
      "outputs": []
    },
    {
      "cell_type": "code",
      "source": [
        "y_train"
      ],
      "metadata": {
        "id": "2XqnPYkIs6Py"
      },
      "execution_count": null,
      "outputs": []
    },
    {
      "cell_type": "code",
      "source": [
        "image_filenames = [filename for filename in os.listdir(image_folder) if filename.endswith(\".png\")]\n",
        "image_ids = [int(image_id[:-4]) for image_id in image_filenames if image_id[:-4].isnumeric()]\n",
        "\n",
        "# Get the image IDs included in the training set\n",
        "train_image_ids = set(train_df['Id'])"
      ],
      "metadata": {
        "id": "JZbdeYsxtrFB"
      },
      "execution_count": null,
      "outputs": []
    },
    {
      "cell_type": "code",
      "source": [
        "# Get the image IDs from the test CSV\n",
        "test_image_ids = list(test_df['Id'])"
      ],
      "metadata": {
        "id": "awAJOFROs6NO"
      },
      "execution_count": null,
      "outputs": []
    },
    {
      "cell_type": "code",
      "source": [
        "remaining_test_image_ids = [image_id for image_id in test_image_ids if image_id not in train_image_ids]"
      ],
      "metadata": {
        "id": "_HQ-7bfPtq_f"
      },
      "execution_count": null,
      "outputs": []
    },
    {
      "cell_type": "code",
      "source": [
        "def load_remaining_test_images(image_ids):\n",
        "    images = []\n",
        "    for image_id in image_ids:\n",
        "        image_path = os.path.join(image_folder, f\"{image_id}.png\")\n",
        "        image = cv2.imread(image_path)\n",
        "        if image is not None:\n",
        "            images.append(image)\n",
        "    return np.array(images)"
      ],
      "metadata": {
        "id": "EaMnkyD9s6Ka"
      },
      "execution_count": null,
      "outputs": []
    },
    {
      "cell_type": "code",
      "source": [
        "X_test = load_remaining_test_images(remaining_test_image_ids)"
      ],
      "metadata": {
        "id": "U9sA6_xxs6EJ"
      },
      "execution_count": null,
      "outputs": []
    },
    {
      "cell_type": "code",
      "source": [
        "X_test.shape"
      ],
      "metadata": {
        "id": "2Y4nUmHntu3m"
      },
      "execution_count": null,
      "outputs": []
    },
    {
      "cell_type": "code",
      "source": [
        "from sklearn.utils import shuffle\n",
        "from tensorflow.keras.preprocessing.image import ImageDataGenerator\n",
        "\n",
        "# Create separate lists for each class\n",
        "benign_images = []\n",
        "malignant_images = []\n",
        "normal_images = []\n",
        "\n",
        "# Iterate through the training data and populate the lists based on class\n",
        "for image, label in zip(X_train, y_train):\n",
        "    if label == \"Benign\":\n",
        "        benign_images.append(image)\n",
        "    elif label == \"Malignant\":\n",
        "        malignant_images.append(image)\n",
        "    elif label == \"Normal\":\n",
        "        normal_images.append(image)"
      ],
      "metadata": {
        "id": "6YHOtvYEuXiK"
      },
      "execution_count": null,
      "outputs": []
    },
    {
      "cell_type": "code",
      "source": [
        "benign_images"
      ],
      "metadata": {
        "id": "hXMna0XnwWl1"
      },
      "execution_count": null,
      "outputs": []
    },
    {
      "cell_type": "code",
      "source": [
        "malignant_images"
      ],
      "metadata": {
        "id": "KjYcwLQPwZ5D"
      },
      "execution_count": null,
      "outputs": []
    },
    {
      "cell_type": "code",
      "source": [
        "normal_images"
      ],
      "metadata": {
        "id": "osl1GWugwb3r"
      },
      "execution_count": null,
      "outputs": []
    },
    {
      "cell_type": "code",
      "source": [
        "# Define the image ID you want to plot\n",
        "image_id_to_plot = 557\n",
        "\n",
        "# Find the index of the image with the specified ID in the benign_images array\n",
        "index_to_plot = np.where(train_df['Id'] == image_id_to_plot)[0]\n",
        "\n",
        "if len(index_to_plot) > 0:\n",
        "    index_to_plot = index_to_plot[0]  # Take the first index if multiple are found\n",
        "    plt.figure(figsize=(5, 5))\n",
        "    plt.imshow(benign_images[index_to_plot])\n",
        "    plt.title(f\"Image ID: {image_id_to_plot} - Class: Benign\")\n",
        "    plt.axis('off')\n",
        "    plt.show()\n",
        "else:\n",
        "    print(f\"Image ID not found: {image_id_to_plot}\")"
      ],
      "metadata": {
        "id": "V8Pdm9q42GsU"
      },
      "execution_count": null,
      "outputs": []
    },
    {
      "cell_type": "code",
      "source": [
        "# Convert lists to numpy arrays\n",
        "benign_images = np.array(benign_images)\n",
        "malignant_images = np.array(malignant_images)\n",
        "normal_images = np.array(normal_images)"
      ],
      "metadata": {
        "id": "XreFjGO-wdiV"
      },
      "execution_count": null,
      "outputs": []
    },
    {
      "cell_type": "code",
      "source": [
        "# Find the count of each class\n",
        "benign_count = benign_images.shape[0]\n",
        "malignant_count = malignant_images.shape[0]\n",
        "normal_count = normal_images.shape[0]\n"
      ],
      "metadata": {
        "id": "0roBsxKywgUs"
      },
      "execution_count": null,
      "outputs": []
    },
    {
      "cell_type": "code",
      "source": [
        "# Determine the maximum class count\n",
        "max_class_count = max(benign_count, malignant_count, normal_count)"
      ],
      "metadata": {
        "id": "YslNLiOUwtXU"
      },
      "execution_count": null,
      "outputs": []
    },
    {
      "cell_type": "code",
      "source": [
        "max_class_count"
      ],
      "metadata": {
        "id": "3NVpDyybwu8G"
      },
      "execution_count": null,
      "outputs": []
    },
    {
      "cell_type": "code",
      "source": [
        "# Function to perform data augmentation for medical images\n",
        "def perform_data_augmentation(images, desired_count):\n",
        "    augmented_images = []\n",
        "    current_count = images.shape[0]\n",
        "\n",
        "    while current_count < desired_count:\n",
        "        random_index = np.random.randint(0, images.shape[0])\n",
        "        original_image = images[random_index]\n",
        "\n",
        "        datagen = ImageDataGenerator(\n",
        "            rotation_range=15,\n",
        "            width_shift_range=0.1,\n",
        "            height_shift_range=0.1,\n",
        "            shear_range=0.1,\n",
        "            zoom_range=0.1,\n",
        "            horizontal_flip=True,\n",
        "            fill_mode='nearest'\n",
        "        )\n",
        "\n",
        "        augmented_image = datagen.random_transform(original_image)\n",
        "        augmented_images.append(augmented_image)\n",
        "\n",
        "        current_count += 1\n",
        "\n",
        "    return np.array(augmented_images)\n"
      ],
      "metadata": {
        "id": "pfBR_xC4w27V"
      },
      "execution_count": null,
      "outputs": []
    },
    {
      "cell_type": "code",
      "source": [
        "# Perform data augmentation for the minority classes\n",
        "augmented_malignant = perform_data_augmentation(malignant_images, max_class_count)\n",
        "augmented_normal = perform_data_augmentation(normal_images, max_class_count)\n"
      ],
      "metadata": {
        "id": "bYh729sWxz1-"
      },
      "execution_count": null,
      "outputs": []
    },
    {
      "cell_type": "code",
      "source": [
        "# Concatenate the balanced data\n",
        "balanced_X_train = np.concatenate((benign_images, augmented_malignant, augmented_normal))\n",
        "balanced_y_train = np.concatenate((\n",
        "    np.array([\"Benign\"] * benign_count),\n",
        "    np.array([\"Malignant\"] * (max_class_count - malignant_count)),\n",
        "    np.array([\"Normal\"] * (max_class_count - normal_count))\n",
        "))\n",
        ""
      ],
      "metadata": {
        "id": "8VcChnbSx3C6"
      },
      "execution_count": null,
      "outputs": []
    },
    {
      "cell_type": "code",
      "source": [
        "# Shuffle the balanced data\n",
        "balanced_X_train, balanced_y_train = shuffle(balanced_X_train, balanced_y_train)\n"
      ],
      "metadata": {
        "id": "_QonrHasx2_-"
      },
      "execution_count": null,
      "outputs": []
    },
    {
      "cell_type": "code",
      "source": [
        "balanced_y_train"
      ],
      "metadata": {
        "id": "9RzqRE-Ux29g"
      },
      "execution_count": null,
      "outputs": []
    },
    {
      "cell_type": "code",
      "source": [
        "# Display a few augmented images for each class\n",
        "unique_classes, class_counts = np.unique(balanced_y_train, return_counts=True)\n",
        "num_images_to_visualize = 5\n",
        "\n",
        "for class_name in unique_classes:\n",
        "    class_indices = np.where(balanced_y_train == class_name)[0]\n",
        "    random_indices = np.random.choice(class_indices, num_images_to_visualize, replace=False)\n",
        "\n",
        "    plt.figure(figsize=(15, 5))\n",
        "    plt.suptitle(f\"Augmented Images for Class: {class_name}\", fontsize=16)\n",
        "\n",
        "    for i, index in enumerate(random_indices):\n",
        "        plt.subplot(1, num_images_to_visualize, i + 1)\n",
        "        plt.imshow(balanced_X_train[index])\n",
        "        plt.title(f\"Image {index}\")\n",
        "        plt.axis('off')\n",
        "\n",
        "    plt.show()\n",
        "\n"
      ],
      "metadata": {
        "id": "NrwYI0QHy3vD"
      },
      "execution_count": null,
      "outputs": []
    },
    {
      "cell_type": "code",
      "source": [
        "import random\n",
        "\n",
        "# Choose random indices from both arrays\n",
        "num_samples_to_visualize = 5\n",
        "random_indices_original = random.sample(range(X_train.shape[0]), num_samples_to_visualize)\n",
        "random_indices_balanced = random.sample(range(balanced_X_train.shape[0]), num_samples_to_visualize)\n",
        "\n",
        "plt.figure(figsize=(15, 10))\n",
        "plt.suptitle(\"Comparison of Original and Augmented Images\", fontsize=16)\n",
        "\n",
        "for i in range(num_samples_to_visualize):\n",
        "    # Plot original image\n",
        "    plt.subplot(2, num_samples_to_visualize, i + 1)\n",
        "    plt.imshow(X_train[random_indices_original[i]])\n",
        "    plt.title(f\"Original Image {random_indices_original[i]}\")\n",
        "    plt.axis('off')\n",
        "\n",
        "    # Plot augmented image\n",
        "    plt.subplot(2, num_samples_to_visualize, num_samples_to_visualize + i + 1)\n",
        "    plt.imshow(balanced_X_train[random_indices_balanced[i]])\n",
        "    plt.title(f\"Augmented Image {random_indices_balanced[i]}\")\n",
        "    plt.axis('off')\n",
        "\n",
        "plt.tight_layout()\n",
        "plt.show()"
      ],
      "metadata": {
        "id": "u1Xag6640-aS"
      },
      "execution_count": null,
      "outputs": []
    },
    {
      "cell_type": "code",
      "source": [
        "balanced_X_train[0].shape"
      ],
      "metadata": {
        "id": "i6iMPW3y2gmh"
      },
      "execution_count": null,
      "outputs": []
    },
    {
      "cell_type": "code",
      "source": [
        "def resize_and_normalize_images(image_array, desired_size):\n",
        "    normalized_images = []\n",
        "\n",
        "    for image in image_array:\n",
        "        normalized_image = resize_and_normalize_image(image, desired_size)\n",
        "        normalized_images.append(normalized_image)\n",
        "\n",
        "    return np.array(normalized_images)\n",
        "\n",
        "# Example usage\n",
        "desired_image_size = (256, 256)  # Adjust the desired size\n",
        "\n",
        "# Resize and normalize images in balanced_X_train\n",
        "normalized_balanced_X_train = resize_and_normalize_images(balanced_X_train, desired_image_size)\n",
        "\n",
        "# Resize and normalize images in X_test\n",
        "normalized_X_test = resize_and_normalize_images(X_test, desired_image_size)"
      ],
      "metadata": {
        "id": "YQSnw0Se5QNw"
      },
      "execution_count": null,
      "outputs": []
    },
    {
      "cell_type": "code",
      "source": [
        "normalized_balanced_X_train[0]"
      ],
      "metadata": {
        "id": "azrK_I0o7twQ"
      },
      "execution_count": null,
      "outputs": []
    },
    {
      "cell_type": "code",
      "source": [
        "le = LabelEncoder()\n",
        "balanced_y_train = le.fit_transform(y_balanced_y_train)\n"
      ],
      "metadata": {
        "id": "9qY0W1NrJ7Sp"
      },
      "execution_count": null,
      "outputs": []
    },
    {
      "cell_type": "code",
      "source": [
        "X_train,X_val,y_train,y_val = train_test_split(normalized_balanced_X_train,balanced_y_train, test_size=0.2,random_state=42)"
      ],
      "metadata": {
        "id": "LU3cEG-l7u7M"
      },
      "execution_count": null,
      "outputs": []
    },
    {
      "cell_type": "code",
      "source": [
        "X_train.shape,X_val.shape,y_train.shape,y_val.shape"
      ],
      "metadata": {
        "id": "OB7x5qFJKgw8"
      },
      "execution_count": null,
      "outputs": []
    },
    {
      "cell_type": "code",
      "source": [
        "#Flattening\n",
        "X_train=X_train.flatten()\n",
        "X_train"
      ],
      "metadata": {
        "id": "Diw3PzYDKl_g"
      },
      "execution_count": null,
      "outputs": []
    },
    {
      "cell_type": "code",
      "source": [
        "X_test.shape"
      ],
      "metadata": {
        "id": "OpLiNNXQLr7y"
      },
      "execution_count": null,
      "outputs": []
    },
    {
      "cell_type": "code",
      "source": [
        "#Flattening\n",
        "normalized_X_test=normalized_X_test.flatten()\n",
        "normalized_X_test"
      ],
      "metadata": {
        "id": "tbbkkVWELIYs"
      },
      "execution_count": null,
      "outputs": []
    },
    {
      "cell_type": "code",
      "source": [],
      "metadata": {
        "id": "_cf9tpi-PibS"
      },
      "execution_count": null,
      "outputs": []
    }
  ]
}