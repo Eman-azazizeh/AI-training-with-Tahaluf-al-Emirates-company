{
 "cells": [
  {
   "cell_type": "code",
   "execution_count": 1,
   "metadata": {
    "_cell_guid": "b1076dfc-b9ad-4769-8c92-a6c4dae69d19",
    "_uuid": "8f2839f25d086af736a60e9eeb907d3b93b6e0e5",
    "execution": {
     "iopub.execute_input": "2023-08-01T13:49:32.841424Z",
     "iopub.status.busy": "2023-08-01T13:49:32.840987Z",
     "iopub.status.idle": "2023-08-01T13:49:32.854189Z",
     "shell.execute_reply": "2023-08-01T13:49:32.852717Z",
     "shell.execute_reply.started": "2023-08-01T13:49:32.841389Z"
    }
   },
   "outputs": [],
   "source": [
    "# This Python 3 environment comes with many helpful analytics libraries installed\n",
    "# It is defined by the kaggle/python Docker image: https://github.com/kaggle/docker-python\n",
    "# For example, here's several helpful packages to load\n",
    "\n",
    "import numpy as np # linear algebra\n",
    "import pandas as pd # data processing, CSV file I/O (e.g. pd.read_csv)\n",
    "\n",
    "# Input data files are available in the read-only \"../input/\" directory\n",
    "# For example, running this (by clicking run or pressing Shift+Enter) will list all files under the input directory\n",
    "\n",
    "import os\n",
    "for dirname, _, filenames in os.walk('/kaggle/input'):\n",
    "    for filename in filenames:\n",
    "        print(os.path.join(dirname, filename))\n",
    "\n",
    "# You can write up to 20GB to the current directory (/kaggle/working/) that gets preserved as output when you create a version using \"Save & Run All\" \n",
    "# You can also write temporary files to /kaggle/temp/, but they won't be saved outside of the current session"
   ]
  },
  {
   "cell_type": "code",
   "execution_count": 2,
   "metadata": {
    "execution": {
     "iopub.execute_input": "2023-08-01T13:49:32.856551Z",
     "iopub.status.busy": "2023-08-01T13:49:32.856149Z",
     "iopub.status.idle": "2023-08-01T13:49:32.874292Z",
     "shell.execute_reply": "2023-08-01T13:49:32.872872Z",
     "shell.execute_reply.started": "2023-08-01T13:49:32.856518Z"
    }
   },
   "outputs": [],
   "source": [
    "import matplotlib.pyplot as plt\n",
    "import numpy as np # linear algebra\n",
    "import pandas as pd # data processing, CSV file I/O (e.g. pd.read_csv)\n",
    "import seaborn as sns"
   ]
  },
  {
   "cell_type": "code",
   "execution_count": 3,
   "metadata": {
    "execution": {
     "iopub.execute_input": "2023-08-01T13:49:32.876901Z",
     "iopub.status.busy": "2023-08-01T13:49:32.876528Z",
     "iopub.status.idle": "2023-08-01T13:49:34.702601Z",
     "shell.execute_reply": "2023-08-01T13:49:34.701026Z",
     "shell.execute_reply.started": "2023-08-01T13:49:32.876861Z"
    }
   },
   "outputs": [],
   "source": [
    "df = pd.read_csv('train.csv')\n",
    "df = df.iloc[:,2:]"
   ]
  },
  {
   "cell_type": "code",
   "execution_count": 4,
   "metadata": {
    "execution": {
     "iopub.execute_input": "2023-08-01T14:01:51.996484Z",
     "iopub.status.busy": "2023-08-01T14:01:51.996056Z",
     "iopub.status.idle": "2023-08-01T14:01:52.036364Z",
     "shell.execute_reply": "2023-08-01T14:01:52.035208Z",
     "shell.execute_reply.started": "2023-08-01T14:01:51.996453Z"
    }
   },
   "outputs": [],
   "source": [
    "df.drop(labels=['size','lat','long','posting_date'],inplace=True,axis=1)"
   ]
  },
  {
   "cell_type": "code",
   "execution_count": 5,
   "metadata": {
    "execution": {
     "iopub.execute_input": "2023-08-01T13:49:34.707143Z",
     "iopub.status.busy": "2023-08-01T13:49:34.705539Z",
     "iopub.status.idle": "2023-08-01T13:49:35.280844Z",
     "shell.execute_reply": "2023-08-01T13:49:35.279119Z",
     "shell.execute_reply.started": "2023-08-01T13:49:34.707081Z"
    }
   },
   "outputs": [],
   "source": [
    "df.dropna(subset=['cylinders','condition','drive','type'],how='all',inplace=True)"
   ]
  },
  {
   "cell_type": "markdown",
   "metadata": {},
   "source": [
    "showing outlier here"
   ]
  },
  {
   "cell_type": "code",
   "execution_count": 6,
   "metadata": {
    "execution": {
     "iopub.execute_input": "2023-08-01T13:49:35.283054Z",
     "iopub.status.busy": "2023-08-01T13:49:35.282683Z",
     "iopub.status.idle": "2023-08-01T13:49:35.291140Z",
     "shell.execute_reply": "2023-08-01T13:49:35.289285Z",
     "shell.execute_reply.started": "2023-08-01T13:49:35.283023Z"
    }
   },
   "outputs": [],
   "source": [
    "def box_plot(name):\n",
    "    # Create subplots to display multiple box plots side by side\n",
    "    plt.figure(figsize=(8, 4))\n",
    "\n",
    "    # Box plot for 'price' column\n",
    "    sns.boxplot(x=df[name], color='lightblue')\n",
    "    plt.xlabel(name)\n",
    "    plt.title(f'Box Plot of {name}')"
   ]
  },
  {
   "cell_type": "code",
   "execution_count": 7,
   "metadata": {
    "execution": {
     "iopub.execute_input": "2023-08-01T13:49:35.296010Z",
     "iopub.status.busy": "2023-08-01T13:49:35.295548Z",
     "iopub.status.idle": "2023-08-01T13:49:35.659567Z",
     "shell.execute_reply": "2023-08-01T13:49:35.658066Z",
     "shell.execute_reply.started": "2023-08-01T13:49:35.295976Z"
    }
   },
   "outputs": [
    {
     "data": {
      "image/png": "[encoded data removed]",
      "text/plain": [
       "<Figure size 800x400 with 1 Axes>"
      ]
     },
     "metadata": {},
     "output_type": "display_data"
    }
   ],
   "source": [
    "box_plot('price')"
   ]
  },
  {
   "cell_type": "code",
   "execution_count": null,
   "metadata": {},
   "outputs": [],
   "source": []
  },
  {
   "cell_type": "code",
   "execution_count": 8,
   "metadata": {
    "execution": {
     "iopub.execute_input": "2023-08-01T13:49:35.661726Z",
     "iopub.status.busy": "2023-08-01T13:49:35.661311Z",
     "iopub.status.idle": "2023-08-01T13:49:35.671958Z",
     "shell.execute_reply": "2023-08-01T13:49:35.669993Z",
     "shell.execute_reply.started": "2023-08-01T13:49:35.661692Z"
    }
   },
   "outputs": [],
   "source": [
    "def IQR(name):\n",
    "    global new_df\n",
    "    Q1 = df[name].quantile(0.25)\n",
    "    Q3 = df[name].quantile(0.75)\n",
    "    print(f\"Q1  {name}  {Q1}, Q3  {name}  {Q3}\")\n",
    "    print(\"---------------------------------------\")\n",
    "    iqr = Q3 - Q1\n",
    "    print(f\"IQR for {name} is equal to {iqr}\")\n",
    "    print(\"---------------------------------------\")\n",
    "    upper_limit = Q1 + 1.5 * iqr\n",
    "    lower_limit = df[name].quantile(0.15)\n",
    "    \n",
    "    return (upper_limit,lower_limit)"
   ]
  },
  {
   "cell_type": "code",
   "execution_count": 9,
   "metadata": {
    "execution": {
     "iopub.execute_input": "2023-08-01T13:49:35.674816Z",
     "iopub.status.busy": "2023-08-01T13:49:35.674234Z",
     "iopub.status.idle": "2023-08-01T13:49:35.705029Z",
     "shell.execute_reply": "2023-08-01T13:49:35.703402Z",
     "shell.execute_reply.started": "2023-08-01T13:49:35.674772Z"
    }
   },
   "outputs": [
    {
     "name": "stdout",
     "output_type": "stream",
     "text": [
      "Q1  price  6200.0, Q3  price  26990.0\n",
      "---------------------------------------\n",
      "IQR for price is equal to 20790.0\n",
      "---------------------------------------\n"
     ]
    }
   ],
   "source": [
    "upper_limit_price,lower_limit_price =IQR('price')"
   ]
  },
  {
   "cell_type": "code",
   "execution_count": 10,
   "metadata": {
    "execution": {
     "iopub.execute_input": "2023-08-01T13:49:35.707186Z",
     "iopub.status.busy": "2023-08-01T13:49:35.706716Z",
     "iopub.status.idle": "2023-08-01T13:49:35.785347Z",
     "shell.execute_reply": "2023-08-01T13:49:35.783754Z",
     "shell.execute_reply.started": "2023-08-01T13:49:35.707142Z"
    }
   },
   "outputs": [],
   "source": [
    "df = df[(df['price'] < upper_limit_price) & (df['price'] > 0)]"
   ]
  },
  {
   "cell_type": "code",
   "execution_count": 11,
   "metadata": {
    "execution": {
     "iopub.execute_input": "2023-08-01T13:49:35.788135Z",
     "iopub.status.busy": "2023-08-01T13:49:35.787753Z",
     "iopub.status.idle": "2023-08-01T13:49:36.182174Z",
     "shell.execute_reply": "2023-08-01T13:49:36.180660Z",
     "shell.execute_reply.started": "2023-08-01T13:49:35.788104Z"
    }
   },
   "outputs": [
    {
     "data": {
      "image/png": "[encoded data removed]",
      "text/plain": [
       "<Figure size 800x400 with 1 Axes>"
      ]
     },
     "metadata": {},
     "output_type": "display_data"
    }
   ],
   "source": [
    "box_plot('price')"
   ]
  },
  {
   "cell_type": "code",
   "execution_count": 12,
   "metadata": {
    "execution": {
     "iopub.execute_input": "2023-08-01T13:49:36.183968Z",
     "iopub.status.busy": "2023-08-01T13:49:36.183633Z",
     "iopub.status.idle": "2023-08-01T13:49:36.420403Z",
     "shell.execute_reply": "2023-08-01T13:49:36.419383Z",
     "shell.execute_reply.started": "2023-08-01T13:49:36.183940Z"
    }
   },
   "outputs": [],
   "source": [
    "excellent_odo_mean = df[df['condition'] == 'excellent']['odometer'].mean()\n",
    "good_odo_mean = df[df['condition'] == 'good']['odometer'].mean()\n",
    "like_new_odo_mean = df[df['condition'] == 'like new']['odometer'].mean()\n",
    "salvage_odo_mean = df[df['condition'] == 'salvage']['odometer'].mean()\n",
    "fair_odo_mean = df[df['condition'] == 'fair']['odometer'].mean()"
   ]
  },
  {
   "cell_type": "code",
   "execution_count": 13,
   "metadata": {
    "execution": {
     "iopub.execute_input": "2023-08-01T13:49:36.425953Z",
     "iopub.status.busy": "2023-08-01T13:49:36.424676Z",
     "iopub.status.idle": "2023-08-01T13:49:36.434145Z",
     "shell.execute_reply": "2023-08-01T13:49:36.432804Z",
     "shell.execute_reply.started": "2023-08-01T13:49:36.425912Z"
    }
   },
   "outputs": [
    {
     "name": "stdout",
     "output_type": "stream",
     "text": [
      "Like new average odometer: 89585.31\n",
      "Excellent average odometer: 109971.1\n",
      "Good average odometer: 90170.23\n",
      "Fair average odometer: 212998.09\n",
      "Salvage average odometer: 243675.63\n"
     ]
    }
   ],
   "source": [
    "print('Like new average odometer:', round( like_new_odo_mean,2))\n",
    "print('Excellent average odometer:', round( excellent_odo_mean,2))\n",
    "print('Good average odometer:', round( good_odo_mean,2))\n",
    "print('Fair average odometer:', round( fair_odo_mean,2))\n",
    "print('Salvage average odometer:', round( salvage_odo_mean,2))"
   ]
  },
  {
   "cell_type": "code",
   "execution_count": 14,
   "metadata": {
    "execution": {
     "iopub.execute_input": "2023-08-01T13:49:36.436451Z",
     "iopub.status.busy": "2023-08-01T13:49:36.435960Z",
     "iopub.status.idle": "2023-08-01T13:49:36.461557Z",
     "shell.execute_reply": "2023-08-01T13:49:36.460189Z",
     "shell.execute_reply.started": "2023-08-01T13:49:36.436395Z"
    }
   },
   "outputs": [],
   "source": [
    "df.loc[df.year>=2019, 'condition'] = df.loc[df.year>=2019, 'condition'].fillna('new')"
   ]
  },
  {
   "cell_type": "code",
   "execution_count": 15,
   "metadata": {
    "execution": {
     "iopub.execute_input": "2023-08-01T13:49:36.464386Z",
     "iopub.status.busy": "2023-08-01T13:49:36.463857Z",
     "iopub.status.idle": "2023-08-01T13:49:36.564000Z",
     "shell.execute_reply": "2023-08-01T13:49:36.562880Z",
     "shell.execute_reply.started": "2023-08-01T13:49:36.464326Z"
    }
   },
   "outputs": [],
   "source": [
    "df.loc[df['odometer'] <= like_new_odo_mean, 'condition'] = df.loc[df['odometer'] <= like_new_odo_mean, 'condition'].fillna('like new')\n",
    "\n",
    "df.loc[df['odometer'] >= fair_odo_mean, 'condition'] = df.loc[df['odometer'] >= fair_odo_mean, 'condition'].fillna('fair')\n",
    "\n",
    "df.loc[((df['odometer'] > good_odo_mean) & \n",
    "       (df['odometer'] <= excellent_odo_mean)), 'condition'] = df.loc[((df['odometer'] > good_odo_mean) & \n",
    "       (df['odometer'] <= excellent_odo_mean)), 'condition'].fillna('excellent')\n",
    "\n",
    "df.loc[((df['odometer'] > like_new_odo_mean) & \n",
    "       (df['odometer'] <= good_odo_mean)), 'condition'] = df.loc[((df['odometer'] > like_new_odo_mean) & \n",
    "       (df['odometer'] <= good_odo_mean)), 'condition'].fillna('good')\n",
    "\n",
    "df.loc[((df['odometer'] > good_odo_mean) & \n",
    "       (df['odometer'] <= fair_odo_mean)), 'condition'] = df.loc[((df['odometer'] > good_odo_mean) & \n",
    "       (df['odometer'] <= fair_odo_mean)), 'condition'].fillna('salvage')"
   ]
  },
  {
   "cell_type": "code",
   "execution_count": 16,
   "metadata": {
    "execution": {
     "iopub.execute_input": "2023-08-01T13:49:36.566444Z",
     "iopub.status.busy": "2023-08-01T13:49:36.565733Z",
     "iopub.status.idle": "2023-08-01T13:49:37.464284Z",
     "shell.execute_reply": "2023-08-01T13:49:37.462878Z",
     "shell.execute_reply.started": "2023-08-01T13:49:36.566394Z"
    }
   },
   "outputs": [
    {
     "data": {
      "text/html": [
       "<div>\n",
       "<style scoped>\n",
       "    .dataframe tbody tr th:only-of-type {\n",
       "        vertical-align: middle;\n",
       "    }\n",
       "\n",
       "    .dataframe tbody tr th {\n",
       "        vertical-align: top;\n",
       "    }\n",
       "\n",
       "    .dataframe thead th {\n",
       "        text-align: right;\n",
       "    }\n",
       "</style>\n",
       "<table border=\"1\" class=\"dataframe\">\n",
       "  <thead>\n",
       "    <tr style=\"text-align: right;\">\n",
       "      <th></th>\n",
       "      <th>null</th>\n",
       "      <th>percent</th>\n",
       "    </tr>\n",
       "  </thead>\n",
       "  <tbody>\n",
       "    <tr>\n",
       "      <th>cylinders</th>\n",
       "      <td>7039600</td>\n",
       "      <td>32.705</td>\n",
       "    </tr>\n",
       "    <tr>\n",
       "      <th>drive</th>\n",
       "      <td>4868600</td>\n",
       "      <td>22.619</td>\n",
       "    </tr>\n",
       "    <tr>\n",
       "      <th>paint_color</th>\n",
       "      <td>4772700</td>\n",
       "      <td>22.173</td>\n",
       "    </tr>\n",
       "    <tr>\n",
       "      <th>type</th>\n",
       "      <td>2812200</td>\n",
       "      <td>13.065</td>\n",
       "    </tr>\n",
       "    <tr>\n",
       "      <th>manufacturer</th>\n",
       "      <td>735400</td>\n",
       "      <td>3.417</td>\n",
       "    </tr>\n",
       "    <tr>\n",
       "      <th>title_status</th>\n",
       "      <td>451100</td>\n",
       "      <td>2.096</td>\n",
       "    </tr>\n",
       "    <tr>\n",
       "      <th>fuel</th>\n",
       "      <td>122100</td>\n",
       "      <td>0.567</td>\n",
       "    </tr>\n",
       "    <tr>\n",
       "      <th>year</th>\n",
       "      <td>0</td>\n",
       "      <td>0.000</td>\n",
       "    </tr>\n",
       "    <tr>\n",
       "      <th>model</th>\n",
       "      <td>0</td>\n",
       "      <td>0.000</td>\n",
       "    </tr>\n",
       "    <tr>\n",
       "      <th>condition</th>\n",
       "      <td>0</td>\n",
       "      <td>0.000</td>\n",
       "    </tr>\n",
       "    <tr>\n",
       "      <th>odometer</th>\n",
       "      <td>0</td>\n",
       "      <td>0.000</td>\n",
       "    </tr>\n",
       "    <tr>\n",
       "      <th>transmission</th>\n",
       "      <td>0</td>\n",
       "      <td>0.000</td>\n",
       "    </tr>\n",
       "    <tr>\n",
       "      <th>state</th>\n",
       "      <td>0</td>\n",
       "      <td>0.000</td>\n",
       "    </tr>\n",
       "    <tr>\n",
       "      <th>price</th>\n",
       "      <td>0</td>\n",
       "      <td>0.000</td>\n",
       "    </tr>\n",
       "  </tbody>\n",
       "</table>\n",
       "</div>"
      ],
      "text/plain": [
       "                 null  percent\n",
       "cylinders     7039600   32.705\n",
       "drive         4868600   22.619\n",
       "paint_color   4772700   22.173\n",
       "type          2812200   13.065\n",
       "manufacturer   735400    3.417\n",
       "title_status   451100    2.096\n",
       "fuel           122100    0.567\n",
       "year                0    0.000\n",
       "model               0    0.000\n",
       "condition           0    0.000\n",
       "odometer            0    0.000\n",
       "transmission        0    0.000\n",
       "state               0    0.000\n",
       "price               0    0.000"
      ]
     },
     "execution_count": 16,
     "metadata": {},
     "output_type": "execute_result"
    }
   ],
   "source": [
    "null_values=df.isnull().sum()\n",
    "null_values=pd.DataFrame(null_values,columns=['null'])\n",
    "j=1\n",
    "sum_tot=len(df)\n",
    "null_values['percent']=null_values['null']/sum_tot\n",
    "round(null_values*100,3).sort_values('percent',ascending=False)"
   ]
  },
  {
   "cell_type": "code",
   "execution_count": 17,
   "metadata": {
    "execution": {
     "iopub.execute_input": "2023-08-01T13:49:37.466353Z",
     "iopub.status.busy": "2023-08-01T13:49:37.465955Z",
     "iopub.status.idle": "2023-08-01T13:49:37.476835Z",
     "shell.execute_reply": "2023-08-01T13:49:37.475342Z",
     "shell.execute_reply.started": "2023-08-01T13:49:37.466319Z"
    }
   },
   "outputs": [
    {
     "data": {
      "text/plain": [
       "0         excellent\n",
       "1           salvage\n",
       "2           salvage\n",
       "4              good\n",
       "5         excellent\n",
       "            ...    \n",
       "290119         good\n",
       "290120          new\n",
       "290125         good\n",
       "290126    excellent\n",
       "290127         good\n",
       "Name: condition, Length: 215246, dtype: object"
      ]
     },
     "execution_count": 17,
     "metadata": {},
     "output_type": "execute_result"
    }
   ],
   "source": [
    "df['condition']"
   ]
  },
  {
   "cell_type": "code",
   "execution_count": 18,
   "metadata": {
    "execution": {
     "iopub.execute_input": "2023-08-01T13:49:37.479060Z",
     "iopub.status.busy": "2023-08-01T13:49:37.478613Z",
     "iopub.status.idle": "2023-08-01T13:49:37.527157Z",
     "shell.execute_reply": "2023-08-01T13:49:37.525930Z",
     "shell.execute_reply.started": "2023-08-01T13:49:37.479019Z"
    }
   },
   "outputs": [],
   "source": [
    "manufacturer_values = df['manufacturer'].value_counts()"
   ]
  },
  {
   "cell_type": "code",
   "execution_count": 19,
   "metadata": {
    "execution": {
     "iopub.execute_input": "2023-08-01T13:49:37.529020Z",
     "iopub.status.busy": "2023-08-01T13:49:37.528683Z",
     "iopub.status.idle": "2023-08-01T13:49:49.030422Z",
     "shell.execute_reply": "2023-08-01T13:49:49.029424Z",
     "shell.execute_reply.started": "2023-08-01T13:49:37.528991Z"
    }
   },
   "outputs": [],
   "source": [
    "df['manufacturer'] = df['manufacturer'].apply(lambda x: x if str(x) in manufacturer_values[:20] else 'others')"
   ]
  },
  {
   "cell_type": "code",
   "execution_count": 20,
   "metadata": {
    "execution": {
     "iopub.execute_input": "2023-08-01T13:49:49.032773Z",
     "iopub.status.busy": "2023-08-01T13:49:49.032112Z",
     "iopub.status.idle": "2023-08-01T13:50:01.056022Z",
     "shell.execute_reply": "2023-08-01T13:50:01.054634Z",
     "shell.execute_reply.started": "2023-08-01T13:49:49.032737Z"
    }
   },
   "outputs": [],
   "source": [
    "model_values = df['model'].value_counts()\n",
    "df['model'] = df['model'].apply(lambda x: x if str(x) in model_values[:50] else 'others')"
   ]
  },
  {
   "cell_type": "code",
   "execution_count": 21,
   "metadata": {
    "execution": {
     "iopub.execute_input": "2023-08-01T13:50:01.058134Z",
     "iopub.status.busy": "2023-08-01T13:50:01.057720Z",
     "iopub.status.idle": "2023-08-01T13:50:01.068930Z",
     "shell.execute_reply": "2023-08-01T13:50:01.067652Z",
     "shell.execute_reply.started": "2023-08-01T13:50:01.058097Z"
    }
   },
   "outputs": [
    {
     "data": {
      "text/plain": [
       "0           others\n",
       "1           others\n",
       "2           others\n",
       "4             rav4\n",
       "5             f150\n",
       "            ...   \n",
       "290119        2500\n",
       "290120      others\n",
       "290125      others\n",
       "290126      others\n",
       "290127    wrangler\n",
       "Name: model, Length: 215246, dtype: object"
      ]
     },
     "execution_count": 21,
     "metadata": {},
     "output_type": "execute_result"
    }
   ],
   "source": [
    "df['model']"
   ]
  },
  {
   "cell_type": "code",
   "execution_count": 22,
   "metadata": {
    "execution": {
     "iopub.execute_input": "2023-08-01T13:50:01.071331Z",
     "iopub.status.busy": "2023-08-01T13:50:01.070891Z",
     "iopub.status.idle": "2023-08-01T13:50:01.250878Z",
     "shell.execute_reply": "2023-08-01T13:50:01.249562Z",
     "shell.execute_reply.started": "2023-08-01T13:50:01.071299Z"
    }
   },
   "outputs": [],
   "source": [
    "price_percentile25 = df['price'].quantile(0.25)\n",
    "price_percentile75 = df['price'].quantile(0.75)\n",
    "price_iqr = price_percentile75 - price_percentile25\n",
    "price_upper_limit = price_percentile75 + 1.5 * price_iqr\n",
    "price_lower_limit = df['price'].quantile(0.15)\n",
    "df = df[(df['price'] < price_upper_limit) & (df['price'] > price_lower_limit)]"
   ]
  },
  {
   "cell_type": "code",
   "execution_count": 23,
   "metadata": {
    "execution": {
     "iopub.execute_input": "2023-08-01T13:50:01.253651Z",
     "iopub.status.busy": "2023-08-01T13:50:01.252717Z",
     "iopub.status.idle": "2023-08-01T13:50:08.275162Z",
     "shell.execute_reply": "2023-08-01T13:50:08.273928Z",
     "shell.execute_reply.started": "2023-08-01T13:50:01.253589Z"
    }
   },
   "outputs": [
    {
     "data": {
      "image/png": "[encoded data removed]",
      "text/plain": [
       "<Figure size 1200x900 with 1 Axes>"
      ]
     },
     "metadata": {},
     "output_type": "display_data"
    }
   ],
   "source": [
    "import seaborn as sns\n",
    "import matplotlib.pyplot as plt\n",
    "import plotly.express as px\n",
    "df['year'] = df['year'].astype(int)\n",
    "plt.rcParams[\"figure.autolayout\"] = True\n",
    "sns.set_palette('summer_r')\n",
    "plt.figure(figsize =(12,9))\n",
    "sns.barplot(y=df['price'],x=df['year'])\n",
    "plt.title(\"Price VS Year\",fontsize=20,fontweight ='bold')\n",
    "plt.xlabel('year',fontsize = 20)\n",
    "plt.xticks(rotation=60)\n",
    "plt.ylabel('price ',fontsize = 20)\n",
    "plt.tight_layout()\n",
    "plt.show()"
   ]
  },
  {
   "cell_type": "code",
   "execution_count": 24,
   "metadata": {
    "execution": {
     "iopub.execute_input": "2023-08-01T13:50:08.278166Z",
     "iopub.status.busy": "2023-08-01T13:50:08.276738Z",
     "iopub.status.idle": "2023-08-01T13:50:08.332723Z",
     "shell.execute_reply": "2023-08-01T13:50:08.331213Z",
     "shell.execute_reply.started": "2023-08-01T13:50:08.278117Z"
    }
   },
   "outputs": [
    {
     "data": {
      "text/plain": [
       "(176280, 14)"
      ]
     },
     "execution_count": 24,
     "metadata": {},
     "output_type": "execute_result"
    }
   ],
   "source": [
    "df = df[df['year'] > 1996]\n",
    "df.shape"
   ]
  },
  {
   "cell_type": "code",
   "execution_count": 25,
   "metadata": {
    "execution": {
     "iopub.execute_input": "2023-08-01T13:50:08.334906Z",
     "iopub.status.busy": "2023-08-01T13:50:08.334466Z",
     "iopub.status.idle": "2023-08-01T13:50:08.343881Z",
     "shell.execute_reply": "2023-08-01T13:50:08.342463Z",
     "shell.execute_reply.started": "2023-08-01T13:50:08.334865Z"
    }
   },
   "outputs": [],
   "source": [
    "df['year'] = 2023 - df['year']\n",
    "\n"
   ]
  },
  {
   "cell_type": "code",
   "execution_count": 26,
   "metadata": {
    "execution": {
     "iopub.execute_input": "2023-08-01T13:50:08.346820Z",
     "iopub.status.busy": "2023-08-01T13:50:08.346339Z",
     "iopub.status.idle": "2023-08-01T13:50:08.364510Z",
     "shell.execute_reply": "2023-08-01T13:50:08.363093Z",
     "shell.execute_reply.started": "2023-08-01T13:50:08.346772Z"
    }
   },
   "outputs": [
    {
     "data": {
      "text/plain": [
       "0         16\n",
       "1         15\n",
       "2         20\n",
       "4         15\n",
       "5         13\n",
       "          ..\n",
       "290118    12\n",
       "290119    10\n",
       "290120     4\n",
       "290125    10\n",
       "290126    10\n",
       "Name: year, Length: 176280, dtype: int32"
      ]
     },
     "execution_count": 26,
     "metadata": {},
     "output_type": "execute_result"
    }
   ],
   "source": [
    "df['year']"
   ]
  },
  {
   "cell_type": "code",
   "execution_count": 27,
   "metadata": {
    "execution": {
     "iopub.execute_input": "2023-08-01T13:50:08.366894Z",
     "iopub.status.busy": "2023-08-01T13:50:08.366487Z",
     "iopub.status.idle": "2023-08-01T13:50:17.959596Z",
     "shell.execute_reply": "2023-08-01T13:50:17.958043Z",
     "shell.execute_reply.started": "2023-08-01T13:50:08.366859Z"
    }
   },
   "outputs": [],
   "source": [
    "model_values = df['model'].value_counts()\n",
    "df['model'] = df['model'].apply(lambda x: x if str(x) in model_values[:50] else 'others')"
   ]
  },
  {
   "cell_type": "code",
   "execution_count": 28,
   "metadata": {
    "execution": {
     "iopub.execute_input": "2023-08-01T13:50:17.961536Z",
     "iopub.status.busy": "2023-08-01T13:50:17.961119Z",
     "iopub.status.idle": "2023-08-01T13:50:18.590915Z",
     "shell.execute_reply": "2023-08-01T13:50:18.589459Z",
     "shell.execute_reply.started": "2023-08-01T13:50:17.961505Z"
    }
   },
   "outputs": [
    {
     "name": "stdout",
     "output_type": "stream",
     "text": [
      "year 26\n",
      "manufacturer 21\n",
      "model 50\n",
      "condition 6\n",
      "cylinders 8\n",
      "fuel 5\n",
      "odometer 61716\n",
      "title_status 6\n",
      "transmission 3\n",
      "drive 3\n",
      "type 13\n",
      "paint_color 12\n",
      "state 51\n",
      "price 8712\n"
     ]
    }
   ],
   "source": [
    "for i in df.columns:\n",
    "    print(i, len(df[i].value_counts().index))"
   ]
  },
  {
   "cell_type": "markdown",
   "metadata": {},
   "source": [
    "## cylinders"
   ]
  },
  {
   "cell_type": "code",
   "execution_count": 29,
   "metadata": {
    "execution": {
     "iopub.execute_input": "2023-08-01T13:50:18.593356Z",
     "iopub.status.busy": "2023-08-01T13:50:18.592849Z",
     "iopub.status.idle": "2023-08-01T13:50:22.281884Z",
     "shell.execute_reply": "2023-08-01T13:50:22.280579Z",
     "shell.execute_reply.started": "2023-08-01T13:50:18.593310Z"
    }
   },
   "outputs": [],
   "source": [
    "# Changing cylinders of electric cars to 0 \n",
    "df['cylinders'] = df.apply(lambda row: 'other' if pd.isnull(row['cylinders']) and row['fuel'] == 'electric' else row['cylinders'], axis=1)\n"
   ]
  },
  {
   "cell_type": "markdown",
   "metadata": {
    "execution": {
     "iopub.status.busy": "2023-08-01T13:47:36.576089Z",
     "iopub.status.idle": "2023-08-01T13:47:36.576490Z",
     "shell.execute_reply": "2023-08-01T13:47:36.576293Z",
     "shell.execute_reply.started": "2023-08-01T13:47:36.576276Z"
    }
   },
   "source": [
    "df['cylinders'] = df.groupby(['manufacturer', 'model'])['cylinders'].ffill()"
   ]
  },
  {
   "cell_type": "markdown",
   "metadata": {
    "execution": {
     "iopub.execute_input": "2023-08-01T13:42:24.342601Z",
     "iopub.status.busy": "2023-08-01T13:42:24.342095Z",
     "iopub.status.idle": "2023-08-01T13:42:24.519290Z",
     "shell.execute_reply": "2023-08-01T13:42:24.518037Z",
     "shell.execute_reply.started": "2023-08-01T13:42:24.342562Z"
    }
   },
   "source": [
    "# Group by 'manufacturer' and 'cylinders' and fill missing values in 'cylinders' using forward-fill method\n",
    "df['cylinders'] = df.groupby('manufacturer')['cylinders'].transform(lambda x: x.ffill().fillna('6 cylinders'))"
   ]
  },
  {
   "cell_type": "markdown",
   "metadata": {},
   "source": []
  },
  {
   "cell_type": "code",
   "execution_count": 30,
   "metadata": {
    "execution": {
     "iopub.execute_input": "2023-08-01T13:52:34.260808Z",
     "iopub.status.busy": "2023-08-01T13:52:34.259315Z",
     "iopub.status.idle": "2023-08-01T13:52:34.291818Z",
     "shell.execute_reply": "2023-08-01T13:52:34.290093Z",
     "shell.execute_reply.started": "2023-08-01T13:52:34.260764Z"
    }
   },
   "outputs": [],
   "source": [
    "cy = df.cylinders.value_counts()"
   ]
  },
  {
   "cell_type": "code",
   "execution_count": 31,
   "metadata": {
    "execution": {
     "iopub.execute_input": "2023-08-01T13:53:01.768229Z",
     "iopub.status.busy": "2023-08-01T13:53:01.767749Z",
     "iopub.status.idle": "2023-08-01T13:53:10.859966Z",
     "shell.execute_reply": "2023-08-01T13:53:10.858926Z",
     "shell.execute_reply.started": "2023-08-01T13:53:01.768192Z"
    }
   },
   "outputs": [],
   "source": [
    "#df['cylinders'] = df['cylinders'].fillna(method='ffill')\n",
    "df['cylinders'] = df['cylinders'].apply(lambda x: x if str(x) in cy[:9] else 'other')"
   ]
  },
  {
   "cell_type": "code",
   "execution_count": 32,
   "metadata": {
    "execution": {
     "iopub.execute_input": "2023-08-01T13:53:11.974501Z",
     "iopub.status.busy": "2023-08-01T13:53:11.973768Z",
     "iopub.status.idle": "2023-08-01T13:53:12.016150Z",
     "shell.execute_reply": "2023-08-01T13:53:12.014650Z",
     "shell.execute_reply.started": "2023-08-01T13:53:11.974456Z"
    }
   },
   "outputs": [
    {
     "data": {
      "text/plain": [
       "other           64031\n",
       "6 cylinders     43798\n",
       "4 cylinders     38351\n",
       "8 cylinders     28398\n",
       "5 cylinders       776\n",
       "10 cylinders      601\n",
       "3 cylinders       276\n",
       "12 cylinders       49\n",
       "Name: cylinders, dtype: int64"
      ]
     },
     "execution_count": 32,
     "metadata": {},
     "output_type": "execute_result"
    }
   ],
   "source": [
    "df.cylinders.value_counts()"
   ]
  },
  {
   "cell_type": "markdown",
   "metadata": {},
   "source": [
    "-----------------"
   ]
  },
  {
   "cell_type": "markdown",
   "metadata": {},
   "source": [
    "# Fuel"
   ]
  },
  {
   "cell_type": "code",
   "execution_count": 33,
   "metadata": {
    "execution": {
     "iopub.execute_input": "2023-08-01T13:58:58.319309Z",
     "iopub.status.busy": "2023-08-01T13:58:58.318883Z",
     "iopub.status.idle": "2023-08-01T13:58:58.347863Z",
     "shell.execute_reply": "2023-08-01T13:58:58.347012Z",
     "shell.execute_reply.started": "2023-08-01T13:58:58.319277Z"
    }
   },
   "outputs": [
    {
     "data": {
      "text/plain": [
       "array(['gas', 'other', 'diesel', 'electric', nan, 'hybrid'], dtype=object)"
      ]
     },
     "execution_count": 33,
     "metadata": {},
     "output_type": "execute_result"
    }
   ],
   "source": [
    "df['fuel'].unique()"
   ]
  },
  {
   "cell_type": "code",
   "execution_count": 34,
   "metadata": {
    "execution": {
     "iopub.execute_input": "2023-08-01T13:58:58.837331Z",
     "iopub.status.busy": "2023-08-01T13:58:58.836104Z",
     "iopub.status.idle": "2023-08-01T13:58:58.866343Z",
     "shell.execute_reply": "2023-08-01T13:58:58.864915Z",
     "shell.execute_reply.started": "2023-08-01T13:58:58.837293Z"
    }
   },
   "outputs": [
    {
     "data": {
      "text/plain": [
       "1187"
      ]
     },
     "execution_count": 34,
     "metadata": {},
     "output_type": "execute_result"
    }
   ],
   "source": [
    "df['fuel'].isnull().sum()"
   ]
  },
  {
   "cell_type": "code",
   "execution_count": 35,
   "metadata": {
    "execution": {
     "iopub.execute_input": "2023-08-01T14:02:31.041859Z",
     "iopub.status.busy": "2023-08-01T14:02:31.041412Z",
     "iopub.status.idle": "2023-08-01T14:02:31.202732Z",
     "shell.execute_reply": "2023-08-01T14:02:31.201764Z",
     "shell.execute_reply.started": "2023-08-01T14:02:31.041824Z"
    }
   },
   "outputs": [],
   "source": [
    "\n",
    "# Group by manufacturer and model, then fill null values in 'fuel' with the corresponding non-null value\n",
    "df['fuel'] = df.groupby(['manufacturer', 'model'])['fuel'].ffill()\n",
    "df['type'] = df['type'].fillna(method='ffill')"
   ]
  },
  {
   "cell_type": "code",
   "execution_count": 36,
   "metadata": {
    "execution": {
     "iopub.execute_input": "2023-08-01T13:59:20.205706Z",
     "iopub.status.busy": "2023-08-01T13:59:20.205292Z",
     "iopub.status.idle": "2023-08-01T13:59:20.233855Z",
     "shell.execute_reply": "2023-08-01T13:59:20.232371Z",
     "shell.execute_reply.started": "2023-08-01T13:59:20.205675Z"
    }
   },
   "outputs": [
    {
     "data": {
      "text/plain": [
       "0"
      ]
     },
     "execution_count": 36,
     "metadata": {},
     "output_type": "execute_result"
    }
   ],
   "source": [
    "df['fuel'].isnull().sum()"
   ]
  },
  {
   "cell_type": "code",
   "execution_count": 37,
   "metadata": {
    "execution": {
     "iopub.execute_input": "2023-08-01T13:59:02.322405Z",
     "iopub.status.busy": "2023-08-01T13:59:02.321971Z",
     "iopub.status.idle": "2023-08-01T13:59:02.755834Z",
     "shell.execute_reply": "2023-08-01T13:59:02.754268Z",
     "shell.execute_reply.started": "2023-08-01T13:59:02.322372Z"
    }
   },
   "outputs": [
    {
     "data": {
      "image/png": "[encoded data removed]",
      "text/plain": [
       "<Figure size 1000x600 with 1 Axes>"
      ]
     },
     "metadata": {},
     "output_type": "display_data"
    }
   ],
   "source": [
    "# Group by 'fuel' and calculate the average 'price' for each category\n",
    "price_avg = df.groupby('fuel')['price'].mean().reset_index()\n",
    "\n",
    "# Create a bar plot\n",
    "plt.figure(figsize=(10, 6))\n",
    "plt.bar(price_avg['fuel'], price_avg['price'])\n",
    "plt.xlabel('Fuel Type')\n",
    "plt.ylabel('Average Price')\n",
    "plt.title('Average Price by Fuel Type')\n",
    "plt.grid(axis='y')\n",
    "plt.show()\n"
   ]
  },
  {
   "cell_type": "markdown",
   "metadata": {},
   "source": [
    "o"
   ]
  },
  {
   "cell_type": "code",
   "execution_count": 38,
   "metadata": {
    "execution": {
     "iopub.execute_input": "2023-08-01T13:59:10.646032Z",
     "iopub.status.busy": "2023-08-01T13:59:10.645515Z",
     "iopub.status.idle": "2023-08-01T13:59:10.664600Z",
     "shell.execute_reply": "2023-08-01T13:59:10.662999Z",
     "shell.execute_reply.started": "2023-08-01T13:59:10.645995Z"
    }
   },
   "outputs": [
    {
     "data": {
      "text/plain": [
       "0"
      ]
     },
     "execution_count": 38,
     "metadata": {},
     "output_type": "execute_result"
    }
   ],
   "source": [
    "df['odometer'].unique()\n",
    "df['odometer'].isnull().sum()"
   ]
  },
  {
   "cell_type": "code",
   "execution_count": 39,
   "metadata": {
    "execution": {
     "iopub.status.busy": "2023-08-01T13:50:22.428668Z",
     "iopub.status.idle": "2023-08-01T13:50:22.429025Z",
     "shell.execute_reply": "2023-08-01T13:50:22.428862Z",
     "shell.execute_reply.started": "2023-08-01T13:50:22.428846Z"
    }
   },
   "outputs": [
    {
     "data": {
      "image/png": "[encoded data removed]",
      "text/plain": [
       "<Figure size 1000x600 with 1 Axes>"
      ]
     },
     "metadata": {},
     "output_type": "display_data"
    }
   ],
   "source": [
    "# Define the ranges for 'Odometer'\n",
    "odom_ranges = [0, 50000, 100000, 150000, 200000, df['odometer'].max()]\n",
    "\n",
    "# Label for each range\n",
    "odom_labels = ['0-50k', '50k-100k', '100k-150k', '150k-200k', '200k+']\n",
    "\n",
    "# Bin the 'Odometer' column and calculate the average 'price' for each range\n",
    "df['Odometer_Range'] = pd.cut(df['odometer'], bins=odom_ranges, labels=odom_labels, right=False)\n",
    "price_avg = df.groupby('Odometer_Range')['price'].mean().reset_index()\n",
    "\n",
    "# Create a bar plot\n",
    "plt.figure(figsize=(10, 6))\n",
    "plt.bar(price_avg['Odometer_Range'], price_avg['price'])\n",
    "plt.xlabel('Odometer Range')\n",
    "plt.ylabel('Average Price')\n",
    "plt.title('Average Price vs Odometer Range')\n",
    "plt.grid(axis='y')\n",
    "plt.show()"
   ]
  },
  {
   "cell_type": "code",
   "execution_count": 40,
   "metadata": {
    "execution": {
     "iopub.status.busy": "2023-08-01T13:50:22.430469Z",
     "iopub.status.idle": "2023-08-01T13:50:22.430834Z",
     "shell.execute_reply": "2023-08-01T13:50:22.430674Z",
     "shell.execute_reply.started": "2023-08-01T13:50:22.430657Z"
    }
   },
   "outputs": [
    {
     "data": {
      "image/png": "[encoded data removed]",
      "text/plain": [
       "<Figure size 800x400 with 1 Axes>"
      ]
     },
     "metadata": {},
     "output_type": "display_data"
    }
   ],
   "source": [
    "box_plot('odometer')"
   ]
  },
  {
   "cell_type": "code",
   "execution_count": 41,
   "metadata": {
    "execution": {
     "iopub.status.busy": "2023-08-01T13:50:22.432670Z",
     "iopub.status.idle": "2023-08-01T13:50:22.433036Z",
     "shell.execute_reply": "2023-08-01T13:50:22.432871Z",
     "shell.execute_reply.started": "2023-08-01T13:50:22.432854Z"
    }
   },
   "outputs": [
    {
     "data": {
      "image/png": "[encoded data removed]",
      "text/plain": [
       "<Figure size 1500x800 with 1 Axes>"
      ]
     },
     "metadata": {},
     "output_type": "display_data"
    },
    {
     "name": "stdout",
     "output_type": "stream",
     "text": [
      "Q1  odometer  40146.75, Q3  odometer  126846.25\n",
      "---------------------------------------\n",
      "IQR for odometer is equal to 86699.5\n",
      "---------------------------------------\n"
     ]
    },
    {
     "data": {
      "image/png": "[encoded data removed]",
      "text/plain": [
       "<Figure size 800x400 with 1 Axes>"
      ]
     },
     "metadata": {},
     "output_type": "display_data"
    }
   ],
   "source": [
    "def boxplot_cat(name):\n",
    "    fig = plt.figure(figsize=(15,8))\n",
    "    sns.boxplot(data=df, x=name, y='price')\n",
    "    plt.xticks(rotation=90)\n",
    "    plt.show()\n",
    "boxplot_cat('fuel')\n",
    "upper_limit_odometer,lower_limit_odometer =IQR('odometer')\n",
    "df = df[(df['odometer'] < upper_limit_odometer) & (df['odometer'] > 0)]\n",
    "box_plot('odometer')"
   ]
  },
  {
   "cell_type": "markdown",
   "metadata": {},
   "source": [
    "------------\n"
   ]
  },
  {
   "cell_type": "code",
   "execution_count": 42,
   "metadata": {
    "execution": {
     "iopub.status.busy": "2023-08-01T13:50:22.434278Z",
     "iopub.status.idle": "2023-08-01T13:50:22.434686Z",
     "shell.execute_reply": "2023-08-01T13:50:22.434494Z",
     "shell.execute_reply.started": "2023-08-01T13:50:22.434476Z"
    }
   },
   "outputs": [
    {
     "data": {
      "image/png": "[encoded data removed]",
      "text/plain": [
       "<Figure size 640x480 with 1 Axes>"
      ]
     },
     "metadata": {},
     "output_type": "display_data"
    }
   ],
   "source": [
    "sns.boxplot(data=df,x='title_status',y='price',showfliers=False)\n",
    "plt.grid(alpha=0.4,color ='k')"
   ]
  },
  {
   "cell_type": "markdown",
   "metadata": {},
   "source": [
    "-------------"
   ]
  },
  {
   "cell_type": "code",
   "execution_count": 43,
   "metadata": {
    "execution": {
     "iopub.status.busy": "2023-08-01T13:50:22.435772Z",
     "iopub.status.idle": "2023-08-01T13:50:22.436162Z",
     "shell.execute_reply": "2023-08-01T13:50:22.435995Z",
     "shell.execute_reply.started": "2023-08-01T13:50:22.435978Z"
    }
   },
   "outputs": [],
   "source": [
    "df1 = df.loc[:,['transmission','drive','type','price']]"
   ]
  },
  {
   "cell_type": "code",
   "execution_count": 44,
   "metadata": {
    "execution": {
     "iopub.status.busy": "2023-08-01T13:50:22.437117Z",
     "iopub.status.idle": "2023-08-01T13:50:22.437490Z",
     "shell.execute_reply": "2023-08-01T13:50:22.437309Z",
     "shell.execute_reply.started": "2023-08-01T13:50:22.437291Z"
    }
   },
   "outputs": [
    {
     "name": "stdout",
     "output_type": "stream",
     "text": [
      "<class 'pandas.core.series.Series'>\n",
      "Int64Index: 160805 entries, 4 to 290126\n",
      "Series name: transmission\n",
      "Non-Null Count   Dtype \n",
      "--------------   ----- \n",
      "160805 non-null  object\n",
      "dtypes: object(1)\n",
      "memory usage: 2.5+ MB\n"
     ]
    }
   ],
   "source": [
    "df.transmission.info()"
   ]
  },
  {
   "cell_type": "code",
   "execution_count": 45,
   "metadata": {
    "execution": {
     "iopub.status.busy": "2023-08-01T13:50:22.438749Z",
     "iopub.status.idle": "2023-08-01T13:50:22.439125Z",
     "shell.execute_reply": "2023-08-01T13:50:22.438945Z",
     "shell.execute_reply.started": "2023-08-01T13:50:22.438928Z"
    }
   },
   "outputs": [
    {
     "data": {
      "text/plain": [
       "37960"
      ]
     },
     "execution_count": 45,
     "metadata": {},
     "output_type": "execute_result"
    }
   ],
   "source": [
    "df.drive.isnull().sum()"
   ]
  },
  {
   "cell_type": "code",
   "execution_count": 46,
   "metadata": {
    "execution": {
     "iopub.status.busy": "2023-08-01T13:50:22.443212Z",
     "iopub.status.idle": "2023-08-01T13:50:22.443951Z",
     "shell.execute_reply": "2023-08-01T13:50:22.443698Z",
     "shell.execute_reply.started": "2023-08-01T13:50:22.443671Z"
    }
   },
   "outputs": [
    {
     "data": {
      "text/plain": [
       "fwd    50630\n",
       "4wd    49358\n",
       "rwd    22857\n",
       "Name: drive, dtype: int64"
      ]
     },
     "execution_count": 46,
     "metadata": {},
     "output_type": "execute_result"
    }
   ],
   "source": [
    "df.drive.value_counts()"
   ]
  },
  {
   "cell_type": "code",
   "execution_count": 47,
   "metadata": {
    "execution": {
     "iopub.execute_input": "2023-08-01T14:00:11.963751Z",
     "iopub.status.busy": "2023-08-01T14:00:11.963277Z",
     "iopub.status.idle": "2023-08-01T14:00:12.422623Z",
     "shell.execute_reply": "2023-08-01T14:00:12.421313Z",
     "shell.execute_reply.started": "2023-08-01T14:00:11.963715Z"
    }
   },
   "outputs": [],
   "source": [
    "# to create a model for predicting drive {4wd,rwd,fwd} we need to create dataset from dataset\n",
    "data_drive = df[~df['drive'].isnull()]#include all data that is not null at drive column\n",
    "# contain all rows which contain null values in drive column\n",
    "data_nan_drive = df[df['drive'].isnull()][['cylinders','fuel','transmission','type']].dropna()\n",
    "\n",
    "#select the columns that we can see that it is affect the drive(target)\n",
    "data_drive = data_drive[['cylinders','fuel','transmission','type','drive']]\n",
    "\n",
    "\n",
    "#data up to 200000+ to predict only 3 values thats enough for that\n",
    "#we will drop all rows that contan NULL values\n",
    "\n",
    "data_drive.dropna(inplace=True)\n",
    "data_drive.reset_index(inplace=True,drop=True)\n"
   ]
  },
  {
   "cell_type": "code",
   "execution_count": 48,
   "metadata": {
    "execution": {
     "iopub.execute_input": "2023-08-01T14:00:12.666126Z",
     "iopub.status.busy": "2023-08-01T14:00:12.665719Z",
     "iopub.status.idle": "2023-08-01T14:00:12.700036Z",
     "shell.execute_reply": "2023-08-01T14:00:12.698860Z",
     "shell.execute_reply.started": "2023-08-01T14:00:12.666096Z"
    }
   },
   "outputs": [
    {
     "data": {
      "text/plain": [
       "fwd    50630\n",
       "4wd    49358\n",
       "rwd    22857\n",
       "Name: drive, dtype: int64"
      ]
     },
     "execution_count": 48,
     "metadata": {},
     "output_type": "execute_result"
    }
   ],
   "source": [
    "data_drive.drive.value_counts()"
   ]
  },
  {
   "cell_type": "code",
   "execution_count": 49,
   "metadata": {
    "execution": {
     "iopub.execute_input": "2023-08-01T14:00:13.311071Z",
     "iopub.status.busy": "2023-08-01T14:00:13.310115Z",
     "iopub.status.idle": "2023-08-01T14:00:13.319778Z",
     "shell.execute_reply": "2023-08-01T14:00:13.318536Z",
     "shell.execute_reply.started": "2023-08-01T14:00:13.311024Z"
    }
   },
   "outputs": [],
   "source": [
    "#Downsampling function\n",
    "def returnDataWithSize(data,target,min_class):\n",
    "\n",
    "    classes = dict(data[target].value_counts())\n",
    "    \n",
    "    index = np.array([])\n",
    "    for clas in classes:\n",
    "        \n",
    "        class_index = data[data[target] == clas].index\n",
    "        sample=list(np.random.choice(class_index,classes[min_class],replace=False))\n",
    "        \n",
    "        index = np.concatenate((sample,index))\n",
    "    return data.iloc[index,:]"
   ]
  },
  {
   "cell_type": "code",
   "execution_count": 50,
   "metadata": {
    "execution": {
     "iopub.execute_input": "2023-08-01T14:00:13.944254Z",
     "iopub.status.busy": "2023-08-01T14:00:13.943840Z",
     "iopub.status.idle": "2023-08-01T14:00:14.118321Z",
     "shell.execute_reply": "2023-08-01T14:00:14.116933Z",
     "shell.execute_reply.started": "2023-08-01T14:00:13.944220Z"
    }
   },
   "outputs": [],
   "source": [
    "data_drive = returnDataWithSize(data_drive,'drive','rwd')"
   ]
  },
  {
   "cell_type": "code",
   "execution_count": 55,
   "metadata": {
    "execution": {
     "iopub.execute_input": "2023-08-01T14:00:14.540722Z",
     "iopub.status.busy": "2023-08-01T14:00:14.540224Z",
     "iopub.status.idle": "2023-08-01T14:00:14.737002Z",
     "shell.execute_reply": "2023-08-01T14:00:14.735618Z",
     "shell.execute_reply.started": "2023-08-01T14:00:14.540679Z"
    }
   },
   "outputs": [],
   "source": [
    "from sklearn.preprocessing import LabelEncoder\n",
    "from sklearn.model_selection import train_test_split\n",
    "from sklearn.ensemble import RandomForestClassifier\n",
    "from sklearn.metrics import classification_report,confusion_matrix\n",
    "\n",
    "\n",
    "for col in data_drive.iloc[:,0:-1]:\n",
    "    encoder = LabelEncoder()\n",
    "    data_drive[col] = encoder.fit_transform(data_drive[col])\n",
    "    data_nan_drive[col] = encoder.transform(data_nan_drive[col])\n",
    "    \n",
    "X = data_drive.iloc[:,0:-1].values\n",
    "y = data_drive.iloc[:,-1].values\n",
    "\n",
    "X_train, X_test, y_train, y_test = train_test_split(X, y, test_size=0.2, random_state=42)"
   ]
  },
  {
   "cell_type": "code",
   "execution_count": 56,
   "metadata": {},
   "outputs": [
    {
     "data": {
      "text/plain": [
       "((54856, 4), (54856,))"
      ]
     },
     "execution_count": 56,
     "metadata": {},
     "output_type": "execute_result"
    }
   ],
   "source": [
    "X_train.shape, y_train.shape"
   ]
  },
  {
   "cell_type": "code",
   "execution_count": 59,
   "metadata": {
    "execution": {
     "iopub.execute_input": "2023-08-01T14:00:15.256567Z",
     "iopub.status.busy": "2023-08-01T14:00:15.256074Z",
     "iopub.status.idle": "2023-08-01T14:00:15.261749Z",
     "shell.execute_reply": "2023-08-01T14:00:15.260716Z",
     "shell.execute_reply.started": "2023-08-01T14:00:15.256530Z"
    }
   },
   "outputs": [],
   "source": [
    "RM = RandomForestClassifier(max_depth=10,max_features=4,min_samples_split=2,criterion='gini')"
   ]
  },
  {
   "cell_type": "code",
   "execution_count": 61,
   "metadata": {
    "execution": {
     "iopub.execute_input": "2023-08-01T14:00:17.583498Z",
     "iopub.status.busy": "2023-08-01T14:00:17.582701Z",
     "iopub.status.idle": "2023-08-01T14:00:21.484696Z",
     "shell.execute_reply": "2023-08-01T14:00:21.483514Z",
     "shell.execute_reply.started": "2023-08-01T14:00:17.583462Z"
    }
   },
   "outputs": [
    {
     "data": {
      "text/plain": [
       "RandomForestClassifier(max_depth=10, max_features=4)"
      ]
     },
     "execution_count": 61,
     "metadata": {},
     "output_type": "execute_result"
    }
   ],
   "source": [
    "RM.fit(X_train,y_train)"
   ]
  },
  {
   "cell_type": "code",
   "execution_count": 62,
   "metadata": {
    "execution": {
     "iopub.execute_input": "2023-08-01T14:00:21.487178Z",
     "iopub.status.busy": "2023-08-01T14:00:21.486807Z",
     "iopub.status.idle": "2023-08-01T14:00:22.722424Z",
     "shell.execute_reply": "2023-08-01T14:00:22.721475Z",
     "shell.execute_reply.started": "2023-08-01T14:00:21.487148Z"
    }
   },
   "outputs": [
    {
     "name": "stdout",
     "output_type": "stream",
     "text": [
      "              precision    recall  f1-score   support\n",
      "\n",
      "         4wd       0.63      0.80      0.71      4582\n",
      "         fwd       0.73      0.63      0.68      4593\n",
      "         rwd       0.70      0.62      0.66      4540\n",
      "\n",
      "    accuracy                           0.68     13715\n",
      "   macro avg       0.69      0.68      0.68     13715\n",
      "weighted avg       0.69      0.68      0.68     13715\n",
      "\n"
     ]
    }
   ],
   "source": [
    "print(classification_report(y_test,RM.predict(X_test)))"
   ]
  },
  {
   "cell_type": "code",
   "execution_count": 63,
   "metadata": {
    "execution": {
     "iopub.execute_input": "2023-08-01T14:01:59.820658Z",
     "iopub.status.busy": "2023-08-01T14:01:59.820194Z",
     "iopub.status.idle": "2023-08-01T14:02:00.516976Z",
     "shell.execute_reply": "2023-08-01T14:02:00.515499Z",
     "shell.execute_reply.started": "2023-08-01T14:01:59.820627Z"
    }
   },
   "outputs": [
    {
     "name": "stdout",
     "output_type": "stream",
     "text": [
      "<class 'pandas.core.frame.DataFrame'>\n",
      "Int64Index: 160805 entries, 4 to 290126\n",
      "Data columns (total 15 columns):\n",
      " #   Column          Non-Null Count   Dtype   \n",
      "---  ------          --------------   -----   \n",
      " 0   year            160805 non-null  int32   \n",
      " 1   manufacturer    160805 non-null  object  \n",
      " 2   model           160805 non-null  object  \n",
      " 3   condition       160805 non-null  object  \n",
      " 4   cylinders       160805 non-null  object  \n",
      " 5   fuel            160805 non-null  object  \n",
      " 6   odometer        160805 non-null  float64 \n",
      " 7   title_status    157794 non-null  object  \n",
      " 8   transmission    160805 non-null  object  \n",
      " 9   drive           122845 non-null  object  \n",
      " 10  type            160805 non-null  object  \n",
      " 11  paint_color     127348 non-null  object  \n",
      " 12  state           160805 non-null  object  \n",
      " 13  price           160805 non-null  int64   \n",
      " 14  Odometer_Range  160805 non-null  category\n",
      "dtypes: category(1), float64(1), int32(1), int64(1), object(11)\n",
      "memory usage: 17.9+ MB\n"
     ]
    }
   ],
   "source": [
    "df.info()"
   ]
  },
  {
   "cell_type": "code",
   "execution_count": 64,
   "metadata": {
    "execution": {
     "iopub.execute_input": "2023-08-01T14:02:13.811809Z",
     "iopub.status.busy": "2023-08-01T14:02:13.811396Z",
     "iopub.status.idle": "2023-08-01T14:02:13.871265Z",
     "shell.execute_reply": "2023-08-01T14:02:13.869922Z",
     "shell.execute_reply.started": "2023-08-01T14:02:13.811780Z"
    }
   },
   "outputs": [
    {
     "data": {
      "text/html": [
       "<div>\n",
       "<style scoped>\n",
       "    .dataframe tbody tr th:only-of-type {\n",
       "        vertical-align: middle;\n",
       "    }\n",
       "\n",
       "    .dataframe tbody tr th {\n",
       "        vertical-align: top;\n",
       "    }\n",
       "\n",
       "    .dataframe thead th {\n",
       "        text-align: right;\n",
       "    }\n",
       "</style>\n",
       "<table border=\"1\" class=\"dataframe\">\n",
       "  <thead>\n",
       "    <tr style=\"text-align: right;\">\n",
       "      <th></th>\n",
       "      <th>cylinders</th>\n",
       "      <th>fuel</th>\n",
       "      <th>transmission</th>\n",
       "      <th>type</th>\n",
       "      <th>drive</th>\n",
       "    </tr>\n",
       "  </thead>\n",
       "  <tbody>\n",
       "    <tr>\n",
       "      <th>497</th>\n",
       "      <td>other</td>\n",
       "      <td>gas</td>\n",
       "      <td>automatic</td>\n",
       "      <td>other</td>\n",
       "      <td>NaN</td>\n",
       "    </tr>\n",
       "    <tr>\n",
       "      <th>507</th>\n",
       "      <td>other</td>\n",
       "      <td>other</td>\n",
       "      <td>other</td>\n",
       "      <td>hatchback</td>\n",
       "      <td>NaN</td>\n",
       "    </tr>\n",
       "    <tr>\n",
       "      <th>511</th>\n",
       "      <td>other</td>\n",
       "      <td>gas</td>\n",
       "      <td>automatic</td>\n",
       "      <td>SUV</td>\n",
       "      <td>NaN</td>\n",
       "    </tr>\n",
       "    <tr>\n",
       "      <th>532</th>\n",
       "      <td>other</td>\n",
       "      <td>other</td>\n",
       "      <td>other</td>\n",
       "      <td>sedan</td>\n",
       "      <td>NaN</td>\n",
       "    </tr>\n",
       "    <tr>\n",
       "      <th>540</th>\n",
       "      <td>other</td>\n",
       "      <td>gas</td>\n",
       "      <td>automatic</td>\n",
       "      <td>convertible</td>\n",
       "      <td>NaN</td>\n",
       "    </tr>\n",
       "    <tr>\n",
       "      <th>548</th>\n",
       "      <td>other</td>\n",
       "      <td>gas</td>\n",
       "      <td>automatic</td>\n",
       "      <td>other</td>\n",
       "      <td>NaN</td>\n",
       "    </tr>\n",
       "    <tr>\n",
       "      <th>552</th>\n",
       "      <td>other</td>\n",
       "      <td>other</td>\n",
       "      <td>automatic</td>\n",
       "      <td>pickup</td>\n",
       "      <td>NaN</td>\n",
       "    </tr>\n",
       "    <tr>\n",
       "      <th>554</th>\n",
       "      <td>other</td>\n",
       "      <td>gas</td>\n",
       "      <td>automatic</td>\n",
       "      <td>hatchback</td>\n",
       "      <td>NaN</td>\n",
       "    </tr>\n",
       "    <tr>\n",
       "      <th>556</th>\n",
       "      <td>6 cylinders</td>\n",
       "      <td>gas</td>\n",
       "      <td>automatic</td>\n",
       "      <td>coupe</td>\n",
       "      <td>NaN</td>\n",
       "    </tr>\n",
       "    <tr>\n",
       "      <th>570</th>\n",
       "      <td>4 cylinders</td>\n",
       "      <td>gas</td>\n",
       "      <td>automatic</td>\n",
       "      <td>sedan</td>\n",
       "      <td>NaN</td>\n",
       "    </tr>\n",
       "    <tr>\n",
       "      <th>573</th>\n",
       "      <td>6 cylinders</td>\n",
       "      <td>gas</td>\n",
       "      <td>automatic</td>\n",
       "      <td>sedan</td>\n",
       "      <td>NaN</td>\n",
       "    </tr>\n",
       "    <tr>\n",
       "      <th>580</th>\n",
       "      <td>other</td>\n",
       "      <td>gas</td>\n",
       "      <td>other</td>\n",
       "      <td>convertible</td>\n",
       "      <td>NaN</td>\n",
       "    </tr>\n",
       "    <tr>\n",
       "      <th>584</th>\n",
       "      <td>4 cylinders</td>\n",
       "      <td>gas</td>\n",
       "      <td>automatic</td>\n",
       "      <td>sedan</td>\n",
       "      <td>NaN</td>\n",
       "    </tr>\n",
       "    <tr>\n",
       "      <th>593</th>\n",
       "      <td>4 cylinders</td>\n",
       "      <td>gas</td>\n",
       "      <td>automatic</td>\n",
       "      <td>sedan</td>\n",
       "      <td>NaN</td>\n",
       "    </tr>\n",
       "    <tr>\n",
       "      <th>597</th>\n",
       "      <td>other</td>\n",
       "      <td>gas</td>\n",
       "      <td>other</td>\n",
       "      <td>sedan</td>\n",
       "      <td>NaN</td>\n",
       "    </tr>\n",
       "    <tr>\n",
       "      <th>600</th>\n",
       "      <td>other</td>\n",
       "      <td>gas</td>\n",
       "      <td>automatic</td>\n",
       "      <td>sedan</td>\n",
       "      <td>NaN</td>\n",
       "    </tr>\n",
       "    <tr>\n",
       "      <th>603</th>\n",
       "      <td>other</td>\n",
       "      <td>gas</td>\n",
       "      <td>automatic</td>\n",
       "      <td>SUV</td>\n",
       "      <td>NaN</td>\n",
       "    </tr>\n",
       "    <tr>\n",
       "      <th>608</th>\n",
       "      <td>6 cylinders</td>\n",
       "      <td>gas</td>\n",
       "      <td>other</td>\n",
       "      <td>pickup</td>\n",
       "      <td>NaN</td>\n",
       "    </tr>\n",
       "    <tr>\n",
       "      <th>615</th>\n",
       "      <td>4 cylinders</td>\n",
       "      <td>gas</td>\n",
       "      <td>automatic</td>\n",
       "      <td>wagon</td>\n",
       "      <td>NaN</td>\n",
       "    </tr>\n",
       "    <tr>\n",
       "      <th>625</th>\n",
       "      <td>4 cylinders</td>\n",
       "      <td>gas</td>\n",
       "      <td>automatic</td>\n",
       "      <td>wagon</td>\n",
       "      <td>NaN</td>\n",
       "    </tr>\n",
       "    <tr>\n",
       "      <th>628</th>\n",
       "      <td>6 cylinders</td>\n",
       "      <td>gas</td>\n",
       "      <td>other</td>\n",
       "      <td>pickup</td>\n",
       "      <td>NaN</td>\n",
       "    </tr>\n",
       "    <tr>\n",
       "      <th>637</th>\n",
       "      <td>other</td>\n",
       "      <td>gas</td>\n",
       "      <td>automatic</td>\n",
       "      <td>sedan</td>\n",
       "      <td>NaN</td>\n",
       "    </tr>\n",
       "    <tr>\n",
       "      <th>644</th>\n",
       "      <td>6 cylinders</td>\n",
       "      <td>gas</td>\n",
       "      <td>other</td>\n",
       "      <td>pickup</td>\n",
       "      <td>NaN</td>\n",
       "    </tr>\n",
       "    <tr>\n",
       "      <th>645</th>\n",
       "      <td>8 cylinders</td>\n",
       "      <td>gas</td>\n",
       "      <td>automatic</td>\n",
       "      <td>SUV</td>\n",
       "      <td>NaN</td>\n",
       "    </tr>\n",
       "    <tr>\n",
       "      <th>647</th>\n",
       "      <td>other</td>\n",
       "      <td>gas</td>\n",
       "      <td>automatic</td>\n",
       "      <td>SUV</td>\n",
       "      <td>NaN</td>\n",
       "    </tr>\n",
       "    <tr>\n",
       "      <th>654</th>\n",
       "      <td>other</td>\n",
       "      <td>other</td>\n",
       "      <td>other</td>\n",
       "      <td>sedan</td>\n",
       "      <td>NaN</td>\n",
       "    </tr>\n",
       "    <tr>\n",
       "      <th>656</th>\n",
       "      <td>other</td>\n",
       "      <td>gas</td>\n",
       "      <td>automatic</td>\n",
       "      <td>hatchback</td>\n",
       "      <td>NaN</td>\n",
       "    </tr>\n",
       "    <tr>\n",
       "      <th>663</th>\n",
       "      <td>other</td>\n",
       "      <td>gas</td>\n",
       "      <td>other</td>\n",
       "      <td>pickup</td>\n",
       "      <td>NaN</td>\n",
       "    </tr>\n",
       "    <tr>\n",
       "      <th>667</th>\n",
       "      <td>other</td>\n",
       "      <td>gas</td>\n",
       "      <td>automatic</td>\n",
       "      <td>SUV</td>\n",
       "      <td>NaN</td>\n",
       "    </tr>\n",
       "    <tr>\n",
       "      <th>672</th>\n",
       "      <td>other</td>\n",
       "      <td>other</td>\n",
       "      <td>other</td>\n",
       "      <td>hatchback</td>\n",
       "      <td>NaN</td>\n",
       "    </tr>\n",
       "    <tr>\n",
       "      <th>673</th>\n",
       "      <td>4 cylinders</td>\n",
       "      <td>gas</td>\n",
       "      <td>automatic</td>\n",
       "      <td>sedan</td>\n",
       "      <td>NaN</td>\n",
       "    </tr>\n",
       "    <tr>\n",
       "      <th>680</th>\n",
       "      <td>other</td>\n",
       "      <td>other</td>\n",
       "      <td>other</td>\n",
       "      <td>other</td>\n",
       "      <td>NaN</td>\n",
       "    </tr>\n",
       "    <tr>\n",
       "      <th>694</th>\n",
       "      <td>4 cylinders</td>\n",
       "      <td>gas</td>\n",
       "      <td>automatic</td>\n",
       "      <td>sedan</td>\n",
       "      <td>NaN</td>\n",
       "    </tr>\n",
       "    <tr>\n",
       "      <th>698</th>\n",
       "      <td>4 cylinders</td>\n",
       "      <td>gas</td>\n",
       "      <td>automatic</td>\n",
       "      <td>SUV</td>\n",
       "      <td>NaN</td>\n",
       "    </tr>\n",
       "    <tr>\n",
       "      <th>703</th>\n",
       "      <td>6 cylinders</td>\n",
       "      <td>gas</td>\n",
       "      <td>other</td>\n",
       "      <td>other</td>\n",
       "      <td>NaN</td>\n",
       "    </tr>\n",
       "    <tr>\n",
       "      <th>704</th>\n",
       "      <td>other</td>\n",
       "      <td>gas</td>\n",
       "      <td>other</td>\n",
       "      <td>sedan</td>\n",
       "      <td>NaN</td>\n",
       "    </tr>\n",
       "    <tr>\n",
       "      <th>714</th>\n",
       "      <td>other</td>\n",
       "      <td>gas</td>\n",
       "      <td>automatic</td>\n",
       "      <td>other</td>\n",
       "      <td>NaN</td>\n",
       "    </tr>\n",
       "    <tr>\n",
       "      <th>716</th>\n",
       "      <td>other</td>\n",
       "      <td>gas</td>\n",
       "      <td>manual</td>\n",
       "      <td>hatchback</td>\n",
       "      <td>NaN</td>\n",
       "    </tr>\n",
       "    <tr>\n",
       "      <th>725</th>\n",
       "      <td>4 cylinders</td>\n",
       "      <td>gas</td>\n",
       "      <td>automatic</td>\n",
       "      <td>sedan</td>\n",
       "      <td>NaN</td>\n",
       "    </tr>\n",
       "    <tr>\n",
       "      <th>741</th>\n",
       "      <td>8 cylinders</td>\n",
       "      <td>gas</td>\n",
       "      <td>automatic</td>\n",
       "      <td>sedan</td>\n",
       "      <td>NaN</td>\n",
       "    </tr>\n",
       "    <tr>\n",
       "      <th>744</th>\n",
       "      <td>6 cylinders</td>\n",
       "      <td>gas</td>\n",
       "      <td>automatic</td>\n",
       "      <td>SUV</td>\n",
       "      <td>NaN</td>\n",
       "    </tr>\n",
       "    <tr>\n",
       "      <th>746</th>\n",
       "      <td>other</td>\n",
       "      <td>gas</td>\n",
       "      <td>other</td>\n",
       "      <td>wagon</td>\n",
       "      <td>NaN</td>\n",
       "    </tr>\n",
       "    <tr>\n",
       "      <th>747</th>\n",
       "      <td>6 cylinders</td>\n",
       "      <td>gas</td>\n",
       "      <td>automatic</td>\n",
       "      <td>SUV</td>\n",
       "      <td>NaN</td>\n",
       "    </tr>\n",
       "    <tr>\n",
       "      <th>751</th>\n",
       "      <td>other</td>\n",
       "      <td>gas</td>\n",
       "      <td>automatic</td>\n",
       "      <td>other</td>\n",
       "      <td>NaN</td>\n",
       "    </tr>\n",
       "    <tr>\n",
       "      <th>753</th>\n",
       "      <td>other</td>\n",
       "      <td>hybrid</td>\n",
       "      <td>other</td>\n",
       "      <td>other</td>\n",
       "      <td>NaN</td>\n",
       "    </tr>\n",
       "    <tr>\n",
       "      <th>758</th>\n",
       "      <td>8 cylinders</td>\n",
       "      <td>gas</td>\n",
       "      <td>automatic</td>\n",
       "      <td>pickup</td>\n",
       "      <td>NaN</td>\n",
       "    </tr>\n",
       "    <tr>\n",
       "      <th>760</th>\n",
       "      <td>other</td>\n",
       "      <td>gas</td>\n",
       "      <td>other</td>\n",
       "      <td>other</td>\n",
       "      <td>NaN</td>\n",
       "    </tr>\n",
       "    <tr>\n",
       "      <th>763</th>\n",
       "      <td>6 cylinders</td>\n",
       "      <td>gas</td>\n",
       "      <td>automatic</td>\n",
       "      <td>van</td>\n",
       "      <td>NaN</td>\n",
       "    </tr>\n",
       "    <tr>\n",
       "      <th>768</th>\n",
       "      <td>4 cylinders</td>\n",
       "      <td>gas</td>\n",
       "      <td>automatic</td>\n",
       "      <td>pickup</td>\n",
       "      <td>NaN</td>\n",
       "    </tr>\n",
       "    <tr>\n",
       "      <th>770</th>\n",
       "      <td>8 cylinders</td>\n",
       "      <td>gas</td>\n",
       "      <td>other</td>\n",
       "      <td>pickup</td>\n",
       "      <td>NaN</td>\n",
       "    </tr>\n",
       "  </tbody>\n",
       "</table>\n",
       "</div>"
      ],
      "text/plain": [
       "       cylinders    fuel transmission         type drive\n",
       "497        other     gas    automatic        other   NaN\n",
       "507        other   other        other    hatchback   NaN\n",
       "511        other     gas    automatic          SUV   NaN\n",
       "532        other   other        other        sedan   NaN\n",
       "540        other     gas    automatic  convertible   NaN\n",
       "548        other     gas    automatic        other   NaN\n",
       "552        other   other    automatic       pickup   NaN\n",
       "554        other     gas    automatic    hatchback   NaN\n",
       "556  6 cylinders     gas    automatic        coupe   NaN\n",
       "570  4 cylinders     gas    automatic        sedan   NaN\n",
       "573  6 cylinders     gas    automatic        sedan   NaN\n",
       "580        other     gas        other  convertible   NaN\n",
       "584  4 cylinders     gas    automatic        sedan   NaN\n",
       "593  4 cylinders     gas    automatic        sedan   NaN\n",
       "597        other     gas        other        sedan   NaN\n",
       "600        other     gas    automatic        sedan   NaN\n",
       "603        other     gas    automatic          SUV   NaN\n",
       "608  6 cylinders     gas        other       pickup   NaN\n",
       "615  4 cylinders     gas    automatic        wagon   NaN\n",
       "625  4 cylinders     gas    automatic        wagon   NaN\n",
       "628  6 cylinders     gas        other       pickup   NaN\n",
       "637        other     gas    automatic        sedan   NaN\n",
       "644  6 cylinders     gas        other       pickup   NaN\n",
       "645  8 cylinders     gas    automatic          SUV   NaN\n",
       "647        other     gas    automatic          SUV   NaN\n",
       "654        other   other        other        sedan   NaN\n",
       "656        other     gas    automatic    hatchback   NaN\n",
       "663        other     gas        other       pickup   NaN\n",
       "667        other     gas    automatic          SUV   NaN\n",
       "672        other   other        other    hatchback   NaN\n",
       "673  4 cylinders     gas    automatic        sedan   NaN\n",
       "680        other   other        other        other   NaN\n",
       "694  4 cylinders     gas    automatic        sedan   NaN\n",
       "698  4 cylinders     gas    automatic          SUV   NaN\n",
       "703  6 cylinders     gas        other        other   NaN\n",
       "704        other     gas        other        sedan   NaN\n",
       "714        other     gas    automatic        other   NaN\n",
       "716        other     gas       manual    hatchback   NaN\n",
       "725  4 cylinders     gas    automatic        sedan   NaN\n",
       "741  8 cylinders     gas    automatic        sedan   NaN\n",
       "744  6 cylinders     gas    automatic          SUV   NaN\n",
       "746        other     gas        other        wagon   NaN\n",
       "747  6 cylinders     gas    automatic          SUV   NaN\n",
       "751        other     gas    automatic        other   NaN\n",
       "753        other  hybrid        other        other   NaN\n",
       "758  8 cylinders     gas    automatic       pickup   NaN\n",
       "760        other     gas        other        other   NaN\n",
       "763  6 cylinders     gas    automatic          van   NaN\n",
       "768  4 cylinders     gas    automatic       pickup   NaN\n",
       "770  8 cylinders     gas        other       pickup   NaN"
      ]
     },
     "execution_count": 64,
     "metadata": {},
     "output_type": "execute_result"
    }
   ],
   "source": [
    "df[df.drive.isnull()][['cylinders','fuel','transmission','type','drive']][50:100]"
   ]
  },
  {
   "cell_type": "code",
   "execution_count": 65,
   "metadata": {
    "execution": {
     "iopub.execute_input": "2023-08-01T14:04:17.563332Z",
     "iopub.status.busy": "2023-08-01T14:04:17.562831Z",
     "iopub.status.idle": "2023-08-01T14:04:18.344902Z",
     "shell.execute_reply": "2023-08-01T14:04:18.343353Z",
     "shell.execute_reply.started": "2023-08-01T14:04:17.563297Z"
    }
   },
   "outputs": [
    {
     "data": {
      "image/png": "[encoded data removed]",
      "text/plain": [
       "<Figure size 640x480 with 1 Axes>"
      ]
     },
     "metadata": {},
     "output_type": "display_data"
    }
   ],
   "source": [
    "sns.boxplot(data=df,x='paint_color',y='price',showfliers=False)\n",
    "plt.grid(alpha=0.4,color ='r')"
   ]
  },
  {
   "cell_type": "markdown",
   "metadata": {},
   "source": [
    "---------------------\n",
    "# modeling"
   ]
  },
  {
   "cell_type": "code",
   "execution_count": 66,
   "metadata": {
    "execution": {
     "iopub.execute_input": "2023-08-01T14:11:50.821366Z",
     "iopub.status.busy": "2023-08-01T14:11:50.819989Z",
     "iopub.status.idle": "2023-08-01T14:11:51.968976Z",
     "shell.execute_reply": "2023-08-01T14:11:51.967587Z",
     "shell.execute_reply.started": "2023-08-01T14:11:50.821315Z"
    }
   },
   "outputs": [
    {
     "name": "stdout",
     "output_type": "stream",
     "text": [
      "<class 'pandas.core.frame.DataFrame'>\n",
      "Int64Index: 100946 entries, 4 to 290125\n",
      "Data columns (total 15 columns):\n",
      " #   Column          Non-Null Count   Dtype   \n",
      "---  ------          --------------   -----   \n",
      " 0   year            100946 non-null  int32   \n",
      " 1   manufacturer    100946 non-null  object  \n",
      " 2   model           100946 non-null  object  \n",
      " 3   condition       100946 non-null  object  \n",
      " 4   cylinders       100946 non-null  object  \n",
      " 5   fuel            100946 non-null  object  \n",
      " 6   odometer        100946 non-null  float64 \n",
      " 7   title_status    100946 non-null  object  \n",
      " 8   transmission    100946 non-null  object  \n",
      " 9   drive           100946 non-null  object  \n",
      " 10  type            100946 non-null  object  \n",
      " 11  paint_color     100946 non-null  object  \n",
      " 12  state           100946 non-null  object  \n",
      " 13  price           100946 non-null  int64   \n",
      " 14  Odometer_Range  100946 non-null  category\n",
      "dtypes: category(1), float64(1), int32(1), int64(1), object(11)\n",
      "memory usage: 11.3+ MB\n"
     ]
    }
   ],
   "source": [
    "from sklearn.linear_model import LinearRegression\n",
    "new = df.dropna()\n",
    "new.info()"
   ]
  },
  {
   "cell_type": "code",
   "execution_count": 75,
   "metadata": {
    "execution": {
     "iopub.execute_input": "2023-08-01T14:13:46.906391Z",
     "iopub.status.busy": "2023-08-01T14:13:46.905998Z",
     "iopub.status.idle": "2023-08-01T14:13:47.045191Z",
     "shell.execute_reply": "2023-08-01T14:13:47.043253Z",
     "shell.execute_reply.started": "2023-08-01T14:13:46.906362Z"
    },
    "jupyter": {
     "outputs_hidden": true
    }
   },
   "outputs": [
    {
     "name": "stderr",
     "output_type": "stream",
     "text": [
      "C:\\Users\\emana\\AppData\\Local\\Temp\\ipykernel_40980\\812303513.py:1: SettingWithCopyWarning: \n",
      "A value is trying to be set on a copy of a slice from a DataFrame\n",
      "\n",
      "See the caveats in the documentation: https://pandas.pydata.org/pandas-docs/stable/user_guide/indexing.html#returning-a-view-versus-a-copy\n",
      "  new.drop(labels=['model','state'],inplace=True,axis=1)\n"
     ]
    }
   ],
   "source": [
    "new.drop(labels=['model','state'],inplace=True,axis=1)"
   ]
  },
  {
   "cell_type": "code",
   "execution_count": 88,
   "metadata": {},
   "outputs": [
    {
     "name": "stderr",
     "output_type": "stream",
     "text": [
      "C:\\Users\\emana\\AppData\\Local\\Temp\\ipykernel_40980\\764697598.py:1: SettingWithCopyWarning: \n",
      "A value is trying to be set on a copy of a slice from a DataFrame\n",
      "\n",
      "See the caveats in the documentation: https://pandas.pydata.org/pandas-docs/stable/user_guide/indexing.html#returning-a-view-versus-a-copy\n",
      "  new.drop(['Odometer_Range'],inplace=True,axis=1)\n"
     ]
    }
   ],
   "source": [
    "new.drop(['Odometer_Range'],inplace=True,axis=1)"
   ]
  },
  {
   "cell_type": "code",
   "execution_count": 76,
   "metadata": {
    "execution": {
     "iopub.execute_input": "2023-08-01T14:14:19.025049Z",
     "iopub.status.busy": "2023-08-01T14:14:19.024554Z",
     "iopub.status.idle": "2023-08-01T14:14:19.033972Z",
     "shell.execute_reply": "2023-08-01T14:14:19.032589Z",
     "shell.execute_reply.started": "2023-08-01T14:14:19.025013Z"
    }
   },
   "outputs": [],
   "source": [
    "s = list(new.columns)"
   ]
  },
  {
   "cell_type": "code",
   "execution_count": 77,
   "metadata": {
    "execution": {
     "iopub.execute_input": "2023-08-01T14:16:34.272096Z",
     "iopub.status.busy": "2023-08-01T14:16:34.271684Z",
     "iopub.status.idle": "2023-08-01T14:16:34.694510Z",
     "shell.execute_reply": "2023-08-01T14:16:34.693343Z",
     "shell.execute_reply.started": "2023-08-01T14:16:34.272063Z"
    }
   },
   "outputs": [
    {
     "name": "stderr",
     "output_type": "stream",
     "text": [
      "C:\\Users\\emana\\AppData\\Local\\Temp\\ipykernel_40980\\3431761821.py:3: SettingWithCopyWarning: \n",
      "A value is trying to be set on a copy of a slice from a DataFrame.\n",
      "Try using .loc[row_indexer,col_indexer] = value instead\n",
      "\n",
      "See the caveats in the documentation: https://pandas.pydata.org/pandas-docs/stable/user_guide/indexing.html#returning-a-view-versus-a-copy\n",
      "  new[['manufacturer',\n"
     ]
    }
   ],
   "source": [
    "le = LabelEncoder()\n",
    "\n",
    "new[['manufacturer',\n",
    " 'condition',\n",
    " 'cylinders',\n",
    " 'fuel',\n",
    " 'title_status',\n",
    " 'transmission',\n",
    " 'drive',\n",
    " 'type',\n",
    " 'paint_color']]=new[['manufacturer',\n",
    " 'condition',\n",
    " 'cylinders',\n",
    " 'fuel',\n",
    " 'title_status',\n",
    " 'transmission',\n",
    " 'drive',\n",
    " 'type',\n",
    "'paint_color']].apply(le.fit_transform)"
   ]
  },
  {
   "cell_type": "code",
   "execution_count": 78,
   "metadata": {
    "execution": {
     "iopub.execute_input": "2023-08-01T14:17:42.536491Z",
     "iopub.status.busy": "2023-08-01T14:17:42.535156Z",
     "iopub.status.idle": "2023-08-01T14:17:42.545897Z",
     "shell.execute_reply": "2023-08-01T14:17:42.544091Z",
     "shell.execute_reply.started": "2023-08-01T14:17:42.536417Z"
    }
   },
   "outputs": [
    {
     "name": "stderr",
     "output_type": "stream",
     "text": [
      "C:\\Users\\emana\\AppData\\Local\\Temp\\ipykernel_40980\\81017292.py:1: SettingWithCopyWarning: \n",
      "A value is trying to be set on a copy of a slice from a DataFrame.\n",
      "Try using .loc[row_indexer,col_indexer] = value instead\n",
      "\n",
      "See the caveats in the documentation: https://pandas.pydata.org/pandas-docs/stable/user_guide/indexing.html#returning-a-view-versus-a-copy\n",
      "  new['odometer'] = new.odometer.astype('int64')\n"
     ]
    }
   ],
   "source": [
    "new['odometer'] = new.odometer.astype('int64')"
   ]
  },
  {
   "cell_type": "code",
   "execution_count": 90,
   "metadata": {
    "execution": {
     "iopub.execute_input": "2023-08-01T14:17:46.136670Z",
     "iopub.status.busy": "2023-08-01T14:17:46.136192Z",
     "iopub.status.idle": "2023-08-01T14:17:46.157762Z",
     "shell.execute_reply": "2023-08-01T14:17:46.156361Z",
     "shell.execute_reply.started": "2023-08-01T14:17:46.136636Z"
    }
   },
   "outputs": [
    {
     "data": {
      "text/html": [
       "<div>\n",
       "<style scoped>\n",
       "    .dataframe tbody tr th:only-of-type {\n",
       "        vertical-align: middle;\n",
       "    }\n",
       "\n",
       "    .dataframe tbody tr th {\n",
       "        vertical-align: top;\n",
       "    }\n",
       "\n",
       "    .dataframe thead th {\n",
       "        text-align: right;\n",
       "    }\n",
       "</style>\n",
       "<table border=\"1\" class=\"dataframe\">\n",
       "  <thead>\n",
       "    <tr style=\"text-align: right;\">\n",
       "      <th></th>\n",
       "      <th>year</th>\n",
       "      <th>manufacturer</th>\n",
       "      <th>condition</th>\n",
       "      <th>cylinders</th>\n",
       "      <th>fuel</th>\n",
       "      <th>odometer</th>\n",
       "      <th>title_status</th>\n",
       "      <th>transmission</th>\n",
       "      <th>drive</th>\n",
       "      <th>type</th>\n",
       "      <th>paint_color</th>\n",
       "      <th>price</th>\n",
       "    </tr>\n",
       "  </thead>\n",
       "  <tbody>\n",
       "    <tr>\n",
       "      <th>4</th>\n",
       "      <td>15</td>\n",
       "      <td>19</td>\n",
       "      <td>2</td>\n",
       "      <td>5</td>\n",
       "      <td>2</td>\n",
       "      <td>138900</td>\n",
       "      <td>0</td>\n",
       "      <td>0</td>\n",
       "      <td>0</td>\n",
       "      <td>0</td>\n",
       "      <td>9</td>\n",
       "      <td>7995</td>\n",
       "    </tr>\n",
       "    <tr>\n",
       "      <th>8</th>\n",
       "      <td>11</td>\n",
       "      <td>19</td>\n",
       "      <td>5</td>\n",
       "      <td>5</td>\n",
       "      <td>2</td>\n",
       "      <td>157653</td>\n",
       "      <td>0</td>\n",
       "      <td>0</td>\n",
       "      <td>0</td>\n",
       "      <td>5</td>\n",
       "      <td>5</td>\n",
       "      <td>11995</td>\n",
       "    </tr>\n",
       "    <tr>\n",
       "      <th>14</th>\n",
       "      <td>5</td>\n",
       "      <td>19</td>\n",
       "      <td>2</td>\n",
       "      <td>3</td>\n",
       "      <td>2</td>\n",
       "      <td>73228</td>\n",
       "      <td>0</td>\n",
       "      <td>0</td>\n",
       "      <td>1</td>\n",
       "      <td>9</td>\n",
       "      <td>10</td>\n",
       "      <td>20988</td>\n",
       "    </tr>\n",
       "    <tr>\n",
       "      <th>17</th>\n",
       "      <td>5</td>\n",
       "      <td>15</td>\n",
       "      <td>2</td>\n",
       "      <td>3</td>\n",
       "      <td>2</td>\n",
       "      <td>14570</td>\n",
       "      <td>0</td>\n",
       "      <td>0</td>\n",
       "      <td>2</td>\n",
       "      <td>10</td>\n",
       "      <td>3</td>\n",
       "      <td>22900</td>\n",
       "    </tr>\n",
       "    <tr>\n",
       "      <th>25</th>\n",
       "      <td>6</td>\n",
       "      <td>19</td>\n",
       "      <td>0</td>\n",
       "      <td>7</td>\n",
       "      <td>2</td>\n",
       "      <td>90244</td>\n",
       "      <td>0</td>\n",
       "      <td>0</td>\n",
       "      <td>0</td>\n",
       "      <td>0</td>\n",
       "      <td>5</td>\n",
       "      <td>13988</td>\n",
       "    </tr>\n",
       "    <tr>\n",
       "      <th>...</th>\n",
       "      <td>...</td>\n",
       "      <td>...</td>\n",
       "      <td>...</td>\n",
       "      <td>...</td>\n",
       "      <td>...</td>\n",
       "      <td>...</td>\n",
       "      <td>...</td>\n",
       "      <td>...</td>\n",
       "      <td>...</td>\n",
       "      <td>...</td>\n",
       "      <td>...</td>\n",
       "      <td>...</td>\n",
       "    </tr>\n",
       "    <tr>\n",
       "      <th>290114</th>\n",
       "      <td>13</td>\n",
       "      <td>9</td>\n",
       "      <td>4</td>\n",
       "      <td>3</td>\n",
       "      <td>2</td>\n",
       "      <td>157000</td>\n",
       "      <td>0</td>\n",
       "      <td>0</td>\n",
       "      <td>1</td>\n",
       "      <td>9</td>\n",
       "      <td>5</td>\n",
       "      <td>5495</td>\n",
       "    </tr>\n",
       "    <tr>\n",
       "      <th>290115</th>\n",
       "      <td>14</td>\n",
       "      <td>19</td>\n",
       "      <td>5</td>\n",
       "      <td>5</td>\n",
       "      <td>2</td>\n",
       "      <td>146655</td>\n",
       "      <td>0</td>\n",
       "      <td>0</td>\n",
       "      <td>1</td>\n",
       "      <td>0</td>\n",
       "      <td>1</td>\n",
       "      <td>12995</td>\n",
       "    </tr>\n",
       "    <tr>\n",
       "      <th>290119</th>\n",
       "      <td>10</td>\n",
       "      <td>17</td>\n",
       "      <td>2</td>\n",
       "      <td>6</td>\n",
       "      <td>2</td>\n",
       "      <td>135000</td>\n",
       "      <td>0</td>\n",
       "      <td>0</td>\n",
       "      <td>0</td>\n",
       "      <td>10</td>\n",
       "      <td>10</td>\n",
       "      <td>20500</td>\n",
       "    </tr>\n",
       "    <tr>\n",
       "      <th>290120</th>\n",
       "      <td>4</td>\n",
       "      <td>15</td>\n",
       "      <td>4</td>\n",
       "      <td>5</td>\n",
       "      <td>2</td>\n",
       "      <td>39</td>\n",
       "      <td>4</td>\n",
       "      <td>0</td>\n",
       "      <td>0</td>\n",
       "      <td>10</td>\n",
       "      <td>10</td>\n",
       "      <td>25550</td>\n",
       "    </tr>\n",
       "    <tr>\n",
       "      <th>290125</th>\n",
       "      <td>10</td>\n",
       "      <td>10</td>\n",
       "      <td>2</td>\n",
       "      <td>3</td>\n",
       "      <td>2</td>\n",
       "      <td>114000</td>\n",
       "      <td>0</td>\n",
       "      <td>0</td>\n",
       "      <td>0</td>\n",
       "      <td>10</td>\n",
       "      <td>0</td>\n",
       "      <td>8900</td>\n",
       "    </tr>\n",
       "  </tbody>\n",
       "</table>\n",
       "<p>100946 rows × 12 columns</p>\n",
       "</div>"
      ],
      "text/plain": [
       "        year  manufacturer  condition  cylinders  fuel  odometer  \\\n",
       "4         15            19          2          5     2    138900   \n",
       "8         11            19          5          5     2    157653   \n",
       "14         5            19          2          3     2     73228   \n",
       "17         5            15          2          3     2     14570   \n",
       "25         6            19          0          7     2     90244   \n",
       "...      ...           ...        ...        ...   ...       ...   \n",
       "290114    13             9          4          3     2    157000   \n",
       "290115    14            19          5          5     2    146655   \n",
       "290119    10            17          2          6     2    135000   \n",
       "290120     4            15          4          5     2        39   \n",
       "290125    10            10          2          3     2    114000   \n",
       "\n",
       "        title_status  transmission  drive  type  paint_color  price  \n",
       "4                  0             0      0     0            9   7995  \n",
       "8                  0             0      0     5            5  11995  \n",
       "14                 0             0      1     9           10  20988  \n",
       "17                 0             0      2    10            3  22900  \n",
       "25                 0             0      0     0            5  13988  \n",
       "...              ...           ...    ...   ...          ...    ...  \n",
       "290114             0             0      1     9            5   5495  \n",
       "290115             0             0      1     0            1  12995  \n",
       "290119             0             0      0    10           10  20500  \n",
       "290120             4             0      0    10           10  25550  \n",
       "290125             0             0      0    10            0   8900  \n",
       "\n",
       "[100946 rows x 12 columns]"
      ]
     },
     "execution_count": 90,
     "metadata": {},
     "output_type": "execute_result"
    }
   ],
   "source": [
    "new"
   ]
  },
  {
   "cell_type": "code",
   "execution_count": 125,
   "metadata": {
    "execution": {
     "iopub.execute_input": "2023-08-01T14:17:51.328719Z",
     "iopub.status.busy": "2023-08-01T14:17:51.328093Z",
     "iopub.status.idle": "2023-08-01T14:17:51.358575Z",
     "shell.execute_reply": "2023-08-01T14:17:51.357300Z",
     "shell.execute_reply.started": "2023-08-01T14:17:51.328658Z"
    }
   },
   "outputs": [],
   "source": [
    "y= new.price\n",
    "X= new.drop('price',axis=1)"
   ]
  },
  {
   "cell_type": "code",
   "execution_count": 126,
   "metadata": {
    "execution": {
     "iopub.execute_input": "2023-08-01T14:17:53.833990Z",
     "iopub.status.busy": "2023-08-01T14:17:53.833594Z",
     "iopub.status.idle": "2023-08-01T14:17:53.858137Z",
     "shell.execute_reply": "2023-08-01T14:17:53.856930Z",
     "shell.execute_reply.started": "2023-08-01T14:17:53.833955Z"
    }
   },
   "outputs": [],
   "source": [
    "X_train, X_test, y_train, y_test = train_test_split(X, y, test_size=0.33, random_state=42)"
   ]
  },
  {
   "cell_type": "code",
   "execution_count": 127,
   "metadata": {},
   "outputs": [],
   "source": [
    "from sklearn.metrics import r2_score"
   ]
  },
  {
   "cell_type": "code",
   "execution_count": null,
   "metadata": {},
   "outputs": [],
   "source": []
  },
  {
   "cell_type": "code",
   "execution_count": 128,
   "metadata": {
    "execution": {
     "iopub.execute_input": "2023-08-01T14:20:39.666379Z",
     "iopub.status.busy": "2023-08-01T14:20:39.665983Z",
     "iopub.status.idle": "2023-08-01T14:20:45.128210Z",
     "shell.execute_reply": "2023-08-01T14:20:45.126954Z",
     "shell.execute_reply.started": "2023-08-01T14:20:39.666348Z"
    }
   },
   "outputs": [],
   "source": [
    "from sklearn.ensemble import RandomForestRegressor\n",
    "\n",
    "regressor = RandomForestRegressor(n_estimators=20, random_state=0)\n",
    "regressor.fit(X_train, y_train)\n",
    "y_pred = regressor.predict(X_test)\n"
   ]
  },
  {
   "cell_type": "code",
   "execution_count": 129,
   "metadata": {
    "execution": {
     "iopub.execute_input": "2023-08-01T14:20:57.755759Z",
     "iopub.status.busy": "2023-08-01T14:20:57.755297Z",
     "iopub.status.idle": "2023-08-01T14:20:57.764842Z",
     "shell.execute_reply": "2023-08-01T14:20:57.763892Z",
     "shell.execute_reply.started": "2023-08-01T14:20:57.755725Z"
    }
   },
   "outputs": [
    {
     "data": {
      "text/plain": [
       "0.8720092893685003"
      ]
     },
     "execution_count": 129,
     "metadata": {},
     "output_type": "execute_result"
    }
   ],
   "source": [
    "r2_score(y_test,y_pred)"
   ]
  },
  {
   "cell_type": "code",
   "execution_count": 130,
   "metadata": {},
   "outputs": [
    {
     "data": {
      "text/html": [
       "<div>\n",
       "<style scoped>\n",
       "    .dataframe tbody tr th:only-of-type {\n",
       "        vertical-align: middle;\n",
       "    }\n",
       "\n",
       "    .dataframe tbody tr th {\n",
       "        vertical-align: top;\n",
       "    }\n",
       "\n",
       "    .dataframe thead th {\n",
       "        text-align: right;\n",
       "    }\n",
       "</style>\n",
       "<table border=\"1\" class=\"dataframe\">\n",
       "  <thead>\n",
       "    <tr style=\"text-align: right;\">\n",
       "      <th></th>\n",
       "      <th>Unnamed: 0</th>\n",
       "      <th>id</th>\n",
       "      <th>year</th>\n",
       "      <th>manufacturer</th>\n",
       "      <th>model</th>\n",
       "      <th>condition</th>\n",
       "      <th>cylinders</th>\n",
       "      <th>fuel</th>\n",
       "      <th>odometer</th>\n",
       "      <th>title_status</th>\n",
       "      <th>transmission</th>\n",
       "      <th>drive</th>\n",
       "      <th>size</th>\n",
       "      <th>type</th>\n",
       "      <th>paint_color</th>\n",
       "      <th>state</th>\n",
       "      <th>lat</th>\n",
       "      <th>long</th>\n",
       "      <th>posting_date</th>\n",
       "    </tr>\n",
       "  </thead>\n",
       "  <tbody>\n",
       "    <tr>\n",
       "      <th>0</th>\n",
       "      <td>316575</td>\n",
       "      <td>7313399730</td>\n",
       "      <td>2018.0</td>\n",
       "      <td>honda</td>\n",
       "      <td>civic</td>\n",
       "      <td>NaN</td>\n",
       "      <td>4 cylinders</td>\n",
       "      <td>gas</td>\n",
       "      <td>28898.0</td>\n",
       "      <td>clean</td>\n",
       "      <td>automatic</td>\n",
       "      <td>fwd</td>\n",
       "      <td>NaN</td>\n",
       "      <td>sedan</td>\n",
       "      <td>NaN</td>\n",
       "      <td>or</td>\n",
       "      <td>44.971430</td>\n",
       "      <td>-123.018548</td>\n",
       "      <td>2021-04-27T10:09:18-0700</td>\n",
       "    </tr>\n",
       "    <tr>\n",
       "      <th>1</th>\n",
       "      <td>97903</td>\n",
       "      <td>7308035814</td>\n",
       "      <td>2017.0</td>\n",
       "      <td>cadillac</td>\n",
       "      <td>cts 2.0 luxury sedan 4d</td>\n",
       "      <td>good</td>\n",
       "      <td>NaN</td>\n",
       "      <td>gas</td>\n",
       "      <td>41147.0</td>\n",
       "      <td>clean</td>\n",
       "      <td>other</td>\n",
       "      <td>NaN</td>\n",
       "      <td>NaN</td>\n",
       "      <td>sedan</td>\n",
       "      <td>red</td>\n",
       "      <td>fl</td>\n",
       "      <td>28.040000</td>\n",
       "      <td>-81.960000</td>\n",
       "      <td>2021-04-16T20:21:00-0400</td>\n",
       "    </tr>\n",
       "    <tr>\n",
       "      <th>2</th>\n",
       "      <td>357880</td>\n",
       "      <td>7317063645</td>\n",
       "      <td>2006.0</td>\n",
       "      <td>toyota</td>\n",
       "      <td>sienna</td>\n",
       "      <td>excellent</td>\n",
       "      <td>6 cylinders</td>\n",
       "      <td>gas</td>\n",
       "      <td>165500.0</td>\n",
       "      <td>clean</td>\n",
       "      <td>automatic</td>\n",
       "      <td>NaN</td>\n",
       "      <td>NaN</td>\n",
       "      <td>mini-van</td>\n",
       "      <td>grey</td>\n",
       "      <td>tx</td>\n",
       "      <td>32.737108</td>\n",
       "      <td>-97.084585</td>\n",
       "      <td>2021-05-04T20:45:23-0500</td>\n",
       "    </tr>\n",
       "    <tr>\n",
       "      <th>3</th>\n",
       "      <td>413008</td>\n",
       "      <td>7310376764</td>\n",
       "      <td>2016.0</td>\n",
       "      <td>mitsubishi</td>\n",
       "      <td>outlander sel sport</td>\n",
       "      <td>good</td>\n",
       "      <td>NaN</td>\n",
       "      <td>other</td>\n",
       "      <td>29430.0</td>\n",
       "      <td>clean</td>\n",
       "      <td>other</td>\n",
       "      <td>NaN</td>\n",
       "      <td>NaN</td>\n",
       "      <td>SUV</td>\n",
       "      <td>white</td>\n",
       "      <td>wi</td>\n",
       "      <td>43.700000</td>\n",
       "      <td>-87.740000</td>\n",
       "      <td>2021-04-21T11:20:50-0500</td>\n",
       "    </tr>\n",
       "    <tr>\n",
       "      <th>4</th>\n",
       "      <td>330300</td>\n",
       "      <td>7309848062</td>\n",
       "      <td>2017.0</td>\n",
       "      <td>audi</td>\n",
       "      <td>a6 3.0t premium plus sedan</td>\n",
       "      <td>good</td>\n",
       "      <td>6 cylinders</td>\n",
       "      <td>gas</td>\n",
       "      <td>24238.0</td>\n",
       "      <td>clean</td>\n",
       "      <td>automatic</td>\n",
       "      <td>NaN</td>\n",
       "      <td>NaN</td>\n",
       "      <td>sedan</td>\n",
       "      <td>white</td>\n",
       "      <td>pa</td>\n",
       "      <td>40.790000</td>\n",
       "      <td>-77.850000</td>\n",
       "      <td>2021-04-20T12:10:51-0400</td>\n",
       "    </tr>\n",
       "    <tr>\n",
       "      <th>...</th>\n",
       "      <td>...</td>\n",
       "      <td>...</td>\n",
       "      <td>...</td>\n",
       "      <td>...</td>\n",
       "      <td>...</td>\n",
       "      <td>...</td>\n",
       "      <td>...</td>\n",
       "      <td>...</td>\n",
       "      <td>...</td>\n",
       "      <td>...</td>\n",
       "      <td>...</td>\n",
       "      <td>...</td>\n",
       "      <td>...</td>\n",
       "      <td>...</td>\n",
       "      <td>...</td>\n",
       "      <td>...</td>\n",
       "      <td>...</td>\n",
       "      <td>...</td>\n",
       "      <td>...</td>\n",
       "    </tr>\n",
       "    <tr>\n",
       "      <th>124336</th>\n",
       "      <td>221602</td>\n",
       "      <td>7306681704</td>\n",
       "      <td>2015.0</td>\n",
       "      <td>ram</td>\n",
       "      <td>3500</td>\n",
       "      <td>excellent</td>\n",
       "      <td>6 cylinders</td>\n",
       "      <td>diesel</td>\n",
       "      <td>123000.0</td>\n",
       "      <td>clean</td>\n",
       "      <td>automatic</td>\n",
       "      <td>rwd</td>\n",
       "      <td>NaN</td>\n",
       "      <td>NaN</td>\n",
       "      <td>white</td>\n",
       "      <td>mt</td>\n",
       "      <td>48.202800</td>\n",
       "      <td>-114.303900</td>\n",
       "      <td>2021-04-14T09:29:57-0600</td>\n",
       "    </tr>\n",
       "    <tr>\n",
       "      <th>124337</th>\n",
       "      <td>353429</td>\n",
       "      <td>7315798680</td>\n",
       "      <td>2007.0</td>\n",
       "      <td>nissan</td>\n",
       "      <td>murano.awd</td>\n",
       "      <td>NaN</td>\n",
       "      <td>NaN</td>\n",
       "      <td>gas</td>\n",
       "      <td>150000.0</td>\n",
       "      <td>rebuilt</td>\n",
       "      <td>automatic</td>\n",
       "      <td>NaN</td>\n",
       "      <td>NaN</td>\n",
       "      <td>NaN</td>\n",
       "      <td>NaN</td>\n",
       "      <td>tx</td>\n",
       "      <td>30.242800</td>\n",
       "      <td>-97.765800</td>\n",
       "      <td>2021-05-02T11:47:54-0500</td>\n",
       "    </tr>\n",
       "    <tr>\n",
       "      <th>124338</th>\n",
       "      <td>284120</td>\n",
       "      <td>7314818147</td>\n",
       "      <td>2015.0</td>\n",
       "      <td>dodge</td>\n",
       "      <td>dart sxt</td>\n",
       "      <td>excellent</td>\n",
       "      <td>4 cylinders</td>\n",
       "      <td>gas</td>\n",
       "      <td>90430.0</td>\n",
       "      <td>clean</td>\n",
       "      <td>automatic</td>\n",
       "      <td>fwd</td>\n",
       "      <td>NaN</td>\n",
       "      <td>NaN</td>\n",
       "      <td>white</td>\n",
       "      <td>oh</td>\n",
       "      <td>41.563600</td>\n",
       "      <td>-81.573300</td>\n",
       "      <td>2021-04-30T11:22:19-0400</td>\n",
       "    </tr>\n",
       "    <tr>\n",
       "      <th>124339</th>\n",
       "      <td>273569</td>\n",
       "      <td>7308055654</td>\n",
       "      <td>2001.0</td>\n",
       "      <td>chevrolet</td>\n",
       "      <td>2500</td>\n",
       "      <td>NaN</td>\n",
       "      <td>NaN</td>\n",
       "      <td>gas</td>\n",
       "      <td>137000.0</td>\n",
       "      <td>clean</td>\n",
       "      <td>automatic</td>\n",
       "      <td>NaN</td>\n",
       "      <td>NaN</td>\n",
       "      <td>NaN</td>\n",
       "      <td>NaN</td>\n",
       "      <td>ny</td>\n",
       "      <td>42.190134</td>\n",
       "      <td>-78.041382</td>\n",
       "      <td>2021-04-16T21:15:13-0400</td>\n",
       "    </tr>\n",
       "    <tr>\n",
       "      <th>124340</th>\n",
       "      <td>190395</td>\n",
       "      <td>7316383222</td>\n",
       "      <td>2019.0</td>\n",
       "      <td>bmw</td>\n",
       "      <td>x1 328i</td>\n",
       "      <td>excellent</td>\n",
       "      <td>4 cylinders</td>\n",
       "      <td>gas</td>\n",
       "      <td>11431.0</td>\n",
       "      <td>clean</td>\n",
       "      <td>automatic</td>\n",
       "      <td>fwd</td>\n",
       "      <td>mid-size</td>\n",
       "      <td>SUV</td>\n",
       "      <td>black</td>\n",
       "      <td>mi</td>\n",
       "      <td>42.426400</td>\n",
       "      <td>-83.301700</td>\n",
       "      <td>2021-05-03T15:45:37-0400</td>\n",
       "    </tr>\n",
       "  </tbody>\n",
       "</table>\n",
       "<p>124341 rows × 19 columns</p>\n",
       "</div>"
      ],
      "text/plain": [
       "        Unnamed: 0          id    year manufacturer  \\\n",
       "0           316575  7313399730  2018.0        honda   \n",
       "1            97903  7308035814  2017.0     cadillac   \n",
       "2           357880  7317063645  2006.0       toyota   \n",
       "3           413008  7310376764  2016.0   mitsubishi   \n",
       "4           330300  7309848062  2017.0         audi   \n",
       "...            ...         ...     ...          ...   \n",
       "124336      221602  7306681704  2015.0          ram   \n",
       "124337      353429  7315798680  2007.0       nissan   \n",
       "124338      284120  7314818147  2015.0        dodge   \n",
       "124339      273569  7308055654  2001.0    chevrolet   \n",
       "124340      190395  7316383222  2019.0          bmw   \n",
       "\n",
       "                             model  condition    cylinders    fuel  odometer  \\\n",
       "0                            civic        NaN  4 cylinders     gas   28898.0   \n",
       "1          cts 2.0 luxury sedan 4d       good          NaN     gas   41147.0   \n",
       "2                           sienna  excellent  6 cylinders     gas  165500.0   \n",
       "3              outlander sel sport       good          NaN   other   29430.0   \n",
       "4       a6 3.0t premium plus sedan       good  6 cylinders     gas   24238.0   \n",
       "...                            ...        ...          ...     ...       ...   \n",
       "124336                        3500  excellent  6 cylinders  diesel  123000.0   \n",
       "124337                  murano.awd        NaN          NaN     gas  150000.0   \n",
       "124338                    dart sxt  excellent  4 cylinders     gas   90430.0   \n",
       "124339                        2500        NaN          NaN     gas  137000.0   \n",
       "124340                     x1 328i  excellent  4 cylinders     gas   11431.0   \n",
       "\n",
       "       title_status transmission drive      size      type paint_color state  \\\n",
       "0             clean    automatic   fwd       NaN     sedan         NaN    or   \n",
       "1             clean        other   NaN       NaN     sedan         red    fl   \n",
       "2             clean    automatic   NaN       NaN  mini-van        grey    tx   \n",
       "3             clean        other   NaN       NaN       SUV       white    wi   \n",
       "4             clean    automatic   NaN       NaN     sedan       white    pa   \n",
       "...             ...          ...   ...       ...       ...         ...   ...   \n",
       "124336        clean    automatic   rwd       NaN       NaN       white    mt   \n",
       "124337      rebuilt    automatic   NaN       NaN       NaN         NaN    tx   \n",
       "124338        clean    automatic   fwd       NaN       NaN       white    oh   \n",
       "124339        clean    automatic   NaN       NaN       NaN         NaN    ny   \n",
       "124340        clean    automatic   fwd  mid-size       SUV       black    mi   \n",
       "\n",
       "              lat        long              posting_date  \n",
       "0       44.971430 -123.018548  2021-04-27T10:09:18-0700  \n",
       "1       28.040000  -81.960000  2021-04-16T20:21:00-0400  \n",
       "2       32.737108  -97.084585  2021-05-04T20:45:23-0500  \n",
       "3       43.700000  -87.740000  2021-04-21T11:20:50-0500  \n",
       "4       40.790000  -77.850000  2021-04-20T12:10:51-0400  \n",
       "...           ...         ...                       ...  \n",
       "124336  48.202800 -114.303900  2021-04-14T09:29:57-0600  \n",
       "124337  30.242800  -97.765800  2021-05-02T11:47:54-0500  \n",
       "124338  41.563600  -81.573300  2021-04-30T11:22:19-0400  \n",
       "124339  42.190134  -78.041382  2021-04-16T21:15:13-0400  \n",
       "124340  42.426400  -83.301700  2021-05-03T15:45:37-0400  \n",
       "\n",
       "[124341 rows x 19 columns]"
      ]
     },
     "execution_count": 130,
     "metadata": {},
     "output_type": "execute_result"
    }
   ],
   "source": [
    "test = pd.read_csv('test.csv')\n",
    "test"
   ]
  },
  {
   "cell_type": "code",
   "execution_count": 131,
   "metadata": {},
   "outputs": [
    {
     "data": {
      "text/plain": [
       "Index(['year', 'manufacturer', 'condition', 'cylinders', 'fuel', 'odometer',\n",
       "       'title_status', 'transmission', 'drive', 'type', 'paint_color',\n",
       "       'price'],\n",
       "      dtype='object')"
      ]
     },
     "execution_count": 131,
     "metadata": {},
     "output_type": "execute_result"
    }
   ],
   "source": [
    "new.columns"
   ]
  },
  {
   "cell_type": "code",
   "execution_count": 132,
   "metadata": {},
   "outputs": [
    {
     "data": {
      "text/html": [
       "<div>\n",
       "<style scoped>\n",
       "    .dataframe tbody tr th:only-of-type {\n",
       "        vertical-align: middle;\n",
       "    }\n",
       "\n",
       "    .dataframe tbody tr th {\n",
       "        vertical-align: top;\n",
       "    }\n",
       "\n",
       "    .dataframe thead th {\n",
       "        text-align: right;\n",
       "    }\n",
       "</style>\n",
       "<table border=\"1\" class=\"dataframe\">\n",
       "  <thead>\n",
       "    <tr style=\"text-align: right;\">\n",
       "      <th></th>\n",
       "      <th>id</th>\n",
       "      <th>year</th>\n",
       "      <th>manufacturer</th>\n",
       "      <th>condition</th>\n",
       "      <th>cylinders</th>\n",
       "      <th>fuel</th>\n",
       "      <th>odometer</th>\n",
       "      <th>title_status</th>\n",
       "      <th>transmission</th>\n",
       "      <th>drive</th>\n",
       "      <th>type</th>\n",
       "      <th>paint_color</th>\n",
       "    </tr>\n",
       "  </thead>\n",
       "  <tbody>\n",
       "    <tr>\n",
       "      <th>0</th>\n",
       "      <td>7313399730</td>\n",
       "      <td>2018.0</td>\n",
       "      <td>honda</td>\n",
       "      <td>NaN</td>\n",
       "      <td>4 cylinders</td>\n",
       "      <td>gas</td>\n",
       "      <td>28898.0</td>\n",
       "      <td>clean</td>\n",
       "      <td>automatic</td>\n",
       "      <td>fwd</td>\n",
       "      <td>sedan</td>\n",
       "      <td>NaN</td>\n",
       "    </tr>\n",
       "    <tr>\n",
       "      <th>1</th>\n",
       "      <td>7308035814</td>\n",
       "      <td>2017.0</td>\n",
       "      <td>cadillac</td>\n",
       "      <td>good</td>\n",
       "      <td>NaN</td>\n",
       "      <td>gas</td>\n",
       "      <td>41147.0</td>\n",
       "      <td>clean</td>\n",
       "      <td>other</td>\n",
       "      <td>NaN</td>\n",
       "      <td>sedan</td>\n",
       "      <td>red</td>\n",
       "    </tr>\n",
       "    <tr>\n",
       "      <th>2</th>\n",
       "      <td>7317063645</td>\n",
       "      <td>2006.0</td>\n",
       "      <td>toyota</td>\n",
       "      <td>excellent</td>\n",
       "      <td>6 cylinders</td>\n",
       "      <td>gas</td>\n",
       "      <td>165500.0</td>\n",
       "      <td>clean</td>\n",
       "      <td>automatic</td>\n",
       "      <td>NaN</td>\n",
       "      <td>mini-van</td>\n",
       "      <td>grey</td>\n",
       "    </tr>\n",
       "    <tr>\n",
       "      <th>3</th>\n",
       "      <td>7310376764</td>\n",
       "      <td>2016.0</td>\n",
       "      <td>mitsubishi</td>\n",
       "      <td>good</td>\n",
       "      <td>NaN</td>\n",
       "      <td>other</td>\n",
       "      <td>29430.0</td>\n",
       "      <td>clean</td>\n",
       "      <td>other</td>\n",
       "      <td>NaN</td>\n",
       "      <td>SUV</td>\n",
       "      <td>white</td>\n",
       "    </tr>\n",
       "    <tr>\n",
       "      <th>4</th>\n",
       "      <td>7309848062</td>\n",
       "      <td>2017.0</td>\n",
       "      <td>audi</td>\n",
       "      <td>good</td>\n",
       "      <td>6 cylinders</td>\n",
       "      <td>gas</td>\n",
       "      <td>24238.0</td>\n",
       "      <td>clean</td>\n",
       "      <td>automatic</td>\n",
       "      <td>NaN</td>\n",
       "      <td>sedan</td>\n",
       "      <td>white</td>\n",
       "    </tr>\n",
       "    <tr>\n",
       "      <th>...</th>\n",
       "      <td>...</td>\n",
       "      <td>...</td>\n",
       "      <td>...</td>\n",
       "      <td>...</td>\n",
       "      <td>...</td>\n",
       "      <td>...</td>\n",
       "      <td>...</td>\n",
       "      <td>...</td>\n",
       "      <td>...</td>\n",
       "      <td>...</td>\n",
       "      <td>...</td>\n",
       "      <td>...</td>\n",
       "    </tr>\n",
       "    <tr>\n",
       "      <th>124336</th>\n",
       "      <td>7306681704</td>\n",
       "      <td>2015.0</td>\n",
       "      <td>ram</td>\n",
       "      <td>excellent</td>\n",
       "      <td>6 cylinders</td>\n",
       "      <td>diesel</td>\n",
       "      <td>123000.0</td>\n",
       "      <td>clean</td>\n",
       "      <td>automatic</td>\n",
       "      <td>rwd</td>\n",
       "      <td>NaN</td>\n",
       "      <td>white</td>\n",
       "    </tr>\n",
       "    <tr>\n",
       "      <th>124337</th>\n",
       "      <td>7315798680</td>\n",
       "      <td>2007.0</td>\n",
       "      <td>nissan</td>\n",
       "      <td>NaN</td>\n",
       "      <td>NaN</td>\n",
       "      <td>gas</td>\n",
       "      <td>150000.0</td>\n",
       "      <td>rebuilt</td>\n",
       "      <td>automatic</td>\n",
       "      <td>NaN</td>\n",
       "      <td>NaN</td>\n",
       "      <td>NaN</td>\n",
       "    </tr>\n",
       "    <tr>\n",
       "      <th>124338</th>\n",
       "      <td>7314818147</td>\n",
       "      <td>2015.0</td>\n",
       "      <td>dodge</td>\n",
       "      <td>excellent</td>\n",
       "      <td>4 cylinders</td>\n",
       "      <td>gas</td>\n",
       "      <td>90430.0</td>\n",
       "      <td>clean</td>\n",
       "      <td>automatic</td>\n",
       "      <td>fwd</td>\n",
       "      <td>NaN</td>\n",
       "      <td>white</td>\n",
       "    </tr>\n",
       "    <tr>\n",
       "      <th>124339</th>\n",
       "      <td>7308055654</td>\n",
       "      <td>2001.0</td>\n",
       "      <td>chevrolet</td>\n",
       "      <td>NaN</td>\n",
       "      <td>NaN</td>\n",
       "      <td>gas</td>\n",
       "      <td>137000.0</td>\n",
       "      <td>clean</td>\n",
       "      <td>automatic</td>\n",
       "      <td>NaN</td>\n",
       "      <td>NaN</td>\n",
       "      <td>NaN</td>\n",
       "    </tr>\n",
       "    <tr>\n",
       "      <th>124340</th>\n",
       "      <td>7316383222</td>\n",
       "      <td>2019.0</td>\n",
       "      <td>bmw</td>\n",
       "      <td>excellent</td>\n",
       "      <td>4 cylinders</td>\n",
       "      <td>gas</td>\n",
       "      <td>11431.0</td>\n",
       "      <td>clean</td>\n",
       "      <td>automatic</td>\n",
       "      <td>fwd</td>\n",
       "      <td>SUV</td>\n",
       "      <td>black</td>\n",
       "    </tr>\n",
       "  </tbody>\n",
       "</table>\n",
       "<p>124341 rows × 12 columns</p>\n",
       "</div>"
      ],
      "text/plain": [
       "                id    year manufacturer  condition    cylinders    fuel  \\\n",
       "0       7313399730  2018.0        honda        NaN  4 cylinders     gas   \n",
       "1       7308035814  2017.0     cadillac       good          NaN     gas   \n",
       "2       7317063645  2006.0       toyota  excellent  6 cylinders     gas   \n",
       "3       7310376764  2016.0   mitsubishi       good          NaN   other   \n",
       "4       7309848062  2017.0         audi       good  6 cylinders     gas   \n",
       "...            ...     ...          ...        ...          ...     ...   \n",
       "124336  7306681704  2015.0          ram  excellent  6 cylinders  diesel   \n",
       "124337  7315798680  2007.0       nissan        NaN          NaN     gas   \n",
       "124338  7314818147  2015.0        dodge  excellent  4 cylinders     gas   \n",
       "124339  7308055654  2001.0    chevrolet        NaN          NaN     gas   \n",
       "124340  7316383222  2019.0          bmw  excellent  4 cylinders     gas   \n",
       "\n",
       "        odometer title_status transmission drive      type paint_color  \n",
       "0        28898.0        clean    automatic   fwd     sedan         NaN  \n",
       "1        41147.0        clean        other   NaN     sedan         red  \n",
       "2       165500.0        clean    automatic   NaN  mini-van        grey  \n",
       "3        29430.0        clean        other   NaN       SUV       white  \n",
       "4        24238.0        clean    automatic   NaN     sedan       white  \n",
       "...          ...          ...          ...   ...       ...         ...  \n",
       "124336  123000.0        clean    automatic   rwd       NaN       white  \n",
       "124337  150000.0      rebuilt    automatic   NaN       NaN         NaN  \n",
       "124338   90430.0        clean    automatic   fwd       NaN       white  \n",
       "124339  137000.0        clean    automatic   NaN       NaN         NaN  \n",
       "124340   11431.0        clean    automatic   fwd       SUV       black  \n",
       "\n",
       "[124341 rows x 12 columns]"
      ]
     },
     "execution_count": 132,
     "metadata": {},
     "output_type": "execute_result"
    }
   ],
   "source": [
    "# drop the above feature\n",
    "test.drop([ 'Unnamed: 0','model', 'lat', 'long', 'posting_date', 'size', 'state'], axis=1, inplace=True)\n",
    "test"
   ]
  },
  {
   "cell_type": "code",
   "execution_count": 133,
   "metadata": {},
   "outputs": [
    {
     "data": {
      "text/plain": [
       "(Index(['id', 'year', 'manufacturer', 'condition', 'cylinders', 'fuel',\n",
       "        'odometer', 'title_status', 'transmission', 'drive', 'type',\n",
       "        'paint_color'],\n",
       "       dtype='object'),\n",
       " Index(['year', 'manufacturer', 'condition', 'cylinders', 'fuel', 'odometer',\n",
       "        'title_status', 'transmission', 'drive', 'type', 'paint_color',\n",
       "        'price'],\n",
       "       dtype='object'))"
      ]
     },
     "execution_count": 133,
     "metadata": {},
     "output_type": "execute_result"
    }
   ],
   "source": [
    "test.columns,new.columns"
   ]
  },
  {
   "cell_type": "code",
   "execution_count": 136,
   "metadata": {},
   "outputs": [
    {
     "data": {
      "text/plain": [
       "Index(['year', 'manufacturer', 'condition', 'cylinders', 'fuel', 'odometer',\n",
       "       'title_status', 'transmission', 'drive', 'type', 'paint_color'],\n",
       "      dtype='object')"
      ]
     },
     "execution_count": 136,
     "metadata": {},
     "output_type": "execute_result"
    }
   ],
   "source": [
    "# Create a list of columns to be used for the predictions\n",
    "wanted_test_columns = X_train.columns\n",
    "wanted_test_columns"
   ]
  },
  {
   "cell_type": "code",
   "execution_count": 137,
   "metadata": {},
   "outputs": [],
   "source": [
    "test[['manufacturer',\n",
    " 'condition',\n",
    " 'cylinders',\n",
    " 'fuel',\n",
    " 'title_status',\n",
    " 'transmission',\n",
    " 'drive',\n",
    " 'type',\n",
    " 'paint_color']]=test[['manufacturer',\n",
    " 'condition',\n",
    " 'cylinders',\n",
    " 'fuel',\n",
    " 'title_status',\n",
    " 'transmission',\n",
    " 'drive',\n",
    " 'type',\n",
    "'paint_color']].apply(le.fit_transform)"
   ]
  },
  {
   "cell_type": "code",
   "execution_count": 138,
   "metadata": {},
   "outputs": [],
   "source": [
    "test['year'] = 2023 - test['year']"
   ]
  },
  {
   "cell_type": "code",
   "execution_count": 139,
   "metadata": {},
   "outputs": [],
   "source": [
    "test['year'] = test['year'].astype(int)\n",
    "test['odometer'] = test['odometer'].astype(int)"
   ]
  },
  {
   "cell_type": "code",
   "execution_count": 140,
   "metadata": {},
   "outputs": [
    {
     "data": {
      "text/html": [
       "<div>\n",
       "<style scoped>\n",
       "    .dataframe tbody tr th:only-of-type {\n",
       "        vertical-align: middle;\n",
       "    }\n",
       "\n",
       "    .dataframe tbody tr th {\n",
       "        vertical-align: top;\n",
       "    }\n",
       "\n",
       "    .dataframe thead th {\n",
       "        text-align: right;\n",
       "    }\n",
       "</style>\n",
       "<table border=\"1\" class=\"dataframe\">\n",
       "  <thead>\n",
       "    <tr style=\"text-align: right;\">\n",
       "      <th></th>\n",
       "      <th>id</th>\n",
       "      <th>year</th>\n",
       "      <th>manufacturer</th>\n",
       "      <th>condition</th>\n",
       "      <th>cylinders</th>\n",
       "      <th>fuel</th>\n",
       "      <th>odometer</th>\n",
       "      <th>title_status</th>\n",
       "      <th>transmission</th>\n",
       "      <th>drive</th>\n",
       "      <th>type</th>\n",
       "      <th>paint_color</th>\n",
       "    </tr>\n",
       "  </thead>\n",
       "  <tbody>\n",
       "    <tr>\n",
       "      <th>0</th>\n",
       "      <td>7313399730</td>\n",
       "      <td>5</td>\n",
       "      <td>16</td>\n",
       "      <td>6</td>\n",
       "      <td>3</td>\n",
       "      <td>2</td>\n",
       "      <td>28898</td>\n",
       "      <td>0</td>\n",
       "      <td>0</td>\n",
       "      <td>1</td>\n",
       "      <td>9</td>\n",
       "      <td>12</td>\n",
       "    </tr>\n",
       "    <tr>\n",
       "      <th>1</th>\n",
       "      <td>7308035814</td>\n",
       "      <td>6</td>\n",
       "      <td>6</td>\n",
       "      <td>2</td>\n",
       "      <td>8</td>\n",
       "      <td>2</td>\n",
       "      <td>41147</td>\n",
       "      <td>0</td>\n",
       "      <td>2</td>\n",
       "      <td>3</td>\n",
       "      <td>9</td>\n",
       "      <td>8</td>\n",
       "    </tr>\n",
       "    <tr>\n",
       "      <th>2</th>\n",
       "      <td>7317063645</td>\n",
       "      <td>17</td>\n",
       "      <td>38</td>\n",
       "      <td>0</td>\n",
       "      <td>5</td>\n",
       "      <td>2</td>\n",
       "      <td>165500</td>\n",
       "      <td>0</td>\n",
       "      <td>0</td>\n",
       "      <td>3</td>\n",
       "      <td>5</td>\n",
       "      <td>5</td>\n",
       "    </tr>\n",
       "    <tr>\n",
       "      <th>3</th>\n",
       "      <td>7310376764</td>\n",
       "      <td>7</td>\n",
       "      <td>29</td>\n",
       "      <td>2</td>\n",
       "      <td>8</td>\n",
       "      <td>4</td>\n",
       "      <td>29430</td>\n",
       "      <td>0</td>\n",
       "      <td>2</td>\n",
       "      <td>3</td>\n",
       "      <td>0</td>\n",
       "      <td>10</td>\n",
       "    </tr>\n",
       "    <tr>\n",
       "      <th>4</th>\n",
       "      <td>7309848062</td>\n",
       "      <td>6</td>\n",
       "      <td>3</td>\n",
       "      <td>2</td>\n",
       "      <td>5</td>\n",
       "      <td>2</td>\n",
       "      <td>24238</td>\n",
       "      <td>0</td>\n",
       "      <td>0</td>\n",
       "      <td>3</td>\n",
       "      <td>9</td>\n",
       "      <td>10</td>\n",
       "    </tr>\n",
       "    <tr>\n",
       "      <th>...</th>\n",
       "      <td>...</td>\n",
       "      <td>...</td>\n",
       "      <td>...</td>\n",
       "      <td>...</td>\n",
       "      <td>...</td>\n",
       "      <td>...</td>\n",
       "      <td>...</td>\n",
       "      <td>...</td>\n",
       "      <td>...</td>\n",
       "      <td>...</td>\n",
       "      <td>...</td>\n",
       "      <td>...</td>\n",
       "    </tr>\n",
       "    <tr>\n",
       "      <th>124336</th>\n",
       "      <td>7306681704</td>\n",
       "      <td>8</td>\n",
       "      <td>33</td>\n",
       "      <td>0</td>\n",
       "      <td>5</td>\n",
       "      <td>0</td>\n",
       "      <td>123000</td>\n",
       "      <td>0</td>\n",
       "      <td>0</td>\n",
       "      <td>2</td>\n",
       "      <td>13</td>\n",
       "      <td>10</td>\n",
       "    </tr>\n",
       "    <tr>\n",
       "      <th>124337</th>\n",
       "      <td>7315798680</td>\n",
       "      <td>16</td>\n",
       "      <td>30</td>\n",
       "      <td>6</td>\n",
       "      <td>8</td>\n",
       "      <td>2</td>\n",
       "      <td>150000</td>\n",
       "      <td>4</td>\n",
       "      <td>0</td>\n",
       "      <td>3</td>\n",
       "      <td>13</td>\n",
       "      <td>12</td>\n",
       "    </tr>\n",
       "    <tr>\n",
       "      <th>124338</th>\n",
       "      <td>7314818147</td>\n",
       "      <td>8</td>\n",
       "      <td>10</td>\n",
       "      <td>0</td>\n",
       "      <td>3</td>\n",
       "      <td>2</td>\n",
       "      <td>90430</td>\n",
       "      <td>0</td>\n",
       "      <td>0</td>\n",
       "      <td>1</td>\n",
       "      <td>13</td>\n",
       "      <td>10</td>\n",
       "    </tr>\n",
       "    <tr>\n",
       "      <th>124339</th>\n",
       "      <td>7308055654</td>\n",
       "      <td>22</td>\n",
       "      <td>7</td>\n",
       "      <td>6</td>\n",
       "      <td>8</td>\n",
       "      <td>2</td>\n",
       "      <td>137000</td>\n",
       "      <td>0</td>\n",
       "      <td>0</td>\n",
       "      <td>3</td>\n",
       "      <td>13</td>\n",
       "      <td>12</td>\n",
       "    </tr>\n",
       "    <tr>\n",
       "      <th>124340</th>\n",
       "      <td>7316383222</td>\n",
       "      <td>4</td>\n",
       "      <td>4</td>\n",
       "      <td>0</td>\n",
       "      <td>3</td>\n",
       "      <td>2</td>\n",
       "      <td>11431</td>\n",
       "      <td>0</td>\n",
       "      <td>0</td>\n",
       "      <td>1</td>\n",
       "      <td>0</td>\n",
       "      <td>0</td>\n",
       "    </tr>\n",
       "  </tbody>\n",
       "</table>\n",
       "<p>124341 rows × 12 columns</p>\n",
       "</div>"
      ],
      "text/plain": [
       "                id  year  manufacturer  condition  cylinders  fuel  odometer  \\\n",
       "0       7313399730     5            16          6          3     2     28898   \n",
       "1       7308035814     6             6          2          8     2     41147   \n",
       "2       7317063645    17            38          0          5     2    165500   \n",
       "3       7310376764     7            29          2          8     4     29430   \n",
       "4       7309848062     6             3          2          5     2     24238   \n",
       "...            ...   ...           ...        ...        ...   ...       ...   \n",
       "124336  7306681704     8            33          0          5     0    123000   \n",
       "124337  7315798680    16            30          6          8     2    150000   \n",
       "124338  7314818147     8            10          0          3     2     90430   \n",
       "124339  7308055654    22             7          6          8     2    137000   \n",
       "124340  7316383222     4             4          0          3     2     11431   \n",
       "\n",
       "        title_status  transmission  drive  type  paint_color  \n",
       "0                  0             0      1     9           12  \n",
       "1                  0             2      3     9            8  \n",
       "2                  0             0      3     5            5  \n",
       "3                  0             2      3     0           10  \n",
       "4                  0             0      3     9           10  \n",
       "...              ...           ...    ...   ...          ...  \n",
       "124336             0             0      2    13           10  \n",
       "124337             4             0      3    13           12  \n",
       "124338             0             0      1    13           10  \n",
       "124339             0             0      3    13           12  \n",
       "124340             0             0      1     0            0  \n",
       "\n",
       "[124341 rows x 12 columns]"
      ]
     },
     "execution_count": 140,
     "metadata": {},
     "output_type": "execute_result"
    }
   ],
   "source": [
    "test"
   ]
  },
  {
   "cell_type": "code",
   "execution_count": 141,
   "metadata": {},
   "outputs": [],
   "source": [
    "pred = regressor.predict(test[wanted_test_columns])"
   ]
  },
  {
   "cell_type": "code",
   "execution_count": 142,
   "metadata": {},
   "outputs": [
    {
     "data": {
      "text/plain": [
       "array([20131.95, 26382.7 ,  8999.75, ..., 12137.4 , 13176.35, 24871.35])"
      ]
     },
     "execution_count": 142,
     "metadata": {},
     "output_type": "execute_result"
    }
   ],
   "source": [
    "pred"
   ]
  },
  {
   "cell_type": "code",
   "execution_count": 145,
   "metadata": {},
   "outputs": [
    {
     "data": {
      "text/html": [
       "<div>\n",
       "<style scoped>\n",
       "    .dataframe tbody tr th:only-of-type {\n",
       "        vertical-align: middle;\n",
       "    }\n",
       "\n",
       "    .dataframe tbody tr th {\n",
       "        vertical-align: top;\n",
       "    }\n",
       "\n",
       "    .dataframe thead th {\n",
       "        text-align: right;\n",
       "    }\n",
       "</style>\n",
       "<table border=\"1\" class=\"dataframe\">\n",
       "  <thead>\n",
       "    <tr style=\"text-align: right;\">\n",
       "      <th></th>\n",
       "      <th>id</th>\n",
       "      <th>Target</th>\n",
       "    </tr>\n",
       "  </thead>\n",
       "  <tbody>\n",
       "    <tr>\n",
       "      <th>0</th>\n",
       "      <td>7313399730</td>\n",
       "      <td>0.0</td>\n",
       "    </tr>\n",
       "    <tr>\n",
       "      <th>1</th>\n",
       "      <td>7308035814</td>\n",
       "      <td>0.0</td>\n",
       "    </tr>\n",
       "    <tr>\n",
       "      <th>2</th>\n",
       "      <td>7317063645</td>\n",
       "      <td>0.0</td>\n",
       "    </tr>\n",
       "    <tr>\n",
       "      <th>3</th>\n",
       "      <td>7310376764</td>\n",
       "      <td>0.0</td>\n",
       "    </tr>\n",
       "    <tr>\n",
       "      <th>4</th>\n",
       "      <td>7309848062</td>\n",
       "      <td>0.0</td>\n",
       "    </tr>\n",
       "    <tr>\n",
       "      <th>...</th>\n",
       "      <td>...</td>\n",
       "      <td>...</td>\n",
       "    </tr>\n",
       "    <tr>\n",
       "      <th>124336</th>\n",
       "      <td>7306681704</td>\n",
       "      <td>0.0</td>\n",
       "    </tr>\n",
       "    <tr>\n",
       "      <th>124337</th>\n",
       "      <td>7315798680</td>\n",
       "      <td>0.0</td>\n",
       "    </tr>\n",
       "    <tr>\n",
       "      <th>124338</th>\n",
       "      <td>7314818147</td>\n",
       "      <td>0.0</td>\n",
       "    </tr>\n",
       "    <tr>\n",
       "      <th>124339</th>\n",
       "      <td>7308055654</td>\n",
       "      <td>0.0</td>\n",
       "    </tr>\n",
       "    <tr>\n",
       "      <th>124340</th>\n",
       "      <td>7316383222</td>\n",
       "      <td>0.0</td>\n",
       "    </tr>\n",
       "  </tbody>\n",
       "</table>\n",
       "<p>124341 rows × 2 columns</p>\n",
       "</div>"
      ],
      "text/plain": [
       "                id  Target\n",
       "0       7313399730     0.0\n",
       "1       7308035814     0.0\n",
       "2       7317063645     0.0\n",
       "3       7310376764     0.0\n",
       "4       7309848062     0.0\n",
       "...            ...     ...\n",
       "124336  7306681704     0.0\n",
       "124337  7315798680     0.0\n",
       "124338  7314818147     0.0\n",
       "124339  7308055654     0.0\n",
       "124340  7316383222     0.0\n",
       "\n",
       "[124341 rows x 2 columns]"
      ]
     },
     "execution_count": 145,
     "metadata": {},
     "output_type": "execute_result"
    }
   ],
   "source": [
    "submission =pd.read_csv('Sample_Submition.csv')\n",
    "submission"
   ]
  },
  {
   "cell_type": "code",
   "execution_count": 146,
   "metadata": {},
   "outputs": [
    {
     "data": {
      "text/html": [
       "<div>\n",
       "<style scoped>\n",
       "    .dataframe tbody tr th:only-of-type {\n",
       "        vertical-align: middle;\n",
       "    }\n",
       "\n",
       "    .dataframe tbody tr th {\n",
       "        vertical-align: top;\n",
       "    }\n",
       "\n",
       "    .dataframe thead th {\n",
       "        text-align: right;\n",
       "    }\n",
       "</style>\n",
       "<table border=\"1\" class=\"dataframe\">\n",
       "  <thead>\n",
       "    <tr style=\"text-align: right;\">\n",
       "      <th></th>\n",
       "      <th>id</th>\n",
       "      <th>Target</th>\n",
       "    </tr>\n",
       "  </thead>\n",
       "  <tbody>\n",
       "    <tr>\n",
       "      <th>0</th>\n",
       "      <td>7313399730</td>\n",
       "      <td>20131.95</td>\n",
       "    </tr>\n",
       "    <tr>\n",
       "      <th>1</th>\n",
       "      <td>7308035814</td>\n",
       "      <td>26382.70</td>\n",
       "    </tr>\n",
       "    <tr>\n",
       "      <th>2</th>\n",
       "      <td>7317063645</td>\n",
       "      <td>8999.75</td>\n",
       "    </tr>\n",
       "    <tr>\n",
       "      <th>3</th>\n",
       "      <td>7310376764</td>\n",
       "      <td>27586.95</td>\n",
       "    </tr>\n",
       "    <tr>\n",
       "      <th>4</th>\n",
       "      <td>7309848062</td>\n",
       "      <td>27587.95</td>\n",
       "    </tr>\n",
       "    <tr>\n",
       "      <th>...</th>\n",
       "      <td>...</td>\n",
       "      <td>...</td>\n",
       "    </tr>\n",
       "    <tr>\n",
       "      <th>124336</th>\n",
       "      <td>7306681704</td>\n",
       "      <td>35595.50</td>\n",
       "    </tr>\n",
       "    <tr>\n",
       "      <th>124337</th>\n",
       "      <td>7315798680</td>\n",
       "      <td>13495.80</td>\n",
       "    </tr>\n",
       "    <tr>\n",
       "      <th>124338</th>\n",
       "      <td>7314818147</td>\n",
       "      <td>12137.40</td>\n",
       "    </tr>\n",
       "    <tr>\n",
       "      <th>124339</th>\n",
       "      <td>7308055654</td>\n",
       "      <td>13176.35</td>\n",
       "    </tr>\n",
       "    <tr>\n",
       "      <th>124340</th>\n",
       "      <td>7316383222</td>\n",
       "      <td>24871.35</td>\n",
       "    </tr>\n",
       "  </tbody>\n",
       "</table>\n",
       "<p>124341 rows × 2 columns</p>\n",
       "</div>"
      ],
      "text/plain": [
       "                id    Target\n",
       "0       7313399730  20131.95\n",
       "1       7308035814  26382.70\n",
       "2       7317063645   8999.75\n",
       "3       7310376764  27586.95\n",
       "4       7309848062  27587.95\n",
       "...            ...       ...\n",
       "124336  7306681704  35595.50\n",
       "124337  7315798680  13495.80\n",
       "124338  7314818147  12137.40\n",
       "124339  7308055654  13176.35\n",
       "124340  7316383222  24871.35\n",
       "\n",
       "[124341 rows x 2 columns]"
      ]
     },
     "execution_count": 146,
     "metadata": {},
     "output_type": "execute_result"
    }
   ],
   "source": [
    "# Create a submisison dataframe and append the relevant columns\n",
    "submission = pd.DataFrame()\n",
    "submission['id'] = test['id']\n",
    "submission['Target'] =pred # our model predictions on the test dataset\n",
    "submission"
   ]
  },
  {
   "cell_type": "code",
   "execution_count": 147,
   "metadata": {},
   "outputs": [],
   "source": [
    "submission.to_csv('87_r2_submission.csv', index=False)"
   ]
  },
  {
   "cell_type": "code",
   "execution_count": 151,
   "metadata": {},
   "outputs": [],
   "source": [
    "from sklearn import metrics\n",
    "from sklearn.metrics import mean_squared_error, mean_absolute_error,  r2_score, mean_squared_log_error\n",
    "from sklearn.neighbors import KNeighborsRegressor\n",
    "from sklearn.tree import DecisionTreeRegressor\n",
    "from sklearn.ensemble import RandomForestRegressor\n",
    "from sklearn import datasets, linear_model\n",
    "from sklearn.model_selection import train_test_split\n",
    "from matplotlib import pyplot as plt\n",
    "from sklearn.ensemble import AdaBoostRegressor"
   ]
  },
  {
   "cell_type": "code",
   "execution_count": 153,
   "metadata": {},
   "outputs": [],
   "source": [
    "ABR = AdaBoostRegressor(\n",
    "    DecisionTreeRegressor(max_depth=24),\n",
    "    n_estimators=300,learning_rate=0.1)\n",
    "ABR.fit(X_train, y_train)\n",
    "y_pred = ABR.predict(X_test)"
   ]
  },
  {
   "cell_type": "code",
   "execution_count": 154,
   "metadata": {},
   "outputs": [
    {
     "data": {
      "text/plain": [
       "0.876347529001359"
      ]
     },
     "execution_count": 154,
     "metadata": {},
     "output_type": "execute_result"
    }
   ],
   "source": [
    "r2_score(y_test,y_pred)"
   ]
  },
  {
   "cell_type": "code",
   "execution_count": null,
   "metadata": {},
   "outputs": [],
   "source": []
  },
  {
   "cell_type": "code",
   "execution_count": 156,
   "metadata": {},
   "outputs": [],
   "source": [
    "pred = regressor.predict(test[wanted_test_columns])"
   ]
  },
  {
   "cell_type": "code",
   "execution_count": 157,
   "metadata": {},
   "outputs": [
    {
     "data": {
      "text/html": [
       "<div>\n",
       "<style scoped>\n",
       "    .dataframe tbody tr th:only-of-type {\n",
       "        vertical-align: middle;\n",
       "    }\n",
       "\n",
       "    .dataframe tbody tr th {\n",
       "        vertical-align: top;\n",
       "    }\n",
       "\n",
       "    .dataframe thead th {\n",
       "        text-align: right;\n",
       "    }\n",
       "</style>\n",
       "<table border=\"1\" class=\"dataframe\">\n",
       "  <thead>\n",
       "    <tr style=\"text-align: right;\">\n",
       "      <th></th>\n",
       "      <th>id</th>\n",
       "      <th>Target</th>\n",
       "    </tr>\n",
       "  </thead>\n",
       "  <tbody>\n",
       "    <tr>\n",
       "      <th>0</th>\n",
       "      <td>7313399730</td>\n",
       "      <td>20131.95</td>\n",
       "    </tr>\n",
       "    <tr>\n",
       "      <th>1</th>\n",
       "      <td>7308035814</td>\n",
       "      <td>26382.70</td>\n",
       "    </tr>\n",
       "    <tr>\n",
       "      <th>2</th>\n",
       "      <td>7317063645</td>\n",
       "      <td>8999.75</td>\n",
       "    </tr>\n",
       "    <tr>\n",
       "      <th>3</th>\n",
       "      <td>7310376764</td>\n",
       "      <td>27586.95</td>\n",
       "    </tr>\n",
       "    <tr>\n",
       "      <th>4</th>\n",
       "      <td>7309848062</td>\n",
       "      <td>27587.95</td>\n",
       "    </tr>\n",
       "    <tr>\n",
       "      <th>...</th>\n",
       "      <td>...</td>\n",
       "      <td>...</td>\n",
       "    </tr>\n",
       "    <tr>\n",
       "      <th>124336</th>\n",
       "      <td>7306681704</td>\n",
       "      <td>35595.50</td>\n",
       "    </tr>\n",
       "    <tr>\n",
       "      <th>124337</th>\n",
       "      <td>7315798680</td>\n",
       "      <td>13495.80</td>\n",
       "    </tr>\n",
       "    <tr>\n",
       "      <th>124338</th>\n",
       "      <td>7314818147</td>\n",
       "      <td>12137.40</td>\n",
       "    </tr>\n",
       "    <tr>\n",
       "      <th>124339</th>\n",
       "      <td>7308055654</td>\n",
       "      <td>13176.35</td>\n",
       "    </tr>\n",
       "    <tr>\n",
       "      <th>124340</th>\n",
       "      <td>7316383222</td>\n",
       "      <td>24871.35</td>\n",
       "    </tr>\n",
       "  </tbody>\n",
       "</table>\n",
       "<p>124341 rows × 2 columns</p>\n",
       "</div>"
      ],
      "text/plain": [
       "                id    Target\n",
       "0       7313399730  20131.95\n",
       "1       7308035814  26382.70\n",
       "2       7317063645   8999.75\n",
       "3       7310376764  27586.95\n",
       "4       7309848062  27587.95\n",
       "...            ...       ...\n",
       "124336  7306681704  35595.50\n",
       "124337  7315798680  13495.80\n",
       "124338  7314818147  12137.40\n",
       "124339  7308055654  13176.35\n",
       "124340  7316383222  24871.35\n",
       "\n",
       "[124341 rows x 2 columns]"
      ]
     },
     "execution_count": 157,
     "metadata": {},
     "output_type": "execute_result"
    }
   ],
   "source": [
    "# Create a submisison dataframe and append the relevant columns\n",
    "submission = pd.DataFrame()\n",
    "submission['id'] = test['id']\n",
    "submission['Target'] =pred # our model predictions on the test dataset\n",
    "submission"
   ]
  },
  {
   "cell_type": "code",
   "execution_count": 158,
   "metadata": {},
   "outputs": [],
   "source": [
    "submission.to_csv('876_submission.csv', index=False)"
   ]
  },
  {
   "cell_type": "code",
   "execution_count": null,
   "metadata": {},
   "outputs": [],
   "source": []
  }
 ],
 "metadata": {
  "kernelspec": {
   "display_name": "Python 3 (ipykernel)",
   "language": "python",
   "name": "python3"
  },
  "language_info": {
   "codemirror_mode": {
    "name": "ipython",
    "version": 3
   },
   "file_extension": ".py",
   "mimetype": "text/x-python",
   "name": "python",
   "nbconvert_exporter": "python",
   "pygments_lexer": "ipython3",
   "version": "3.9.13"
  }
 },
 "nbformat": 4,
 "nbformat_minor": 4
}
