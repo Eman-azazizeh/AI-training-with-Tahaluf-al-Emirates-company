{
 "cells": [
  {
   "cell_type": "code",
   "execution_count": 1,
   "id": "3a6df56f",
   "metadata": {
    "_cell_guid": "b1076dfc-b9ad-4769-8c92-a6c4dae69d19",
    "_uuid": "8f2839f25d086af736a60e9eeb907d3b93b6e0e5",
    "execution": {
     "iopub.execute_input": "2023-05-23T10:58:22.372457Z",
     "iopub.status.busy": "2023-05-23T10:58:22.371341Z",
     "iopub.status.idle": "2023-05-23T10:58:22.395158Z",
     "shell.execute_reply": "2023-05-23T10:58:22.393777Z"
    },
    "papermill": {
     "duration": 0.063846,
     "end_time": "2023-05-23T10:58:22.397893",
     "exception": false,
     "start_time": "2023-05-23T10:58:22.334047",
     "status": "completed"
    },
    "tags": []
   },
   "outputs": [],
   "source": [
    "# This Python 3 environment comes with many helpful analytics libraries installed\n",
    "# It is defined by the kaggle/python Docker image: https://github.com/kaggle/docker-python\n",
    "# For example, here's several helpful packages to load\n",
    "\n",
    "import numpy as np # linear algebra\n",
    "import pandas as pd # data processing, CSV file I/O (e.g. pd.read_csv)\n",
    "\n",
    "# Input data files are available in the read-only \"../input/\" directory\n",
    "# For example, running this (by clicking run or pressing Shift+Enter) will list all files under the input directory\n",
    "\n",
    "\n",
    "# You can write up to 20GB to the current directory (/kaggle/working/) that gets preserved as output when you create a version using \"Save & Run All\" \n",
    "# You can also write temporary files to /kaggle/temp/, but they won't be saved outside of the current session"
   ]
  },
  {
   "cell_type": "markdown",
   "id": "05c2e988",
   "metadata": {
    "papermill": {
     "duration": 0.037705,
     "end_time": "2023-05-23T10:58:22.478880",
     "exception": false,
     "start_time": "2023-05-23T10:58:22.441175",
     "status": "completed"
    },
    "tags": []
   },
   "source": [
    "# **Importing all the essential libraries**"
   ]
  },
  {
   "cell_type": "code",
   "execution_count": 2,
   "id": "2e1b5dad",
   "metadata": {
    "execution": {
     "iopub.execute_input": "2023-05-23T10:58:22.552487Z",
     "iopub.status.busy": "2023-05-23T10:58:22.551501Z",
     "iopub.status.idle": "2023-05-23T10:58:24.330037Z",
     "shell.execute_reply": "2023-05-23T10:58:24.328550Z"
    },
    "papermill": {
     "duration": 1.814123,
     "end_time": "2023-05-23T10:58:24.333270",
     "exception": false,
     "start_time": "2023-05-23T10:58:22.519147",
     "status": "completed"
    },
    "tags": []
   },
   "outputs": [],
   "source": [
    "import pandas as pd\n",
    "import numpy as np\n",
    "import matplotlib.pyplot as plt\n",
    "import seaborn as sns\n",
    "from sklearn.preprocessing import StandardScaler\n",
    "from sklearn.preprocessing import LabelEncoder\n",
    "from sklearn.preprocessing import OneHotEncoder\n",
    "from sklearn.preprocessing import OrdinalEncoder\n",
    "from sklearn.compose import ColumnTransformer"
   ]
  },
  {
   "cell_type": "code",
   "execution_count": 3,
   "id": "e9dba768",
   "metadata": {
    "execution": {
     "iopub.execute_input": "2023-05-23T10:58:24.395693Z",
     "iopub.status.busy": "2023-05-23T10:58:24.394583Z",
     "iopub.status.idle": "2023-05-23T10:59:11.669651Z",
     "shell.execute_reply": "2023-05-23T10:59:11.668182Z"
    },
    "papermill": {
     "duration": 47.310246,
     "end_time": "2023-05-23T10:59:11.673387",
     "exception": false,
     "start_time": "2023-05-23T10:58:24.363141",
     "status": "completed"
    },
    "tags": []
   },
   "outputs": [],
   "source": [
    "df = pd.read_csv('train.csv')"
   ]
  },
  {
   "cell_type": "markdown",
   "id": "d5ba665b",
   "metadata": {
    "papermill": {
     "duration": 0.029988,
     "end_time": "2023-05-23T10:59:11.735222",
     "exception": false,
     "start_time": "2023-05-23T10:59:11.705234",
     "status": "completed"
    },
    "tags": []
   },
   "source": [
    "# **Exploratory Data Analysis (EDA)**"
   ]
  },
  {
   "cell_type": "code",
   "execution_count": 4,
   "id": "a6a9de47",
   "metadata": {
    "execution": {
     "iopub.execute_input": "2023-05-23T10:59:11.799056Z",
     "iopub.status.busy": "2023-05-23T10:59:11.797833Z",
     "iopub.status.idle": "2023-05-23T10:59:11.875218Z",
     "shell.execute_reply": "2023-05-23T10:59:11.873769Z"
    },
    "papermill": {
     "duration": 0.112715,
     "end_time": "2023-05-23T10:59:11.878051",
     "exception": false,
     "start_time": "2023-05-23T10:59:11.765336",
     "status": "completed"
    },
    "tags": []
   },
   "outputs": [
    {
     "data": {
      "text/html": [
       "<div>\n",
       "<style scoped>\n",
       "    .dataframe tbody tr th:only-of-type {\n",
       "        vertical-align: middle;\n",
       "    }\n",
       "\n",
       "    .dataframe tbody tr th {\n",
       "        vertical-align: top;\n",
       "    }\n",
       "\n",
       "    .dataframe thead th {\n",
       "        text-align: right;\n",
       "    }\n",
       "</style>\n",
       "<table border=\"1\" class=\"dataframe\">\n",
       "  <thead>\n",
       "    <tr style=\"text-align: right;\">\n",
       "      <th></th>\n",
       "      <th>Unnamed: 0</th>\n",
       "      <th>id</th>\n",
       "      <th>year</th>\n",
       "      <th>manufacturer</th>\n",
       "      <th>model</th>\n",
       "      <th>condition</th>\n",
       "      <th>cylinders</th>\n",
       "      <th>fuel</th>\n",
       "      <th>odometer</th>\n",
       "      <th>title_status</th>\n",
       "      <th>transmission</th>\n",
       "      <th>drive</th>\n",
       "      <th>size</th>\n",
       "      <th>type</th>\n",
       "      <th>paint_color</th>\n",
       "      <th>state</th>\n",
       "      <th>lat</th>\n",
       "      <th>long</th>\n",
       "      <th>posting_date</th>\n",
       "      <th>price</th>\n",
       "    </tr>\n",
       "  </thead>\n",
       "  <tbody>\n",
       "    <tr>\n",
       "      <th>135573</th>\n",
       "      <td>210918</td>\n",
       "      <td>7302081916</td>\n",
       "      <td>2020.0</td>\n",
       "      <td>infiniti</td>\n",
       "      <td>q50 3.0t sport sedan 4d</td>\n",
       "      <td>good</td>\n",
       "      <td>6 cylinders</td>\n",
       "      <td>gas</td>\n",
       "      <td>23440.0</td>\n",
       "      <td>clean</td>\n",
       "      <td>other</td>\n",
       "      <td>rwd</td>\n",
       "      <td>NaN</td>\n",
       "      <td>sedan</td>\n",
       "      <td>blue</td>\n",
       "      <td>mn</td>\n",
       "      <td>44.010000</td>\n",
       "      <td>-92.470000</td>\n",
       "      <td>2021-04-05T10:41:11-0500</td>\n",
       "      <td>32590</td>\n",
       "    </tr>\n",
       "    <tr>\n",
       "      <th>270577</th>\n",
       "      <td>323994</td>\n",
       "      <td>7312441682</td>\n",
       "      <td>2018.0</td>\n",
       "      <td>ford</td>\n",
       "      <td>f-150</td>\n",
       "      <td>NaN</td>\n",
       "      <td>NaN</td>\n",
       "      <td>gas</td>\n",
       "      <td>44654.0</td>\n",
       "      <td>clean</td>\n",
       "      <td>automatic</td>\n",
       "      <td>4wd</td>\n",
       "      <td>NaN</td>\n",
       "      <td>pickup</td>\n",
       "      <td>white</td>\n",
       "      <td>pa</td>\n",
       "      <td>40.854573</td>\n",
       "      <td>-74.120219</td>\n",
       "      <td>2021-04-25T14:37:57-0400</td>\n",
       "      <td>0</td>\n",
       "    </tr>\n",
       "    <tr>\n",
       "      <th>242467</th>\n",
       "      <td>103708</td>\n",
       "      <td>7316880470</td>\n",
       "      <td>2007.0</td>\n",
       "      <td>hyundai</td>\n",
       "      <td>tucson</td>\n",
       "      <td>fair</td>\n",
       "      <td>6 cylinders</td>\n",
       "      <td>gas</td>\n",
       "      <td>207468.0</td>\n",
       "      <td>clean</td>\n",
       "      <td>automatic</td>\n",
       "      <td>fwd</td>\n",
       "      <td>mid-size</td>\n",
       "      <td>SUV</td>\n",
       "      <td>grey</td>\n",
       "      <td>fl</td>\n",
       "      <td>30.569430</td>\n",
       "      <td>-87.265520</td>\n",
       "      <td>2021-05-04T14:15:30-0500</td>\n",
       "      <td>1200</td>\n",
       "    </tr>\n",
       "    <tr>\n",
       "      <th>152400</th>\n",
       "      <td>221178</td>\n",
       "      <td>7313398866</td>\n",
       "      <td>2018.0</td>\n",
       "      <td>jeep</td>\n",
       "      <td>renegade upland edition</td>\n",
       "      <td>NaN</td>\n",
       "      <td>4 cylinders</td>\n",
       "      <td>gas</td>\n",
       "      <td>41651.0</td>\n",
       "      <td>clean</td>\n",
       "      <td>automatic</td>\n",
       "      <td>4wd</td>\n",
       "      <td>NaN</td>\n",
       "      <td>SUV</td>\n",
       "      <td>NaN</td>\n",
       "      <td>mt</td>\n",
       "      <td>47.696062</td>\n",
       "      <td>-116.781406</td>\n",
       "      <td>2021-04-27T11:07:56-0600</td>\n",
       "      <td>18498</td>\n",
       "    </tr>\n",
       "    <tr>\n",
       "      <th>195225</th>\n",
       "      <td>66036</td>\n",
       "      <td>7306054791</td>\n",
       "      <td>2019.0</td>\n",
       "      <td>hyundai</td>\n",
       "      <td>veloster 2.0 premium</td>\n",
       "      <td>good</td>\n",
       "      <td>NaN</td>\n",
       "      <td>gas</td>\n",
       "      <td>17787.0</td>\n",
       "      <td>clean</td>\n",
       "      <td>other</td>\n",
       "      <td>fwd</td>\n",
       "      <td>NaN</td>\n",
       "      <td>coupe</td>\n",
       "      <td>white</td>\n",
       "      <td>ca</td>\n",
       "      <td>33.786500</td>\n",
       "      <td>-84.445400</td>\n",
       "      <td>2021-04-13T03:30:45-0700</td>\n",
       "      <td>20990</td>\n",
       "    </tr>\n",
       "  </tbody>\n",
       "</table>\n",
       "</div>"
      ],
      "text/plain": [
       "        Unnamed: 0          id    year manufacturer                    model  \\\n",
       "135573      210918  7302081916  2020.0     infiniti  q50 3.0t sport sedan 4d   \n",
       "270577      323994  7312441682  2018.0         ford                    f-150   \n",
       "242467      103708  7316880470  2007.0      hyundai                   tucson   \n",
       "152400      221178  7313398866  2018.0         jeep  renegade upland edition   \n",
       "195225       66036  7306054791  2019.0      hyundai     veloster 2.0 premium   \n",
       "\n",
       "       condition    cylinders fuel  odometer title_status transmission drive  \\\n",
       "135573      good  6 cylinders  gas   23440.0        clean        other   rwd   \n",
       "270577       NaN          NaN  gas   44654.0        clean    automatic   4wd   \n",
       "242467      fair  6 cylinders  gas  207468.0        clean    automatic   fwd   \n",
       "152400       NaN  4 cylinders  gas   41651.0        clean    automatic   4wd   \n",
       "195225      good          NaN  gas   17787.0        clean        other   fwd   \n",
       "\n",
       "            size    type paint_color state        lat        long  \\\n",
       "135573       NaN   sedan        blue    mn  44.010000  -92.470000   \n",
       "270577       NaN  pickup       white    pa  40.854573  -74.120219   \n",
       "242467  mid-size     SUV        grey    fl  30.569430  -87.265520   \n",
       "152400       NaN     SUV         NaN    mt  47.696062 -116.781406   \n",
       "195225       NaN   coupe       white    ca  33.786500  -84.445400   \n",
       "\n",
       "                    posting_date  price  \n",
       "135573  2021-04-05T10:41:11-0500  32590  \n",
       "270577  2021-04-25T14:37:57-0400      0  \n",
       "242467  2021-05-04T14:15:30-0500   1200  \n",
       "152400  2021-04-27T11:07:56-0600  18498  \n",
       "195225  2021-04-13T03:30:45-0700  20990  "
      ]
     },
     "execution_count": 4,
     "metadata": {},
     "output_type": "execute_result"
    }
   ],
   "source": [
    "df.sample(5)"
   ]
  },
  {
   "cell_type": "code",
   "execution_count": 5,
   "id": "36656556",
   "metadata": {
    "execution": {
     "iopub.execute_input": "2023-05-23T10:59:11.943849Z",
     "iopub.status.busy": "2023-05-23T10:59:11.942566Z",
     "iopub.status.idle": "2023-05-23T10:59:11.949593Z",
     "shell.execute_reply": "2023-05-23T10:59:11.948643Z"
    },
    "papermill": {
     "duration": 0.042284,
     "end_time": "2023-05-23T10:59:11.951983",
     "exception": false,
     "start_time": "2023-05-23T10:59:11.909699",
     "status": "completed"
    },
    "tags": []
   },
   "outputs": [
    {
     "data": {
      "text/plain": [
       "(290129, 20)"
      ]
     },
     "execution_count": 5,
     "metadata": {},
     "output_type": "execute_result"
    }
   ],
   "source": [
    "df.shape"
   ]
  },
  {
   "cell_type": "code",
   "execution_count": 6,
   "id": "ee8a2089",
   "metadata": {
    "execution": {
     "iopub.execute_input": "2023-05-23T10:59:12.016723Z",
     "iopub.status.busy": "2023-05-23T10:59:12.015676Z",
     "iopub.status.idle": "2023-05-23T10:59:12.023791Z",
     "shell.execute_reply": "2023-05-23T10:59:12.022521Z"
    },
    "papermill": {
     "duration": 0.043921,
     "end_time": "2023-05-23T10:59:12.026634",
     "exception": false,
     "start_time": "2023-05-23T10:59:11.982713",
     "status": "completed"
    },
    "tags": []
   },
   "outputs": [
    {
     "data": {
      "text/plain": [
       "Index(['Unnamed: 0', 'id', 'year', 'manufacturer', 'model', 'condition',\n",
       "       'cylinders', 'fuel', 'odometer', 'title_status', 'transmission',\n",
       "       'drive', 'size', 'type', 'paint_color', 'state', 'lat', 'long',\n",
       "       'posting_date', 'price'],\n",
       "      dtype='object')"
      ]
     },
     "execution_count": 6,
     "metadata": {},
     "output_type": "execute_result"
    }
   ],
   "source": [
    "df.columns"
   ]
  },
  {
   "cell_type": "markdown",
   "id": "0309e143",
   "metadata": {
    "papermill": {
     "duration": 0.031427,
     "end_time": "2023-05-23T10:59:12.088783",
     "exception": false,
     "start_time": "2023-05-23T10:59:12.057356",
     "status": "completed"
    },
    "tags": []
   },
   "source": [
    "**Checking total missing values**"
   ]
  },
  {
   "cell_type": "code",
   "execution_count": 7,
   "id": "fb33bfde",
   "metadata": {
    "execution": {
     "iopub.execute_input": "2023-05-23T10:59:12.156058Z",
     "iopub.status.busy": "2023-05-23T10:59:12.155496Z",
     "iopub.status.idle": "2023-05-23T10:59:14.680899Z",
     "shell.execute_reply": "2023-05-23T10:59:14.679542Z"
    },
    "papermill": {
     "duration": 2.561981,
     "end_time": "2023-05-23T10:59:14.683803",
     "exception": false,
     "start_time": "2023-05-23T10:59:12.121822",
     "status": "completed"
    },
    "tags": []
   },
   "outputs": [
    {
     "data": {
      "text/plain": [
       "Unnamed: 0           0\n",
       "id                   0\n",
       "year                 0\n",
       "manufacturer     11342\n",
       "model                0\n",
       "condition       116104\n",
       "cylinders       119300\n",
       "fuel              1453\n",
       "odometer             0\n",
       "title_status      5066\n",
       "transmission         0\n",
       "drive            88087\n",
       "size            207684\n",
       "type             62596\n",
       "paint_color      87113\n",
       "state                0\n",
       "lat               4403\n",
       "long              4403\n",
       "posting_date         0\n",
       "price                0\n",
       "dtype: int64"
      ]
     },
     "execution_count": 7,
     "metadata": {},
     "output_type": "execute_result"
    }
   ],
   "source": [
    "df.isna().sum()"
   ]
  },
  {
   "cell_type": "code",
   "execution_count": 8,
   "id": "6321919b",
   "metadata": {
    "execution": {
     "iopub.execute_input": "2023-05-23T10:59:14.748851Z",
     "iopub.status.busy": "2023-05-23T10:59:14.748348Z",
     "iopub.status.idle": "2023-05-23T10:59:17.292277Z",
     "shell.execute_reply": "2023-05-23T10:59:17.290704Z"
    },
    "papermill": {
     "duration": 2.580453,
     "end_time": "2023-05-23T10:59:17.295473",
     "exception": false,
     "start_time": "2023-05-23T10:59:14.715020",
     "status": "completed"
    },
    "tags": []
   },
   "outputs": [
    {
     "name": "stdout",
     "output_type": "stream",
     "text": [
      "<class 'pandas.core.frame.DataFrame'>\n",
      "RangeIndex: 290129 entries, 0 to 290128\n",
      "Data columns (total 20 columns):\n",
      " #   Column        Non-Null Count   Dtype  \n",
      "---  ------        --------------   -----  \n",
      " 0   Unnamed: 0    290129 non-null  int64  \n",
      " 1   id            290129 non-null  int64  \n",
      " 2   year          290129 non-null  float64\n",
      " 3   manufacturer  278787 non-null  object \n",
      " 4   model         290129 non-null  object \n",
      " 5   condition     174025 non-null  object \n",
      " 6   cylinders     170829 non-null  object \n",
      " 7   fuel          288676 non-null  object \n",
      " 8   odometer      290129 non-null  float64\n",
      " 9   title_status  285063 non-null  object \n",
      " 10  transmission  290129 non-null  object \n",
      " 11  drive         202042 non-null  object \n",
      " 12  size          82445 non-null   object \n",
      " 13  type          227533 non-null  object \n",
      " 14  paint_color   203016 non-null  object \n",
      " 15  state         290129 non-null  object \n",
      " 16  lat           285726 non-null  float64\n",
      " 17  long          285726 non-null  float64\n",
      " 18  posting_date  290129 non-null  object \n",
      " 19  price         290129 non-null  int64  \n",
      "dtypes: float64(4), int64(3), object(13)\n",
      "memory usage: 44.3+ MB\n"
     ]
    }
   ],
   "source": [
    "df.info()"
   ]
  },
  {
   "cell_type": "markdown",
   "id": "c2daee8d",
   "metadata": {
    "papermill": {
     "duration": 0.031666,
     "end_time": "2023-05-23T10:59:17.358480",
     "exception": false,
     "start_time": "2023-05-23T10:59:17.326814",
     "status": "completed"
    },
    "tags": []
   },
   "source": [
    "# **Data Cleaning**"
   ]
  },
  {
   "cell_type": "markdown",
   "id": "8ba9af48",
   "metadata": {
    "papermill": {
     "duration": 0.031539,
     "end_time": "2023-05-23T10:59:17.422599",
     "exception": false,
     "start_time": "2023-05-23T10:59:17.391060",
     "status": "completed"
    },
    "tags": []
   },
   "source": [
    "**Extracting important features (Feature Selection)**"
   ]
  },
  {
   "cell_type": "code",
   "execution_count": 9,
   "id": "af35382b",
   "metadata": {
    "execution": {
     "iopub.execute_input": "2023-05-23T10:59:17.489035Z",
     "iopub.status.busy": "2023-05-23T10:59:17.488532Z",
     "iopub.status.idle": "2023-05-23T10:59:17.717109Z",
     "shell.execute_reply": "2023-05-23T10:59:17.716130Z"
    },
    "papermill": {
     "duration": 0.266023,
     "end_time": "2023-05-23T10:59:17.719450",
     "exception": false,
     "start_time": "2023-05-23T10:59:17.453427",
     "status": "completed"
    },
    "tags": []
   },
   "outputs": [],
   "source": [
    "df.drop(['id', 'Unnamed: 0', 'lat', 'long', 'posting_date', 'size', 'state'], axis=1, inplace=True)"
   ]
  },
  {
   "cell_type": "markdown",
   "id": "55d5cb54",
   "metadata": {
    "papermill": {
     "duration": 0.030714,
     "end_time": "2023-05-23T10:59:17.781334",
     "exception": false,
     "start_time": "2023-05-23T10:59:17.750620",
     "status": "completed"
    },
    "tags": []
   },
   "source": [
    "**Handling missing values**"
   ]
  },
  {
   "cell_type": "code",
   "execution_count": 10,
   "id": "021a5402",
   "metadata": {
    "execution": {
     "iopub.execute_input": "2023-05-23T10:59:17.845172Z",
     "iopub.status.busy": "2023-05-23T10:59:17.844651Z",
     "iopub.status.idle": "2023-05-23T10:59:19.258030Z",
     "shell.execute_reply": "2023-05-23T10:59:19.256824Z"
    },
    "papermill": {
     "duration": 1.448776,
     "end_time": "2023-05-23T10:59:19.260848",
     "exception": false,
     "start_time": "2023-05-23T10:59:17.812072",
     "status": "completed"
    },
    "tags": []
   },
   "outputs": [
    {
     "data": {
      "text/plain": [
       "year             0.000000\n",
       "manufacturer     3.909296\n",
       "model            0.000000\n",
       "condition       40.018061\n",
       "cylinders       41.119640\n",
       "fuel             0.500812\n",
       "odometer         0.000000\n",
       "title_status     1.746120\n",
       "transmission     0.000000\n",
       "drive           30.361322\n",
       "type            21.575230\n",
       "paint_color     30.025609\n",
       "price            0.000000\n",
       "dtype: float64"
      ]
     },
     "execution_count": 10,
     "metadata": {},
     "output_type": "execute_result"
    }
   ],
   "source": [
    "df.isna().sum()/df.shape[0]*100"
   ]
  },
  {
   "cell_type": "markdown",
   "id": "28e10f4c",
   "metadata": {
    "papermill": {
     "duration": 0.030728,
     "end_time": "2023-05-23T10:59:19.322886",
     "exception": false,
     "start_time": "2023-05-23T10:59:19.292158",
     "status": "completed"
    },
    "tags": []
   },
   "source": [
    "**We can see that \"year\", \"manufacturer\", \"model\", and \"odometer\" column has less than 5% of null values. So we can simply drop those rows which have null values in these two columns.**"
   ]
  },
  {
   "cell_type": "code",
   "execution_count": 11,
   "id": "3e7b20db",
   "metadata": {
    "execution": {
     "iopub.execute_input": "2023-05-23T10:59:19.387533Z",
     "iopub.status.busy": "2023-05-23T10:59:19.387041Z",
     "iopub.status.idle": "2023-05-23T10:59:19.759579Z",
     "shell.execute_reply": "2023-05-23T10:59:19.758212Z"
    },
    "papermill": {
     "duration": 0.408905,
     "end_time": "2023-05-23T10:59:19.762712",
     "exception": false,
     "start_time": "2023-05-23T10:59:19.353807",
     "status": "completed"
    },
    "tags": []
   },
   "outputs": [],
   "source": [
    "df = df.dropna(subset=['year', 'odometer', 'manufacturer', 'model'])"
   ]
  },
  {
   "cell_type": "markdown",
   "id": "6442b882",
   "metadata": {
    "papermill": {
     "duration": 0.030545,
     "end_time": "2023-05-23T10:59:19.824250",
     "exception": false,
     "start_time": "2023-05-23T10:59:19.793705",
     "status": "completed"
    },
    "tags": []
   },
   "source": [
    "**For all the missing values in other columns, we have just converted them in to a new category, \"unknown\"**"
   ]
  },
  {
   "cell_type": "code",
   "execution_count": 12,
   "id": "4d19ca4a",
   "metadata": {
    "execution": {
     "iopub.execute_input": "2023-05-23T10:59:19.888171Z",
     "iopub.status.busy": "2023-05-23T10:59:19.887683Z",
     "iopub.status.idle": "2023-05-23T10:59:21.370149Z",
     "shell.execute_reply": "2023-05-23T10:59:21.369005Z"
    },
    "papermill": {
     "duration": 1.518126,
     "end_time": "2023-05-23T10:59:21.373278",
     "exception": false,
     "start_time": "2023-05-23T10:59:19.855152",
     "status": "completed"
    },
    "tags": []
   },
   "outputs": [],
   "source": [
    "df.fillna('unknown', inplace=True)"
   ]
  },
  {
   "cell_type": "markdown",
   "id": "d50f838e",
   "metadata": {
    "papermill": {
     "duration": 0.030803,
     "end_time": "2023-05-23T10:59:21.435058",
     "exception": false,
     "start_time": "2023-05-23T10:59:21.404255",
     "status": "completed"
    },
    "tags": []
   },
   "source": [
    "**Handling duplicated values**"
   ]
  },
  {
   "cell_type": "code",
   "execution_count": 13,
   "id": "6b4e8dea",
   "metadata": {
    "execution": {
     "iopub.execute_input": "2023-05-23T10:59:21.500142Z",
     "iopub.status.busy": "2023-05-23T10:59:21.499526Z",
     "iopub.status.idle": "2023-05-23T10:59:22.041395Z",
     "shell.execute_reply": "2023-05-23T10:59:22.040039Z"
    },
    "papermill": {
     "duration": 0.57783,
     "end_time": "2023-05-23T10:59:22.044366",
     "exception": false,
     "start_time": "2023-05-23T10:59:21.466536",
     "status": "completed"
    },
    "tags": []
   },
   "outputs": [
    {
     "data": {
      "text/plain": [
       "104795"
      ]
     },
     "execution_count": 13,
     "metadata": {},
     "output_type": "execute_result"
    }
   ],
   "source": [
    "df.duplicated().sum()"
   ]
  },
  {
   "cell_type": "code",
   "execution_count": 14,
   "id": "12c0b2e0",
   "metadata": {
    "execution": {
     "iopub.execute_input": "2023-05-23T10:59:22.110717Z",
     "iopub.status.busy": "2023-05-23T10:59:22.110264Z",
     "iopub.status.idle": "2023-05-23T10:59:22.793493Z",
     "shell.execute_reply": "2023-05-23T10:59:22.792033Z"
    },
    "papermill": {
     "duration": 0.720856,
     "end_time": "2023-05-23T10:59:22.796775",
     "exception": false,
     "start_time": "2023-05-23T10:59:22.075919",
     "status": "completed"
    },
    "tags": []
   },
   "outputs": [],
   "source": [
    "df = df.drop_duplicates()"
   ]
  },
  {
   "cell_type": "code",
   "execution_count": 15,
   "id": "75186047",
   "metadata": {
    "execution": {
     "iopub.execute_input": "2023-05-23T10:59:22.861867Z",
     "iopub.status.busy": "2023-05-23T10:59:22.861428Z",
     "iopub.status.idle": "2023-05-23T10:59:22.869040Z",
     "shell.execute_reply": "2023-05-23T10:59:22.868061Z"
    },
    "papermill": {
     "duration": 0.043138,
     "end_time": "2023-05-23T10:59:22.871247",
     "exception": false,
     "start_time": "2023-05-23T10:59:22.828109",
     "status": "completed"
    },
    "tags": []
   },
   "outputs": [
    {
     "data": {
      "text/plain": [
       "(173992, 13)"
      ]
     },
     "execution_count": 15,
     "metadata": {},
     "output_type": "execute_result"
    }
   ],
   "source": [
    "df.shape"
   ]
  },
  {
   "cell_type": "markdown",
   "id": "ad167de0",
   "metadata": {
    "papermill": {
     "duration": 0.030711,
     "end_time": "2023-05-23T10:59:22.933063",
     "exception": false,
     "start_time": "2023-05-23T10:59:22.902352",
     "status": "completed"
    },
    "tags": []
   },
   "source": [
    "**Categorical data cleaning**"
   ]
  },
  {
   "cell_type": "code",
   "execution_count": 16,
   "id": "428c909f",
   "metadata": {
    "execution": {
     "iopub.execute_input": "2023-05-23T10:59:22.997459Z",
     "iopub.status.busy": "2023-05-23T10:59:22.996969Z",
     "iopub.status.idle": "2023-05-23T10:59:23.062277Z",
     "shell.execute_reply": "2023-05-23T10:59:23.060971Z"
    },
    "papermill": {
     "duration": 0.101445,
     "end_time": "2023-05-23T10:59:23.065442",
     "exception": false,
     "start_time": "2023-05-23T10:59:22.963997",
     "status": "completed"
    },
    "tags": []
   },
   "outputs": [],
   "source": [
    "manufacturer_values = df['manufacturer'].value_counts()"
   ]
  },
  {
   "cell_type": "code",
   "execution_count": 17,
   "id": "8107f6cf",
   "metadata": {
    "execution": {
     "iopub.execute_input": "2023-05-23T10:59:23.132653Z",
     "iopub.status.busy": "2023-05-23T10:59:23.132189Z",
     "iopub.status.idle": "2023-05-23T10:59:23.139372Z",
     "shell.execute_reply": "2023-05-23T10:59:23.138147Z"
    },
    "papermill": {
     "duration": 0.044931,
     "end_time": "2023-05-23T10:59:23.142690",
     "exception": false,
     "start_time": "2023-05-23T10:59:23.097759",
     "status": "completed"
    },
    "tags": []
   },
   "outputs": [
    {
     "name": "stdout",
     "output_type": "stream",
     "text": [
      "ford               30054\n",
      "chevrolet          23208\n",
      "toyota             15488\n",
      "honda              10682\n",
      "nissan              8982\n",
      "jeep                8505\n",
      "gmc                 6572\n",
      "ram                 6301\n",
      "dodge               5971\n",
      "bmw                 5713\n",
      "mercedes-benz       4791\n",
      "hyundai             4716\n",
      "subaru              4709\n",
      "volkswagen          4084\n",
      "kia                 3723\n",
      "lexus               3246\n",
      "chrysler            2911\n",
      "cadillac            2839\n",
      "audi                2736\n",
      "mazda               2395\n",
      "buick               2331\n",
      "acura               1976\n",
      "infiniti            1724\n",
      "lincoln             1502\n",
      "volvo               1343\n",
      "pontiac             1237\n",
      "mitsubishi          1206\n",
      "mini                1028\n",
      "rover                792\n",
      "porsche              652\n",
      "mercury              613\n",
      "saturn               553\n",
      "jaguar               543\n",
      "fiat                 313\n",
      "tesla                225\n",
      "alfa-romeo           175\n",
      "harley-davidson       55\n",
      "ferrari               38\n",
      "datsun                36\n",
      "aston-martin          17\n",
      "land rover             7\n",
      "Name: manufacturer, dtype: int64\n"
     ]
    }
   ],
   "source": [
    "print(manufacturer_values)"
   ]
  },
  {
   "cell_type": "code",
   "execution_count": 18,
   "id": "e679e4cd",
   "metadata": {
    "execution": {
     "iopub.execute_input": "2023-05-23T10:59:23.209223Z",
     "iopub.status.busy": "2023-05-23T10:59:23.208713Z",
     "iopub.status.idle": "2023-05-23T10:59:41.302727Z",
     "shell.execute_reply": "2023-05-23T10:59:41.301250Z"
    },
    "papermill": {
     "duration": 18.131776,
     "end_time": "2023-05-23T10:59:41.305991",
     "exception": false,
     "start_time": "2023-05-23T10:59:23.174215",
     "status": "completed"
    },
    "tags": []
   },
   "outputs": [],
   "source": [
    "df['manufacturer'] = df['manufacturer'].apply(lambda x: x if str(x) in manufacturer_values[:20] else 'others')"
   ]
  },
  {
   "cell_type": "code",
   "execution_count": 20,
   "id": "fe866cb7",
   "metadata": {
    "execution": {
     "iopub.execute_input": "2023-05-23T11:00:00.308996Z",
     "iopub.status.busy": "2023-05-23T11:00:00.308510Z",
     "iopub.status.idle": "2023-05-23T11:00:19.424196Z",
     "shell.execute_reply": "2023-05-23T11:00:19.422498Z"
    },
    "papermill": {
     "duration": 19.155726,
     "end_time": "2023-05-23T11:00:19.428637",
     "exception": false,
     "start_time": "2023-05-23T11:00:00.272911",
     "status": "completed"
    },
    "tags": []
   },
   "outputs": [],
   "source": [
    "model_values = df['model'].value_counts()\n",
    "df['model'] = df['model'].apply(lambda x: x if str(x) in model_values[:50] else 'others')"
   ]
  },
  {
   "cell_type": "code",
   "execution_count": 21,
   "id": "76b72361",
   "metadata": {
    "execution": {
     "iopub.execute_input": "2023-05-23T11:00:19.495555Z",
     "iopub.status.busy": "2023-05-23T11:00:19.495074Z",
     "iopub.status.idle": "2023-05-23T11:00:20.146048Z",
     "shell.execute_reply": "2023-05-23T11:00:20.144805Z"
    },
    "papermill": {
     "duration": 0.687446,
     "end_time": "2023-05-23T11:00:20.149108",
     "exception": false,
     "start_time": "2023-05-23T11:00:19.461662",
     "status": "completed"
    },
    "tags": []
   },
   "outputs": [
    {
     "name": "stdout",
     "output_type": "stream",
     "text": [
      "year 104\n",
      "manufacturer 21\n",
      "model 51\n",
      "condition 7\n",
      "cylinders 9\n",
      "fuel 6\n",
      "odometer 84767\n",
      "title_status 7\n",
      "transmission 3\n",
      "drive 4\n",
      "type 14\n",
      "paint_color 13\n",
      "price 13137\n"
     ]
    }
   ],
   "source": [
    "for i in df.columns:\n",
    "    print(i, len(df[i].value_counts().index))"
   ]
  },
  {
   "cell_type": "markdown",
   "id": "3e22726a",
   "metadata": {
    "papermill": {
     "duration": 0.031833,
     "end_time": "2023-05-23T11:00:20.214280",
     "exception": false,
     "start_time": "2023-05-23T11:00:20.182447",
     "status": "completed"
    },
    "tags": []
   },
   "source": [
    "**Numerical Data Cleaning**"
   ]
  },
  {
   "cell_type": "code",
   "execution_count": 22,
   "id": "ad163665",
   "metadata": {
    "execution": {
     "iopub.execute_input": "2023-05-23T11:00:20.282743Z",
     "iopub.status.busy": "2023-05-23T11:00:20.282241Z",
     "iopub.status.idle": "2023-05-23T11:00:20.359640Z",
     "shell.execute_reply": "2023-05-23T11:00:20.358128Z"
    },
    "papermill": {
     "duration": 0.114302,
     "end_time": "2023-05-23T11:00:20.362580",
     "exception": false,
     "start_time": "2023-05-23T11:00:20.248278",
     "status": "completed"
    },
    "tags": []
   },
   "outputs": [
    {
     "data": {
      "text/html": [
       "<div>\n",
       "<style scoped>\n",
       "    .dataframe tbody tr th:only-of-type {\n",
       "        vertical-align: middle;\n",
       "    }\n",
       "\n",
       "    .dataframe tbody tr th {\n",
       "        vertical-align: top;\n",
       "    }\n",
       "\n",
       "    .dataframe thead th {\n",
       "        text-align: right;\n",
       "    }\n",
       "</style>\n",
       "<table border=\"1\" class=\"dataframe\">\n",
       "  <thead>\n",
       "    <tr style=\"text-align: right;\">\n",
       "      <th></th>\n",
       "      <th>year</th>\n",
       "      <th>odometer</th>\n",
       "      <th>price</th>\n",
       "    </tr>\n",
       "  </thead>\n",
       "  <tbody>\n",
       "    <tr>\n",
       "      <th>count</th>\n",
       "      <td>173992.000000</td>\n",
       "      <td>1.739920e+05</td>\n",
       "      <td>1.739920e+05</td>\n",
       "    </tr>\n",
       "    <tr>\n",
       "      <th>mean</th>\n",
       "      <td>2010.187555</td>\n",
       "      <td>1.084867e+05</td>\n",
       "      <td>7.208073e+04</td>\n",
       "    </tr>\n",
       "    <tr>\n",
       "      <th>std</th>\n",
       "      <td>9.576491</td>\n",
       "      <td>2.165069e+05</td>\n",
       "      <td>1.238580e+07</td>\n",
       "    </tr>\n",
       "    <tr>\n",
       "      <th>min</th>\n",
       "      <td>1900.000000</td>\n",
       "      <td>0.000000e+00</td>\n",
       "      <td>0.000000e+00</td>\n",
       "    </tr>\n",
       "    <tr>\n",
       "      <th>25%</th>\n",
       "      <td>2007.000000</td>\n",
       "      <td>5.145975e+04</td>\n",
       "      <td>4.995000e+03</td>\n",
       "    </tr>\n",
       "    <tr>\n",
       "      <th>50%</th>\n",
       "      <td>2012.000000</td>\n",
       "      <td>9.890900e+04</td>\n",
       "      <td>1.050000e+04</td>\n",
       "    </tr>\n",
       "    <tr>\n",
       "      <th>75%</th>\n",
       "      <td>2016.000000</td>\n",
       "      <td>1.439505e+05</td>\n",
       "      <td>1.999900e+04</td>\n",
       "    </tr>\n",
       "    <tr>\n",
       "      <th>max</th>\n",
       "      <td>2022.000000</td>\n",
       "      <td>1.000000e+07</td>\n",
       "      <td>3.736929e+09</td>\n",
       "    </tr>\n",
       "  </tbody>\n",
       "</table>\n",
       "</div>"
      ],
      "text/plain": [
       "                year      odometer         price\n",
       "count  173992.000000  1.739920e+05  1.739920e+05\n",
       "mean     2010.187555  1.084867e+05  7.208073e+04\n",
       "std         9.576491  2.165069e+05  1.238580e+07\n",
       "min      1900.000000  0.000000e+00  0.000000e+00\n",
       "25%      2007.000000  5.145975e+04  4.995000e+03\n",
       "50%      2012.000000  9.890900e+04  1.050000e+04\n",
       "75%      2016.000000  1.439505e+05  1.999900e+04\n",
       "max      2022.000000  1.000000e+07  3.736929e+09"
      ]
     },
     "execution_count": 22,
     "metadata": {},
     "output_type": "execute_result"
    }
   ],
   "source": [
    "df.describe()"
   ]
  },
  {
   "cell_type": "markdown",
   "id": "5376fad9",
   "metadata": {
    "papermill": {
     "duration": 0.032617,
     "end_time": "2023-05-23T11:00:20.428048",
     "exception": false,
     "start_time": "2023-05-23T11:00:20.395431",
     "status": "completed"
    },
    "tags": []
   },
   "source": [
    "**Our dataset have lots of outliers. Outliers reduces the accuracy of a model. We have to detect outliers and remove them.**"
   ]
  },
  {
   "cell_type": "code",
   "execution_count": 23,
   "id": "68f38ce0",
   "metadata": {
    "execution": {
     "iopub.execute_input": "2023-05-23T11:00:20.494931Z",
     "iopub.status.busy": "2023-05-23T11:00:20.494215Z",
     "iopub.status.idle": "2023-05-23T11:00:20.515777Z",
     "shell.execute_reply": "2023-05-23T11:00:20.514457Z"
    },
    "papermill": {
     "duration": 0.058788,
     "end_time": "2023-05-23T11:00:20.518986",
     "exception": false,
     "start_time": "2023-05-23T11:00:20.460198",
     "status": "completed"
    },
    "tags": []
   },
   "outputs": [],
   "source": [
    "price_percentile25 = df['price'].quantile(0.25)\n",
    "price_percentile75 = df['price'].quantile(0.75)\n",
    "price_iqr = price_percentile75 - price_percentile25"
   ]
  },
  {
   "cell_type": "code",
   "execution_count": 24,
   "id": "8a801d28",
   "metadata": {
    "execution": {
     "iopub.execute_input": "2023-05-23T11:00:20.589055Z",
     "iopub.status.busy": "2023-05-23T11:00:20.587755Z",
     "iopub.status.idle": "2023-05-23T11:00:20.602894Z",
     "shell.execute_reply": "2023-05-23T11:00:20.601504Z"
    },
    "papermill": {
     "duration": 0.052854,
     "end_time": "2023-05-23T11:00:20.606448",
     "exception": false,
     "start_time": "2023-05-23T11:00:20.553594",
     "status": "completed"
    },
    "tags": []
   },
   "outputs": [],
   "source": [
    "price_upper_limit = price_percentile75 + 1.5 * price_iqr\n",
    "price_lower_limit = df['price'].quantile(0.15)"
   ]
  },
  {
   "cell_type": "code",
   "execution_count": 25,
   "id": "459cfc5e",
   "metadata": {
    "execution": {
     "iopub.execute_input": "2023-05-23T11:00:20.677647Z",
     "iopub.status.busy": "2023-05-23T11:00:20.676491Z",
     "iopub.status.idle": "2023-05-23T11:00:20.808089Z",
     "shell.execute_reply": "2023-05-23T11:00:20.806194Z"
    },
    "papermill": {
     "duration": 0.170925,
     "end_time": "2023-05-23T11:00:20.811318",
     "exception": false,
     "start_time": "2023-05-23T11:00:20.640393",
     "status": "completed"
    },
    "tags": []
   },
   "outputs": [],
   "source": [
    "new_df = df[(df['price'] < price_upper_limit) & (df['price'] > price_lower_limit)]"
   ]
  },
  {
   "cell_type": "code",
   "execution_count": 26,
   "id": "aa32ca59",
   "metadata": {
    "execution": {
     "iopub.execute_input": "2023-05-23T11:00:20.880430Z",
     "iopub.status.busy": "2023-05-23T11:00:20.879782Z",
     "iopub.status.idle": "2023-05-23T11:00:20.915528Z",
     "shell.execute_reply": "2023-05-23T11:00:20.913535Z"
    },
    "papermill": {
     "duration": 0.073774,
     "end_time": "2023-05-23T11:00:20.919047",
     "exception": false,
     "start_time": "2023-05-23T11:00:20.845273",
     "status": "completed"
    },
    "tags": []
   },
   "outputs": [],
   "source": [
    "odometer_percentile75 = df['odometer'].quantile(0.75)\n",
    "odometer_percentile25 = df['odometer'].quantile(0.25)\n",
    "odometer_iqr = odometer_percentile75 - odometer_percentile25\n",
    "odometer_upper_limit = odometer_percentile75 + 1.5 * odometer_iqr\n",
    "odometer_lower_limit = df['odometer'].quantile(0.05)"
   ]
  },
  {
   "cell_type": "code",
   "execution_count": 27,
   "id": "eb930e7f",
   "metadata": {
    "execution": {
     "iopub.execute_input": "2023-05-23T11:00:20.989155Z",
     "iopub.status.busy": "2023-05-23T11:00:20.988549Z",
     "iopub.status.idle": "2023-05-23T11:00:21.053917Z",
     "shell.execute_reply": "2023-05-23T11:00:21.052421Z"
    },
    "papermill": {
     "duration": 0.105244,
     "end_time": "2023-05-23T11:00:21.057407",
     "exception": false,
     "start_time": "2023-05-23T11:00:20.952163",
     "status": "completed"
    },
    "tags": []
   },
   "outputs": [],
   "source": [
    "new_df = new_df[(new_df['odometer'] < odometer_upper_limit) & (new_df['odometer'] > odometer_lower_limit)]"
   ]
  },
  {
   "cell_type": "code",
   "execution_count": 28,
   "id": "009b5326",
   "metadata": {
    "execution": {
     "iopub.execute_input": "2023-05-23T11:00:21.126081Z",
     "iopub.status.busy": "2023-05-23T11:00:21.124816Z",
     "iopub.status.idle": "2023-05-23T11:00:21.133824Z",
     "shell.execute_reply": "2023-05-23T11:00:21.132521Z"
    },
    "papermill": {
     "duration": 0.046698,
     "end_time": "2023-05-23T11:00:21.136573",
     "exception": false,
     "start_time": "2023-05-23T11:00:21.089875",
     "status": "completed"
    },
    "tags": []
   },
   "outputs": [
    {
     "data": {
      "text/plain": [
       "(133332, 13)"
      ]
     },
     "execution_count": 28,
     "metadata": {},
     "output_type": "execute_result"
    }
   ],
   "source": [
    "new_df.shape"
   ]
  },
  {
   "cell_type": "markdown",
   "id": "33fe4f3d",
   "metadata": {
    "papermill": {
     "duration": 0.032672,
     "end_time": "2023-05-23T11:00:21.201451",
     "exception": false,
     "start_time": "2023-05-23T11:00:21.168779",
     "status": "completed"
    },
    "tags": []
   },
   "source": [
    "# **Feature Engineering**"
   ]
  },
  {
   "cell_type": "code",
   "execution_count": 29,
   "id": "d73b049f",
   "metadata": {
    "execution": {
     "iopub.execute_input": "2023-05-23T11:00:21.270857Z",
     "iopub.status.busy": "2023-05-23T11:00:21.269222Z",
     "iopub.status.idle": "2023-05-23T11:00:21.301034Z",
     "shell.execute_reply": "2023-05-23T11:00:21.299818Z"
    },
    "papermill": {
     "duration": 0.069994,
     "end_time": "2023-05-23T11:00:21.304023",
     "exception": false,
     "start_time": "2023-05-23T11:00:21.234029",
     "status": "completed"
    },
    "tags": []
   },
   "outputs": [
    {
     "data": {
      "text/html": [
       "<div>\n",
       "<style scoped>\n",
       "    .dataframe tbody tr th:only-of-type {\n",
       "        vertical-align: middle;\n",
       "    }\n",
       "\n",
       "    .dataframe tbody tr th {\n",
       "        vertical-align: top;\n",
       "    }\n",
       "\n",
       "    .dataframe thead th {\n",
       "        text-align: right;\n",
       "    }\n",
       "</style>\n",
       "<table border=\"1\" class=\"dataframe\">\n",
       "  <thead>\n",
       "    <tr style=\"text-align: right;\">\n",
       "      <th></th>\n",
       "      <th>year</th>\n",
       "      <th>manufacturer</th>\n",
       "      <th>model</th>\n",
       "      <th>condition</th>\n",
       "      <th>cylinders</th>\n",
       "      <th>fuel</th>\n",
       "      <th>odometer</th>\n",
       "      <th>title_status</th>\n",
       "      <th>transmission</th>\n",
       "      <th>drive</th>\n",
       "      <th>type</th>\n",
       "      <th>paint_color</th>\n",
       "      <th>price</th>\n",
       "    </tr>\n",
       "  </thead>\n",
       "  <tbody>\n",
       "    <tr>\n",
       "      <th>220728</th>\n",
       "      <td>2005.0</td>\n",
       "      <td>ford</td>\n",
       "      <td>escape</td>\n",
       "      <td>unknown</td>\n",
       "      <td>unknown</td>\n",
       "      <td>gas</td>\n",
       "      <td>123589.0</td>\n",
       "      <td>clean</td>\n",
       "      <td>other</td>\n",
       "      <td>unknown</td>\n",
       "      <td>unknown</td>\n",
       "      <td>unknown</td>\n",
       "      <td>4450</td>\n",
       "    </tr>\n",
       "    <tr>\n",
       "      <th>50885</th>\n",
       "      <td>2002.0</td>\n",
       "      <td>audi</td>\n",
       "      <td>others</td>\n",
       "      <td>excellent</td>\n",
       "      <td>4 cylinders</td>\n",
       "      <td>gas</td>\n",
       "      <td>114000.0</td>\n",
       "      <td>clean</td>\n",
       "      <td>manual</td>\n",
       "      <td>4wd</td>\n",
       "      <td>sedan</td>\n",
       "      <td>grey</td>\n",
       "      <td>5995</td>\n",
       "    </tr>\n",
       "    <tr>\n",
       "      <th>165350</th>\n",
       "      <td>2016.0</td>\n",
       "      <td>chevrolet</td>\n",
       "      <td>others</td>\n",
       "      <td>excellent</td>\n",
       "      <td>6 cylinders</td>\n",
       "      <td>gas</td>\n",
       "      <td>134865.0</td>\n",
       "      <td>clean</td>\n",
       "      <td>automatic</td>\n",
       "      <td>4wd</td>\n",
       "      <td>truck</td>\n",
       "      <td>red</td>\n",
       "      <td>18699</td>\n",
       "    </tr>\n",
       "    <tr>\n",
       "      <th>60369</th>\n",
       "      <td>2009.0</td>\n",
       "      <td>honda</td>\n",
       "      <td>civic</td>\n",
       "      <td>unknown</td>\n",
       "      <td>unknown</td>\n",
       "      <td>gas</td>\n",
       "      <td>192295.0</td>\n",
       "      <td>clean</td>\n",
       "      <td>automatic</td>\n",
       "      <td>unknown</td>\n",
       "      <td>other</td>\n",
       "      <td>unknown</td>\n",
       "      <td>7995</td>\n",
       "    </tr>\n",
       "    <tr>\n",
       "      <th>62918</th>\n",
       "      <td>2011.0</td>\n",
       "      <td>audi</td>\n",
       "      <td>others</td>\n",
       "      <td>good</td>\n",
       "      <td>4 cylinders</td>\n",
       "      <td>gas</td>\n",
       "      <td>95380.0</td>\n",
       "      <td>clean</td>\n",
       "      <td>automatic</td>\n",
       "      <td>unknown</td>\n",
       "      <td>coupe</td>\n",
       "      <td>blue</td>\n",
       "      <td>3500</td>\n",
       "    </tr>\n",
       "  </tbody>\n",
       "</table>\n",
       "</div>"
      ],
      "text/plain": [
       "          year manufacturer   model  condition    cylinders fuel  odometer  \\\n",
       "220728  2005.0         ford  escape    unknown      unknown  gas  123589.0   \n",
       "50885   2002.0         audi  others  excellent  4 cylinders  gas  114000.0   \n",
       "165350  2016.0    chevrolet  others  excellent  6 cylinders  gas  134865.0   \n",
       "60369   2009.0        honda   civic    unknown      unknown  gas  192295.0   \n",
       "62918   2011.0         audi  others       good  4 cylinders  gas   95380.0   \n",
       "\n",
       "       title_status transmission    drive     type paint_color  price  \n",
       "220728        clean        other  unknown  unknown     unknown   4450  \n",
       "50885         clean       manual      4wd    sedan        grey   5995  \n",
       "165350        clean    automatic      4wd    truck         red  18699  \n",
       "60369         clean    automatic  unknown    other     unknown   7995  \n",
       "62918         clean    automatic  unknown    coupe        blue   3500  "
      ]
     },
     "execution_count": 29,
     "metadata": {},
     "output_type": "execute_result"
    }
   ],
   "source": [
    "new_df.sample(5)"
   ]
  },
  {
   "cell_type": "code",
   "execution_count": 30,
   "id": "ae1d1543",
   "metadata": {
    "execution": {
     "iopub.execute_input": "2023-05-23T11:00:21.374017Z",
     "iopub.status.busy": "2023-05-23T11:00:21.372590Z",
     "iopub.status.idle": "2023-05-23T11:00:21.382333Z",
     "shell.execute_reply": "2023-05-23T11:00:21.381094Z"
    },
    "papermill": {
     "duration": 0.048292,
     "end_time": "2023-05-23T11:00:21.385481",
     "exception": false,
     "start_time": "2023-05-23T11:00:21.337189",
     "status": "completed"
    },
    "tags": []
   },
   "outputs": [],
   "source": [
    "new_df['odometer'] = new_df['odometer'].astype(int)"
   ]
  },
  {
   "cell_type": "code",
   "execution_count": 31,
   "id": "3d7dddfb",
   "metadata": {
    "execution": {
     "iopub.execute_input": "2023-05-23T11:00:21.455929Z",
     "iopub.status.busy": "2023-05-23T11:00:21.455423Z",
     "iopub.status.idle": "2023-05-23T11:00:21.463785Z",
     "shell.execute_reply": "2023-05-23T11:00:21.462549Z"
    },
    "papermill": {
     "duration": 0.047428,
     "end_time": "2023-05-23T11:00:21.466543",
     "exception": false,
     "start_time": "2023-05-23T11:00:21.419115",
     "status": "completed"
    },
    "tags": []
   },
   "outputs": [],
   "source": [
    "new_df['year'] = new_df['year'].astype(int)"
   ]
  },
  {
   "cell_type": "code",
   "execution_count": 32,
   "id": "bf742d06",
   "metadata": {
    "execution": {
     "iopub.execute_input": "2023-05-23T11:00:21.536861Z",
     "iopub.status.busy": "2023-05-23T11:00:21.536360Z",
     "iopub.status.idle": "2023-05-23T11:00:29.625668Z",
     "shell.execute_reply": "2023-05-23T11:00:29.624181Z"
    },
    "papermill": {
     "duration": 8.128428,
     "end_time": "2023-05-23T11:00:29.629461",
     "exception": false,
     "start_time": "2023-05-23T11:00:21.501033",
     "status": "completed"
    },
    "tags": []
   },
   "outputs": [
    {
     "data": {
      "image/png": "[encoded data removed]",
      "text/plain": [
       "<Figure size 1200x900 with 1 Axes>"
      ]
     },
     "metadata": {},
     "output_type": "display_data"
    }
   ],
   "source": [
    "plt.rcParams[\"figure.autolayout\"] = True\n",
    "sns.set_palette('summer_r')\n",
    "plt.figure(figsize =(12,9))\n",
    "sns.barplot(y=new_df['price'],x=new_df['year'])\n",
    "plt.title(\"Price VS Year\",fontsize=20,fontweight ='bold')\n",
    "plt.xlabel('year',fontsize = 20)\n",
    "plt.xticks(rotation=60)\n",
    "plt.ylabel('price ',fontsize = 20)\n",
    "plt.tight_layout()\n",
    "plt.show()"
   ]
  },
  {
   "cell_type": "markdown",
   "id": "f6d3b160",
   "metadata": {
    "papermill": {
     "duration": 0.033381,
     "end_time": "2023-05-23T11:00:29.697320",
     "exception": false,
     "start_time": "2023-05-23T11:00:29.663939",
     "status": "completed"
    },
    "tags": []
   },
   "source": [
    "**We can see the car data before 1996 is quiet irrelevant with our current times data. So we are extracting all the car data available after 1996**"
   ]
  },
  {
   "cell_type": "code",
   "execution_count": 33,
   "id": "2528a9d7",
   "metadata": {
    "execution": {
     "iopub.execute_input": "2023-05-23T11:00:29.769586Z",
     "iopub.status.busy": "2023-05-23T11:00:29.768734Z",
     "iopub.status.idle": "2023-05-23T11:00:29.836147Z",
     "shell.execute_reply": "2023-05-23T11:00:29.834901Z"
    },
    "papermill": {
     "duration": 0.106902,
     "end_time": "2023-05-23T11:00:29.839260",
     "exception": false,
     "start_time": "2023-05-23T11:00:29.732358",
     "status": "completed"
    },
    "tags": []
   },
   "outputs": [
    {
     "data": {
      "text/plain": [
       "(127452, 13)"
      ]
     },
     "execution_count": 33,
     "metadata": {},
     "output_type": "execute_result"
    }
   ],
   "source": [
    "new_df = new_df[new_df['year'] > 1996]\n",
    "new_df.shape"
   ]
  },
  {
   "cell_type": "code",
   "execution_count": 34,
   "id": "13fbf74a",
   "metadata": {
    "execution": {
     "iopub.execute_input": "2023-05-23T11:00:29.910916Z",
     "iopub.status.busy": "2023-05-23T11:00:29.910127Z",
     "iopub.status.idle": "2023-05-23T11:00:30.014411Z",
     "shell.execute_reply": "2023-05-23T11:00:30.013160Z"
    },
    "papermill": {
     "duration": 0.143408,
     "end_time": "2023-05-23T11:00:30.017651",
     "exception": false,
     "start_time": "2023-05-23T11:00:29.874243",
     "status": "completed"
    },
    "tags": []
   },
   "outputs": [
    {
     "data": {
      "text/html": [
       "<div>\n",
       "<style scoped>\n",
       "    .dataframe tbody tr th:only-of-type {\n",
       "        vertical-align: middle;\n",
       "    }\n",
       "\n",
       "    .dataframe tbody tr th {\n",
       "        vertical-align: top;\n",
       "    }\n",
       "\n",
       "    .dataframe thead th {\n",
       "        text-align: right;\n",
       "    }\n",
       "</style>\n",
       "<table border=\"1\" class=\"dataframe\">\n",
       "  <thead>\n",
       "    <tr style=\"text-align: right;\">\n",
       "      <th></th>\n",
       "      <th>odometer</th>\n",
       "      <th>price</th>\n",
       "      <th>car_age</th>\n",
       "    </tr>\n",
       "  </thead>\n",
       "  <tbody>\n",
       "    <tr>\n",
       "      <th>count</th>\n",
       "      <td>127452.000000</td>\n",
       "      <td>127452.000000</td>\n",
       "      <td>127452.000000</td>\n",
       "    </tr>\n",
       "    <tr>\n",
       "      <th>mean</th>\n",
       "      <td>107395.390869</td>\n",
       "      <td>14782.161622</td>\n",
       "      <td>10.482346</td>\n",
       "    </tr>\n",
       "    <tr>\n",
       "      <th>std</th>\n",
       "      <td>55597.834227</td>\n",
       "      <td>9501.716942</td>\n",
       "      <td>5.080284</td>\n",
       "    </tr>\n",
       "    <tr>\n",
       "      <th>min</th>\n",
       "      <td>10449.000000</td>\n",
       "      <td>2962.000000</td>\n",
       "      <td>0.000000</td>\n",
       "    </tr>\n",
       "    <tr>\n",
       "      <th>25%</th>\n",
       "      <td>64577.750000</td>\n",
       "      <td>6995.000000</td>\n",
       "      <td>6.000000</td>\n",
       "    </tr>\n",
       "    <tr>\n",
       "      <th>50%</th>\n",
       "      <td>104627.500000</td>\n",
       "      <td>12000.000000</td>\n",
       "      <td>10.000000</td>\n",
       "    </tr>\n",
       "    <tr>\n",
       "      <th>75%</th>\n",
       "      <td>145035.500000</td>\n",
       "      <td>19998.000000</td>\n",
       "      <td>14.000000</td>\n",
       "    </tr>\n",
       "    <tr>\n",
       "      <th>max</th>\n",
       "      <td>282650.000000</td>\n",
       "      <td>42500.000000</td>\n",
       "      <td>25.000000</td>\n",
       "    </tr>\n",
       "  </tbody>\n",
       "</table>\n",
       "</div>"
      ],
      "text/plain": [
       "            odometer          price        car_age\n",
       "count  127452.000000  127452.000000  127452.000000\n",
       "mean   107395.390869   14782.161622      10.482346\n",
       "std     55597.834227    9501.716942       5.080284\n",
       "min     10449.000000    2962.000000       0.000000\n",
       "25%     64577.750000    6995.000000       6.000000\n",
       "50%    104627.500000   12000.000000      10.000000\n",
       "75%    145035.500000   19998.000000      14.000000\n",
       "max    282650.000000   42500.000000      25.000000"
      ]
     },
     "execution_count": 34,
     "metadata": {},
     "output_type": "execute_result"
    }
   ],
   "source": [
    "new_df['car_age'] = 2022 - new_df['year']\n",
    "new_df.drop(['year'], axis = 1, inplace = True)\n",
    "new_df.describe()"
   ]
  },
  {
   "cell_type": "markdown",
   "id": "96ca9746",
   "metadata": {
    "papermill": {
     "duration": 0.03495,
     "end_time": "2023-05-23T11:00:30.087134",
     "exception": false,
     "start_time": "2023-05-23T11:00:30.052184",
     "status": "completed"
    },
    "tags": []
   },
   "source": [
    "# **Data Visualization**"
   ]
  },
  {
   "cell_type": "code",
   "execution_count": 35,
   "id": "7ee4ebb9",
   "metadata": {
    "execution": {
     "iopub.execute_input": "2023-05-23T11:00:30.158686Z",
     "iopub.status.busy": "2023-05-23T11:00:30.158183Z",
     "iopub.status.idle": "2023-05-23T11:00:30.179828Z",
     "shell.execute_reply": "2023-05-23T11:00:30.178287Z"
    },
    "papermill": {
     "duration": 0.061375,
     "end_time": "2023-05-23T11:00:30.183007",
     "exception": false,
     "start_time": "2023-05-23T11:00:30.121632",
     "status": "completed"
    },
    "tags": []
   },
   "outputs": [],
   "source": [
    "sample_data = new_df.sample(100)"
   ]
  },
  {
   "cell_type": "code",
   "execution_count": 36,
   "id": "5b2fca07",
   "metadata": {
    "execution": {
     "iopub.execute_input": "2023-05-23T11:00:30.252846Z",
     "iopub.status.busy": "2023-05-23T11:00:30.252360Z",
     "iopub.status.idle": "2023-05-23T11:00:34.826554Z",
     "shell.execute_reply": "2023-05-23T11:00:34.825181Z"
    },
    "papermill": {
     "duration": 4.612653,
     "end_time": "2023-05-23T11:00:34.829365",
     "exception": false,
     "start_time": "2023-05-23T11:00:30.216712",
     "status": "completed"
    },
    "tags": []
   },
   "outputs": [
    {
     "data": {
      "image/png": "[encoded data removed]",
      "text/plain": [
       "<Figure size 750x750 with 12 Axes>"
      ]
     },
     "metadata": {},
     "output_type": "display_data"
    }
   ],
   "source": [
    "sns.pairplot(sample_data)\n",
    "plt.title('Figure 1: Pair Plot')\n",
    "plt.tight_layout()\n",
    "plt.savefig('Insight-Pair-Plot',dpi=None)\n",
    "plt.show()"
   ]
  },
  {
   "cell_type": "code",
   "execution_count": 37,
   "id": "238b1f81",
   "metadata": {
    "execution": {
     "iopub.execute_input": "2023-05-23T11:00:34.902721Z",
     "iopub.status.busy": "2023-05-23T11:00:34.902261Z",
     "iopub.status.idle": "2023-05-23T11:00:35.443656Z",
     "shell.execute_reply": "2023-05-23T11:00:35.442447Z"
    },
    "papermill": {
     "duration": 0.580588,
     "end_time": "2023-05-23T11:00:35.446175",
     "exception": false,
     "start_time": "2023-05-23T11:00:34.865587",
     "status": "completed"
    },
    "tags": []
   },
   "outputs": [
    {
     "data": {
      "text/plain": [
       "<AxesSubplot:>"
      ]
     },
     "execution_count": 37,
     "metadata": {},
     "output_type": "execute_result"
    },
    {
     "data": {
      "image/png": "[encoded data removed]",
      "text/plain": [
       "<Figure size 640x480 with 2 Axes>"
      ]
     },
     "metadata": {},
     "output_type": "display_data"
    }
   ],
   "source": [
    "sns.heatmap(new_df.corr(), annot=True)"
   ]
  },
  {
   "cell_type": "code",
   "execution_count": 38,
   "id": "6a36138b",
   "metadata": {
    "execution": {
     "iopub.execute_input": "2023-05-23T11:00:35.521051Z",
     "iopub.status.busy": "2023-05-23T11:00:35.520514Z",
     "iopub.status.idle": "2023-05-23T11:00:37.457180Z",
     "shell.execute_reply": "2023-05-23T11:00:37.455685Z"
    },
    "papermill": {
     "duration": 1.977829,
     "end_time": "2023-05-23T11:00:37.460187",
     "exception": false,
     "start_time": "2023-05-23T11:00:35.482358",
     "status": "completed"
    },
    "tags": []
   },
   "outputs": [
    {
     "name": "stderr",
     "output_type": "stream",
     "text": [
      "C:\\Users\\emana\\anaconda3\\lib\\site-packages\\seaborn\\distributions.py:2619: FutureWarning: `distplot` is a deprecated function and will be removed in a future version. Please adapt your code to use either `displot` (a figure-level function with similar flexibility) or `histplot` (an axes-level function for histograms).\n",
      "  warnings.warn(msg, FutureWarning)\n"
     ]
    },
    {
     "data": {
      "image/png": "[encoded data removed]",
      "text/plain": [
       "<Figure size 640x480 with 1 Axes>"
      ]
     },
     "metadata": {},
     "output_type": "display_data"
    }
   ],
   "source": [
    "sns.distplot(new_df.price)\n",
    "plt.tight_layout()\n",
    "plt.title(\"Distribution of price\")\n",
    "plt.savefig('Insight-Dist-Plot',dpi=None)\n",
    "plt.show()"
   ]
  },
  {
   "cell_type": "code",
   "execution_count": 39,
   "id": "96b4af7b",
   "metadata": {
    "execution": {
     "iopub.execute_input": "2023-05-23T11:00:37.537046Z",
     "iopub.status.busy": "2023-05-23T11:00:37.536295Z",
     "iopub.status.idle": "2023-05-23T11:00:43.488781Z",
     "shell.execute_reply": "2023-05-23T11:00:43.487488Z"
    },
    "papermill": {
     "duration": 5.994712,
     "end_time": "2023-05-23T11:00:43.491588",
     "exception": false,
     "start_time": "2023-05-23T11:00:37.496876",
     "status": "completed"
    },
    "tags": []
   },
   "outputs": [
    {
     "data": {
      "image/png": "[encoded data removed]",
      "text/plain": [
       "<Figure size 500x500 with 1 Axes>"
      ]
     },
     "metadata": {},
     "output_type": "display_data"
    }
   ],
   "source": [
    "fig,axs=plt.subplots()\n",
    "fig.set_size_inches(5,5)\n",
    "\n",
    "p1=sns.barplot(x='fuel',y='price',data=new_df,ax=axs)\n",
    "axs.set_title('Fuel vs Price')\n",
    "\n",
    "plt.savefig('Insight-Figure-1',dpi=None)\n",
    "plt.show()"
   ]
  },
  {
   "cell_type": "code",
   "execution_count": 40,
   "id": "a7760284",
   "metadata": {
    "execution": {
     "iopub.execute_input": "2023-05-23T11:00:43.568447Z",
     "iopub.status.busy": "2023-05-23T11:00:43.567665Z",
     "iopub.status.idle": "2023-05-23T11:00:49.700780Z",
     "shell.execute_reply": "2023-05-23T11:00:49.699223Z"
    },
    "papermill": {
     "duration": 6.174907,
     "end_time": "2023-05-23T11:00:49.703812",
     "exception": false,
     "start_time": "2023-05-23T11:00:43.528905",
     "status": "completed"
    },
    "tags": []
   },
   "outputs": [
    {
     "data": {
      "image/png": "[encoded data removed]",
      "text/plain": [
       "<Figure size 1000x500 with 1 Axes>"
      ]
     },
     "metadata": {},
     "output_type": "display_data"
    }
   ],
   "source": [
    "plt.figure(figsize=(10,5))\n",
    "sns.barplot(x='fuel',y='price',hue='condition',data=new_df)\n",
    "plt.title('Fuel + Condition vs Price')\n",
    "plt.savefig('Insight-Figure-2',dpi=None)\n",
    "plt.show()"
   ]
  },
  {
   "cell_type": "markdown",
   "id": "48550b39",
   "metadata": {
    "papermill": {
     "duration": 0.037497,
     "end_time": "2023-05-23T11:00:49.779743",
     "exception": false,
     "start_time": "2023-05-23T11:00:49.742246",
     "status": "completed"
    },
    "tags": []
   },
   "source": [
    "# **Data Preprocessing**"
   ]
  },
  {
   "cell_type": "code",
   "execution_count": 41,
   "id": "0e810085",
   "metadata": {
    "execution": {
     "iopub.execute_input": "2023-05-23T11:00:49.860125Z",
     "iopub.status.busy": "2023-05-23T11:00:49.859573Z",
     "iopub.status.idle": "2023-05-23T11:00:49.867909Z",
     "shell.execute_reply": "2023-05-23T11:00:49.866489Z"
    },
    "papermill": {
     "duration": 0.051332,
     "end_time": "2023-05-23T11:00:49.870686",
     "exception": false,
     "start_time": "2023-05-23T11:00:49.819354",
     "status": "completed"
    },
    "tags": []
   },
   "outputs": [
    {
     "data": {
      "text/plain": [
       "Index(['manufacturer', 'model', 'condition', 'cylinders', 'fuel', 'odometer',\n",
       "       'title_status', 'transmission', 'drive', 'type', 'paint_color', 'price',\n",
       "       'car_age'],\n",
       "      dtype='object')"
      ]
     },
     "execution_count": 41,
     "metadata": {},
     "output_type": "execute_result"
    }
   ],
   "source": [
    "new_df.columns"
   ]
  },
  {
   "cell_type": "markdown",
   "id": "d9ae7bbd",
   "metadata": {
    "papermill": {
     "duration": 0.038708,
     "end_time": "2023-05-23T11:00:49.947895",
     "exception": false,
     "start_time": "2023-05-23T11:00:49.909187",
     "status": "completed"
    },
    "tags": []
   },
   "source": []
  },
  {
   "cell_type": "code",
   "execution_count": 42,
   "id": "60eee9b3",
   "metadata": {
    "execution": {
     "iopub.execute_input": "2023-05-23T11:00:50.028142Z",
     "iopub.status.busy": "2023-05-23T11:00:50.026903Z",
     "iopub.status.idle": "2023-05-23T11:00:50.051349Z",
     "shell.execute_reply": "2023-05-23T11:00:50.049965Z"
    },
    "papermill": {
     "duration": 0.069175,
     "end_time": "2023-05-23T11:00:50.054702",
     "exception": false,
     "start_time": "2023-05-23T11:00:49.985527",
     "status": "completed"
    },
    "tags": []
   },
   "outputs": [],
   "source": [
    "final_df = new_df.copy()"
   ]
  },
  {
   "cell_type": "markdown",
   "id": "4e84b453",
   "metadata": {
    "papermill": {
     "duration": 0.039446,
     "end_time": "2023-05-23T11:00:50.133775",
     "exception": false,
     "start_time": "2023-05-23T11:00:50.094329",
     "status": "completed"
    },
    "tags": []
   },
   "source": [
    "**Creating encoder and implimenting them into pipeline**"
   ]
  },
  {
   "cell_type": "code",
   "execution_count": 43,
   "id": "10b8d29a",
   "metadata": {
    "execution": {
     "iopub.execute_input": "2023-05-23T11:00:50.214979Z",
     "iopub.status.busy": "2023-05-23T11:00:50.214499Z",
     "iopub.status.idle": "2023-05-23T11:00:50.219873Z",
     "shell.execute_reply": "2023-05-23T11:00:50.218613Z"
    },
    "papermill": {
     "duration": 0.048029,
     "end_time": "2023-05-23T11:00:50.222194",
     "exception": false,
     "start_time": "2023-05-23T11:00:50.174165",
     "status": "completed"
    },
    "tags": []
   },
   "outputs": [],
   "source": [
    "from sklearn.pipeline import Pipeline"
   ]
  },
  {
   "cell_type": "code",
   "execution_count": 44,
   "id": "3d170388",
   "metadata": {
    "execution": {
     "iopub.execute_input": "2023-05-23T11:00:50.301753Z",
     "iopub.status.busy": "2023-05-23T11:00:50.301293Z",
     "iopub.status.idle": "2023-05-23T11:00:50.307066Z",
     "shell.execute_reply": "2023-05-23T11:00:50.306069Z"
    },
    "papermill": {
     "duration": 0.049826,
     "end_time": "2023-05-23T11:00:50.310030",
     "exception": false,
     "start_time": "2023-05-23T11:00:50.260204",
     "status": "completed"
    },
    "tags": []
   },
   "outputs": [],
   "source": [
    "pipe_categorical = Pipeline(\n",
    "    steps = [('ordinal_encoder', OrdinalEncoder(categories = [[ 'salvage', 'fair', 'unknown', 'good', 'excellent', 'like new', 'new']])),\n",
    "             ('one_hot_encoder', OneHotEncoder(sparse = False, drop = 'first'))]\n",
    ")"
   ]
  },
  {
   "cell_type": "code",
   "execution_count": 45,
   "id": "6923b3b0",
   "metadata": {
    "execution": {
     "iopub.execute_input": "2023-05-23T11:00:50.394390Z",
     "iopub.status.busy": "2023-05-23T11:00:50.393492Z",
     "iopub.status.idle": "2023-05-23T11:00:50.398863Z",
     "shell.execute_reply": "2023-05-23T11:00:50.397918Z"
    },
    "papermill": {
     "duration": 0.050989,
     "end_time": "2023-05-23T11:00:50.401624",
     "exception": false,
     "start_time": "2023-05-23T11:00:50.350635",
     "status": "completed"
    },
    "tags": []
   },
   "outputs": [],
   "source": [
    "pipe_numerical = Pipeline(\n",
    "    steps = [('standard_scaler', StandardScaler())]\n",
    ")"
   ]
  },
  {
   "cell_type": "code",
   "execution_count": 46,
   "id": "dfdb9ead",
   "metadata": {
    "execution": {
     "iopub.execute_input": "2023-05-23T11:00:50.481265Z",
     "iopub.status.busy": "2023-05-23T11:00:50.480387Z",
     "iopub.status.idle": "2023-05-23T11:00:50.486703Z",
     "shell.execute_reply": "2023-05-23T11:00:50.485715Z"
    },
    "papermill": {
     "duration": 0.049569,
     "end_time": "2023-05-23T11:00:50.490001",
     "exception": false,
     "start_time": "2023-05-23T11:00:50.440432",
     "status": "completed"
    },
    "tags": []
   },
   "outputs": [],
   "source": [
    "column_transformer = ColumnTransformer(transformers = [\n",
    "    ('condition_pipe_trans', pipe_categorical['ordinal_encoder'], ['condition']),\n",
    "    ('categorical_pipe_trans', pipe_categorical['one_hot_encoder'], ['model', 'manufacturer', 'fuel', 'cylinders','title_status', 'transmission', 'drive', 'type', 'paint_color']),\n",
    "    ('numerical_pipe_trans', pipe_numerical, ['odometer'])\n",
    "])"
   ]
  },
  {
   "cell_type": "markdown",
   "id": "feef2976",
   "metadata": {
    "papermill": {
     "duration": 0.039116,
     "end_time": "2023-05-23T11:00:50.567860",
     "exception": false,
     "start_time": "2023-05-23T11:00:50.528744",
     "status": "completed"
    },
    "tags": []
   },
   "source": [
    "**Train-test-split**"
   ]
  },
  {
   "cell_type": "code",
   "execution_count": 47,
   "id": "4afcbc5c",
   "metadata": {
    "execution": {
     "iopub.execute_input": "2023-05-23T11:00:50.647470Z",
     "iopub.status.busy": "2023-05-23T11:00:50.646613Z",
     "iopub.status.idle": "2023-05-23T11:00:50.785789Z",
     "shell.execute_reply": "2023-05-23T11:00:50.784460Z"
    },
    "papermill": {
     "duration": 0.182766,
     "end_time": "2023-05-23T11:00:50.788932",
     "exception": false,
     "start_time": "2023-05-23T11:00:50.606166",
     "status": "completed"
    },
    "tags": []
   },
   "outputs": [],
   "source": [
    "from sklearn.model_selection import train_test_split"
   ]
  },
  {
   "cell_type": "code",
   "execution_count": 48,
   "id": "4f1b2533",
   "metadata": {
    "execution": {
     "iopub.execute_input": "2023-05-23T11:00:50.870395Z",
     "iopub.status.busy": "2023-05-23T11:00:50.869837Z",
     "iopub.status.idle": "2023-05-23T11:00:51.254713Z",
     "shell.execute_reply": "2023-05-23T11:00:51.253275Z"
    },
    "papermill": {
     "duration": 0.429448,
     "end_time": "2023-05-23T11:00:51.257840",
     "exception": false,
     "start_time": "2023-05-23T11:00:50.828392",
     "status": "completed"
    },
    "tags": []
   },
   "outputs": [],
   "source": [
    "X_train, X_test, y_train, y_test = train_test_split(final_df.drop(['price'], axis = 1), final_df['price'], random_state = 42, test_size = .2)"
   ]
  },
  {
   "cell_type": "code",
   "execution_count": 49,
   "id": "0467faaa",
   "metadata": {
    "execution": {
     "iopub.execute_input": "2023-05-23T11:00:51.340998Z",
     "iopub.status.busy": "2023-05-23T11:00:51.340471Z",
     "iopub.status.idle": "2023-05-23T11:00:52.984021Z",
     "shell.execute_reply": "2023-05-23T11:00:52.982640Z"
    },
    "papermill": {
     "duration": 1.691457,
     "end_time": "2023-05-23T11:00:52.987348",
     "exception": false,
     "start_time": "2023-05-23T11:00:51.295891",
     "status": "completed"
    },
    "tags": []
   },
   "outputs": [],
   "source": [
    "X_train_tnf = column_transformer.fit_transform(X_train)"
   ]
  },
  {
   "cell_type": "code",
   "execution_count": 50,
   "id": "d27a15f1",
   "metadata": {
    "execution": {
     "iopub.execute_input": "2023-05-23T11:00:53.066201Z",
     "iopub.status.busy": "2023-05-23T11:00:53.065418Z",
     "iopub.status.idle": "2023-05-23T11:00:53.442358Z",
     "shell.execute_reply": "2023-05-23T11:00:53.440910Z"
    },
    "papermill": {
     "duration": 0.420293,
     "end_time": "2023-05-23T11:00:53.445549",
     "exception": false,
     "start_time": "2023-05-23T11:00:53.025256",
     "status": "completed"
    },
    "tags": []
   },
   "outputs": [],
   "source": [
    "X_test_tnf = column_transformer.transform(X_test)"
   ]
  },
  {
   "cell_type": "code",
   "execution_count": 51,
   "id": "d6a24e91",
   "metadata": {
    "execution": {
     "iopub.execute_input": "2023-05-23T11:00:53.524981Z",
     "iopub.status.busy": "2023-05-23T11:00:53.524185Z",
     "iopub.status.idle": "2023-05-23T11:00:53.531284Z",
     "shell.execute_reply": "2023-05-23T11:00:53.530038Z"
    },
    "papermill": {
     "duration": 0.050327,
     "end_time": "2023-05-23T11:00:53.533659",
     "exception": false,
     "start_time": "2023-05-23T11:00:53.483332",
     "status": "completed"
    },
    "tags": []
   },
   "outputs": [
    {
     "name": "stdout",
     "output_type": "stream",
     "text": [
      "(101961, 121)\n",
      "(25491, 121)\n"
     ]
    }
   ],
   "source": [
    "print(pd.DataFrame(X_train_tnf).shape)\n",
    "print(pd.DataFrame(X_test_tnf).shape)"
   ]
  },
  {
   "cell_type": "markdown",
   "id": "49c4580c",
   "metadata": {
    "papermill": {
     "duration": 0.038169,
     "end_time": "2023-05-23T11:00:53.609175",
     "exception": false,
     "start_time": "2023-05-23T11:00:53.571006",
     "status": "completed"
    },
    "tags": []
   },
   "source": [
    "# **Model Training**"
   ]
  },
  {
   "cell_type": "code",
   "execution_count": 52,
   "id": "1c59525e",
   "metadata": {
    "execution": {
     "iopub.execute_input": "2023-05-23T11:00:53.688052Z",
     "iopub.status.busy": "2023-05-23T11:00:53.687287Z",
     "iopub.status.idle": "2023-05-23T11:00:55.957487Z",
     "shell.execute_reply": "2023-05-23T11:00:55.956145Z"
    },
    "papermill": {
     "duration": 2.313211,
     "end_time": "2023-05-23T11:00:55.960696",
     "exception": false,
     "start_time": "2023-05-23T11:00:53.647485",
     "status": "completed"
    },
    "tags": []
   },
   "outputs": [],
   "source": [
    "from sklearn.metrics import mean_squared_error, mean_absolute_error,  r2_score, mean_squared_log_error\n",
    "from sklearn.linear_model import LinearRegression\n",
    "from sklearn.linear_model import Ridge\n",
    "from sklearn.linear_model import LassoCV,RidgeCV\n",
    "from yellowbrick.regressor import AlphaSelection\n",
    "from sklearn.linear_model import Lasso\n",
    "from sklearn.neighbors import KNeighborsRegressor\n",
    "from sklearn.ensemble import RandomForestRegressor\n",
    "from sklearn.ensemble import BaggingRegressor\n",
    "from sklearn.tree import DecisionTreeRegressor\n",
    "from sklearn.svm import SVR\n",
    "from sklearn.ensemble import AdaBoostRegressor\n",
    "import xgboost as xgb\n",
    "import lightgbm as lgb\n",
    "import warnings\n",
    "warnings.filterwarnings('ignore')"
   ]
  },
  {
   "cell_type": "code",
   "execution_count": 53,
   "id": "54550055",
   "metadata": {
    "execution": {
     "iopub.execute_input": "2023-05-23T11:00:56.040723Z",
     "iopub.status.busy": "2023-05-23T11:00:56.040293Z",
     "iopub.status.idle": "2023-05-23T11:00:56.048906Z",
     "shell.execute_reply": "2023-05-23T11:00:56.048032Z"
    },
    "papermill": {
     "duration": 0.051775,
     "end_time": "2023-05-23T11:00:56.051256",
     "exception": false,
     "start_time": "2023-05-23T11:00:55.999481",
     "status": "completed"
    },
    "tags": []
   },
   "outputs": [],
   "source": [
    "def result(y_test, y_pred):\n",
    "    r=[]\n",
    "    r.append('%.4f' % r2_score(y_test,y_pred))\n",
    "    r.append('%.4f' % (r2_score(y_test,y_pred)*100))\n",
    "    r.append('%.2f' % mean_squared_error(y_test, y_pred))\n",
    "    r.append('%.2f' % mean_absolute_error(y_test, y_pred))\n",
    "    r.append('%.2f' % np.sqrt(mean_squared_error(y_test, y_pred)))\n",
    "    \n",
    "    return (r)\n",
    "\n",
    "#dataframe that store the performance of each model\n",
    "score_data = pd.DataFrame(index=['R2 Score', 'Accuracy(%)', 'Mean Squared Error', 'Mean Absolute Error', 'Root MSE'])"
   ]
  },
  {
   "cell_type": "markdown",
   "id": "d088ce4e",
   "metadata": {
    "papermill": {
     "duration": 0.037612,
     "end_time": "2023-05-23T11:00:56.126928",
     "exception": false,
     "start_time": "2023-05-23T11:00:56.089316",
     "status": "completed"
    },
    "tags": []
   },
   "source": [
    "**Linear Regression**"
   ]
  },
  {
   "cell_type": "code",
   "execution_count": 54,
   "id": "e9ba648a",
   "metadata": {
    "execution": {
     "iopub.execute_input": "2023-05-23T11:00:56.205008Z",
     "iopub.status.busy": "2023-05-23T11:00:56.203586Z",
     "iopub.status.idle": "2023-05-23T11:01:01.719373Z",
     "shell.execute_reply": "2023-05-23T11:01:01.717698Z"
    },
    "papermill": {
     "duration": 5.560701,
     "end_time": "2023-05-23T11:01:01.725061",
     "exception": false,
     "start_time": "2023-05-23T11:00:56.164360",
     "status": "completed"
    },
    "tags": []
   },
   "outputs": [],
   "source": [
    "LR = LinearRegression()\n",
    "LR.fit(X_train_tnf, y_train)\n",
    "y_pred = LR.predict(X_test_tnf)"
   ]
  },
  {
   "cell_type": "code",
   "execution_count": 55,
   "id": "91b464df",
   "metadata": {
    "execution": {
     "iopub.execute_input": "2023-05-23T11:01:01.870930Z",
     "iopub.status.busy": "2023-05-23T11:01:01.870461Z",
     "iopub.status.idle": "2023-05-23T11:01:01.886688Z",
     "shell.execute_reply": "2023-05-23T11:01:01.884995Z"
    },
    "papermill": {
     "duration": 0.06385,
     "end_time": "2023-05-23T11:01:01.889506",
     "exception": false,
     "start_time": "2023-05-23T11:01:01.825656",
     "status": "completed"
    },
    "tags": []
   },
   "outputs": [
    {
     "name": "stdout",
     "output_type": "stream",
     "text": [
      "R2_score:  0.5964\n",
      "Mean squared error:  36036385.43\n",
      "Mean absolute error:  4589.26\n",
      "Root mean squared error:  6003.03\n"
     ]
    }
   ],
   "source": [
    "R2_score = r2_score(y_test, y_pred)*100\n",
    "score_lr = result(y_test, y_pred)\n",
    "score_data['Linear Regression'] = score_lr\n",
    "print('R2_score: ', score_lr[0])\n",
    "print('Mean squared error: ', score_lr[2])\n",
    "print('Mean absolute error: ', score_lr[3])\n",
    "print('Root mean squared error: ', score_lr[4])"
   ]
  },
  {
   "cell_type": "markdown",
   "id": "1d733b3a",
   "metadata": {
    "papermill": {
     "duration": 0.037649,
     "end_time": "2023-05-23T11:01:01.965092",
     "exception": false,
     "start_time": "2023-05-23T11:01:01.927443",
     "status": "completed"
    },
    "tags": []
   },
   "source": [
    "**Ridge Regression**"
   ]
  },
  {
   "cell_type": "code",
   "execution_count": 56,
   "id": "4b691736",
   "metadata": {
    "execution": {
     "iopub.execute_input": "2023-05-23T11:01:02.043359Z",
     "iopub.status.busy": "2023-05-23T11:01:02.042117Z",
     "iopub.status.idle": "2023-05-23T11:01:02.622052Z",
     "shell.execute_reply": "2023-05-23T11:01:02.619801Z"
    },
    "papermill": {
     "duration": 0.624426,
     "end_time": "2023-05-23T11:01:02.627182",
     "exception": false,
     "start_time": "2023-05-23T11:01:02.002756",
     "status": "completed"
    },
    "tags": []
   },
   "outputs": [],
   "source": [
    "RR = Ridge(alpha=20.336, solver='auto')\n",
    "RR.fit(X_train_tnf, y_train)\n",
    "y_pred = RR.predict(X_test_tnf)"
   ]
  },
  {
   "cell_type": "code",
   "execution_count": 57,
   "id": "53ae6ba6",
   "metadata": {
    "execution": {
     "iopub.execute_input": "2023-05-23T11:01:02.775696Z",
     "iopub.status.busy": "2023-05-23T11:01:02.775225Z",
     "iopub.status.idle": "2023-05-23T11:01:02.790852Z",
     "shell.execute_reply": "2023-05-23T11:01:02.789911Z"
    },
    "papermill": {
     "duration": 0.058356,
     "end_time": "2023-05-23T11:01:02.793564",
     "exception": false,
     "start_time": "2023-05-23T11:01:02.735208",
     "status": "completed"
    },
    "tags": []
   },
   "outputs": [
    {
     "name": "stdout",
     "output_type": "stream",
     "text": [
      "R2 score:  0.5960\n",
      "Mean squared error:  36074514.03\n",
      "Mean absolute error:  4592.39\n",
      "Root mean squared error:  6006.21\n"
     ]
    }
   ],
   "source": [
    "score_rr = result(y_test, y_pred)\n",
    "score_data['Ridge Regression'] = score_rr\n",
    "print('R2 score: ', score_rr[0])\n",
    "print('Mean squared error: ', score_rr[2])\n",
    "print('Mean absolute error: ', score_rr[3])\n",
    "print('Root mean squared error: ', score_rr[4])"
   ]
  },
  {
   "cell_type": "markdown",
   "id": "afae2394",
   "metadata": {
    "papermill": {
     "duration": 0.039209,
     "end_time": "2023-05-23T11:01:02.871789",
     "exception": false,
     "start_time": "2023-05-23T11:01:02.832580",
     "status": "completed"
    },
    "tags": []
   },
   "source": [
    "**K-Nearest Neighbour**"
   ]
  },
  {
   "cell_type": "code",
   "execution_count": 58,
   "id": "28eb0673",
   "metadata": {
    "execution": {
     "iopub.execute_input": "2023-05-23T11:01:02.952156Z",
     "iopub.status.busy": "2023-05-23T11:01:02.951245Z",
     "iopub.status.idle": "2023-05-23T11:02:20.748439Z",
     "shell.execute_reply": "2023-05-23T11:02:20.747246Z"
    },
    "papermill": {
     "duration": 77.840899,
     "end_time": "2023-05-23T11:02:20.751683",
     "exception": false,
     "start_time": "2023-05-23T11:01:02.910784",
     "status": "completed"
    },
    "tags": []
   },
   "outputs": [],
   "source": [
    "KNN = KNeighborsRegressor(n_neighbors=5) \n",
    "KNN.fit(X_train_tnf, y_train)\n",
    "y_pred = KNN.predict(X_test_tnf)"
   ]
  },
  {
   "cell_type": "code",
   "execution_count": 59,
   "id": "f3003f05",
   "metadata": {
    "execution": {
     "iopub.execute_input": "2023-05-23T11:02:20.833234Z",
     "iopub.status.busy": "2023-05-23T11:02:20.831883Z",
     "iopub.status.idle": "2023-05-23T11:02:20.844768Z",
     "shell.execute_reply": "2023-05-23T11:02:20.843785Z"
    },
    "papermill": {
     "duration": 0.055764,
     "end_time": "2023-05-23T11:02:20.847699",
     "exception": false,
     "start_time": "2023-05-23T11:02:20.791935",
     "status": "completed"
    },
    "tags": []
   },
   "outputs": [
    {
     "name": "stdout",
     "output_type": "stream",
     "text": [
      "R2 score:  0.6423\n",
      "Mean squared error:  31935527.74\n",
      "Mean absolute error:  4077.01\n",
      "Root mean squared error:  5651.15\n"
     ]
    }
   ],
   "source": [
    "score_knn = result(y_test, y_pred)\n",
    "score_data['K-Nearest Neighbour'] = score_knn\n",
    "print('R2 score: ', score_knn[0])\n",
    "print('Mean squared error: ', score_knn[2])\n",
    "print('Mean absolute error: ', score_knn[3])\n",
    "print('Root mean squared error: ', score_knn[4])"
   ]
  },
  {
   "cell_type": "markdown",
   "id": "cd7a3aae",
   "metadata": {
    "papermill": {
     "duration": 0.038385,
     "end_time": "2023-05-23T11:02:20.925859",
     "exception": false,
     "start_time": "2023-05-23T11:02:20.887474",
     "status": "completed"
    },
    "tags": []
   },
   "source": [
    "**Random Forest Regression**"
   ]
  },
  {
   "cell_type": "code",
   "execution_count": 60,
   "id": "1d93b1a8",
   "metadata": {
    "execution": {
     "iopub.execute_input": "2023-05-23T11:02:21.006294Z",
     "iopub.status.busy": "2023-05-23T11:02:21.005060Z",
     "iopub.status.idle": "2023-05-23T11:07:16.005699Z",
     "shell.execute_reply": "2023-05-23T11:07:16.004644Z"
    },
    "papermill": {
     "duration": 295.043917,
     "end_time": "2023-05-23T11:07:16.008840",
     "exception": false,
     "start_time": "2023-05-23T11:02:20.964923",
     "status": "completed"
    },
    "tags": []
   },
   "outputs": [],
   "source": [
    "RFR = RandomForestRegressor(n_estimators=150,random_state=0, min_samples_leaf=1, max_features=0.3, n_jobs=-1, oob_score=True)\n",
    "RFR.fit(X_train_tnf, y_train)\n",
    "y_pred = RFR.predict(X_test_tnf)"
   ]
  },
  {
   "cell_type": "code",
   "execution_count": 61,
   "id": "a3c5116f",
   "metadata": {
    "execution": {
     "iopub.execute_input": "2023-05-23T11:07:16.089658Z",
     "iopub.status.busy": "2023-05-23T11:07:16.088432Z",
     "iopub.status.idle": "2023-05-23T11:07:16.100948Z",
     "shell.execute_reply": "2023-05-23T11:07:16.099864Z"
    },
    "papermill": {
     "duration": 0.055202,
     "end_time": "2023-05-23T11:07:16.103483",
     "exception": false,
     "start_time": "2023-05-23T11:07:16.048281",
     "status": "completed"
    },
    "tags": []
   },
   "outputs": [
    {
     "name": "stdout",
     "output_type": "stream",
     "text": [
      "R2 score:  0.6936\n",
      "Mean squared error:  27356724.44\n",
      "Mean absolute error:  3715.90\n",
      "Root mean squared error:  5230.37\n"
     ]
    }
   ],
   "source": [
    "score_rfr = result(y_test, y_pred)\n",
    "score_data['Random Forest Regression'] = score_rfr\n",
    "print('R2 score: ', score_rfr[0])\n",
    "print('Mean squared error: ', score_rfr[2])\n",
    "print('Mean absolute error: ', score_rfr[3])\n",
    "print('Root mean squared error: ', score_rfr[4])"
   ]
  },
  {
   "cell_type": "markdown",
   "id": "5c4bba29",
   "metadata": {
    "papermill": {
     "duration": 0.03915,
     "end_time": "2023-05-23T11:07:16.180685",
     "exception": false,
     "start_time": "2023-05-23T11:07:16.141535",
     "status": "completed"
    },
    "tags": []
   },
   "source": [
    "**Bagging Regressor**"
   ]
  },
  {
   "cell_type": "code",
   "execution_count": 62,
   "id": "30d9c37b",
   "metadata": {
    "execution": {
     "iopub.execute_input": "2023-05-23T11:07:16.260019Z",
     "iopub.status.busy": "2023-05-23T11:07:16.259458Z",
     "iopub.status.idle": "2023-05-23T11:11:48.065616Z",
     "shell.execute_reply": "2023-05-23T11:11:48.064282Z"
    },
    "papermill": {
     "duration": 271.84968,
     "end_time": "2023-05-23T11:11:48.068834",
     "exception": false,
     "start_time": "2023-05-23T11:07:16.219154",
     "status": "completed"
    },
    "tags": []
   },
   "outputs": [],
   "source": [
    "baggReg = BaggingRegressor(base_estimator=DecisionTreeRegressor(max_depth=20),n_estimators=50, random_state=1,\n",
    "                         max_samples=1.0, max_features=1.0, bootstrap=False, \n",
    "                         bootstrap_features=False, oob_score=False, warm_start=False, n_jobs=-1, verbose=0)\n",
    "baggReg.fit(X_train_tnf, y_train)\n",
    "y_pred = baggReg.predict(X_test_tnf)"
   ]
  },
  {
   "cell_type": "code",
   "execution_count": 63,
   "id": "115d754b",
   "metadata": {
    "execution": {
     "iopub.execute_input": "2023-05-23T11:11:48.149864Z",
     "iopub.status.busy": "2023-05-23T11:11:48.148503Z",
     "iopub.status.idle": "2023-05-23T11:11:48.162461Z",
     "shell.execute_reply": "2023-05-23T11:11:48.161138Z"
    },
    "papermill": {
     "duration": 0.057285,
     "end_time": "2023-05-23T11:11:48.165443",
     "exception": false,
     "start_time": "2023-05-23T11:11:48.108158",
     "status": "completed"
    },
    "tags": []
   },
   "outputs": [
    {
     "name": "stdout",
     "output_type": "stream",
     "text": [
      "R2 score:  0.5816\n",
      "Mean squared error:  37361668.17\n",
      "Mean absolute error:  4320.02\n",
      "Root mean squared error:  6112.42\n"
     ]
    }
   ],
   "source": [
    "score_bagg = result(y_test, y_pred)\n",
    "score_data['Bagging Regressor'] = score_bagg\n",
    "print('R2 score: ', score_bagg[0])\n",
    "print('Mean squared error: ', score_bagg[2])\n",
    "print('Mean absolute error: ', score_bagg[3])\n",
    "print('Root mean squared error: ', score_bagg[4])"
   ]
  },
  {
   "cell_type": "markdown",
   "id": "c024fe32",
   "metadata": {
    "papermill": {
     "duration": 0.038017,
     "end_time": "2023-05-23T11:11:48.242074",
     "exception": false,
     "start_time": "2023-05-23T11:11:48.204057",
     "status": "completed"
    },
    "tags": []
   },
   "source": [
    "**Lasso Regression**"
   ]
  },
  {
   "cell_type": "code",
   "execution_count": 64,
   "id": "0455c563",
   "metadata": {
    "execution": {
     "iopub.execute_input": "2023-05-23T11:11:48.322540Z",
     "iopub.status.busy": "2023-05-23T11:11:48.322071Z",
     "iopub.status.idle": "2023-05-23T11:12:48.566596Z",
     "shell.execute_reply": "2023-05-23T11:12:48.564811Z"
    },
    "papermill": {
     "duration": 60.291237,
     "end_time": "2023-05-23T11:12:48.571522",
     "exception": false,
     "start_time": "2023-05-23T11:11:48.280285",
     "status": "completed"
    },
    "tags": []
   },
   "outputs": [],
   "source": [
    "lasso = Lasso(alpha=0.0001)\n",
    "lasso.fit(X_train_tnf, y_train)\n",
    "y_pred = lasso.predict(X_test_tnf)"
   ]
  },
  {
   "cell_type": "code",
   "execution_count": 65,
   "id": "8c42e739",
   "metadata": {
    "execution": {
     "iopub.execute_input": "2023-05-23T11:12:48.727097Z",
     "iopub.status.busy": "2023-05-23T11:12:48.726601Z",
     "iopub.status.idle": "2023-05-23T11:12:48.739429Z",
     "shell.execute_reply": "2023-05-23T11:12:48.738067Z"
    },
    "papermill": {
     "duration": 0.05606,
     "end_time": "2023-05-23T11:12:48.742319",
     "exception": false,
     "start_time": "2023-05-23T11:12:48.686259",
     "status": "completed"
    },
    "tags": []
   },
   "outputs": [
    {
     "name": "stdout",
     "output_type": "stream",
     "text": [
      "R2 score:  0.5964\n",
      "Mean squared error:  36036374.30\n",
      "Mean absolute error:  4589.26\n",
      "Root mean squared error:  6003.03\n"
     ]
    }
   ],
   "source": [
    "score_lasso = result(y_test, y_pred)\n",
    "score_data['Lasso Regression'] = score_lasso\n",
    "print('R2 score: ', score_lasso[0])\n",
    "print('Mean squared error: ', score_lasso[2])\n",
    "print('Mean absolute error: ', score_lasso[3])\n",
    "print('Root mean squared error: ', score_lasso[4])"
   ]
  },
  {
   "cell_type": "markdown",
   "id": "26a94855",
   "metadata": {
    "papermill": {
     "duration": 0.039122,
     "end_time": "2023-05-23T11:12:48.821971",
     "exception": false,
     "start_time": "2023-05-23T11:12:48.782849",
     "status": "completed"
    },
    "tags": []
   },
   "source": [
    "**AdaBoost Regressor**"
   ]
  },
  {
   "cell_type": "code",
   "execution_count": 66,
   "id": "f9a292b4",
   "metadata": {
    "execution": {
     "iopub.execute_input": "2023-05-23T11:12:48.903864Z",
     "iopub.status.busy": "2023-05-23T11:12:48.903068Z",
     "iopub.status.idle": "2023-05-23T11:29:02.174269Z",
     "shell.execute_reply": "2023-05-23T11:29:02.173055Z"
    },
    "papermill": {
     "duration": 973.316659,
     "end_time": "2023-05-23T11:29:02.177350",
     "exception": false,
     "start_time": "2023-05-23T11:12:48.860691",
     "status": "completed"
    },
    "tags": []
   },
   "outputs": [],
   "source": [
    "ABR = AdaBoostRegressor(\n",
    "    DecisionTreeRegressor(max_depth=24),\n",
    "    n_estimators=200,learning_rate=0.1)\n",
    "ABR.fit(X_train_tnf, y_train)\n",
    "y_pred = ABR.predict(X_test_tnf)"
   ]
  },
  {
   "cell_type": "code",
   "execution_count": 67,
   "id": "c53872da",
   "metadata": {
    "execution": {
     "iopub.execute_input": "2023-05-23T11:29:02.258247Z",
     "iopub.status.busy": "2023-05-23T11:29:02.257442Z",
     "iopub.status.idle": "2023-05-23T11:29:02.269642Z",
     "shell.execute_reply": "2023-05-23T11:29:02.268619Z"
    },
    "papermill": {
     "duration": 0.055788,
     "end_time": "2023-05-23T11:29:02.272324",
     "exception": false,
     "start_time": "2023-05-23T11:29:02.216536",
     "status": "completed"
    },
    "tags": []
   },
   "outputs": [
    {
     "name": "stdout",
     "output_type": "stream",
     "text": [
      "R2 score:  0.6819\n",
      "Mean squared error:  28406128.17\n",
      "Mean absolute error:  3772.20\n",
      "Root mean squared error:  5329.74\n"
     ]
    }
   ],
   "source": [
    "score_abr = result(y_test, y_pred)\n",
    "score_data['AdaBoost Regressor'] = score_abr\n",
    "print('R2 score: ', score_abr[0])\n",
    "print('Mean squared error: ', score_abr[2])\n",
    "print('Mean absolute error: ', score_abr[3])\n",
    "print('Root mean squared error: ', score_abr[4])"
   ]
  },
  {
   "cell_type": "markdown",
   "id": "5d0bdae6",
   "metadata": {
    "papermill": {
     "duration": 0.03794,
     "end_time": "2023-05-23T11:29:02.350735",
     "exception": false,
     "start_time": "2023-05-23T11:29:02.312795",
     "status": "completed"
    },
    "tags": []
   },
   "source": [
    "**XGBoost Regressor**"
   ]
  },
  {
   "cell_type": "code",
   "execution_count": 68,
   "id": "a78fc06b",
   "metadata": {
    "execution": {
     "iopub.execute_input": "2023-05-23T11:29:02.430500Z",
     "iopub.status.busy": "2023-05-23T11:29:02.429646Z",
     "iopub.status.idle": "2023-05-23T12:03:01.277409Z",
     "shell.execute_reply": "2023-05-23T12:03:01.276168Z"
    },
    "papermill": {
     "duration": 2038.891317,
     "end_time": "2023-05-23T12:03:01.280679",
     "exception": false,
     "start_time": "2023-05-23T11:29:02.389362",
     "status": "completed"
    },
    "tags": []
   },
   "outputs": [],
   "source": [
    "XGB = xgb.XGBRegressor(objective ='reg:squarederror', learning_rate = 0.4,\n",
    "                max_depth = 24, alpha = 5, n_estimators = 200)\n",
    "XGB.fit(X_train_tnf, y_train)\n",
    "y_pred = XGB.predict(X_test_tnf)"
   ]
  },
  {
   "cell_type": "code",
   "execution_count": 69,
   "id": "7e527c43",
   "metadata": {
    "execution": {
     "iopub.execute_input": "2023-05-23T12:03:01.372420Z",
     "iopub.status.busy": "2023-05-23T12:03:01.371448Z",
     "iopub.status.idle": "2023-05-23T12:03:01.386174Z",
     "shell.execute_reply": "2023-05-23T12:03:01.385090Z"
    },
    "papermill": {
     "duration": 0.069427,
     "end_time": "2023-05-23T12:03:01.389445",
     "exception": false,
     "start_time": "2023-05-23T12:03:01.320018",
     "status": "completed"
    },
    "tags": []
   },
   "outputs": [
    {
     "name": "stdout",
     "output_type": "stream",
     "text": [
      "R2 score:  0.6436\n",
      "Mean squared error:  31825332.00\n",
      "Mean absolute error:  3968.67\n",
      "Root mean squared error:  5641.39\n"
     ]
    }
   ],
   "source": [
    "score_xgb = result(y_test, y_pred)\n",
    "score_data['XGBoost Regressor'] = score_xgb\n",
    "print('R2 score: ', score_xgb[0])\n",
    "print('Mean squared error: ', score_xgb[2])\n",
    "print('Mean absolute error: ', score_xgb[3])\n",
    "print('Root mean squared error: ', score_xgb[4])"
   ]
  },
  {
   "cell_type": "markdown",
   "id": "01fe69a9",
   "metadata": {
    "papermill": {
     "duration": 0.038834,
     "end_time": "2023-05-23T12:03:01.472542",
     "exception": false,
     "start_time": "2023-05-23T12:03:01.433708",
     "status": "completed"
    },
    "tags": []
   },
   "source": [
    "**Light GBM Regressor**"
   ]
  },
  {
   "cell_type": "code",
   "execution_count": 70,
   "id": "abd81cec",
   "metadata": {
    "execution": {
     "iopub.execute_input": "2023-05-23T12:03:01.558136Z",
     "iopub.status.busy": "2023-05-23T12:03:01.557205Z",
     "iopub.status.idle": "2023-05-23T12:03:04.271297Z",
     "shell.execute_reply": "2023-05-23T12:03:04.270195Z"
    },
    "papermill": {
     "duration": 2.761297,
     "end_time": "2023-05-23T12:03:04.274080",
     "exception": false,
     "start_time": "2023-05-23T12:03:01.512783",
     "status": "completed"
    },
    "tags": []
   },
   "outputs": [
    {
     "name": "stdout",
     "output_type": "stream",
     "text": [
      "[LightGBM] [Warning] Auto-choosing row-wise multi-threading, the overhead of testing was 0.008575 seconds.\n",
      "You can set `force_row_wise=true` to remove the overhead.\n",
      "And if memory is not enough, you can set `force_col_wise=true`.\n",
      "[LightGBM] [Info] Total Bins 498\n",
      "[LightGBM] [Info] Number of data points in the train set: 101961, number of used features: 120\n",
      "[LightGBM] [Info] Start training from score 14790.849756\n"
     ]
    }
   ],
   "source": [
    "LGB = lgb.LGBMRegressor()\n",
    "LGB.fit(X_train_tnf, y_train)\n",
    "y_pred = LGB.predict(X_test_tnf)"
   ]
  },
  {
   "cell_type": "code",
   "execution_count": 71,
   "id": "95de6de5",
   "metadata": {
    "execution": {
     "iopub.execute_input": "2023-05-23T12:03:04.355176Z",
     "iopub.status.busy": "2023-05-23T12:03:04.354267Z",
     "iopub.status.idle": "2023-05-23T12:03:04.366793Z",
     "shell.execute_reply": "2023-05-23T12:03:04.365794Z"
    },
    "papermill": {
     "duration": 0.056139,
     "end_time": "2023-05-23T12:03:04.369546",
     "exception": false,
     "start_time": "2023-05-23T12:03:04.313407",
     "status": "completed"
    },
    "tags": []
   },
   "outputs": [
    {
     "name": "stdout",
     "output_type": "stream",
     "text": [
      "R2 score:  0.6918\n",
      "Mean squared error:  27514944.58\n",
      "Mean absolute error:  3809.85\n",
      "Root mean squared error:  5245.47\n"
     ]
    }
   ],
   "source": [
    "score_lgb = result(y_test, y_pred)\n",
    "score_data['Light GBM Regressor'] = score_lgb\n",
    "print('R2 score: ', score_lgb[0])\n",
    "print('Mean squared error: ', score_lgb[2])\n",
    "print('Mean absolute error: ', score_lgb[3])\n",
    "print('Root mean squared error: ', score_lgb[4])"
   ]
  },
  {
   "cell_type": "markdown",
   "id": "54948597",
   "metadata": {
    "papermill": {
     "duration": 0.038985,
     "end_time": "2023-05-23T12:03:04.448681",
     "exception": false,
     "start_time": "2023-05-23T12:03:04.409696",
     "status": "completed"
    },
    "tags": []
   },
   "source": [
    "**Decision Tree Regressor**"
   ]
  },
  {
   "cell_type": "code",
   "execution_count": 72,
   "id": "40b4c5b0",
   "metadata": {
    "execution": {
     "iopub.execute_input": "2023-05-23T12:03:04.530692Z",
     "iopub.status.busy": "2023-05-23T12:03:04.529532Z",
     "iopub.status.idle": "2023-05-23T12:03:11.305905Z",
     "shell.execute_reply": "2023-05-23T12:03:11.304839Z"
    },
    "papermill": {
     "duration": 6.82056,
     "end_time": "2023-05-23T12:03:11.308887",
     "exception": false,
     "start_time": "2023-05-23T12:03:04.488327",
     "status": "completed"
    },
    "tags": []
   },
   "outputs": [],
   "source": [
    "DTR = DecisionTreeRegressor()\n",
    "DTR.fit(X_train_tnf, y_train)\n",
    "y_pred = DTR.predict(X_test_tnf)"
   ]
  },
  {
   "cell_type": "code",
   "execution_count": 73,
   "id": "5fb7943b",
   "metadata": {
    "execution": {
     "iopub.execute_input": "2023-05-23T12:03:11.394735Z",
     "iopub.status.busy": "2023-05-23T12:03:11.393850Z",
     "iopub.status.idle": "2023-05-23T12:03:11.407195Z",
     "shell.execute_reply": "2023-05-23T12:03:11.405480Z"
    },
    "papermill": {
     "duration": 0.058943,
     "end_time": "2023-05-23T12:03:11.409721",
     "exception": false,
     "start_time": "2023-05-23T12:03:11.350778",
     "status": "completed"
    },
    "tags": []
   },
   "outputs": [
    {
     "name": "stdout",
     "output_type": "stream",
     "text": [
      "R2 score:  0.4304\n",
      "Mean squared error:  50858986.82\n",
      "Mean absolute error:  4941.33\n",
      "Root mean squared error:  7131.55\n"
     ]
    }
   ],
   "source": [
    "score_dtr = result(y_test, y_pred)\n",
    "score_data['Decision Tree Regressor'] = score_dtr\n",
    "print('R2 score: ', score_dtr[0])\n",
    "print('Mean squared error: ', score_dtr[2])\n",
    "print('Mean absolute error: ', score_dtr[3])\n",
    "print('Root mean squared error: ', score_dtr[4])"
   ]
  },
  {
   "cell_type": "markdown",
   "id": "406d092e",
   "metadata": {
    "papermill": {
     "duration": 0.039568,
     "end_time": "2023-05-23T12:03:11.489021",
     "exception": false,
     "start_time": "2023-05-23T12:03:11.449453",
     "status": "completed"
    },
    "tags": []
   },
   "source": [
    "# **Overall result and model selection**"
   ]
  },
  {
   "cell_type": "code",
   "execution_count": 74,
   "id": "ad9ed4fe",
   "metadata": {
    "execution": {
     "iopub.execute_input": "2023-05-23T12:03:11.571166Z",
     "iopub.status.busy": "2023-05-23T12:03:11.570298Z",
     "iopub.status.idle": "2023-05-23T12:03:11.586914Z",
     "shell.execute_reply": "2023-05-23T12:03:11.585857Z"
    },
    "papermill": {
     "duration": 0.060197,
     "end_time": "2023-05-23T12:03:11.589611",
     "exception": false,
     "start_time": "2023-05-23T12:03:11.529414",
     "status": "completed"
    },
    "tags": []
   },
   "outputs": [
    {
     "data": {
      "text/html": [
       "<div>\n",
       "<style scoped>\n",
       "    .dataframe tbody tr th:only-of-type {\n",
       "        vertical-align: middle;\n",
       "    }\n",
       "\n",
       "    .dataframe tbody tr th {\n",
       "        vertical-align: top;\n",
       "    }\n",
       "\n",
       "    .dataframe thead th {\n",
       "        text-align: right;\n",
       "    }\n",
       "</style>\n",
       "<table border=\"1\" class=\"dataframe\">\n",
       "  <thead>\n",
       "    <tr style=\"text-align: right;\">\n",
       "      <th></th>\n",
       "      <th>Linear Regression</th>\n",
       "      <th>Ridge Regression</th>\n",
       "      <th>K-Nearest Neighbour</th>\n",
       "      <th>Random Forest Regression</th>\n",
       "      <th>Bagging Regressor</th>\n",
       "      <th>Lasso Regression</th>\n",
       "      <th>AdaBoost Regressor</th>\n",
       "      <th>XGBoost Regressor</th>\n",
       "      <th>Light GBM Regressor</th>\n",
       "      <th>Decision Tree Regressor</th>\n",
       "    </tr>\n",
       "  </thead>\n",
       "  <tbody>\n",
       "    <tr>\n",
       "      <th>R2 Score</th>\n",
       "      <td>0.5964</td>\n",
       "      <td>0.5960</td>\n",
       "      <td>0.6423</td>\n",
       "      <td>0.6936</td>\n",
       "      <td>0.5816</td>\n",
       "      <td>0.5964</td>\n",
       "      <td>0.6819</td>\n",
       "      <td>0.6436</td>\n",
       "      <td>0.6918</td>\n",
       "      <td>0.4304</td>\n",
       "    </tr>\n",
       "    <tr>\n",
       "      <th>Accuracy(%)</th>\n",
       "      <td>59.6407</td>\n",
       "      <td>59.5980</td>\n",
       "      <td>64.2335</td>\n",
       "      <td>69.3615</td>\n",
       "      <td>58.1564</td>\n",
       "      <td>59.6407</td>\n",
       "      <td>68.1863</td>\n",
       "      <td>64.3569</td>\n",
       "      <td>69.1843</td>\n",
       "      <td>43.0399</td>\n",
       "    </tr>\n",
       "    <tr>\n",
       "      <th>Mean Squared Error</th>\n",
       "      <td>36036385.43</td>\n",
       "      <td>36074514.03</td>\n",
       "      <td>31935527.74</td>\n",
       "      <td>27356724.44</td>\n",
       "      <td>37361668.17</td>\n",
       "      <td>36036374.30</td>\n",
       "      <td>28406128.17</td>\n",
       "      <td>31825332.00</td>\n",
       "      <td>27514944.58</td>\n",
       "      <td>50858986.82</td>\n",
       "    </tr>\n",
       "    <tr>\n",
       "      <th>Mean Absolute Error</th>\n",
       "      <td>4589.26</td>\n",
       "      <td>4592.39</td>\n",
       "      <td>4077.01</td>\n",
       "      <td>3715.90</td>\n",
       "      <td>4320.02</td>\n",
       "      <td>4589.26</td>\n",
       "      <td>3772.20</td>\n",
       "      <td>3968.67</td>\n",
       "      <td>3809.85</td>\n",
       "      <td>4941.33</td>\n",
       "    </tr>\n",
       "    <tr>\n",
       "      <th>Root MSE</th>\n",
       "      <td>6003.03</td>\n",
       "      <td>6006.21</td>\n",
       "      <td>5651.15</td>\n",
       "      <td>5230.37</td>\n",
       "      <td>6112.42</td>\n",
       "      <td>6003.03</td>\n",
       "      <td>5329.74</td>\n",
       "      <td>5641.39</td>\n",
       "      <td>5245.47</td>\n",
       "      <td>7131.55</td>\n",
       "    </tr>\n",
       "  </tbody>\n",
       "</table>\n",
       "</div>"
      ],
      "text/plain": [
       "                    Linear Regression Ridge Regression K-Nearest Neighbour  \\\n",
       "R2 Score                       0.5964           0.5960              0.6423   \n",
       "Accuracy(%)                   59.6407          59.5980             64.2335   \n",
       "Mean Squared Error        36036385.43      36074514.03         31935527.74   \n",
       "Mean Absolute Error           4589.26          4592.39             4077.01   \n",
       "Root MSE                      6003.03          6006.21             5651.15   \n",
       "\n",
       "                    Random Forest Regression Bagging Regressor  \\\n",
       "R2 Score                              0.6936            0.5816   \n",
       "Accuracy(%)                          69.3615           58.1564   \n",
       "Mean Squared Error               27356724.44       37361668.17   \n",
       "Mean Absolute Error                  3715.90           4320.02   \n",
       "Root MSE                             5230.37           6112.42   \n",
       "\n",
       "                    Lasso Regression AdaBoost Regressor XGBoost Regressor  \\\n",
       "R2 Score                      0.5964             0.6819            0.6436   \n",
       "Accuracy(%)                  59.6407            68.1863           64.3569   \n",
       "Mean Squared Error       36036374.30        28406128.17       31825332.00   \n",
       "Mean Absolute Error          4589.26            3772.20           3968.67   \n",
       "Root MSE                     6003.03            5329.74           5641.39   \n",
       "\n",
       "                    Light GBM Regressor Decision Tree Regressor  \n",
       "R2 Score                         0.6918                  0.4304  \n",
       "Accuracy(%)                     69.1843                 43.0399  \n",
       "Mean Squared Error          27514944.58             50858986.82  \n",
       "Mean Absolute Error             3809.85                 4941.33  \n",
       "Root MSE                        5245.47                 7131.55  "
      ]
     },
     "execution_count": 74,
     "metadata": {},
     "output_type": "execute_result"
    }
   ],
   "source": [
    "score_data"
   ]
  },
  {
   "cell_type": "code",
   "execution_count": 77,
   "id": "c27ccf21",
   "metadata": {
    "execution": {
     "iopub.execute_input": "2023-05-23T12:03:11.674115Z",
     "iopub.status.busy": "2023-05-23T12:03:11.673267Z",
     "iopub.status.idle": "2023-05-23T12:03:11.682464Z",
     "shell.execute_reply": "2023-05-23T12:03:11.681171Z"
    },
    "papermill": {
     "duration": 0.055106,
     "end_time": "2023-05-23T12:03:11.685487",
     "exception": false,
     "start_time": "2023-05-23T12:03:11.630381",
     "status": "completed"
    },
    "tags": []
   },
   "outputs": [],
   "source": [
    "for i in score_data.columns:\n",
    "    score_data[i] = score_data[i].astype(float)\n",
    "model_accuracy = score_data.loc['Accuracy(%)']"
   ]
  },
  {
   "cell_type": "code",
   "execution_count": 78,
   "id": "efc95871",
   "metadata": {
    "execution": {
     "iopub.execute_input": "2023-05-23T12:03:11.772364Z",
     "iopub.status.busy": "2023-05-23T12:03:11.771557Z",
     "iopub.status.idle": "2023-05-23T12:03:13.894317Z",
     "shell.execute_reply": "2023-05-23T12:03:13.893210Z"
    },
    "papermill": {
     "duration": 2.17048,
     "end_time": "2023-05-23T12:03:13.897812",
     "exception": false,
     "start_time": "2023-05-23T12:03:11.727332",
     "status": "completed"
    },
    "tags": []
   },
   "outputs": [
    {
     "data": {
      "image/png": "[encoded data removed]",
      "text/plain": [
       "<Figure size 2000x600 with 1 Axes>"
      ]
     },
     "metadata": {},
     "output_type": "display_data"
    }
   ],
   "source": [
    "x=list(range(len(model_accuracy)))\n",
    "y=list(range(0,101,10))\n",
    "props = dict(boxstyle='round', facecolor='white', alpha=0.8)\n",
    "plt.figure(figsize=(20,6))\n",
    "plt.plot(model_accuracy)\n",
    "plt.yticks(y)\n",
    "plt.xticks(fontsize=20)\n",
    "plt.xticks(rotation = (10))\n",
    "plt.xlabel(\"Models\",fontsize=30)\n",
    "plt.ylabel(\"Accuracy(%)\",fontsize=30)\n",
    "plt.title(\"Performance of Models\")\n",
    "for a,b in zip(x,y):\n",
    "    b=model_accuracy[a]\n",
    "    val=\"(\"+str(round(model_accuracy[a],2))+\" %)\"\n",
    "    plt.text(a, b+4.5, val,horizontalalignment='center',verticalalignment='center',color='green',bbox=props)\n",
    "    plt.text(a, b+3.5, '.',horizontalalignment='center',verticalalignment='center',color='red',fontsize=50)\n",
    "plt.tight_layout()\n",
    "plt.savefig('Overall-Performance.jpg',dpi=600)\n",
    "plt.show()"
   ]
  },
  {
   "cell_type": "markdown",
   "id": "01826589",
   "metadata": {
    "papermill": {
     "duration": 0.042374,
     "end_time": "2023-05-23T12:03:13.982649",
     "exception": false,
     "start_time": "2023-05-23T12:03:13.940275",
     "status": "completed"
    },
    "tags": []
   },
   "source": [
    "# **Final Model Analysis**"
   ]
  },
  {
   "cell_type": "code",
   "execution_count": 79,
   "id": "8023fd93",
   "metadata": {
    "execution": {
     "iopub.execute_input": "2023-05-23T12:03:14.071568Z",
     "iopub.status.busy": "2023-05-23T12:03:14.070804Z",
     "iopub.status.idle": "2023-05-23T12:03:15.151206Z",
     "shell.execute_reply": "2023-05-23T12:03:15.150210Z"
    },
    "papermill": {
     "duration": 1.128873,
     "end_time": "2023-05-23T12:03:15.153858",
     "exception": false,
     "start_time": "2023-05-23T12:03:14.024985",
     "status": "completed"
    },
    "tags": []
   },
   "outputs": [
    {
     "data": {
      "image/png": "[encoded data removed]",
      "text/plain": [
       "<Figure size 1000x500 with 1 Axes>"
      ]
     },
     "metadata": {},
     "output_type": "display_data"
    }
   ],
   "source": [
    "df_check = pd.DataFrame({'Actual': y_test, 'Predicted': y_pred})\n",
    "df_check = df_check.sample(25)\n",
    "#round(df_check,2)\n",
    "df_check.plot(kind='bar',figsize=(10,5))\n",
    "plt.grid(which='major', linestyle='-', linewidth='0.5', color='green')\n",
    "plt.title('Performance of Random Forest')\n",
    "plt.ylabel('Mean Squared Log Error')\n",
    "plt.savefig('Random-Forest-Performance.jpg')\n",
    "plt.show()"
   ]
  },
  {
   "cell_type": "code",
   "execution_count": null,
   "id": "4a205e93",
   "metadata": {
    "papermill": {
     "duration": 0.045699,
     "end_time": "2023-05-23T12:03:15.244148",
     "exception": false,
     "start_time": "2023-05-23T12:03:15.198449",
     "status": "completed"
    },
    "tags": []
   },
   "outputs": [],
   "source": []
  },
  {
   "cell_type": "code",
   "execution_count": null,
   "id": "b00bb5e4",
   "metadata": {},
   "outputs": [],
   "source": []
  }
 ],
 "metadata": {
  "kernelspec": {
   "display_name": "Python 3 (ipykernel)",
   "language": "python",
   "name": "python3"
  },
  "language_info": {
   "codemirror_mode": {
    "name": "ipython",
    "version": 3
   },
   "file_extension": ".py",
   "mimetype": "text/x-python",
   "name": "python",
   "nbconvert_exporter": "python",
   "pygments_lexer": "ipython3",
   "version": "3.9.13"
  },
  "papermill": {
   "default_parameters": {},
   "duration": 3909.883354,
   "end_time": "2023-05-23T12:03:17.629552",
   "environment_variables": {},
   "exception": null,
   "input_path": "__notebook__.ipynb",
   "output_path": "__notebook__.ipynb",
   "parameters": {},
   "start_time": "2023-05-23T10:58:07.746198",
   "version": "2.4.0"
  }
 },
 "nbformat": 4,
 "nbformat_minor": 5
}
