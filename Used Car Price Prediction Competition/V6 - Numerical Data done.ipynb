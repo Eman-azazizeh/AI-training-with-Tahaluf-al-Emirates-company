{
 "cells": [
  {
   "cell_type": "code",
   "execution_count": 1,
   "id": "3da49031",
   "metadata": {},
   "outputs": [],
   "source": [
    "# import required library\n",
    "import numpy as np \n",
    "import pandas as pd \n",
    "import matplotlib.pyplot as plt\n",
    "import seaborn as sns\n",
    "from sklearn.preprocessing import StandardScaler\n",
    "from sklearn.preprocessing import LabelEncoder\n",
    "from sklearn.preprocessing import OneHotEncoder\n",
    "from sklearn.preprocessing import OrdinalEncoder\n",
    "from sklearn.compose import ColumnTransformer"
   ]
  },
  {
   "cell_type": "code",
   "execution_count": 2,
   "id": "4e1c0608",
   "metadata": {},
   "outputs": [
    {
     "data": {
      "text/html": [
       "<div>\n",
       "<style scoped>\n",
       "    .dataframe tbody tr th:only-of-type {\n",
       "        vertical-align: middle;\n",
       "    }\n",
       "\n",
       "    .dataframe tbody tr th {\n",
       "        vertical-align: top;\n",
       "    }\n",
       "\n",
       "    .dataframe thead th {\n",
       "        text-align: right;\n",
       "    }\n",
       "</style>\n",
       "<table border=\"1\" class=\"dataframe\">\n",
       "  <thead>\n",
       "    <tr style=\"text-align: right;\">\n",
       "      <th></th>\n",
       "      <th>Unnamed: 0</th>\n",
       "      <th>id</th>\n",
       "      <th>year</th>\n",
       "      <th>manufacturer</th>\n",
       "      <th>model</th>\n",
       "      <th>condition</th>\n",
       "      <th>cylinders</th>\n",
       "      <th>fuel</th>\n",
       "      <th>odometer</th>\n",
       "      <th>title_status</th>\n",
       "      <th>transmission</th>\n",
       "      <th>drive</th>\n",
       "      <th>size</th>\n",
       "      <th>type</th>\n",
       "      <th>paint_color</th>\n",
       "      <th>state</th>\n",
       "      <th>lat</th>\n",
       "      <th>long</th>\n",
       "      <th>posting_date</th>\n",
       "      <th>price</th>\n",
       "    </tr>\n",
       "  </thead>\n",
       "  <tbody>\n",
       "    <tr>\n",
       "      <th>0</th>\n",
       "      <td>121610</td>\n",
       "      <td>7309831550</td>\n",
       "      <td>2007.0</td>\n",
       "      <td>infiniti</td>\n",
       "      <td>m45</td>\n",
       "      <td>excellent</td>\n",
       "      <td>NaN</td>\n",
       "      <td>gas</td>\n",
       "      <td>214740.0</td>\n",
       "      <td>clean</td>\n",
       "      <td>automatic</td>\n",
       "      <td>rwd</td>\n",
       "      <td>NaN</td>\n",
       "      <td>sedan</td>\n",
       "      <td>black</td>\n",
       "      <td>ga</td>\n",
       "      <td>34.139588</td>\n",
       "      <td>-83.971135</td>\n",
       "      <td>2021-04-20T11:46:13-0400</td>\n",
       "      <td>7995</td>\n",
       "    </tr>\n",
       "    <tr>\n",
       "      <th>1</th>\n",
       "      <td>395646</td>\n",
       "      <td>7317007429</td>\n",
       "      <td>2008.0</td>\n",
       "      <td>cadillac</td>\n",
       "      <td>escalade</td>\n",
       "      <td>NaN</td>\n",
       "      <td>NaN</td>\n",
       "      <td>gas</td>\n",
       "      <td>170276.0</td>\n",
       "      <td>clean</td>\n",
       "      <td>automatic</td>\n",
       "      <td>NaN</td>\n",
       "      <td>NaN</td>\n",
       "      <td>SUV</td>\n",
       "      <td>black</td>\n",
       "      <td>wa</td>\n",
       "      <td>47.756950</td>\n",
       "      <td>-122.212230</td>\n",
       "      <td>2021-05-04T16:16:32-0700</td>\n",
       "      <td>14999</td>\n",
       "    </tr>\n",
       "    <tr>\n",
       "      <th>2</th>\n",
       "      <td>236366</td>\n",
       "      <td>7309202024</td>\n",
       "      <td>2003.0</td>\n",
       "      <td>lexus</td>\n",
       "      <td>es</td>\n",
       "      <td>NaN</td>\n",
       "      <td>NaN</td>\n",
       "      <td>gas</td>\n",
       "      <td>176910.0</td>\n",
       "      <td>clean</td>\n",
       "      <td>automatic</td>\n",
       "      <td>fwd</td>\n",
       "      <td>NaN</td>\n",
       "      <td>sedan</td>\n",
       "      <td>NaN</td>\n",
       "      <td>nc</td>\n",
       "      <td>34.209703</td>\n",
       "      <td>-77.843995</td>\n",
       "      <td>2021-04-19T10:07:58-0400</td>\n",
       "      <td>5995</td>\n",
       "    </tr>\n",
       "    <tr>\n",
       "      <th>3</th>\n",
       "      <td>66001</td>\n",
       "      <td>7306341714</td>\n",
       "      <td>2017.0</td>\n",
       "      <td>bmw</td>\n",
       "      <td>320i</td>\n",
       "      <td>excellent</td>\n",
       "      <td>NaN</td>\n",
       "      <td>gas</td>\n",
       "      <td>41000.0</td>\n",
       "      <td>clean</td>\n",
       "      <td>automatic</td>\n",
       "      <td>4wd</td>\n",
       "      <td>NaN</td>\n",
       "      <td>SUV</td>\n",
       "      <td>NaN</td>\n",
       "      <td>ca</td>\n",
       "      <td>33.811000</td>\n",
       "      <td>-117.849300</td>\n",
       "      <td>2021-04-13T13:05:06-0700</td>\n",
       "      <td>0</td>\n",
       "    </tr>\n",
       "    <tr>\n",
       "      <th>4</th>\n",
       "      <td>320855</td>\n",
       "      <td>7307880118</td>\n",
       "      <td>2008.0</td>\n",
       "      <td>toyota</td>\n",
       "      <td>rav4</td>\n",
       "      <td>good</td>\n",
       "      <td>6 cylinders</td>\n",
       "      <td>gas</td>\n",
       "      <td>138900.0</td>\n",
       "      <td>clean</td>\n",
       "      <td>automatic</td>\n",
       "      <td>4wd</td>\n",
       "      <td>full-size</td>\n",
       "      <td>SUV</td>\n",
       "      <td>silver</td>\n",
       "      <td>pa</td>\n",
       "      <td>40.143550</td>\n",
       "      <td>-76.597071</td>\n",
       "      <td>2021-04-16T15:22:02-0400</td>\n",
       "      <td>7995</td>\n",
       "    </tr>\n",
       "    <tr>\n",
       "      <th>...</th>\n",
       "      <td>...</td>\n",
       "      <td>...</td>\n",
       "      <td>...</td>\n",
       "      <td>...</td>\n",
       "      <td>...</td>\n",
       "      <td>...</td>\n",
       "      <td>...</td>\n",
       "      <td>...</td>\n",
       "      <td>...</td>\n",
       "      <td>...</td>\n",
       "      <td>...</td>\n",
       "      <td>...</td>\n",
       "      <td>...</td>\n",
       "      <td>...</td>\n",
       "      <td>...</td>\n",
       "      <td>...</td>\n",
       "      <td>...</td>\n",
       "      <td>...</td>\n",
       "      <td>...</td>\n",
       "      <td>...</td>\n",
       "    </tr>\n",
       "    <tr>\n",
       "      <th>290124</th>\n",
       "      <td>359783</td>\n",
       "      <td>7315304329</td>\n",
       "      <td>2007.0</td>\n",
       "      <td>dodge</td>\n",
       "      <td>charger</td>\n",
       "      <td>NaN</td>\n",
       "      <td>NaN</td>\n",
       "      <td>gas</td>\n",
       "      <td>1000.0</td>\n",
       "      <td>clean</td>\n",
       "      <td>automatic</td>\n",
       "      <td>NaN</td>\n",
       "      <td>NaN</td>\n",
       "      <td>NaN</td>\n",
       "      <td>NaN</td>\n",
       "      <td>tx</td>\n",
       "      <td>32.856500</td>\n",
       "      <td>-96.599900</td>\n",
       "      <td>2021-05-01T10:15:37-0500</td>\n",
       "      <td>200</td>\n",
       "    </tr>\n",
       "    <tr>\n",
       "      <th>290125</th>\n",
       "      <td>358083</td>\n",
       "      <td>7316875320</td>\n",
       "      <td>2013.0</td>\n",
       "      <td>hyundai</td>\n",
       "      <td>santa fe sport awd</td>\n",
       "      <td>good</td>\n",
       "      <td>4 cylinders</td>\n",
       "      <td>gas</td>\n",
       "      <td>114000.0</td>\n",
       "      <td>clean</td>\n",
       "      <td>automatic</td>\n",
       "      <td>4wd</td>\n",
       "      <td>NaN</td>\n",
       "      <td>NaN</td>\n",
       "      <td>black</td>\n",
       "      <td>tx</td>\n",
       "      <td>32.818710</td>\n",
       "      <td>-96.992283</td>\n",
       "      <td>2021-05-04T14:06:55-0500</td>\n",
       "      <td>8900</td>\n",
       "    </tr>\n",
       "    <tr>\n",
       "      <th>290126</th>\n",
       "      <td>152315</td>\n",
       "      <td>7313432323</td>\n",
       "      <td>2013.0</td>\n",
       "      <td>NaN</td>\n",
       "      <td>Scion xB</td>\n",
       "      <td>excellent</td>\n",
       "      <td>4 cylinders</td>\n",
       "      <td>gas</td>\n",
       "      <td>94000.0</td>\n",
       "      <td>clean</td>\n",
       "      <td>automatic</td>\n",
       "      <td>fwd</td>\n",
       "      <td>NaN</td>\n",
       "      <td>wagon</td>\n",
       "      <td>NaN</td>\n",
       "      <td>ia</td>\n",
       "      <td>42.484503</td>\n",
       "      <td>-92.324974</td>\n",
       "      <td>2021-04-27T13:00:51-0500</td>\n",
       "      <td>7300</td>\n",
       "    </tr>\n",
       "    <tr>\n",
       "      <th>290127</th>\n",
       "      <td>117952</td>\n",
       "      <td>7316213204</td>\n",
       "      <td>2009.0</td>\n",
       "      <td>jeep</td>\n",
       "      <td>wrangler</td>\n",
       "      <td>good</td>\n",
       "      <td>6 cylinders</td>\n",
       "      <td>gas</td>\n",
       "      <td>108000.0</td>\n",
       "      <td>clean</td>\n",
       "      <td>automatic</td>\n",
       "      <td>NaN</td>\n",
       "      <td>full-size</td>\n",
       "      <td>SUV</td>\n",
       "      <td>red</td>\n",
       "      <td>ga</td>\n",
       "      <td>33.938100</td>\n",
       "      <td>-84.197200</td>\n",
       "      <td>2021-05-03T11:23:11-0400</td>\n",
       "      <td>4500</td>\n",
       "    </tr>\n",
       "    <tr>\n",
       "      <th>290128</th>\n",
       "      <td>305711</td>\n",
       "      <td>7303624556</td>\n",
       "      <td>2014.0</td>\n",
       "      <td>ford</td>\n",
       "      <td>super duty f-350 drw</td>\n",
       "      <td>NaN</td>\n",
       "      <td>8 cylinders</td>\n",
       "      <td>diesel</td>\n",
       "      <td>79997.0</td>\n",
       "      <td>clean</td>\n",
       "      <td>automatic</td>\n",
       "      <td>4wd</td>\n",
       "      <td>NaN</td>\n",
       "      <td>truck</td>\n",
       "      <td>black</td>\n",
       "      <td>or</td>\n",
       "      <td>45.509778</td>\n",
       "      <td>-122.967379</td>\n",
       "      <td>2021-04-08T07:43:54-0700</td>\n",
       "      <td>49995</td>\n",
       "    </tr>\n",
       "  </tbody>\n",
       "</table>\n",
       "<p>290129 rows × 20 columns</p>\n",
       "</div>"
      ],
      "text/plain": [
       "        Unnamed: 0          id    year manufacturer                 model  \\\n",
       "0           121610  7309831550  2007.0     infiniti                   m45   \n",
       "1           395646  7317007429  2008.0     cadillac              escalade   \n",
       "2           236366  7309202024  2003.0        lexus                    es   \n",
       "3            66001  7306341714  2017.0          bmw                  320i   \n",
       "4           320855  7307880118  2008.0       toyota                  rav4   \n",
       "...            ...         ...     ...          ...                   ...   \n",
       "290124      359783  7315304329  2007.0        dodge               charger   \n",
       "290125      358083  7316875320  2013.0      hyundai    santa fe sport awd   \n",
       "290126      152315  7313432323  2013.0          NaN              Scion xB   \n",
       "290127      117952  7316213204  2009.0         jeep              wrangler   \n",
       "290128      305711  7303624556  2014.0         ford  super duty f-350 drw   \n",
       "\n",
       "        condition    cylinders    fuel  odometer title_status transmission  \\\n",
       "0       excellent          NaN     gas  214740.0        clean    automatic   \n",
       "1             NaN          NaN     gas  170276.0        clean    automatic   \n",
       "2             NaN          NaN     gas  176910.0        clean    automatic   \n",
       "3       excellent          NaN     gas   41000.0        clean    automatic   \n",
       "4            good  6 cylinders     gas  138900.0        clean    automatic   \n",
       "...           ...          ...     ...       ...          ...          ...   \n",
       "290124        NaN          NaN     gas    1000.0        clean    automatic   \n",
       "290125       good  4 cylinders     gas  114000.0        clean    automatic   \n",
       "290126  excellent  4 cylinders     gas   94000.0        clean    automatic   \n",
       "290127       good  6 cylinders     gas  108000.0        clean    automatic   \n",
       "290128        NaN  8 cylinders  diesel   79997.0        clean    automatic   \n",
       "\n",
       "       drive       size   type paint_color state        lat        long  \\\n",
       "0        rwd        NaN  sedan       black    ga  34.139588  -83.971135   \n",
       "1        NaN        NaN    SUV       black    wa  47.756950 -122.212230   \n",
       "2        fwd        NaN  sedan         NaN    nc  34.209703  -77.843995   \n",
       "3        4wd        NaN    SUV         NaN    ca  33.811000 -117.849300   \n",
       "4        4wd  full-size    SUV      silver    pa  40.143550  -76.597071   \n",
       "...      ...        ...    ...         ...   ...        ...         ...   \n",
       "290124   NaN        NaN    NaN         NaN    tx  32.856500  -96.599900   \n",
       "290125   4wd        NaN    NaN       black    tx  32.818710  -96.992283   \n",
       "290126   fwd        NaN  wagon         NaN    ia  42.484503  -92.324974   \n",
       "290127   NaN  full-size    SUV         red    ga  33.938100  -84.197200   \n",
       "290128   4wd        NaN  truck       black    or  45.509778 -122.967379   \n",
       "\n",
       "                    posting_date  price  \n",
       "0       2021-04-20T11:46:13-0400   7995  \n",
       "1       2021-05-04T16:16:32-0700  14999  \n",
       "2       2021-04-19T10:07:58-0400   5995  \n",
       "3       2021-04-13T13:05:06-0700      0  \n",
       "4       2021-04-16T15:22:02-0400   7995  \n",
       "...                          ...    ...  \n",
       "290124  2021-05-01T10:15:37-0500    200  \n",
       "290125  2021-05-04T14:06:55-0500   8900  \n",
       "290126  2021-04-27T13:00:51-0500   7300  \n",
       "290127  2021-05-03T11:23:11-0400   4500  \n",
       "290128  2021-04-08T07:43:54-0700  49995  \n",
       "\n",
       "[290129 rows x 20 columns]"
      ]
     },
     "execution_count": 2,
     "metadata": {},
     "output_type": "execute_result"
    }
   ],
   "source": [
    "# read the data\n",
    "df = pd.read_csv('train.csv')\n",
    "df"
   ]
  },
  {
   "cell_type": "markdown",
   "id": "954b4879",
   "metadata": {},
   "source": [
    "now we want to discover more information about the data"
   ]
  },
  {
   "cell_type": "code",
   "execution_count": 3,
   "id": "a98e5116",
   "metadata": {},
   "outputs": [
    {
     "data": {
      "text/plain": [
       "(290129, 20)"
      ]
     },
     "execution_count": 3,
     "metadata": {},
     "output_type": "execute_result"
    }
   ],
   "source": [
    "# shape of data\n",
    "df.shape"
   ]
  },
  {
   "cell_type": "code",
   "execution_count": 4,
   "id": "9bb5f5b2",
   "metadata": {},
   "outputs": [
    {
     "data": {
      "text/plain": [
       "Index(['Unnamed: 0', 'id', 'year', 'manufacturer', 'model', 'condition',\n",
       "       'cylinders', 'fuel', 'odometer', 'title_status', 'transmission',\n",
       "       'drive', 'size', 'type', 'paint_color', 'state', 'lat', 'long',\n",
       "       'posting_date', 'price'],\n",
       "      dtype='object')"
      ]
     },
     "execution_count": 4,
     "metadata": {},
     "output_type": "execute_result"
    }
   ],
   "source": [
    "# name of the columns \n",
    "df.columns"
   ]
  },
  {
   "cell_type": "code",
   "execution_count": 5,
   "id": "51352cf4",
   "metadata": {},
   "outputs": [
    {
     "data": {
      "text/html": [
       "<div>\n",
       "<style scoped>\n",
       "    .dataframe tbody tr th:only-of-type {\n",
       "        vertical-align: middle;\n",
       "    }\n",
       "\n",
       "    .dataframe tbody tr th {\n",
       "        vertical-align: top;\n",
       "    }\n",
       "\n",
       "    .dataframe thead th {\n",
       "        text-align: right;\n",
       "    }\n",
       "</style>\n",
       "<table border=\"1\" class=\"dataframe\">\n",
       "  <thead>\n",
       "    <tr style=\"text-align: right;\">\n",
       "      <th></th>\n",
       "      <th>0</th>\n",
       "    </tr>\n",
       "  </thead>\n",
       "  <tbody>\n",
       "    <tr>\n",
       "      <th>Unnamed: 0</th>\n",
       "      <td>0</td>\n",
       "    </tr>\n",
       "    <tr>\n",
       "      <th>id</th>\n",
       "      <td>0</td>\n",
       "    </tr>\n",
       "    <tr>\n",
       "      <th>year</th>\n",
       "      <td>0</td>\n",
       "    </tr>\n",
       "    <tr>\n",
       "      <th>manufacturer</th>\n",
       "      <td>11342</td>\n",
       "    </tr>\n",
       "    <tr>\n",
       "      <th>model</th>\n",
       "      <td>0</td>\n",
       "    </tr>\n",
       "    <tr>\n",
       "      <th>condition</th>\n",
       "      <td>116104</td>\n",
       "    </tr>\n",
       "    <tr>\n",
       "      <th>cylinders</th>\n",
       "      <td>119300</td>\n",
       "    </tr>\n",
       "    <tr>\n",
       "      <th>fuel</th>\n",
       "      <td>1453</td>\n",
       "    </tr>\n",
       "    <tr>\n",
       "      <th>odometer</th>\n",
       "      <td>0</td>\n",
       "    </tr>\n",
       "    <tr>\n",
       "      <th>title_status</th>\n",
       "      <td>5066</td>\n",
       "    </tr>\n",
       "    <tr>\n",
       "      <th>transmission</th>\n",
       "      <td>0</td>\n",
       "    </tr>\n",
       "    <tr>\n",
       "      <th>drive</th>\n",
       "      <td>88087</td>\n",
       "    </tr>\n",
       "    <tr>\n",
       "      <th>size</th>\n",
       "      <td>207684</td>\n",
       "    </tr>\n",
       "    <tr>\n",
       "      <th>type</th>\n",
       "      <td>62596</td>\n",
       "    </tr>\n",
       "    <tr>\n",
       "      <th>paint_color</th>\n",
       "      <td>87113</td>\n",
       "    </tr>\n",
       "    <tr>\n",
       "      <th>state</th>\n",
       "      <td>0</td>\n",
       "    </tr>\n",
       "    <tr>\n",
       "      <th>lat</th>\n",
       "      <td>4403</td>\n",
       "    </tr>\n",
       "    <tr>\n",
       "      <th>long</th>\n",
       "      <td>4403</td>\n",
       "    </tr>\n",
       "    <tr>\n",
       "      <th>posting_date</th>\n",
       "      <td>0</td>\n",
       "    </tr>\n",
       "    <tr>\n",
       "      <th>price</th>\n",
       "      <td>0</td>\n",
       "    </tr>\n",
       "  </tbody>\n",
       "</table>\n",
       "</div>"
      ],
      "text/plain": [
       "                   0\n",
       "Unnamed: 0         0\n",
       "id                 0\n",
       "year               0\n",
       "manufacturer   11342\n",
       "model              0\n",
       "condition     116104\n",
       "cylinders     119300\n",
       "fuel            1453\n",
       "odometer           0\n",
       "title_status    5066\n",
       "transmission       0\n",
       "drive          88087\n",
       "size          207684\n",
       "type           62596\n",
       "paint_color    87113\n",
       "state              0\n",
       "lat             4403\n",
       "long            4403\n",
       "posting_date       0\n",
       "price              0"
      ]
     },
     "execution_count": 5,
     "metadata": {},
     "output_type": "execute_result"
    }
   ],
   "source": [
    "# Checking total missing values\n",
    "df.isnull().sum().to_frame()"
   ]
  },
  {
   "cell_type": "code",
   "execution_count": 6,
   "id": "010b9591",
   "metadata": {},
   "outputs": [
    {
     "name": "stdout",
     "output_type": "stream",
     "text": [
      "<class 'pandas.core.frame.DataFrame'>\n",
      "RangeIndex: 290129 entries, 0 to 290128\n",
      "Data columns (total 20 columns):\n",
      " #   Column        Non-Null Count   Dtype  \n",
      "---  ------        --------------   -----  \n",
      " 0   Unnamed: 0    290129 non-null  int64  \n",
      " 1   id            290129 non-null  int64  \n",
      " 2   year          290129 non-null  float64\n",
      " 3   manufacturer  278787 non-null  object \n",
      " 4   model         290129 non-null  object \n",
      " 5   condition     174025 non-null  object \n",
      " 6   cylinders     170829 non-null  object \n",
      " 7   fuel          288676 non-null  object \n",
      " 8   odometer      290129 non-null  float64\n",
      " 9   title_status  285063 non-null  object \n",
      " 10  transmission  290129 non-null  object \n",
      " 11  drive         202042 non-null  object \n",
      " 12  size          82445 non-null   object \n",
      " 13  type          227533 non-null  object \n",
      " 14  paint_color   203016 non-null  object \n",
      " 15  state         290129 non-null  object \n",
      " 16  lat           285726 non-null  float64\n",
      " 17  long          285726 non-null  float64\n",
      " 18  posting_date  290129 non-null  object \n",
      " 19  price         290129 non-null  int64  \n",
      "dtypes: float64(4), int64(3), object(13)\n",
      "memory usage: 44.3+ MB\n"
     ]
    }
   ],
   "source": [
    "df.info()"
   ]
  },
  {
   "cell_type": "markdown",
   "id": "2aa9e216",
   "metadata": {},
   "source": [
    "# -------------------------------------------------------------------\n",
    "\n",
    "## Data Cleaning\n",
    "\n",
    "# -------------------------------------------------------------------\n",
    "\n",
    "as we saw in the previous two cells we have a many columns that contain a lots of non-value and that's will effect badlly in our model. so we decide to remove , edit this columns depends on how much null-value they contain"
   ]
  },
  {
   "cell_type": "markdown",
   "id": "09b95c31",
   "metadata": {},
   "source": [
    "### 1. Drop colunms\n",
    "\n",
    "here we want to drop some columns and the reason for that the following :\n",
    "\n",
    "1. `id` and `Unnamed` : in this types of feature we don't need it at all because it's doesn't effect in our model\n",
    "\n",
    "2. `lat` and `long` : this type of feature contain irrelative feature  .\n",
    "\n",
    "3. `posting_date` : as we can see in the data all posting_date are in the same year and the month as well so its mean that its **constance** , the second reason this type of features its also irrelative feature .\n",
    "\n",
    "4. `size` : as we can see in the number of null_value we can see that's more than 80% of the data is null so it'll effects badly to our model so we prefer to delete it.\n",
    "\n",
    "5. `state` : the city that the car are in their doesn't matter because it doesn't effect in the price of the car\n"
   ]
  },
  {
   "cell_type": "code",
   "execution_count": 7,
   "id": "ed5f0828",
   "metadata": {},
   "outputs": [
    {
     "data": {
      "text/html": [
       "<div>\n",
       "<style scoped>\n",
       "    .dataframe tbody tr th:only-of-type {\n",
       "        vertical-align: middle;\n",
       "    }\n",
       "\n",
       "    .dataframe tbody tr th {\n",
       "        vertical-align: top;\n",
       "    }\n",
       "\n",
       "    .dataframe thead th {\n",
       "        text-align: right;\n",
       "    }\n",
       "</style>\n",
       "<table border=\"1\" class=\"dataframe\">\n",
       "  <thead>\n",
       "    <tr style=\"text-align: right;\">\n",
       "      <th></th>\n",
       "      <th>year</th>\n",
       "      <th>manufacturer</th>\n",
       "      <th>model</th>\n",
       "      <th>condition</th>\n",
       "      <th>cylinders</th>\n",
       "      <th>fuel</th>\n",
       "      <th>odometer</th>\n",
       "      <th>title_status</th>\n",
       "      <th>transmission</th>\n",
       "      <th>drive</th>\n",
       "      <th>type</th>\n",
       "      <th>paint_color</th>\n",
       "      <th>price</th>\n",
       "    </tr>\n",
       "  </thead>\n",
       "  <tbody>\n",
       "    <tr>\n",
       "      <th>0</th>\n",
       "      <td>2007.0</td>\n",
       "      <td>infiniti</td>\n",
       "      <td>m45</td>\n",
       "      <td>excellent</td>\n",
       "      <td>NaN</td>\n",
       "      <td>gas</td>\n",
       "      <td>214740.0</td>\n",
       "      <td>clean</td>\n",
       "      <td>automatic</td>\n",
       "      <td>rwd</td>\n",
       "      <td>sedan</td>\n",
       "      <td>black</td>\n",
       "      <td>7995</td>\n",
       "    </tr>\n",
       "    <tr>\n",
       "      <th>1</th>\n",
       "      <td>2008.0</td>\n",
       "      <td>cadillac</td>\n",
       "      <td>escalade</td>\n",
       "      <td>NaN</td>\n",
       "      <td>NaN</td>\n",
       "      <td>gas</td>\n",
       "      <td>170276.0</td>\n",
       "      <td>clean</td>\n",
       "      <td>automatic</td>\n",
       "      <td>NaN</td>\n",
       "      <td>SUV</td>\n",
       "      <td>black</td>\n",
       "      <td>14999</td>\n",
       "    </tr>\n",
       "    <tr>\n",
       "      <th>2</th>\n",
       "      <td>2003.0</td>\n",
       "      <td>lexus</td>\n",
       "      <td>es</td>\n",
       "      <td>NaN</td>\n",
       "      <td>NaN</td>\n",
       "      <td>gas</td>\n",
       "      <td>176910.0</td>\n",
       "      <td>clean</td>\n",
       "      <td>automatic</td>\n",
       "      <td>fwd</td>\n",
       "      <td>sedan</td>\n",
       "      <td>NaN</td>\n",
       "      <td>5995</td>\n",
       "    </tr>\n",
       "    <tr>\n",
       "      <th>3</th>\n",
       "      <td>2017.0</td>\n",
       "      <td>bmw</td>\n",
       "      <td>320i</td>\n",
       "      <td>excellent</td>\n",
       "      <td>NaN</td>\n",
       "      <td>gas</td>\n",
       "      <td>41000.0</td>\n",
       "      <td>clean</td>\n",
       "      <td>automatic</td>\n",
       "      <td>4wd</td>\n",
       "      <td>SUV</td>\n",
       "      <td>NaN</td>\n",
       "      <td>0</td>\n",
       "    </tr>\n",
       "    <tr>\n",
       "      <th>4</th>\n",
       "      <td>2008.0</td>\n",
       "      <td>toyota</td>\n",
       "      <td>rav4</td>\n",
       "      <td>good</td>\n",
       "      <td>6 cylinders</td>\n",
       "      <td>gas</td>\n",
       "      <td>138900.0</td>\n",
       "      <td>clean</td>\n",
       "      <td>automatic</td>\n",
       "      <td>4wd</td>\n",
       "      <td>SUV</td>\n",
       "      <td>silver</td>\n",
       "      <td>7995</td>\n",
       "    </tr>\n",
       "    <tr>\n",
       "      <th>...</th>\n",
       "      <td>...</td>\n",
       "      <td>...</td>\n",
       "      <td>...</td>\n",
       "      <td>...</td>\n",
       "      <td>...</td>\n",
       "      <td>...</td>\n",
       "      <td>...</td>\n",
       "      <td>...</td>\n",
       "      <td>...</td>\n",
       "      <td>...</td>\n",
       "      <td>...</td>\n",
       "      <td>...</td>\n",
       "      <td>...</td>\n",
       "    </tr>\n",
       "    <tr>\n",
       "      <th>290124</th>\n",
       "      <td>2007.0</td>\n",
       "      <td>dodge</td>\n",
       "      <td>charger</td>\n",
       "      <td>NaN</td>\n",
       "      <td>NaN</td>\n",
       "      <td>gas</td>\n",
       "      <td>1000.0</td>\n",
       "      <td>clean</td>\n",
       "      <td>automatic</td>\n",
       "      <td>NaN</td>\n",
       "      <td>NaN</td>\n",
       "      <td>NaN</td>\n",
       "      <td>200</td>\n",
       "    </tr>\n",
       "    <tr>\n",
       "      <th>290125</th>\n",
       "      <td>2013.0</td>\n",
       "      <td>hyundai</td>\n",
       "      <td>santa fe sport awd</td>\n",
       "      <td>good</td>\n",
       "      <td>4 cylinders</td>\n",
       "      <td>gas</td>\n",
       "      <td>114000.0</td>\n",
       "      <td>clean</td>\n",
       "      <td>automatic</td>\n",
       "      <td>4wd</td>\n",
       "      <td>NaN</td>\n",
       "      <td>black</td>\n",
       "      <td>8900</td>\n",
       "    </tr>\n",
       "    <tr>\n",
       "      <th>290126</th>\n",
       "      <td>2013.0</td>\n",
       "      <td>NaN</td>\n",
       "      <td>Scion xB</td>\n",
       "      <td>excellent</td>\n",
       "      <td>4 cylinders</td>\n",
       "      <td>gas</td>\n",
       "      <td>94000.0</td>\n",
       "      <td>clean</td>\n",
       "      <td>automatic</td>\n",
       "      <td>fwd</td>\n",
       "      <td>wagon</td>\n",
       "      <td>NaN</td>\n",
       "      <td>7300</td>\n",
       "    </tr>\n",
       "    <tr>\n",
       "      <th>290127</th>\n",
       "      <td>2009.0</td>\n",
       "      <td>jeep</td>\n",
       "      <td>wrangler</td>\n",
       "      <td>good</td>\n",
       "      <td>6 cylinders</td>\n",
       "      <td>gas</td>\n",
       "      <td>108000.0</td>\n",
       "      <td>clean</td>\n",
       "      <td>automatic</td>\n",
       "      <td>NaN</td>\n",
       "      <td>SUV</td>\n",
       "      <td>red</td>\n",
       "      <td>4500</td>\n",
       "    </tr>\n",
       "    <tr>\n",
       "      <th>290128</th>\n",
       "      <td>2014.0</td>\n",
       "      <td>ford</td>\n",
       "      <td>super duty f-350 drw</td>\n",
       "      <td>NaN</td>\n",
       "      <td>8 cylinders</td>\n",
       "      <td>diesel</td>\n",
       "      <td>79997.0</td>\n",
       "      <td>clean</td>\n",
       "      <td>automatic</td>\n",
       "      <td>4wd</td>\n",
       "      <td>truck</td>\n",
       "      <td>black</td>\n",
       "      <td>49995</td>\n",
       "    </tr>\n",
       "  </tbody>\n",
       "</table>\n",
       "<p>290129 rows × 13 columns</p>\n",
       "</div>"
      ],
      "text/plain": [
       "          year manufacturer                 model  condition    cylinders  \\\n",
       "0       2007.0     infiniti                   m45  excellent          NaN   \n",
       "1       2008.0     cadillac              escalade        NaN          NaN   \n",
       "2       2003.0        lexus                    es        NaN          NaN   \n",
       "3       2017.0          bmw                  320i  excellent          NaN   \n",
       "4       2008.0       toyota                  rav4       good  6 cylinders   \n",
       "...        ...          ...                   ...        ...          ...   \n",
       "290124  2007.0        dodge               charger        NaN          NaN   \n",
       "290125  2013.0      hyundai    santa fe sport awd       good  4 cylinders   \n",
       "290126  2013.0          NaN              Scion xB  excellent  4 cylinders   \n",
       "290127  2009.0         jeep              wrangler       good  6 cylinders   \n",
       "290128  2014.0         ford  super duty f-350 drw        NaN  8 cylinders   \n",
       "\n",
       "          fuel  odometer title_status transmission drive   type paint_color  \\\n",
       "0          gas  214740.0        clean    automatic   rwd  sedan       black   \n",
       "1          gas  170276.0        clean    automatic   NaN    SUV       black   \n",
       "2          gas  176910.0        clean    automatic   fwd  sedan         NaN   \n",
       "3          gas   41000.0        clean    automatic   4wd    SUV         NaN   \n",
       "4          gas  138900.0        clean    automatic   4wd    SUV      silver   \n",
       "...        ...       ...          ...          ...   ...    ...         ...   \n",
       "290124     gas    1000.0        clean    automatic   NaN    NaN         NaN   \n",
       "290125     gas  114000.0        clean    automatic   4wd    NaN       black   \n",
       "290126     gas   94000.0        clean    automatic   fwd  wagon         NaN   \n",
       "290127     gas  108000.0        clean    automatic   NaN    SUV         red   \n",
       "290128  diesel   79997.0        clean    automatic   4wd  truck       black   \n",
       "\n",
       "        price  \n",
       "0        7995  \n",
       "1       14999  \n",
       "2        5995  \n",
       "3           0  \n",
       "4        7995  \n",
       "...       ...  \n",
       "290124    200  \n",
       "290125   8900  \n",
       "290126   7300  \n",
       "290127   4500  \n",
       "290128  49995  \n",
       "\n",
       "[290129 rows x 13 columns]"
      ]
     },
     "execution_count": 7,
     "metadata": {},
     "output_type": "execute_result"
    }
   ],
   "source": [
    "# drop the above feature\n",
    "df.drop([ 'Unnamed: 0','id', 'lat', 'long', 'posting_date', 'size', 'state'], axis=1, inplace=True)\n",
    "df"
   ]
  },
  {
   "cell_type": "markdown",
   "id": "33b101b8",
   "metadata": {},
   "source": [
    "#                                  *    *   *\n",
    "\n",
    "### 2. Numerical Data\n",
    "\n",
    "#    *    *   *\n",
    "\n",
    "the numerical data here:\n",
    "##### 1. year\n",
    "##### 2. odometer\n",
    "##### 3. price"
   ]
  },
  {
   "cell_type": "code",
   "execution_count": 8,
   "id": "864a73dd",
   "metadata": {},
   "outputs": [
    {
     "data": {
      "text/html": [
       "<div>\n",
       "<style scoped>\n",
       "    .dataframe tbody tr th:only-of-type {\n",
       "        vertical-align: middle;\n",
       "    }\n",
       "\n",
       "    .dataframe tbody tr th {\n",
       "        vertical-align: top;\n",
       "    }\n",
       "\n",
       "    .dataframe thead th {\n",
       "        text-align: right;\n",
       "    }\n",
       "</style>\n",
       "<table border=\"1\" class=\"dataframe\">\n",
       "  <thead>\n",
       "    <tr style=\"text-align: right;\">\n",
       "      <th></th>\n",
       "      <th>year</th>\n",
       "      <th>odometer</th>\n",
       "      <th>price</th>\n",
       "    </tr>\n",
       "  </thead>\n",
       "  <tbody>\n",
       "    <tr>\n",
       "      <th>count</th>\n",
       "      <td>290129.000000</td>\n",
       "      <td>2.901290e+05</td>\n",
       "      <td>2.901290e+05</td>\n",
       "    </tr>\n",
       "    <tr>\n",
       "      <th>mean</th>\n",
       "      <td>2011.359082</td>\n",
       "      <td>9.764241e+04</td>\n",
       "      <td>5.193300e+04</td>\n",
       "    </tr>\n",
       "    <tr>\n",
       "      <th>std</th>\n",
       "      <td>9.149422</td>\n",
       "      <td>2.058970e+05</td>\n",
       "      <td>9.591680e+06</td>\n",
       "    </tr>\n",
       "    <tr>\n",
       "      <th>min</th>\n",
       "      <td>1900.000000</td>\n",
       "      <td>0.000000e+00</td>\n",
       "      <td>0.000000e+00</td>\n",
       "    </tr>\n",
       "    <tr>\n",
       "      <th>25%</th>\n",
       "      <td>2008.000000</td>\n",
       "      <td>3.800000e+04</td>\n",
       "      <td>5.991000e+03</td>\n",
       "    </tr>\n",
       "    <tr>\n",
       "      <th>50%</th>\n",
       "      <td>2014.000000</td>\n",
       "      <td>8.561500e+04</td>\n",
       "      <td>1.399000e+04</td>\n",
       "    </tr>\n",
       "    <tr>\n",
       "      <th>75%</th>\n",
       "      <td>2017.000000</td>\n",
       "      <td>1.334360e+05</td>\n",
       "      <td>2.650000e+04</td>\n",
       "    </tr>\n",
       "    <tr>\n",
       "      <th>max</th>\n",
       "      <td>2022.000000</td>\n",
       "      <td>1.000000e+07</td>\n",
       "      <td>3.736929e+09</td>\n",
       "    </tr>\n",
       "  </tbody>\n",
       "</table>\n",
       "</div>"
      ],
      "text/plain": [
       "                year      odometer         price\n",
       "count  290129.000000  2.901290e+05  2.901290e+05\n",
       "mean     2011.359082  9.764241e+04  5.193300e+04\n",
       "std         9.149422  2.058970e+05  9.591680e+06\n",
       "min      1900.000000  0.000000e+00  0.000000e+00\n",
       "25%      2008.000000  3.800000e+04  5.991000e+03\n",
       "50%      2014.000000  8.561500e+04  1.399000e+04\n",
       "75%      2017.000000  1.334360e+05  2.650000e+04\n",
       "max      2022.000000  1.000000e+07  3.736929e+09"
      ]
     },
     "execution_count": 8,
     "metadata": {},
     "output_type": "execute_result"
    }
   ],
   "source": [
    "df.describe()"
   ]
  },
  {
   "cell_type": "markdown",
   "id": "5db10a56",
   "metadata": {},
   "source": [
    "here we want to create a function for plotting the box plot to get more insight about the outlier"
   ]
  },
  {
   "cell_type": "code",
   "execution_count": 9,
   "id": "254e1d17",
   "metadata": {},
   "outputs": [],
   "source": [
    "def box_plot(name):\n",
    "    # Create subplots to display multiple box plots side by side\n",
    "    plt.figure(figsize=(8, 4))\n",
    "\n",
    "    # Box plot for 'price' column\n",
    "    sns.boxplot(x=df[name], color='lightblue')\n",
    "    plt.xlabel(name)\n",
    "    plt.title(f'Box Plot of {name}')"
   ]
  },
  {
   "cell_type": "code",
   "execution_count": 10,
   "id": "c4093762",
   "metadata": {},
   "outputs": [
    {
     "data": {
      "image/png": "[encoded data removed]",
      "text/plain": [
       "<Figure size 800x400 with 1 Axes>"
      ]
     },
     "metadata": {},
     "output_type": "display_data"
    }
   ],
   "source": [
    "box_plot('price')"
   ]
  },
  {
   "cell_type": "code",
   "execution_count": 11,
   "id": "d86cf43a",
   "metadata": {},
   "outputs": [
    {
     "data": {
      "image/png": "[encoded data removed]",
      "text/plain": [
       "<Figure size 800x400 with 1 Axes>"
      ]
     },
     "metadata": {},
     "output_type": "display_data"
    }
   ],
   "source": [
    "box_plot('year')"
   ]
  },
  {
   "cell_type": "code",
   "execution_count": 12,
   "id": "6f36c07f",
   "metadata": {},
   "outputs": [
    {
     "data": {
      "image/png": "[encoded data removed]",
      "text/plain": [
       "<Figure size 800x400 with 1 Axes>"
      ]
     },
     "metadata": {},
     "output_type": "display_data"
    }
   ],
   "source": [
    "box_plot('odometer')"
   ]
  },
  {
   "cell_type": "markdown",
   "id": "f4aac45e",
   "metadata": {},
   "source": [
    "as we can see they are a lots of outliers in these columns,the Outliers reduces the accuracy of a model. We have to detect outliers and remove them.\n",
    "\n",
    "\n",
    "now i want to apply the IQR if you want more information about this i recommend the following video that i take the solution from it\n",
    "> https://www.youtube.com/watch?v=A3gClkblXK8\n",
    "\n",
    "#### IQR implementation"
   ]
  },
  {
   "cell_type": "code",
   "execution_count": 13,
   "id": "8b1de4c2",
   "metadata": {},
   "outputs": [],
   "source": [
    "def IQR(name):\n",
    "    global new_df\n",
    "    Q1 = df[name].quantile(0.25)\n",
    "    Q3 = df[name].quantile(0.75)\n",
    "    print(f\"Q1  {name}  {Q1}, Q3  {name}  {Q3}\")\n",
    "    print(\"---------------------------------------\")\n",
    "    iqr = Q3 - Q1\n",
    "    print(f\"IQR for {name} is equal to {iqr}\")\n",
    "    print(\"---------------------------------------\")\n",
    "    upper_limit = Q1 + 1.5 * iqr\n",
    "    lower_limit = df[name].quantile(0.15)\n",
    "    \n",
    "    return (upper_limit,lower_limit)"
   ]
  },
  {
   "cell_type": "markdown",
   "id": "475edfab",
   "metadata": {},
   "source": [
    "#### `price`"
   ]
  },
  {
   "cell_type": "code",
   "execution_count": 14,
   "id": "e13a3ef0",
   "metadata": {},
   "outputs": [
    {
     "name": "stdout",
     "output_type": "stream",
     "text": [
      "Q1  price  5991.0, Q3  price  26500.0\n",
      "---------------------------------------\n",
      "IQR for price is equal to 20509.0\n",
      "---------------------------------------\n"
     ]
    }
   ],
   "source": [
    "upper_limit_price,lower_limit_price =IQR('price')"
   ]
  },
  {
   "cell_type": "code",
   "execution_count": 15,
   "id": "95c93ec6",
   "metadata": {},
   "outputs": [],
   "source": [
    "df = df[(df['price'] < upper_limit_price) & (df['price'] > 0)]"
   ]
  },
  {
   "cell_type": "code",
   "execution_count": 16,
   "id": "f1520ff2",
   "metadata": {},
   "outputs": [
    {
     "data": {
      "image/png": "[encoded data removed]",
      "text/plain": [
       "<Figure size 800x400 with 1 Axes>"
      ]
     },
     "metadata": {},
     "output_type": "display_data"
    }
   ],
   "source": [
    "box_plot('price')"
   ]
  },
  {
   "cell_type": "markdown",
   "id": "c385d314",
   "metadata": {},
   "source": [
    "as you can see here we solve the outlier in the price column is a great Job :)\n",
    "now we can say we end the first column"
   ]
  },
  {
   "cell_type": "markdown",
   "id": "94427580",
   "metadata": {},
   "source": [
    "#### `Odometer`"
   ]
  },
  {
   "cell_type": "code",
   "execution_count": 17,
   "id": "b9009bb1",
   "metadata": {},
   "outputs": [
    {
     "name": "stdout",
     "output_type": "stream",
     "text": [
      "Q1  odometer  46000.0, Q3  odometer  140140.0\n",
      "---------------------------------------\n",
      "IQR for odometer is equal to 94140.0\n",
      "---------------------------------------\n"
     ]
    }
   ],
   "source": [
    "upper_limit_odometer,lower_limit_odometer =IQR('odometer')"
   ]
  },
  {
   "cell_type": "code",
   "execution_count": 18,
   "id": "d5acdc09",
   "metadata": {},
   "outputs": [],
   "source": [
    "df = df[(df['odometer'] < upper_limit_odometer) & (df['odometer'] > 0)]"
   ]
  },
  {
   "cell_type": "code",
   "execution_count": 19,
   "id": "2225da94",
   "metadata": {},
   "outputs": [
    {
     "data": {
      "image/png": "[encoded data removed]",
      "text/plain": [
       "<Figure size 800x400 with 1 Axes>"
      ]
     },
     "metadata": {},
     "output_type": "display_data"
    }
   ],
   "source": [
    "box_plot('odometer')"
   ]
  },
  {
   "cell_type": "markdown",
   "id": "aad63ee8",
   "metadata": {},
   "source": [
    "as you can see here we solve the outlier in the odometer column"
   ]
  },
  {
   "cell_type": "markdown",
   "id": "b3f36e74",
   "metadata": {},
   "source": [
    "#### `year`"
   ]
  },
  {
   "cell_type": "code",
   "execution_count": 20,
   "id": "28cf8ce5",
   "metadata": {},
   "outputs": [],
   "source": [
    "# convert the odometer and year from float to integer\n",
    "df['odometer'] = df['odometer'].astype(int)\n",
    "df['year'] =  df['year'].astype(int)"
   ]
  },
  {
   "cell_type": "code",
   "execution_count": 21,
   "id": "9ae667d3",
   "metadata": {},
   "outputs": [
    {
     "data": {
      "image/png": "[encoded data removed]",
      "text/plain": [
       "<Figure size 1200x900 with 1 Axes>"
      ]
     },
     "metadata": {},
     "output_type": "display_data"
    }
   ],
   "source": [
    "plt.rcParams[\"figure.autolayout\"] = True\n",
    "sns.set_palette('summer_r')\n",
    "plt.figure(figsize =(12,9))\n",
    "sns.barplot(y= df['price'],x= df['year'])\n",
    "plt.title(\"Price VS Year\",fontsize=20,fontweight ='bold')\n",
    "plt.xlabel('year',fontsize = 20)\n",
    "plt.xticks(rotation=60)\n",
    "plt.ylabel('price ',fontsize = 20)\n",
    "plt.tight_layout()\n",
    "plt.show()"
   ]
  },
  {
   "cell_type": "markdown",
   "id": "c9e6008d",
   "metadata": {},
   "source": [
    "We can see the car data before 1996 is quiet irrelevant with our current times data. So we are extracting all the car data available after 1996"
   ]
  },
  {
   "cell_type": "code",
   "execution_count": 22,
   "id": "8b987ce1",
   "metadata": {},
   "outputs": [
    {
     "data": {
      "text/plain": [
       "(206877, 13)"
      ]
     },
     "execution_count": 22,
     "metadata": {},
     "output_type": "execute_result"
    }
   ],
   "source": [
    "df = df[df['year'] > 1996]\n",
    "df.shape"
   ]
  },
  {
   "cell_type": "code",
   "execution_count": 23,
   "id": "532985f3",
   "metadata": {},
   "outputs": [
    {
     "data": {
      "image/png": "[encoded data removed]",
      "text/plain": [
       "<Figure size 800x400 with 1 Axes>"
      ]
     },
     "metadata": {},
     "output_type": "display_data"
    }
   ],
   "source": [
    "box_plot('price')"
   ]
  },
  {
   "cell_type": "code",
   "execution_count": 24,
   "id": "00826333",
   "metadata": {
    "scrolled": true
   },
   "outputs": [],
   "source": [
    "df['car_age'] = 2023 - df['year']\n",
    "df.drop(['year'], axis = 1, inplace = True)"
   ]
  },
  {
   "cell_type": "code",
   "execution_count": 25,
   "id": "c7b2c54d",
   "metadata": {},
   "outputs": [
    {
     "data": {
      "text/plain": [
       "0"
      ]
     },
     "execution_count": 25,
     "metadata": {},
     "output_type": "execute_result"
    }
   ],
   "source": [
    "df['car_age'].isnull().sum()"
   ]
  },
  {
   "attachments": {
    "image.png": {
     "image/png": "[encoded data removed]"
    }
   },
   "cell_type": "markdown",
   "id": "573bbda4",
   "metadata": {},
   "source": [
    "now we will see the different before and after edit the outlier\n",
    "\n",
    "![image.png](attachment:image.png)"
   ]
  },
  {
   "cell_type": "code",
   "execution_count": 26,
   "id": "5c3c1951",
   "metadata": {},
   "outputs": [
    {
     "data": {
      "text/html": [
       "<div>\n",
       "<style scoped>\n",
       "    .dataframe tbody tr th:only-of-type {\n",
       "        vertical-align: middle;\n",
       "    }\n",
       "\n",
       "    .dataframe tbody tr th {\n",
       "        vertical-align: top;\n",
       "    }\n",
       "\n",
       "    .dataframe thead th {\n",
       "        text-align: right;\n",
       "    }\n",
       "</style>\n",
       "<table border=\"1\" class=\"dataframe\">\n",
       "  <thead>\n",
       "    <tr style=\"text-align: right;\">\n",
       "      <th></th>\n",
       "      <th>odometer</th>\n",
       "      <th>price</th>\n",
       "      <th>car_age</th>\n",
       "    </tr>\n",
       "  </thead>\n",
       "  <tbody>\n",
       "    <tr>\n",
       "      <th>count</th>\n",
       "      <td>206877.000000</td>\n",
       "      <td>206877.000000</td>\n",
       "      <td>206877.000000</td>\n",
       "    </tr>\n",
       "    <tr>\n",
       "      <th>mean</th>\n",
       "      <td>87205.845681</td>\n",
       "      <td>15924.160076</td>\n",
       "      <td>10.429709</td>\n",
       "    </tr>\n",
       "    <tr>\n",
       "      <th>std</th>\n",
       "      <td>50471.497029</td>\n",
       "      <td>9934.426033</td>\n",
       "      <td>5.030536</td>\n",
       "    </tr>\n",
       "    <tr>\n",
       "      <th>min</th>\n",
       "      <td>1.000000</td>\n",
       "      <td>1.000000</td>\n",
       "      <td>1.000000</td>\n",
       "    </tr>\n",
       "    <tr>\n",
       "      <th>25%</th>\n",
       "      <td>42162.000000</td>\n",
       "      <td>7500.000000</td>\n",
       "      <td>6.000000</td>\n",
       "    </tr>\n",
       "    <tr>\n",
       "      <th>50%</th>\n",
       "      <td>88002.000000</td>\n",
       "      <td>14709.000000</td>\n",
       "      <td>10.000000</td>\n",
       "    </tr>\n",
       "    <tr>\n",
       "      <th>75%</th>\n",
       "      <td>127903.000000</td>\n",
       "      <td>23990.000000</td>\n",
       "      <td>14.000000</td>\n",
       "    </tr>\n",
       "    <tr>\n",
       "      <th>max</th>\n",
       "      <td>187203.000000</td>\n",
       "      <td>36752.000000</td>\n",
       "      <td>26.000000</td>\n",
       "    </tr>\n",
       "  </tbody>\n",
       "</table>\n",
       "</div>"
      ],
      "text/plain": [
       "            odometer          price        car_age\n",
       "count  206877.000000  206877.000000  206877.000000\n",
       "mean    87205.845681   15924.160076      10.429709\n",
       "std     50471.497029    9934.426033       5.030536\n",
       "min         1.000000       1.000000       1.000000\n",
       "25%     42162.000000    7500.000000       6.000000\n",
       "50%     88002.000000   14709.000000      10.000000\n",
       "75%    127903.000000   23990.000000      14.000000\n",
       "max    187203.000000   36752.000000      26.000000"
      ]
     },
     "execution_count": 26,
     "metadata": {},
     "output_type": "execute_result"
    }
   ],
   "source": [
    "df.describe()"
   ]
  },
  {
   "cell_type": "code",
   "execution_count": null,
   "id": "a8b6fccc",
   "metadata": {},
   "outputs": [],
   "source": []
  }
 ],
 "metadata": {
  "kernelspec": {
   "display_name": "Python 3 (ipykernel)",
   "language": "python",
   "name": "python3"
  },
  "language_info": {
   "codemirror_mode": {
    "name": "ipython",
    "version": 3
   },
   "file_extension": ".py",
   "mimetype": "text/x-python",
   "name": "python",
   "nbconvert_exporter": "python",
   "pygments_lexer": "ipython3",
   "version": "3.9.13"
  }
 },
 "nbformat": 4,
 "nbformat_minor": 5
}
