{
 "cells": [
  {
   "cell_type": "code",
   "execution_count": 110,
   "id": "e03b0ffd",
   "metadata": {},
   "outputs": [],
   "source": [
    "# import required library\n",
    "import numpy as np \n",
    "import pandas as pd \n",
    "import matplotlib.pyplot as plt\n",
    "import seaborn as sns\n",
    "from sklearn.preprocessing import StandardScaler\n",
    "from sklearn.preprocessing import LabelEncoder\n",
    "from sklearn.preprocessing import OneHotEncoder\n",
    "from sklearn.preprocessing import OrdinalEncoder\n",
    "from sklearn.compose import ColumnTransformer"
   ]
  },
  {
   "cell_type": "code",
   "execution_count": 111,
   "id": "54b12248",
   "metadata": {},
   "outputs": [
    {
     "data": {
      "text/html": [
       "<div>\n",
       "<style scoped>\n",
       "    .dataframe tbody tr th:only-of-type {\n",
       "        vertical-align: middle;\n",
       "    }\n",
       "\n",
       "    .dataframe tbody tr th {\n",
       "        vertical-align: top;\n",
       "    }\n",
       "\n",
       "    .dataframe thead th {\n",
       "        text-align: right;\n",
       "    }\n",
       "</style>\n",
       "<table border=\"1\" class=\"dataframe\">\n",
       "  <thead>\n",
       "    <tr style=\"text-align: right;\">\n",
       "      <th></th>\n",
       "      <th>Unnamed: 0</th>\n",
       "      <th>id</th>\n",
       "      <th>year</th>\n",
       "      <th>manufacturer</th>\n",
       "      <th>model</th>\n",
       "      <th>condition</th>\n",
       "      <th>cylinders</th>\n",
       "      <th>fuel</th>\n",
       "      <th>odometer</th>\n",
       "      <th>title_status</th>\n",
       "      <th>transmission</th>\n",
       "      <th>drive</th>\n",
       "      <th>size</th>\n",
       "      <th>type</th>\n",
       "      <th>paint_color</th>\n",
       "      <th>state</th>\n",
       "      <th>lat</th>\n",
       "      <th>long</th>\n",
       "      <th>posting_date</th>\n",
       "      <th>price</th>\n",
       "    </tr>\n",
       "  </thead>\n",
       "  <tbody>\n",
       "    <tr>\n",
       "      <th>0</th>\n",
       "      <td>121610</td>\n",
       "      <td>7309831550</td>\n",
       "      <td>2007.0</td>\n",
       "      <td>infiniti</td>\n",
       "      <td>m45</td>\n",
       "      <td>excellent</td>\n",
       "      <td>NaN</td>\n",
       "      <td>gas</td>\n",
       "      <td>214740.0</td>\n",
       "      <td>clean</td>\n",
       "      <td>automatic</td>\n",
       "      <td>rwd</td>\n",
       "      <td>NaN</td>\n",
       "      <td>sedan</td>\n",
       "      <td>black</td>\n",
       "      <td>ga</td>\n",
       "      <td>34.139588</td>\n",
       "      <td>-83.971135</td>\n",
       "      <td>2021-04-20T11:46:13-0400</td>\n",
       "      <td>7995</td>\n",
       "    </tr>\n",
       "    <tr>\n",
       "      <th>1</th>\n",
       "      <td>395646</td>\n",
       "      <td>7317007429</td>\n",
       "      <td>2008.0</td>\n",
       "      <td>cadillac</td>\n",
       "      <td>escalade</td>\n",
       "      <td>NaN</td>\n",
       "      <td>NaN</td>\n",
       "      <td>gas</td>\n",
       "      <td>170276.0</td>\n",
       "      <td>clean</td>\n",
       "      <td>automatic</td>\n",
       "      <td>NaN</td>\n",
       "      <td>NaN</td>\n",
       "      <td>SUV</td>\n",
       "      <td>black</td>\n",
       "      <td>wa</td>\n",
       "      <td>47.756950</td>\n",
       "      <td>-122.212230</td>\n",
       "      <td>2021-05-04T16:16:32-0700</td>\n",
       "      <td>14999</td>\n",
       "    </tr>\n",
       "    <tr>\n",
       "      <th>2</th>\n",
       "      <td>236366</td>\n",
       "      <td>7309202024</td>\n",
       "      <td>2003.0</td>\n",
       "      <td>lexus</td>\n",
       "      <td>es</td>\n",
       "      <td>NaN</td>\n",
       "      <td>NaN</td>\n",
       "      <td>gas</td>\n",
       "      <td>176910.0</td>\n",
       "      <td>clean</td>\n",
       "      <td>automatic</td>\n",
       "      <td>fwd</td>\n",
       "      <td>NaN</td>\n",
       "      <td>sedan</td>\n",
       "      <td>NaN</td>\n",
       "      <td>nc</td>\n",
       "      <td>34.209703</td>\n",
       "      <td>-77.843995</td>\n",
       "      <td>2021-04-19T10:07:58-0400</td>\n",
       "      <td>5995</td>\n",
       "    </tr>\n",
       "    <tr>\n",
       "      <th>3</th>\n",
       "      <td>66001</td>\n",
       "      <td>7306341714</td>\n",
       "      <td>2017.0</td>\n",
       "      <td>bmw</td>\n",
       "      <td>320i</td>\n",
       "      <td>excellent</td>\n",
       "      <td>NaN</td>\n",
       "      <td>gas</td>\n",
       "      <td>41000.0</td>\n",
       "      <td>clean</td>\n",
       "      <td>automatic</td>\n",
       "      <td>4wd</td>\n",
       "      <td>NaN</td>\n",
       "      <td>SUV</td>\n",
       "      <td>NaN</td>\n",
       "      <td>ca</td>\n",
       "      <td>33.811000</td>\n",
       "      <td>-117.849300</td>\n",
       "      <td>2021-04-13T13:05:06-0700</td>\n",
       "      <td>0</td>\n",
       "    </tr>\n",
       "    <tr>\n",
       "      <th>4</th>\n",
       "      <td>320855</td>\n",
       "      <td>7307880118</td>\n",
       "      <td>2008.0</td>\n",
       "      <td>toyota</td>\n",
       "      <td>rav4</td>\n",
       "      <td>good</td>\n",
       "      <td>6 cylinders</td>\n",
       "      <td>gas</td>\n",
       "      <td>138900.0</td>\n",
       "      <td>clean</td>\n",
       "      <td>automatic</td>\n",
       "      <td>4wd</td>\n",
       "      <td>full-size</td>\n",
       "      <td>SUV</td>\n",
       "      <td>silver</td>\n",
       "      <td>pa</td>\n",
       "      <td>40.143550</td>\n",
       "      <td>-76.597071</td>\n",
       "      <td>2021-04-16T15:22:02-0400</td>\n",
       "      <td>7995</td>\n",
       "    </tr>\n",
       "    <tr>\n",
       "      <th>...</th>\n",
       "      <td>...</td>\n",
       "      <td>...</td>\n",
       "      <td>...</td>\n",
       "      <td>...</td>\n",
       "      <td>...</td>\n",
       "      <td>...</td>\n",
       "      <td>...</td>\n",
       "      <td>...</td>\n",
       "      <td>...</td>\n",
       "      <td>...</td>\n",
       "      <td>...</td>\n",
       "      <td>...</td>\n",
       "      <td>...</td>\n",
       "      <td>...</td>\n",
       "      <td>...</td>\n",
       "      <td>...</td>\n",
       "      <td>...</td>\n",
       "      <td>...</td>\n",
       "      <td>...</td>\n",
       "      <td>...</td>\n",
       "    </tr>\n",
       "    <tr>\n",
       "      <th>290124</th>\n",
       "      <td>359783</td>\n",
       "      <td>7315304329</td>\n",
       "      <td>2007.0</td>\n",
       "      <td>dodge</td>\n",
       "      <td>charger</td>\n",
       "      <td>NaN</td>\n",
       "      <td>NaN</td>\n",
       "      <td>gas</td>\n",
       "      <td>1000.0</td>\n",
       "      <td>clean</td>\n",
       "      <td>automatic</td>\n",
       "      <td>NaN</td>\n",
       "      <td>NaN</td>\n",
       "      <td>NaN</td>\n",
       "      <td>NaN</td>\n",
       "      <td>tx</td>\n",
       "      <td>32.856500</td>\n",
       "      <td>-96.599900</td>\n",
       "      <td>2021-05-01T10:15:37-0500</td>\n",
       "      <td>200</td>\n",
       "    </tr>\n",
       "    <tr>\n",
       "      <th>290125</th>\n",
       "      <td>358083</td>\n",
       "      <td>7316875320</td>\n",
       "      <td>2013.0</td>\n",
       "      <td>hyundai</td>\n",
       "      <td>santa fe sport awd</td>\n",
       "      <td>good</td>\n",
       "      <td>4 cylinders</td>\n",
       "      <td>gas</td>\n",
       "      <td>114000.0</td>\n",
       "      <td>clean</td>\n",
       "      <td>automatic</td>\n",
       "      <td>4wd</td>\n",
       "      <td>NaN</td>\n",
       "      <td>NaN</td>\n",
       "      <td>black</td>\n",
       "      <td>tx</td>\n",
       "      <td>32.818710</td>\n",
       "      <td>-96.992283</td>\n",
       "      <td>2021-05-04T14:06:55-0500</td>\n",
       "      <td>8900</td>\n",
       "    </tr>\n",
       "    <tr>\n",
       "      <th>290126</th>\n",
       "      <td>152315</td>\n",
       "      <td>7313432323</td>\n",
       "      <td>2013.0</td>\n",
       "      <td>NaN</td>\n",
       "      <td>Scion xB</td>\n",
       "      <td>excellent</td>\n",
       "      <td>4 cylinders</td>\n",
       "      <td>gas</td>\n",
       "      <td>94000.0</td>\n",
       "      <td>clean</td>\n",
       "      <td>automatic</td>\n",
       "      <td>fwd</td>\n",
       "      <td>NaN</td>\n",
       "      <td>wagon</td>\n",
       "      <td>NaN</td>\n",
       "      <td>ia</td>\n",
       "      <td>42.484503</td>\n",
       "      <td>-92.324974</td>\n",
       "      <td>2021-04-27T13:00:51-0500</td>\n",
       "      <td>7300</td>\n",
       "    </tr>\n",
       "    <tr>\n",
       "      <th>290127</th>\n",
       "      <td>117952</td>\n",
       "      <td>7316213204</td>\n",
       "      <td>2009.0</td>\n",
       "      <td>jeep</td>\n",
       "      <td>wrangler</td>\n",
       "      <td>good</td>\n",
       "      <td>6 cylinders</td>\n",
       "      <td>gas</td>\n",
       "      <td>108000.0</td>\n",
       "      <td>clean</td>\n",
       "      <td>automatic</td>\n",
       "      <td>NaN</td>\n",
       "      <td>full-size</td>\n",
       "      <td>SUV</td>\n",
       "      <td>red</td>\n",
       "      <td>ga</td>\n",
       "      <td>33.938100</td>\n",
       "      <td>-84.197200</td>\n",
       "      <td>2021-05-03T11:23:11-0400</td>\n",
       "      <td>4500</td>\n",
       "    </tr>\n",
       "    <tr>\n",
       "      <th>290128</th>\n",
       "      <td>305711</td>\n",
       "      <td>7303624556</td>\n",
       "      <td>2014.0</td>\n",
       "      <td>ford</td>\n",
       "      <td>super duty f-350 drw</td>\n",
       "      <td>NaN</td>\n",
       "      <td>8 cylinders</td>\n",
       "      <td>diesel</td>\n",
       "      <td>79997.0</td>\n",
       "      <td>clean</td>\n",
       "      <td>automatic</td>\n",
       "      <td>4wd</td>\n",
       "      <td>NaN</td>\n",
       "      <td>truck</td>\n",
       "      <td>black</td>\n",
       "      <td>or</td>\n",
       "      <td>45.509778</td>\n",
       "      <td>-122.967379</td>\n",
       "      <td>2021-04-08T07:43:54-0700</td>\n",
       "      <td>49995</td>\n",
       "    </tr>\n",
       "  </tbody>\n",
       "</table>\n",
       "<p>290129 rows × 20 columns</p>\n",
       "</div>"
      ],
      "text/plain": [
       "        Unnamed: 0          id    year manufacturer                 model  \\\n",
       "0           121610  7309831550  2007.0     infiniti                   m45   \n",
       "1           395646  7317007429  2008.0     cadillac              escalade   \n",
       "2           236366  7309202024  2003.0        lexus                    es   \n",
       "3            66001  7306341714  2017.0          bmw                  320i   \n",
       "4           320855  7307880118  2008.0       toyota                  rav4   \n",
       "...            ...         ...     ...          ...                   ...   \n",
       "290124      359783  7315304329  2007.0        dodge               charger   \n",
       "290125      358083  7316875320  2013.0      hyundai    santa fe sport awd   \n",
       "290126      152315  7313432323  2013.0          NaN              Scion xB   \n",
       "290127      117952  7316213204  2009.0         jeep              wrangler   \n",
       "290128      305711  7303624556  2014.0         ford  super duty f-350 drw   \n",
       "\n",
       "        condition    cylinders    fuel  odometer title_status transmission  \\\n",
       "0       excellent          NaN     gas  214740.0        clean    automatic   \n",
       "1             NaN          NaN     gas  170276.0        clean    automatic   \n",
       "2             NaN          NaN     gas  176910.0        clean    automatic   \n",
       "3       excellent          NaN     gas   41000.0        clean    automatic   \n",
       "4            good  6 cylinders     gas  138900.0        clean    automatic   \n",
       "...           ...          ...     ...       ...          ...          ...   \n",
       "290124        NaN          NaN     gas    1000.0        clean    automatic   \n",
       "290125       good  4 cylinders     gas  114000.0        clean    automatic   \n",
       "290126  excellent  4 cylinders     gas   94000.0        clean    automatic   \n",
       "290127       good  6 cylinders     gas  108000.0        clean    automatic   \n",
       "290128        NaN  8 cylinders  diesel   79997.0        clean    automatic   \n",
       "\n",
       "       drive       size   type paint_color state        lat        long  \\\n",
       "0        rwd        NaN  sedan       black    ga  34.139588  -83.971135   \n",
       "1        NaN        NaN    SUV       black    wa  47.756950 -122.212230   \n",
       "2        fwd        NaN  sedan         NaN    nc  34.209703  -77.843995   \n",
       "3        4wd        NaN    SUV         NaN    ca  33.811000 -117.849300   \n",
       "4        4wd  full-size    SUV      silver    pa  40.143550  -76.597071   \n",
       "...      ...        ...    ...         ...   ...        ...         ...   \n",
       "290124   NaN        NaN    NaN         NaN    tx  32.856500  -96.599900   \n",
       "290125   4wd        NaN    NaN       black    tx  32.818710  -96.992283   \n",
       "290126   fwd        NaN  wagon         NaN    ia  42.484503  -92.324974   \n",
       "290127   NaN  full-size    SUV         red    ga  33.938100  -84.197200   \n",
       "290128   4wd        NaN  truck       black    or  45.509778 -122.967379   \n",
       "\n",
       "                    posting_date  price  \n",
       "0       2021-04-20T11:46:13-0400   7995  \n",
       "1       2021-05-04T16:16:32-0700  14999  \n",
       "2       2021-04-19T10:07:58-0400   5995  \n",
       "3       2021-04-13T13:05:06-0700      0  \n",
       "4       2021-04-16T15:22:02-0400   7995  \n",
       "...                          ...    ...  \n",
       "290124  2021-05-01T10:15:37-0500    200  \n",
       "290125  2021-05-04T14:06:55-0500   8900  \n",
       "290126  2021-04-27T13:00:51-0500   7300  \n",
       "290127  2021-05-03T11:23:11-0400   4500  \n",
       "290128  2021-04-08T07:43:54-0700  49995  \n",
       "\n",
       "[290129 rows x 20 columns]"
      ]
     },
     "execution_count": 111,
     "metadata": {},
     "output_type": "execute_result"
    }
   ],
   "source": [
    "# read the data\n",
    "df = pd.read_csv('train.csv')\n",
    "df"
   ]
  },
  {
   "cell_type": "code",
   "execution_count": 112,
   "id": "32fff27c",
   "metadata": {},
   "outputs": [
    {
     "data": {
      "text/plain": [
       "(290129, 20)"
      ]
     },
     "execution_count": 112,
     "metadata": {},
     "output_type": "execute_result"
    }
   ],
   "source": [
    "# shape of data\n",
    "df.shape"
   ]
  },
  {
   "cell_type": "code",
   "execution_count": 113,
   "id": "906bdd4d",
   "metadata": {},
   "outputs": [
    {
     "data": {
      "text/plain": [
       "Index(['Unnamed: 0', 'id', 'year', 'manufacturer', 'model', 'condition',\n",
       "       'cylinders', 'fuel', 'odometer', 'title_status', 'transmission',\n",
       "       'drive', 'size', 'type', 'paint_color', 'state', 'lat', 'long',\n",
       "       'posting_date', 'price'],\n",
       "      dtype='object')"
      ]
     },
     "execution_count": 113,
     "metadata": {},
     "output_type": "execute_result"
    }
   ],
   "source": [
    "#the name of the columns \n",
    "df.columns"
   ]
  },
  {
   "cell_type": "code",
   "execution_count": 114,
   "id": "14fa00d6",
   "metadata": {},
   "outputs": [
    {
     "data": {
      "text/plain": [
       "Unnamed: 0           0\n",
       "id                   0\n",
       "year                 0\n",
       "manufacturer     11342\n",
       "model                0\n",
       "condition       116104\n",
       "cylinders       119300\n",
       "fuel              1453\n",
       "odometer             0\n",
       "title_status      5066\n",
       "transmission         0\n",
       "drive            88087\n",
       "size            207684\n",
       "type             62596\n",
       "paint_color      87113\n",
       "state                0\n",
       "lat               4403\n",
       "long              4403\n",
       "posting_date         0\n",
       "price                0\n",
       "dtype: int64"
      ]
     },
     "execution_count": 114,
     "metadata": {},
     "output_type": "execute_result"
    }
   ],
   "source": [
    "# Checking total missing values\n",
    "df.isnull().sum()"
   ]
  },
  {
   "cell_type": "code",
   "execution_count": 115,
   "id": "cd2a84d5",
   "metadata": {},
   "outputs": [
    {
     "name": "stdout",
     "output_type": "stream",
     "text": [
      "<class 'pandas.core.frame.DataFrame'>\n",
      "RangeIndex: 290129 entries, 0 to 290128\n",
      "Data columns (total 20 columns):\n",
      " #   Column        Non-Null Count   Dtype  \n",
      "---  ------        --------------   -----  \n",
      " 0   Unnamed: 0    290129 non-null  int64  \n",
      " 1   id            290129 non-null  int64  \n",
      " 2   year          290129 non-null  float64\n",
      " 3   manufacturer  278787 non-null  object \n",
      " 4   model         290129 non-null  object \n",
      " 5   condition     174025 non-null  object \n",
      " 6   cylinders     170829 non-null  object \n",
      " 7   fuel          288676 non-null  object \n",
      " 8   odometer      290129 non-null  float64\n",
      " 9   title_status  285063 non-null  object \n",
      " 10  transmission  290129 non-null  object \n",
      " 11  drive         202042 non-null  object \n",
      " 12  size          82445 non-null   object \n",
      " 13  type          227533 non-null  object \n",
      " 14  paint_color   203016 non-null  object \n",
      " 15  state         290129 non-null  object \n",
      " 16  lat           285726 non-null  float64\n",
      " 17  long          285726 non-null  float64\n",
      " 18  posting_date  290129 non-null  object \n",
      " 19  price         290129 non-null  int64  \n",
      "dtypes: float64(4), int64(3), object(13)\n",
      "memory usage: 44.3+ MB\n"
     ]
    }
   ],
   "source": [
    "df.info()"
   ]
  },
  {
   "cell_type": "markdown",
   "id": "0ea142ec",
   "metadata": {},
   "source": [
    "# Data Cleaning\n",
    "\n",
    "as we saw in the previous two cells  we have a many columns that contain a lots of non-value and that's will effect badlly in our model.\n",
    "so we decide to remove , edit this columns depends on how much null-value they contain"
   ]
  },
  {
   "cell_type": "markdown",
   "id": "9adf0f4e",
   "metadata": {},
   "source": [
    "## Drop columns\n",
    "here we want to drop some columns and the reason for that the following :\n",
    "\n",
    "1. `id` : in this types of feature we don't need it at all because it's doesn't affect in our model\n",
    "\n",
    "2. `lat` and `long` : this type of feature contain irrelative feature  .\n",
    "\n",
    "3. `posting_date` : as we can see in the data all posting_date are in the same year and the month as well so its mean that its **constance** , the second reason this type of features its also irrelative feature .\n",
    "\n",
    "4. `size` : as we can see in the number of null_value we can see that's more than 80% of the data is null so it'll effects badly to our model so we prefer to delete it.\n",
    "\n",
    "5. `state` : the city that the car are in their doesn't matter because it not effect in the price of the car\n",
    "\n"
   ]
  },
  {
   "cell_type": "code",
   "execution_count": 116,
   "id": "eab80d08",
   "metadata": {},
   "outputs": [
    {
     "data": {
      "text/html": [
       "<div>\n",
       "<style scoped>\n",
       "    .dataframe tbody tr th:only-of-type {\n",
       "        vertical-align: middle;\n",
       "    }\n",
       "\n",
       "    .dataframe tbody tr th {\n",
       "        vertical-align: top;\n",
       "    }\n",
       "\n",
       "    .dataframe thead th {\n",
       "        text-align: right;\n",
       "    }\n",
       "</style>\n",
       "<table border=\"1\" class=\"dataframe\">\n",
       "  <thead>\n",
       "    <tr style=\"text-align: right;\">\n",
       "      <th></th>\n",
       "      <th>year</th>\n",
       "      <th>manufacturer</th>\n",
       "      <th>model</th>\n",
       "      <th>condition</th>\n",
       "      <th>cylinders</th>\n",
       "      <th>fuel</th>\n",
       "      <th>odometer</th>\n",
       "      <th>title_status</th>\n",
       "      <th>transmission</th>\n",
       "      <th>drive</th>\n",
       "      <th>type</th>\n",
       "      <th>paint_color</th>\n",
       "      <th>price</th>\n",
       "    </tr>\n",
       "  </thead>\n",
       "  <tbody>\n",
       "    <tr>\n",
       "      <th>0</th>\n",
       "      <td>2007.0</td>\n",
       "      <td>infiniti</td>\n",
       "      <td>m45</td>\n",
       "      <td>excellent</td>\n",
       "      <td>NaN</td>\n",
       "      <td>gas</td>\n",
       "      <td>214740.0</td>\n",
       "      <td>clean</td>\n",
       "      <td>automatic</td>\n",
       "      <td>rwd</td>\n",
       "      <td>sedan</td>\n",
       "      <td>black</td>\n",
       "      <td>7995</td>\n",
       "    </tr>\n",
       "    <tr>\n",
       "      <th>1</th>\n",
       "      <td>2008.0</td>\n",
       "      <td>cadillac</td>\n",
       "      <td>escalade</td>\n",
       "      <td>NaN</td>\n",
       "      <td>NaN</td>\n",
       "      <td>gas</td>\n",
       "      <td>170276.0</td>\n",
       "      <td>clean</td>\n",
       "      <td>automatic</td>\n",
       "      <td>NaN</td>\n",
       "      <td>SUV</td>\n",
       "      <td>black</td>\n",
       "      <td>14999</td>\n",
       "    </tr>\n",
       "    <tr>\n",
       "      <th>2</th>\n",
       "      <td>2003.0</td>\n",
       "      <td>lexus</td>\n",
       "      <td>es</td>\n",
       "      <td>NaN</td>\n",
       "      <td>NaN</td>\n",
       "      <td>gas</td>\n",
       "      <td>176910.0</td>\n",
       "      <td>clean</td>\n",
       "      <td>automatic</td>\n",
       "      <td>fwd</td>\n",
       "      <td>sedan</td>\n",
       "      <td>NaN</td>\n",
       "      <td>5995</td>\n",
       "    </tr>\n",
       "    <tr>\n",
       "      <th>3</th>\n",
       "      <td>2017.0</td>\n",
       "      <td>bmw</td>\n",
       "      <td>320i</td>\n",
       "      <td>excellent</td>\n",
       "      <td>NaN</td>\n",
       "      <td>gas</td>\n",
       "      <td>41000.0</td>\n",
       "      <td>clean</td>\n",
       "      <td>automatic</td>\n",
       "      <td>4wd</td>\n",
       "      <td>SUV</td>\n",
       "      <td>NaN</td>\n",
       "      <td>0</td>\n",
       "    </tr>\n",
       "    <tr>\n",
       "      <th>4</th>\n",
       "      <td>2008.0</td>\n",
       "      <td>toyota</td>\n",
       "      <td>rav4</td>\n",
       "      <td>good</td>\n",
       "      <td>6 cylinders</td>\n",
       "      <td>gas</td>\n",
       "      <td>138900.0</td>\n",
       "      <td>clean</td>\n",
       "      <td>automatic</td>\n",
       "      <td>4wd</td>\n",
       "      <td>SUV</td>\n",
       "      <td>silver</td>\n",
       "      <td>7995</td>\n",
       "    </tr>\n",
       "    <tr>\n",
       "      <th>...</th>\n",
       "      <td>...</td>\n",
       "      <td>...</td>\n",
       "      <td>...</td>\n",
       "      <td>...</td>\n",
       "      <td>...</td>\n",
       "      <td>...</td>\n",
       "      <td>...</td>\n",
       "      <td>...</td>\n",
       "      <td>...</td>\n",
       "      <td>...</td>\n",
       "      <td>...</td>\n",
       "      <td>...</td>\n",
       "      <td>...</td>\n",
       "    </tr>\n",
       "    <tr>\n",
       "      <th>290124</th>\n",
       "      <td>2007.0</td>\n",
       "      <td>dodge</td>\n",
       "      <td>charger</td>\n",
       "      <td>NaN</td>\n",
       "      <td>NaN</td>\n",
       "      <td>gas</td>\n",
       "      <td>1000.0</td>\n",
       "      <td>clean</td>\n",
       "      <td>automatic</td>\n",
       "      <td>NaN</td>\n",
       "      <td>NaN</td>\n",
       "      <td>NaN</td>\n",
       "      <td>200</td>\n",
       "    </tr>\n",
       "    <tr>\n",
       "      <th>290125</th>\n",
       "      <td>2013.0</td>\n",
       "      <td>hyundai</td>\n",
       "      <td>santa fe sport awd</td>\n",
       "      <td>good</td>\n",
       "      <td>4 cylinders</td>\n",
       "      <td>gas</td>\n",
       "      <td>114000.0</td>\n",
       "      <td>clean</td>\n",
       "      <td>automatic</td>\n",
       "      <td>4wd</td>\n",
       "      <td>NaN</td>\n",
       "      <td>black</td>\n",
       "      <td>8900</td>\n",
       "    </tr>\n",
       "    <tr>\n",
       "      <th>290126</th>\n",
       "      <td>2013.0</td>\n",
       "      <td>NaN</td>\n",
       "      <td>Scion xB</td>\n",
       "      <td>excellent</td>\n",
       "      <td>4 cylinders</td>\n",
       "      <td>gas</td>\n",
       "      <td>94000.0</td>\n",
       "      <td>clean</td>\n",
       "      <td>automatic</td>\n",
       "      <td>fwd</td>\n",
       "      <td>wagon</td>\n",
       "      <td>NaN</td>\n",
       "      <td>7300</td>\n",
       "    </tr>\n",
       "    <tr>\n",
       "      <th>290127</th>\n",
       "      <td>2009.0</td>\n",
       "      <td>jeep</td>\n",
       "      <td>wrangler</td>\n",
       "      <td>good</td>\n",
       "      <td>6 cylinders</td>\n",
       "      <td>gas</td>\n",
       "      <td>108000.0</td>\n",
       "      <td>clean</td>\n",
       "      <td>automatic</td>\n",
       "      <td>NaN</td>\n",
       "      <td>SUV</td>\n",
       "      <td>red</td>\n",
       "      <td>4500</td>\n",
       "    </tr>\n",
       "    <tr>\n",
       "      <th>290128</th>\n",
       "      <td>2014.0</td>\n",
       "      <td>ford</td>\n",
       "      <td>super duty f-350 drw</td>\n",
       "      <td>NaN</td>\n",
       "      <td>8 cylinders</td>\n",
       "      <td>diesel</td>\n",
       "      <td>79997.0</td>\n",
       "      <td>clean</td>\n",
       "      <td>automatic</td>\n",
       "      <td>4wd</td>\n",
       "      <td>truck</td>\n",
       "      <td>black</td>\n",
       "      <td>49995</td>\n",
       "    </tr>\n",
       "  </tbody>\n",
       "</table>\n",
       "<p>290129 rows × 13 columns</p>\n",
       "</div>"
      ],
      "text/plain": [
       "          year manufacturer                 model  condition    cylinders  \\\n",
       "0       2007.0     infiniti                   m45  excellent          NaN   \n",
       "1       2008.0     cadillac              escalade        NaN          NaN   \n",
       "2       2003.0        lexus                    es        NaN          NaN   \n",
       "3       2017.0          bmw                  320i  excellent          NaN   \n",
       "4       2008.0       toyota                  rav4       good  6 cylinders   \n",
       "...        ...          ...                   ...        ...          ...   \n",
       "290124  2007.0        dodge               charger        NaN          NaN   \n",
       "290125  2013.0      hyundai    santa fe sport awd       good  4 cylinders   \n",
       "290126  2013.0          NaN              Scion xB  excellent  4 cylinders   \n",
       "290127  2009.0         jeep              wrangler       good  6 cylinders   \n",
       "290128  2014.0         ford  super duty f-350 drw        NaN  8 cylinders   \n",
       "\n",
       "          fuel  odometer title_status transmission drive   type paint_color  \\\n",
       "0          gas  214740.0        clean    automatic   rwd  sedan       black   \n",
       "1          gas  170276.0        clean    automatic   NaN    SUV       black   \n",
       "2          gas  176910.0        clean    automatic   fwd  sedan         NaN   \n",
       "3          gas   41000.0        clean    automatic   4wd    SUV         NaN   \n",
       "4          gas  138900.0        clean    automatic   4wd    SUV      silver   \n",
       "...        ...       ...          ...          ...   ...    ...         ...   \n",
       "290124     gas    1000.0        clean    automatic   NaN    NaN         NaN   \n",
       "290125     gas  114000.0        clean    automatic   4wd    NaN       black   \n",
       "290126     gas   94000.0        clean    automatic   fwd  wagon         NaN   \n",
       "290127     gas  108000.0        clean    automatic   NaN    SUV         red   \n",
       "290128  diesel   79997.0        clean    automatic   4wd  truck       black   \n",
       "\n",
       "        price  \n",
       "0        7995  \n",
       "1       14999  \n",
       "2        5995  \n",
       "3           0  \n",
       "4        7995  \n",
       "...       ...  \n",
       "290124    200  \n",
       "290125   8900  \n",
       "290126   7300  \n",
       "290127   4500  \n",
       "290128  49995  \n",
       "\n",
       "[290129 rows x 13 columns]"
      ]
     },
     "execution_count": 116,
     "metadata": {},
     "output_type": "execute_result"
    }
   ],
   "source": [
    "# drop the above feature\n",
    "df.drop([ 'Unnamed: 0','id', 'lat', 'long', 'posting_date', 'size', 'state'], axis=1, inplace=True)\n",
    "df"
   ]
  },
  {
   "cell_type": "markdown",
   "id": "ca8b72c2",
   "metadata": {},
   "source": [
    "### now we wants to handling the remain null value \n",
    "so we want to see the percentage of null value in each feature and after the result we will decide what to do"
   ]
  },
  {
   "cell_type": "code",
   "execution_count": 117,
   "id": "e45e2971",
   "metadata": {},
   "outputs": [
    {
     "data": {
      "text/plain": [
       "year             0.000000\n",
       "manufacturer     3.909296\n",
       "model            0.000000\n",
       "condition       40.018061\n",
       "cylinders       41.119640\n",
       "fuel             0.500812\n",
       "odometer         0.000000\n",
       "title_status     1.746120\n",
       "transmission     0.000000\n",
       "drive           30.361322\n",
       "type            21.575230\n",
       "paint_color     30.025609\n",
       "price            0.000000\n",
       "dtype: float64"
      ]
     },
     "execution_count": 117,
     "metadata": {},
     "output_type": "execute_result"
    }
   ],
   "source": [
    "\n",
    "df.isna().sum()/df.shape[0]*100"
   ]
  },
  {
   "cell_type": "markdown",
   "id": "30081de9",
   "metadata": {},
   "source": [
    "as shown above we can see that `\"year\"`, `\"manufacturer\"`, `\"model\"`, and `\"odometer\"` column has less than **5%** of null values. So we can simply `drop` those rows which have null values in these two columns."
   ]
  },
  {
   "cell_type": "code",
   "execution_count": 118,
   "id": "f4195d92",
   "metadata": {},
   "outputs": [
    {
     "data": {
      "text/html": [
       "<div>\n",
       "<style scoped>\n",
       "    .dataframe tbody tr th:only-of-type {\n",
       "        vertical-align: middle;\n",
       "    }\n",
       "\n",
       "    .dataframe tbody tr th {\n",
       "        vertical-align: top;\n",
       "    }\n",
       "\n",
       "    .dataframe thead th {\n",
       "        text-align: right;\n",
       "    }\n",
       "</style>\n",
       "<table border=\"1\" class=\"dataframe\">\n",
       "  <thead>\n",
       "    <tr style=\"text-align: right;\">\n",
       "      <th></th>\n",
       "      <th>year</th>\n",
       "      <th>manufacturer</th>\n",
       "      <th>model</th>\n",
       "      <th>condition</th>\n",
       "      <th>cylinders</th>\n",
       "      <th>fuel</th>\n",
       "      <th>odometer</th>\n",
       "      <th>title_status</th>\n",
       "      <th>transmission</th>\n",
       "      <th>drive</th>\n",
       "      <th>type</th>\n",
       "      <th>paint_color</th>\n",
       "      <th>price</th>\n",
       "    </tr>\n",
       "  </thead>\n",
       "  <tbody>\n",
       "    <tr>\n",
       "      <th>0</th>\n",
       "      <td>2007.0</td>\n",
       "      <td>infiniti</td>\n",
       "      <td>m45</td>\n",
       "      <td>excellent</td>\n",
       "      <td>NaN</td>\n",
       "      <td>gas</td>\n",
       "      <td>214740.0</td>\n",
       "      <td>clean</td>\n",
       "      <td>automatic</td>\n",
       "      <td>rwd</td>\n",
       "      <td>sedan</td>\n",
       "      <td>black</td>\n",
       "      <td>7995</td>\n",
       "    </tr>\n",
       "    <tr>\n",
       "      <th>1</th>\n",
       "      <td>2008.0</td>\n",
       "      <td>cadillac</td>\n",
       "      <td>escalade</td>\n",
       "      <td>NaN</td>\n",
       "      <td>NaN</td>\n",
       "      <td>gas</td>\n",
       "      <td>170276.0</td>\n",
       "      <td>clean</td>\n",
       "      <td>automatic</td>\n",
       "      <td>NaN</td>\n",
       "      <td>SUV</td>\n",
       "      <td>black</td>\n",
       "      <td>14999</td>\n",
       "    </tr>\n",
       "    <tr>\n",
       "      <th>2</th>\n",
       "      <td>2003.0</td>\n",
       "      <td>lexus</td>\n",
       "      <td>es</td>\n",
       "      <td>NaN</td>\n",
       "      <td>NaN</td>\n",
       "      <td>gas</td>\n",
       "      <td>176910.0</td>\n",
       "      <td>clean</td>\n",
       "      <td>automatic</td>\n",
       "      <td>fwd</td>\n",
       "      <td>sedan</td>\n",
       "      <td>NaN</td>\n",
       "      <td>5995</td>\n",
       "    </tr>\n",
       "    <tr>\n",
       "      <th>3</th>\n",
       "      <td>2017.0</td>\n",
       "      <td>bmw</td>\n",
       "      <td>320i</td>\n",
       "      <td>excellent</td>\n",
       "      <td>NaN</td>\n",
       "      <td>gas</td>\n",
       "      <td>41000.0</td>\n",
       "      <td>clean</td>\n",
       "      <td>automatic</td>\n",
       "      <td>4wd</td>\n",
       "      <td>SUV</td>\n",
       "      <td>NaN</td>\n",
       "      <td>0</td>\n",
       "    </tr>\n",
       "    <tr>\n",
       "      <th>4</th>\n",
       "      <td>2008.0</td>\n",
       "      <td>toyota</td>\n",
       "      <td>rav4</td>\n",
       "      <td>good</td>\n",
       "      <td>6 cylinders</td>\n",
       "      <td>gas</td>\n",
       "      <td>138900.0</td>\n",
       "      <td>clean</td>\n",
       "      <td>automatic</td>\n",
       "      <td>4wd</td>\n",
       "      <td>SUV</td>\n",
       "      <td>silver</td>\n",
       "      <td>7995</td>\n",
       "    </tr>\n",
       "    <tr>\n",
       "      <th>...</th>\n",
       "      <td>...</td>\n",
       "      <td>...</td>\n",
       "      <td>...</td>\n",
       "      <td>...</td>\n",
       "      <td>...</td>\n",
       "      <td>...</td>\n",
       "      <td>...</td>\n",
       "      <td>...</td>\n",
       "      <td>...</td>\n",
       "      <td>...</td>\n",
       "      <td>...</td>\n",
       "      <td>...</td>\n",
       "      <td>...</td>\n",
       "    </tr>\n",
       "    <tr>\n",
       "      <th>290123</th>\n",
       "      <td>2006.0</td>\n",
       "      <td>ram</td>\n",
       "      <td>3500 dually 5.9l 6-sp</td>\n",
       "      <td>NaN</td>\n",
       "      <td>6 cylinders</td>\n",
       "      <td>diesel</td>\n",
       "      <td>84891.0</td>\n",
       "      <td>clean</td>\n",
       "      <td>manual</td>\n",
       "      <td>4wd</td>\n",
       "      <td>truck</td>\n",
       "      <td>NaN</td>\n",
       "      <td>0</td>\n",
       "    </tr>\n",
       "    <tr>\n",
       "      <th>290124</th>\n",
       "      <td>2007.0</td>\n",
       "      <td>dodge</td>\n",
       "      <td>charger</td>\n",
       "      <td>NaN</td>\n",
       "      <td>NaN</td>\n",
       "      <td>gas</td>\n",
       "      <td>1000.0</td>\n",
       "      <td>clean</td>\n",
       "      <td>automatic</td>\n",
       "      <td>NaN</td>\n",
       "      <td>NaN</td>\n",
       "      <td>NaN</td>\n",
       "      <td>200</td>\n",
       "    </tr>\n",
       "    <tr>\n",
       "      <th>290125</th>\n",
       "      <td>2013.0</td>\n",
       "      <td>hyundai</td>\n",
       "      <td>santa fe sport awd</td>\n",
       "      <td>good</td>\n",
       "      <td>4 cylinders</td>\n",
       "      <td>gas</td>\n",
       "      <td>114000.0</td>\n",
       "      <td>clean</td>\n",
       "      <td>automatic</td>\n",
       "      <td>4wd</td>\n",
       "      <td>NaN</td>\n",
       "      <td>black</td>\n",
       "      <td>8900</td>\n",
       "    </tr>\n",
       "    <tr>\n",
       "      <th>290127</th>\n",
       "      <td>2009.0</td>\n",
       "      <td>jeep</td>\n",
       "      <td>wrangler</td>\n",
       "      <td>good</td>\n",
       "      <td>6 cylinders</td>\n",
       "      <td>gas</td>\n",
       "      <td>108000.0</td>\n",
       "      <td>clean</td>\n",
       "      <td>automatic</td>\n",
       "      <td>NaN</td>\n",
       "      <td>SUV</td>\n",
       "      <td>red</td>\n",
       "      <td>4500</td>\n",
       "    </tr>\n",
       "    <tr>\n",
       "      <th>290128</th>\n",
       "      <td>2014.0</td>\n",
       "      <td>ford</td>\n",
       "      <td>super duty f-350 drw</td>\n",
       "      <td>NaN</td>\n",
       "      <td>8 cylinders</td>\n",
       "      <td>diesel</td>\n",
       "      <td>79997.0</td>\n",
       "      <td>clean</td>\n",
       "      <td>automatic</td>\n",
       "      <td>4wd</td>\n",
       "      <td>truck</td>\n",
       "      <td>black</td>\n",
       "      <td>49995</td>\n",
       "    </tr>\n",
       "  </tbody>\n",
       "</table>\n",
       "<p>278787 rows × 13 columns</p>\n",
       "</div>"
      ],
      "text/plain": [
       "          year manufacturer                  model  condition    cylinders  \\\n",
       "0       2007.0     infiniti                    m45  excellent          NaN   \n",
       "1       2008.0     cadillac               escalade        NaN          NaN   \n",
       "2       2003.0        lexus                     es        NaN          NaN   \n",
       "3       2017.0          bmw                   320i  excellent          NaN   \n",
       "4       2008.0       toyota                   rav4       good  6 cylinders   \n",
       "...        ...          ...                    ...        ...          ...   \n",
       "290123  2006.0          ram  3500 dually 5.9l 6-sp        NaN  6 cylinders   \n",
       "290124  2007.0        dodge                charger        NaN          NaN   \n",
       "290125  2013.0      hyundai     santa fe sport awd       good  4 cylinders   \n",
       "290127  2009.0         jeep               wrangler       good  6 cylinders   \n",
       "290128  2014.0         ford   super duty f-350 drw        NaN  8 cylinders   \n",
       "\n",
       "          fuel  odometer title_status transmission drive   type paint_color  \\\n",
       "0          gas  214740.0        clean    automatic   rwd  sedan       black   \n",
       "1          gas  170276.0        clean    automatic   NaN    SUV       black   \n",
       "2          gas  176910.0        clean    automatic   fwd  sedan         NaN   \n",
       "3          gas   41000.0        clean    automatic   4wd    SUV         NaN   \n",
       "4          gas  138900.0        clean    automatic   4wd    SUV      silver   \n",
       "...        ...       ...          ...          ...   ...    ...         ...   \n",
       "290123  diesel   84891.0        clean       manual   4wd  truck         NaN   \n",
       "290124     gas    1000.0        clean    automatic   NaN    NaN         NaN   \n",
       "290125     gas  114000.0        clean    automatic   4wd    NaN       black   \n",
       "290127     gas  108000.0        clean    automatic   NaN    SUV         red   \n",
       "290128  diesel   79997.0        clean    automatic   4wd  truck       black   \n",
       "\n",
       "        price  \n",
       "0        7995  \n",
       "1       14999  \n",
       "2        5995  \n",
       "3           0  \n",
       "4        7995  \n",
       "...       ...  \n",
       "290123      0  \n",
       "290124    200  \n",
       "290125   8900  \n",
       "290127   4500  \n",
       "290128  49995  \n",
       "\n",
       "[278787 rows x 13 columns]"
      ]
     },
     "execution_count": 118,
     "metadata": {},
     "output_type": "execute_result"
    }
   ],
   "source": [
    "df = df.dropna(subset=['year', 'odometer', 'manufacturer', 'model'])\n",
    "df"
   ]
  },
  {
   "cell_type": "markdown",
   "id": "f78c0b4d",
   "metadata": {},
   "source": [
    "For all the missing values in other columns, we have just converted them in to a new category, `\"unknown\"`"
   ]
  },
  {
   "cell_type": "code",
   "execution_count": 119,
   "id": "30531754",
   "metadata": {},
   "outputs": [
    {
     "name": "stderr",
     "output_type": "stream",
     "text": [
      "C:\\Users\\emana\\AppData\\Local\\Temp\\ipykernel_18496\\1142219053.py:1: SettingWithCopyWarning: \n",
      "A value is trying to be set on a copy of a slice from a DataFrame\n",
      "\n",
      "See the caveats in the documentation: https://pandas.pydata.org/pandas-docs/stable/user_guide/indexing.html#returning-a-view-versus-a-copy\n",
      "  df.fillna('unknown', inplace=True)\n"
     ]
    },
    {
     "data": {
      "text/html": [
       "<div>\n",
       "<style scoped>\n",
       "    .dataframe tbody tr th:only-of-type {\n",
       "        vertical-align: middle;\n",
       "    }\n",
       "\n",
       "    .dataframe tbody tr th {\n",
       "        vertical-align: top;\n",
       "    }\n",
       "\n",
       "    .dataframe thead th {\n",
       "        text-align: right;\n",
       "    }\n",
       "</style>\n",
       "<table border=\"1\" class=\"dataframe\">\n",
       "  <thead>\n",
       "    <tr style=\"text-align: right;\">\n",
       "      <th></th>\n",
       "      <th>year</th>\n",
       "      <th>manufacturer</th>\n",
       "      <th>model</th>\n",
       "      <th>condition</th>\n",
       "      <th>cylinders</th>\n",
       "      <th>fuel</th>\n",
       "      <th>odometer</th>\n",
       "      <th>title_status</th>\n",
       "      <th>transmission</th>\n",
       "      <th>drive</th>\n",
       "      <th>type</th>\n",
       "      <th>paint_color</th>\n",
       "      <th>price</th>\n",
       "    </tr>\n",
       "  </thead>\n",
       "  <tbody>\n",
       "    <tr>\n",
       "      <th>0</th>\n",
       "      <td>2007.0</td>\n",
       "      <td>infiniti</td>\n",
       "      <td>m45</td>\n",
       "      <td>excellent</td>\n",
       "      <td>unknown</td>\n",
       "      <td>gas</td>\n",
       "      <td>214740.0</td>\n",
       "      <td>clean</td>\n",
       "      <td>automatic</td>\n",
       "      <td>rwd</td>\n",
       "      <td>sedan</td>\n",
       "      <td>black</td>\n",
       "      <td>7995</td>\n",
       "    </tr>\n",
       "    <tr>\n",
       "      <th>1</th>\n",
       "      <td>2008.0</td>\n",
       "      <td>cadillac</td>\n",
       "      <td>escalade</td>\n",
       "      <td>unknown</td>\n",
       "      <td>unknown</td>\n",
       "      <td>gas</td>\n",
       "      <td>170276.0</td>\n",
       "      <td>clean</td>\n",
       "      <td>automatic</td>\n",
       "      <td>unknown</td>\n",
       "      <td>SUV</td>\n",
       "      <td>black</td>\n",
       "      <td>14999</td>\n",
       "    </tr>\n",
       "    <tr>\n",
       "      <th>2</th>\n",
       "      <td>2003.0</td>\n",
       "      <td>lexus</td>\n",
       "      <td>es</td>\n",
       "      <td>unknown</td>\n",
       "      <td>unknown</td>\n",
       "      <td>gas</td>\n",
       "      <td>176910.0</td>\n",
       "      <td>clean</td>\n",
       "      <td>automatic</td>\n",
       "      <td>fwd</td>\n",
       "      <td>sedan</td>\n",
       "      <td>unknown</td>\n",
       "      <td>5995</td>\n",
       "    </tr>\n",
       "    <tr>\n",
       "      <th>3</th>\n",
       "      <td>2017.0</td>\n",
       "      <td>bmw</td>\n",
       "      <td>320i</td>\n",
       "      <td>excellent</td>\n",
       "      <td>unknown</td>\n",
       "      <td>gas</td>\n",
       "      <td>41000.0</td>\n",
       "      <td>clean</td>\n",
       "      <td>automatic</td>\n",
       "      <td>4wd</td>\n",
       "      <td>SUV</td>\n",
       "      <td>unknown</td>\n",
       "      <td>0</td>\n",
       "    </tr>\n",
       "    <tr>\n",
       "      <th>4</th>\n",
       "      <td>2008.0</td>\n",
       "      <td>toyota</td>\n",
       "      <td>rav4</td>\n",
       "      <td>good</td>\n",
       "      <td>6 cylinders</td>\n",
       "      <td>gas</td>\n",
       "      <td>138900.0</td>\n",
       "      <td>clean</td>\n",
       "      <td>automatic</td>\n",
       "      <td>4wd</td>\n",
       "      <td>SUV</td>\n",
       "      <td>silver</td>\n",
       "      <td>7995</td>\n",
       "    </tr>\n",
       "    <tr>\n",
       "      <th>...</th>\n",
       "      <td>...</td>\n",
       "      <td>...</td>\n",
       "      <td>...</td>\n",
       "      <td>...</td>\n",
       "      <td>...</td>\n",
       "      <td>...</td>\n",
       "      <td>...</td>\n",
       "      <td>...</td>\n",
       "      <td>...</td>\n",
       "      <td>...</td>\n",
       "      <td>...</td>\n",
       "      <td>...</td>\n",
       "      <td>...</td>\n",
       "    </tr>\n",
       "    <tr>\n",
       "      <th>290123</th>\n",
       "      <td>2006.0</td>\n",
       "      <td>ram</td>\n",
       "      <td>3500 dually 5.9l 6-sp</td>\n",
       "      <td>unknown</td>\n",
       "      <td>6 cylinders</td>\n",
       "      <td>diesel</td>\n",
       "      <td>84891.0</td>\n",
       "      <td>clean</td>\n",
       "      <td>manual</td>\n",
       "      <td>4wd</td>\n",
       "      <td>truck</td>\n",
       "      <td>unknown</td>\n",
       "      <td>0</td>\n",
       "    </tr>\n",
       "    <tr>\n",
       "      <th>290124</th>\n",
       "      <td>2007.0</td>\n",
       "      <td>dodge</td>\n",
       "      <td>charger</td>\n",
       "      <td>unknown</td>\n",
       "      <td>unknown</td>\n",
       "      <td>gas</td>\n",
       "      <td>1000.0</td>\n",
       "      <td>clean</td>\n",
       "      <td>automatic</td>\n",
       "      <td>unknown</td>\n",
       "      <td>unknown</td>\n",
       "      <td>unknown</td>\n",
       "      <td>200</td>\n",
       "    </tr>\n",
       "    <tr>\n",
       "      <th>290125</th>\n",
       "      <td>2013.0</td>\n",
       "      <td>hyundai</td>\n",
       "      <td>santa fe sport awd</td>\n",
       "      <td>good</td>\n",
       "      <td>4 cylinders</td>\n",
       "      <td>gas</td>\n",
       "      <td>114000.0</td>\n",
       "      <td>clean</td>\n",
       "      <td>automatic</td>\n",
       "      <td>4wd</td>\n",
       "      <td>unknown</td>\n",
       "      <td>black</td>\n",
       "      <td>8900</td>\n",
       "    </tr>\n",
       "    <tr>\n",
       "      <th>290127</th>\n",
       "      <td>2009.0</td>\n",
       "      <td>jeep</td>\n",
       "      <td>wrangler</td>\n",
       "      <td>good</td>\n",
       "      <td>6 cylinders</td>\n",
       "      <td>gas</td>\n",
       "      <td>108000.0</td>\n",
       "      <td>clean</td>\n",
       "      <td>automatic</td>\n",
       "      <td>unknown</td>\n",
       "      <td>SUV</td>\n",
       "      <td>red</td>\n",
       "      <td>4500</td>\n",
       "    </tr>\n",
       "    <tr>\n",
       "      <th>290128</th>\n",
       "      <td>2014.0</td>\n",
       "      <td>ford</td>\n",
       "      <td>super duty f-350 drw</td>\n",
       "      <td>unknown</td>\n",
       "      <td>8 cylinders</td>\n",
       "      <td>diesel</td>\n",
       "      <td>79997.0</td>\n",
       "      <td>clean</td>\n",
       "      <td>automatic</td>\n",
       "      <td>4wd</td>\n",
       "      <td>truck</td>\n",
       "      <td>black</td>\n",
       "      <td>49995</td>\n",
       "    </tr>\n",
       "  </tbody>\n",
       "</table>\n",
       "<p>278787 rows × 13 columns</p>\n",
       "</div>"
      ],
      "text/plain": [
       "          year manufacturer                  model  condition    cylinders  \\\n",
       "0       2007.0     infiniti                    m45  excellent      unknown   \n",
       "1       2008.0     cadillac               escalade    unknown      unknown   \n",
       "2       2003.0        lexus                     es    unknown      unknown   \n",
       "3       2017.0          bmw                   320i  excellent      unknown   \n",
       "4       2008.0       toyota                   rav4       good  6 cylinders   \n",
       "...        ...          ...                    ...        ...          ...   \n",
       "290123  2006.0          ram  3500 dually 5.9l 6-sp    unknown  6 cylinders   \n",
       "290124  2007.0        dodge                charger    unknown      unknown   \n",
       "290125  2013.0      hyundai     santa fe sport awd       good  4 cylinders   \n",
       "290127  2009.0         jeep               wrangler       good  6 cylinders   \n",
       "290128  2014.0         ford   super duty f-350 drw    unknown  8 cylinders   \n",
       "\n",
       "          fuel  odometer title_status transmission    drive     type  \\\n",
       "0          gas  214740.0        clean    automatic      rwd    sedan   \n",
       "1          gas  170276.0        clean    automatic  unknown      SUV   \n",
       "2          gas  176910.0        clean    automatic      fwd    sedan   \n",
       "3          gas   41000.0        clean    automatic      4wd      SUV   \n",
       "4          gas  138900.0        clean    automatic      4wd      SUV   \n",
       "...        ...       ...          ...          ...      ...      ...   \n",
       "290123  diesel   84891.0        clean       manual      4wd    truck   \n",
       "290124     gas    1000.0        clean    automatic  unknown  unknown   \n",
       "290125     gas  114000.0        clean    automatic      4wd  unknown   \n",
       "290127     gas  108000.0        clean    automatic  unknown      SUV   \n",
       "290128  diesel   79997.0        clean    automatic      4wd    truck   \n",
       "\n",
       "       paint_color  price  \n",
       "0            black   7995  \n",
       "1            black  14999  \n",
       "2          unknown   5995  \n",
       "3          unknown      0  \n",
       "4           silver   7995  \n",
       "...            ...    ...  \n",
       "290123     unknown      0  \n",
       "290124     unknown    200  \n",
       "290125       black   8900  \n",
       "290127         red   4500  \n",
       "290128       black  49995  \n",
       "\n",
       "[278787 rows x 13 columns]"
      ]
     },
     "execution_count": 119,
     "metadata": {},
     "output_type": "execute_result"
    }
   ],
   "source": [
    "df.fillna('unknown', inplace=True)\n",
    "df"
   ]
  },
  {
   "cell_type": "markdown",
   "id": "c973dcc1",
   "metadata": {},
   "source": [
    "### handling duplicated values"
   ]
  },
  {
   "cell_type": "code",
   "execution_count": 120,
   "id": "489f8eb0",
   "metadata": {},
   "outputs": [
    {
     "data": {
      "text/plain": [
       "104795"
      ]
     },
     "execution_count": 120,
     "metadata": {},
     "output_type": "execute_result"
    }
   ],
   "source": [
    "df.duplicated().sum()"
   ]
  },
  {
   "cell_type": "markdown",
   "id": "c1715421",
   "metadata": {},
   "source": [
    "so as we can see here there is no duplicate values"
   ]
  },
  {
   "cell_type": "markdown",
   "id": "13f5b7a1",
   "metadata": {},
   "source": [
    "## Categorical data\n",
    "now we'll starts with Categorical data cleaning\n",
    "let's start"
   ]
  },
  {
   "cell_type": "markdown",
   "id": "5cbc7fec",
   "metadata": {},
   "source": [
    "### `manufacturer` column"
   ]
  },
  {
   "cell_type": "code",
   "execution_count": 121,
   "id": "818729b8",
   "metadata": {},
   "outputs": [
    {
     "data": {
      "text/plain": [
       "ford               48457\n",
       "chevrolet          37324\n",
       "toyota             23396\n",
       "honda              14545\n",
       "jeep               13052\n",
       "nissan             12920\n",
       "ram                12056\n",
       "gmc                11373\n",
       "bmw                10174\n",
       "dodge               9317\n",
       "mercedes-benz       7946\n",
       "hyundai             7127\n",
       "subaru              6513\n",
       "volkswagen          6425\n",
       "kia                 5750\n",
       "lexus               5653\n",
       "audi                5185\n",
       "cadillac            4817\n",
       "chrysler            4121\n",
       "acura               4108\n",
       "buick               3792\n",
       "mazda               3699\n",
       "infiniti            3310\n",
       "lincoln             2908\n",
       "mitsubishi          2275\n",
       "volvo               2254\n",
       "mini                1657\n",
       "pontiac             1553\n",
       "jaguar              1358\n",
       "rover               1236\n",
       "porsche              967\n",
       "mercury              805\n",
       "saturn               734\n",
       "alfa-romeo           616\n",
       "tesla                595\n",
       "fiat                 555\n",
       "harley-davidson       79\n",
       "ferrari               58\n",
       "datsun                42\n",
       "aston-martin          21\n",
       "land rover            14\n",
       "Name: manufacturer, dtype: int64"
      ]
     },
     "execution_count": 121,
     "metadata": {},
     "output_type": "execute_result"
    }
   ],
   "source": [
    "# now we want to see the classes in it\n",
    "manufacturer = df['manufacturer'].value_counts()\n",
    "manufacturer"
   ]
  },
  {
   "cell_type": "markdown",
   "id": "51c3c5d6",
   "metadata": {},
   "source": [
    "Looking at the count of manufacturers, it is evident that there are a few manufacturers with significantly higher vehicle counts compared to the rest. The top 30 manufacturers account for a large portion of the data, while the remaining manufacturers have relatively smaller counts."
   ]
  },
  {
   "cell_type": "code",
   "execution_count": 122,
   "id": "aff9d8e3",
   "metadata": {},
   "outputs": [
    {
     "name": "stderr",
     "output_type": "stream",
     "text": [
      "C:\\Users\\emana\\AppData\\Local\\Temp\\ipykernel_18496\\3076479198.py:2: SettingWithCopyWarning: \n",
      "A value is trying to be set on a copy of a slice from a DataFrame.\n",
      "Try using .loc[row_indexer,col_indexer] = value instead\n",
      "\n",
      "See the caveats in the documentation: https://pandas.pydata.org/pandas-docs/stable/user_guide/indexing.html#returning-a-view-versus-a-copy\n",
      "  df['manufacturer'] = df['manufacturer'].apply(lambda x: x if str(x) in manufacturer[:30] else 'others')\n"
     ]
    },
    {
     "data": {
      "text/plain": [
       "0         infiniti\n",
       "1         cadillac\n",
       "2            lexus\n",
       "3              bmw\n",
       "4           toyota\n",
       "            ...   \n",
       "290123         ram\n",
       "290124       dodge\n",
       "290125     hyundai\n",
       "290127        jeep\n",
       "290128        ford\n",
       "Name: manufacturer, Length: 278787, dtype: object"
      ]
     },
     "execution_count": 122,
     "metadata": {},
     "output_type": "execute_result"
    }
   ],
   "source": [
    "# here we will apply the lambda function and it's will loop in every instance in thsi column and if the manufacturer from the 30 its will remain the same and if it's not will rename it other\n",
    "df['manufacturer'] = df['manufacturer'].apply(lambda x: x if str(x) in manufacturer[:30] else 'others')\n",
    "df['manufacturer']"
   ]
  },
  {
   "cell_type": "markdown",
   "id": "6f61379a",
   "metadata": {},
   "source": [
    "### ` model` column"
   ]
  },
  {
   "cell_type": "code",
   "execution_count": 123,
   "id": "c55b8a07",
   "metadata": {},
   "outputs": [
    {
     "data": {
      "text/plain": [
       "f-150                 5507\n",
       "silverado 1500        3483\n",
       "1500                  2882\n",
       "camry                 2137\n",
       "silverado             2099\n",
       "accord                2071\n",
       "wrangler              1948\n",
       "2500                  1909\n",
       "escape                1886\n",
       "civic                 1867\n",
       "altima                1842\n",
       "explorer              1768\n",
       "tacoma                1716\n",
       "grand cherokee        1694\n",
       "corolla               1516\n",
       "mustang               1500\n",
       "equinox               1354\n",
       "cr-v                  1326\n",
       "fusion                1315\n",
       "focus                 1244\n",
       "rav4                  1191\n",
       "charger               1187\n",
       "sonata                1186\n",
       "malibu                1177\n",
       "impala                1174\n",
       "tahoe                 1172\n",
       "corvette              1145\n",
       "grand caravan         1123\n",
       "sierra 1500           1100\n",
       "f-250                 1057\n",
       "outback               1050\n",
       "silverado 2500hd      1041\n",
       "3500                  1022\n",
       "odyssey               1020\n",
       "elantra               1017\n",
       "cruze                 1017\n",
       "edge                  1008\n",
       "tundra                 988\n",
       "prius                  986\n",
       "jetta                  961\n",
       "rogue                  930\n",
       "forester               929\n",
       "wrangler unlimited     875\n",
       "sentra                 871\n",
       "sierra                 870\n",
       "soul                   776\n",
       "cherokee               774\n",
       "f-350                  773\n",
       "camaro                 765\n",
       "f150                   764\n",
       "Name: model, dtype: int64"
      ]
     },
     "execution_count": 123,
     "metadata": {},
     "output_type": "execute_result"
    }
   ],
   "source": [
    "model = df['model'].value_counts()\n",
    "model[:50]"
   ]
  },
  {
   "cell_type": "markdown",
   "id": "1f7bff48",
   "metadata": {},
   "source": [
    "as we did in the manufacturer column we will apply the same method in this column but here the first 50 "
   ]
  },
  {
   "cell_type": "code",
   "execution_count": 124,
   "id": "e8297837",
   "metadata": {},
   "outputs": [
    {
     "name": "stderr",
     "output_type": "stream",
     "text": [
      "C:\\Users\\emana\\AppData\\Local\\Temp\\ipykernel_18496\\541743144.py:1: SettingWithCopyWarning: \n",
      "A value is trying to be set on a copy of a slice from a DataFrame.\n",
      "Try using .loc[row_indexer,col_indexer] = value instead\n",
      "\n",
      "See the caveats in the documentation: https://pandas.pydata.org/pandas-docs/stable/user_guide/indexing.html#returning-a-view-versus-a-copy\n",
      "  df['model'] = df['model'].apply(lambda x: x if str(x) in model[:50] else 'others')\n"
     ]
    },
    {
     "data": {
      "text/plain": [
       "0           others\n",
       "1           others\n",
       "2           others\n",
       "3           others\n",
       "4             rav4\n",
       "            ...   \n",
       "290123      others\n",
       "290124     charger\n",
       "290125      others\n",
       "290127    wrangler\n",
       "290128      others\n",
       "Name: model, Length: 278787, dtype: object"
      ]
     },
     "execution_count": 124,
     "metadata": {},
     "output_type": "execute_result"
    }
   ],
   "source": [
    "\n",
    "df['model'] = df['model'].apply(lambda x: x if str(x) in model[:50] else 'others')\n",
    "df['model']"
   ]
  },
  {
   "cell_type": "code",
   "execution_count": 125,
   "id": "4d118873",
   "metadata": {},
   "outputs": [
    {
     "name": "stdout",
     "output_type": "stream",
     "text": [
      "year 104\n",
      "manufacturer 31\n",
      "model 51\n",
      "condition 7\n",
      "cylinders 9\n",
      "fuel 6\n",
      "odometer 84767\n",
      "title_status 7\n",
      "transmission 3\n",
      "drive 4\n",
      "type 14\n",
      "paint_color 13\n",
      "price 13137\n"
     ]
    }
   ],
   "source": [
    "# now lets see all value counts for all columns \n",
    "for i in df.columns:\n",
    "    print(i, len(df[i].value_counts().index))"
   ]
  },
  {
   "cell_type": "markdown",
   "id": "3e3d8d3f",
   "metadata": {},
   "source": [
    "## Numerical Data \n",
    "numerical Data Cleaning"
   ]
  },
  {
   "cell_type": "code",
   "execution_count": 126,
   "id": "e9bbfdf5",
   "metadata": {
    "scrolled": true
   },
   "outputs": [
    {
     "data": {
      "text/html": [
       "<div>\n",
       "<style scoped>\n",
       "    .dataframe tbody tr th:only-of-type {\n",
       "        vertical-align: middle;\n",
       "    }\n",
       "\n",
       "    .dataframe tbody tr th {\n",
       "        vertical-align: top;\n",
       "    }\n",
       "\n",
       "    .dataframe thead th {\n",
       "        text-align: right;\n",
       "    }\n",
       "</style>\n",
       "<table border=\"1\" class=\"dataframe\">\n",
       "  <thead>\n",
       "    <tr style=\"text-align: right;\">\n",
       "      <th></th>\n",
       "      <th>year</th>\n",
       "      <th>odometer</th>\n",
       "      <th>price</th>\n",
       "    </tr>\n",
       "  </thead>\n",
       "  <tbody>\n",
       "    <tr>\n",
       "      <th>count</th>\n",
       "      <td>278787.000000</td>\n",
       "      <td>2.787870e+05</td>\n",
       "      <td>2.787870e+05</td>\n",
       "    </tr>\n",
       "    <tr>\n",
       "      <th>mean</th>\n",
       "      <td>2011.638520</td>\n",
       "      <td>9.620462e+04</td>\n",
       "      <td>5.327949e+04</td>\n",
       "    </tr>\n",
       "    <tr>\n",
       "      <th>std</th>\n",
       "      <td>8.598953</td>\n",
       "      <td>1.920559e+05</td>\n",
       "      <td>9.784836e+06</td>\n",
       "    </tr>\n",
       "    <tr>\n",
       "      <th>min</th>\n",
       "      <td>1900.000000</td>\n",
       "      <td>0.000000e+00</td>\n",
       "      <td>0.000000e+00</td>\n",
       "    </tr>\n",
       "    <tr>\n",
       "      <th>25%</th>\n",
       "      <td>2009.000000</td>\n",
       "      <td>3.815500e+04</td>\n",
       "      <td>5.995000e+03</td>\n",
       "    </tr>\n",
       "    <tr>\n",
       "      <th>50%</th>\n",
       "      <td>2014.000000</td>\n",
       "      <td>8.566200e+04</td>\n",
       "      <td>1.399500e+04</td>\n",
       "    </tr>\n",
       "    <tr>\n",
       "      <th>75%</th>\n",
       "      <td>2017.000000</td>\n",
       "      <td>1.330000e+05</td>\n",
       "      <td>2.650000e+04</td>\n",
       "    </tr>\n",
       "    <tr>\n",
       "      <th>max</th>\n",
       "      <td>2022.000000</td>\n",
       "      <td>1.000000e+07</td>\n",
       "      <td>3.736929e+09</td>\n",
       "    </tr>\n",
       "  </tbody>\n",
       "</table>\n",
       "</div>"
      ],
      "text/plain": [
       "                year      odometer         price\n",
       "count  278787.000000  2.787870e+05  2.787870e+05\n",
       "mean     2011.638520  9.620462e+04  5.327949e+04\n",
       "std         8.598953  1.920559e+05  9.784836e+06\n",
       "min      1900.000000  0.000000e+00  0.000000e+00\n",
       "25%      2009.000000  3.815500e+04  5.995000e+03\n",
       "50%      2014.000000  8.566200e+04  1.399500e+04\n",
       "75%      2017.000000  1.330000e+05  2.650000e+04\n",
       "max      2022.000000  1.000000e+07  3.736929e+09"
      ]
     },
     "execution_count": 126,
     "metadata": {},
     "output_type": "execute_result"
    }
   ],
   "source": [
    "# let's see more info \n",
    "df.describe()"
   ]
  },
  {
   "cell_type": "markdown",
   "id": "31aeae23",
   "metadata": {},
   "source": [
    "here we want to create a function for plotting the box plot to get more insight about the outlier "
   ]
  },
  {
   "cell_type": "code",
   "execution_count": 127,
   "id": "b96c1157",
   "metadata": {},
   "outputs": [],
   "source": [
    "def box_plot(name):\n",
    "    # Create subplots to display multiple box plots side by side\n",
    "    plt.figure(figsize=(8, 4))\n",
    "\n",
    "    # Box plot for 'price' column\n",
    "    sns.boxplot(x=df[name], color='lightblue')\n",
    "    plt.xlabel(name)\n",
    "    plt.title(f'Box Plot of {name}')"
   ]
  },
  {
   "cell_type": "code",
   "execution_count": 128,
   "id": "b47e1276",
   "metadata": {},
   "outputs": [
    {
     "data": {
      "image/png": "[encoded data removed]",
      "text/plain": [
       "<Figure size 800x400 with 1 Axes>"
      ]
     },
     "metadata": {},
     "output_type": "display_data"
    }
   ],
   "source": [
    "box_plot('price')"
   ]
  },
  {
   "cell_type": "code",
   "execution_count": 129,
   "id": "6943956a",
   "metadata": {},
   "outputs": [
    {
     "data": {
      "image/png": "[encoded data removed]",
      "text/plain": [
       "<Figure size 800x400 with 1 Axes>"
      ]
     },
     "metadata": {},
     "output_type": "display_data"
    }
   ],
   "source": [
    "box_plot('year')"
   ]
  },
  {
   "cell_type": "code",
   "execution_count": 130,
   "id": "d9f3724d",
   "metadata": {},
   "outputs": [
    {
     "data": {
      "image/png": "[encoded data removed]",
      "text/plain": [
       "<Figure size 800x400 with 1 Axes>"
      ]
     },
     "metadata": {},
     "output_type": "display_data"
    }
   ],
   "source": [
    "box_plot('odometer')"
   ]
  },
  {
   "cell_type": "markdown",
   "id": "087cb96f",
   "metadata": {},
   "source": [
    "as we can see they are a lots of outliers in these columns,the Outliers reduces the accuracy of a model. We have to detect outliers and remove them."
   ]
  },
  {
   "cell_type": "markdown",
   "id": "12320593",
   "metadata": {},
   "source": [
    "now i want to apply the IQR if you want more information about this i recommend the following video that i take the solution from it\n",
    "> https://www.youtube.com/watch?v=A3gClkblXK8"
   ]
  },
  {
   "cell_type": "code",
   "execution_count": 142,
   "id": "a2439a34",
   "metadata": {},
   "outputs": [],
   "source": [
    "def IQR(name):\n",
    "    global new_df\n",
    "    Q1 = df[name].quantile(0.25)\n",
    "    Q3 = df[name].quantile(0.75)\n",
    "    print(f\"Q1  {name}  {Q1}, Q3  {name}  {Q3}\")\n",
    "    print(\"---------------------------------------\")\n",
    "    iqr = Q3 - Q1\n",
    "    print(f\"IQR for {name} is equal to {iqr}\")\n",
    "    print(\"---------------------------------------\")\n",
    "    upper_limit = Q1 + 1.5 * iqr\n",
    "    lower_limit = df[name].quantile(0.15)\n",
    "    new_df = df[(df[name] < upper_limit) & (df[name] > lower_limit)]\n",
    "    print(f\"new_df for {name} is { new_df}\")\n",
    "    print(\"---------------------------------------\")\n",
    "    print(f\"the shape for it { new_df.shape}\")\n",
    "    "
   ]
  },
  {
   "cell_type": "code",
   "execution_count": 143,
   "id": "436af290",
   "metadata": {
    "scrolled": false
   },
   "outputs": [
    {
     "name": "stdout",
     "output_type": "stream",
     "text": [
      "Q1  price  7999.0, Q3  price  21921.5\n",
      "---------------------------------------\n",
      "IQR for price is equal to 13922.5\n",
      "---------------------------------------\n",
      "new_df for price is         year manufacturer   model  condition    cylinders   fuel  odometer  \\\n",
      "1       2008     cadillac  others    unknown      unknown    gas    170276   \n",
      "4       2008       toyota    rav4       good  6 cylinders    gas    138900   \n",
      "5       2010         ford    f150  excellent  8 cylinders    gas    156700   \n",
      "6       2015       nissan  others  excellent  6 cylinders    gas     67351   \n",
      "7       2016         ford  others    unknown      unknown    gas     37000   \n",
      "...      ...          ...     ...        ...          ...    ...       ...   \n",
      "290115  2009       toyota  others    unknown  6 cylinders    gas    146655   \n",
      "290116  2014         audi  others    unknown  4 cylinders    gas    108330   \n",
      "290118  2011    chevrolet  impala    unknown      unknown  other     98499   \n",
      "290119  2013          ram    2500       good  8 cylinders    gas    135000   \n",
      "290125  2013      hyundai  others       good  4 cylinders    gas    114000   \n",
      "\n",
      "       title_status transmission    drive     type paint_color  price  \n",
      "1             clean    automatic  unknown      SUV       black  14999  \n",
      "4             clean    automatic      4wd      SUV      silver   7995  \n",
      "5             clean    automatic      4wd  unknown     unknown  18300  \n",
      "6           unknown    automatic      4wd      SUV     unknown  15919  \n",
      "7             clean    automatic  unknown  unknown     unknown  24695  \n",
      "...             ...          ...      ...      ...         ...    ...  \n",
      "290115        clean    automatic      fwd      SUV        blue  12995  \n",
      "290116        clean    automatic  unknown    sedan        blue  16995  \n",
      "290118        clean    automatic  unknown    sedan     unknown   8495  \n",
      "290119        clean    automatic      4wd    truck       white  20500  \n",
      "290125        clean    automatic      4wd  unknown       black   8900  \n",
      "\n",
      "[117614 rows x 13 columns]\n",
      "---------------------------------------\n",
      "the shape for it (117614, 13)\n"
     ]
    }
   ],
   "source": [
    "\n",
    "IQR('price')"
   ]
  },
  {
   "cell_type": "code",
   "execution_count": 144,
   "id": "e55b03fa",
   "metadata": {
    "scrolled": false
   },
   "outputs": [
    {
     "name": "stdout",
     "output_type": "stream",
     "text": [
      "Q1  odometer  64000.0, Q3  odometer  130577.5\n",
      "---------------------------------------\n",
      "IQR for odometer is equal to 66577.5\n",
      "---------------------------------------\n",
      "new_df for odometer is         year manufacturer     model  condition    cylinders   fuel  odometer  \\\n",
      "4       2008       toyota      rav4       good  6 cylinders    gas    138900   \n",
      "5       2010         ford      f150  excellent  8 cylinders    gas    156700   \n",
      "6       2015       nissan    others  excellent  6 cylinders    gas     67351   \n",
      "8       2012       toyota    others    unknown  6 cylinders    gas    157653   \n",
      "12      2015         ford    others    unknown      unknown    gas     99000   \n",
      "...      ...          ...       ...        ...          ...    ...       ...   \n",
      "290117  1986    chevrolet    others       good  8 cylinders    gas     74100   \n",
      "290118  2011    chevrolet    impala    unknown      unknown  other     98499   \n",
      "290119  2013          ram      2500       good  8 cylinders    gas    135000   \n",
      "290125  2013      hyundai    others       good  4 cylinders    gas    114000   \n",
      "290127  2009         jeep  wrangler       good  6 cylinders    gas    108000   \n",
      "\n",
      "       title_status transmission    drive      type paint_color  price  \n",
      "4             clean    automatic      4wd       SUV      silver   7995  \n",
      "5             clean    automatic      4wd   unknown     unknown  18300  \n",
      "6           unknown    automatic      4wd       SUV     unknown  15919  \n",
      "8             clean    automatic      4wd  mini-van        grey  11995  \n",
      "12            clean    automatic  unknown   unknown     unknown  31995  \n",
      "...             ...          ...      ...       ...         ...    ...  \n",
      "290117        clean    automatic      4wd       SUV     unknown   4400  \n",
      "290118        clean    automatic  unknown     sedan     unknown   8495  \n",
      "290119        clean    automatic      4wd     truck       white  20500  \n",
      "290125        clean    automatic      4wd   unknown       black   8900  \n",
      "290127        clean    automatic  unknown       SUV         red   4500  \n",
      "\n",
      "[124891 rows x 13 columns]\n",
      "---------------------------------------\n",
      "the shape for it (124891, 13)\n"
     ]
    }
   ],
   "source": [
    "\n",
    "IQR('odometer')\n"
   ]
  },
  {
   "cell_type": "markdown",
   "id": "ba8a75b8",
   "metadata": {},
   "source": [
    "## Feature Enginneering"
   ]
  },
  {
   "cell_type": "code",
   "execution_count": 145,
   "id": "f2c0a036",
   "metadata": {},
   "outputs": [
    {
     "data": {
      "text/html": [
       "<div>\n",
       "<style scoped>\n",
       "    .dataframe tbody tr th:only-of-type {\n",
       "        vertical-align: middle;\n",
       "    }\n",
       "\n",
       "    .dataframe tbody tr th {\n",
       "        vertical-align: top;\n",
       "    }\n",
       "\n",
       "    .dataframe thead th {\n",
       "        text-align: right;\n",
       "    }\n",
       "</style>\n",
       "<table border=\"1\" class=\"dataframe\">\n",
       "  <thead>\n",
       "    <tr style=\"text-align: right;\">\n",
       "      <th></th>\n",
       "      <th>year</th>\n",
       "      <th>manufacturer</th>\n",
       "      <th>model</th>\n",
       "      <th>condition</th>\n",
       "      <th>cylinders</th>\n",
       "      <th>fuel</th>\n",
       "      <th>odometer</th>\n",
       "      <th>title_status</th>\n",
       "      <th>transmission</th>\n",
       "      <th>drive</th>\n",
       "      <th>type</th>\n",
       "      <th>paint_color</th>\n",
       "      <th>price</th>\n",
       "    </tr>\n",
       "  </thead>\n",
       "  <tbody>\n",
       "    <tr>\n",
       "      <th>284018</th>\n",
       "      <td>2014</td>\n",
       "      <td>volkswagen</td>\n",
       "      <td>others</td>\n",
       "      <td>excellent</td>\n",
       "      <td>6 cylinders</td>\n",
       "      <td>gas</td>\n",
       "      <td>159650</td>\n",
       "      <td>clean</td>\n",
       "      <td>automatic</td>\n",
       "      <td>4wd</td>\n",
       "      <td>SUV</td>\n",
       "      <td>blue</td>\n",
       "      <td>12250</td>\n",
       "    </tr>\n",
       "    <tr>\n",
       "      <th>110954</th>\n",
       "      <td>2011</td>\n",
       "      <td>chrysler</td>\n",
       "      <td>others</td>\n",
       "      <td>excellent</td>\n",
       "      <td>8 cylinders</td>\n",
       "      <td>gas</td>\n",
       "      <td>160937</td>\n",
       "      <td>clean</td>\n",
       "      <td>automatic</td>\n",
       "      <td>rwd</td>\n",
       "      <td>sedan</td>\n",
       "      <td>unknown</td>\n",
       "      <td>8995</td>\n",
       "    </tr>\n",
       "    <tr>\n",
       "      <th>269015</th>\n",
       "      <td>2017</td>\n",
       "      <td>bmw</td>\n",
       "      <td>others</td>\n",
       "      <td>excellent</td>\n",
       "      <td>unknown</td>\n",
       "      <td>gas</td>\n",
       "      <td>70924</td>\n",
       "      <td>clean</td>\n",
       "      <td>automatic</td>\n",
       "      <td>rwd</td>\n",
       "      <td>sedan</td>\n",
       "      <td>black</td>\n",
       "      <td>17985</td>\n",
       "    </tr>\n",
       "    <tr>\n",
       "      <th>134739</th>\n",
       "      <td>2012</td>\n",
       "      <td>ford</td>\n",
       "      <td>f-150</td>\n",
       "      <td>good</td>\n",
       "      <td>8 cylinders</td>\n",
       "      <td>gas</td>\n",
       "      <td>160000</td>\n",
       "      <td>clean</td>\n",
       "      <td>automatic</td>\n",
       "      <td>unknown</td>\n",
       "      <td>pickup</td>\n",
       "      <td>red</td>\n",
       "      <td>11500</td>\n",
       "    </tr>\n",
       "    <tr>\n",
       "      <th>134641</th>\n",
       "      <td>2013</td>\n",
       "      <td>nissan</td>\n",
       "      <td>others</td>\n",
       "      <td>good</td>\n",
       "      <td>4 cylinders</td>\n",
       "      <td>gas</td>\n",
       "      <td>91000</td>\n",
       "      <td>clean</td>\n",
       "      <td>automatic</td>\n",
       "      <td>fwd</td>\n",
       "      <td>sedan</td>\n",
       "      <td>silver</td>\n",
       "      <td>6950</td>\n",
       "    </tr>\n",
       "    <tr>\n",
       "      <th>209714</th>\n",
       "      <td>2017</td>\n",
       "      <td>ford</td>\n",
       "      <td>others</td>\n",
       "      <td>excellent</td>\n",
       "      <td>4 cylinders</td>\n",
       "      <td>gas</td>\n",
       "      <td>106730</td>\n",
       "      <td>unknown</td>\n",
       "      <td>automatic</td>\n",
       "      <td>unknown</td>\n",
       "      <td>SUV</td>\n",
       "      <td>unknown</td>\n",
       "      <td>12506</td>\n",
       "    </tr>\n",
       "    <tr>\n",
       "      <th>95432</th>\n",
       "      <td>2009</td>\n",
       "      <td>honda</td>\n",
       "      <td>others</td>\n",
       "      <td>excellent</td>\n",
       "      <td>4 cylinders</td>\n",
       "      <td>gas</td>\n",
       "      <td>159000</td>\n",
       "      <td>clean</td>\n",
       "      <td>automatic</td>\n",
       "      <td>fwd</td>\n",
       "      <td>sedan</td>\n",
       "      <td>blue</td>\n",
       "      <td>6500</td>\n",
       "    </tr>\n",
       "    <tr>\n",
       "      <th>117865</th>\n",
       "      <td>2012</td>\n",
       "      <td>jeep</td>\n",
       "      <td>others</td>\n",
       "      <td>unknown</td>\n",
       "      <td>unknown</td>\n",
       "      <td>gas</td>\n",
       "      <td>123803</td>\n",
       "      <td>unknown</td>\n",
       "      <td>automatic</td>\n",
       "      <td>4wd</td>\n",
       "      <td>unknown</td>\n",
       "      <td>silver</td>\n",
       "      <td>13995</td>\n",
       "    </tr>\n",
       "    <tr>\n",
       "      <th>123991</th>\n",
       "      <td>2009</td>\n",
       "      <td>ford</td>\n",
       "      <td>others</td>\n",
       "      <td>good</td>\n",
       "      <td>4 cylinders</td>\n",
       "      <td>gas</td>\n",
       "      <td>97000</td>\n",
       "      <td>clean</td>\n",
       "      <td>automatic</td>\n",
       "      <td>fwd</td>\n",
       "      <td>sedan</td>\n",
       "      <td>unknown</td>\n",
       "      <td>4500</td>\n",
       "    </tr>\n",
       "    <tr>\n",
       "      <th>126770</th>\n",
       "      <td>2016</td>\n",
       "      <td>honda</td>\n",
       "      <td>accord</td>\n",
       "      <td>excellent</td>\n",
       "      <td>4 cylinders</td>\n",
       "      <td>gas</td>\n",
       "      <td>68220</td>\n",
       "      <td>clean</td>\n",
       "      <td>automatic</td>\n",
       "      <td>fwd</td>\n",
       "      <td>sedan</td>\n",
       "      <td>blue</td>\n",
       "      <td>16900</td>\n",
       "    </tr>\n",
       "  </tbody>\n",
       "</table>\n",
       "</div>"
      ],
      "text/plain": [
       "        year manufacturer   model  condition    cylinders fuel  odometer  \\\n",
       "284018  2014   volkswagen  others  excellent  6 cylinders  gas    159650   \n",
       "110954  2011     chrysler  others  excellent  8 cylinders  gas    160937   \n",
       "269015  2017          bmw  others  excellent      unknown  gas     70924   \n",
       "134739  2012         ford   f-150       good  8 cylinders  gas    160000   \n",
       "134641  2013       nissan  others       good  4 cylinders  gas     91000   \n",
       "209714  2017         ford  others  excellent  4 cylinders  gas    106730   \n",
       "95432   2009        honda  others  excellent  4 cylinders  gas    159000   \n",
       "117865  2012         jeep  others    unknown      unknown  gas    123803   \n",
       "123991  2009         ford  others       good  4 cylinders  gas     97000   \n",
       "126770  2016        honda  accord  excellent  4 cylinders  gas     68220   \n",
       "\n",
       "       title_status transmission    drive     type paint_color  price  \n",
       "284018        clean    automatic      4wd      SUV        blue  12250  \n",
       "110954        clean    automatic      rwd    sedan     unknown   8995  \n",
       "269015        clean    automatic      rwd    sedan       black  17985  \n",
       "134739        clean    automatic  unknown   pickup         red  11500  \n",
       "134641        clean    automatic      fwd    sedan      silver   6950  \n",
       "209714      unknown    automatic  unknown      SUV     unknown  12506  \n",
       "95432         clean    automatic      fwd    sedan        blue   6500  \n",
       "117865      unknown    automatic      4wd  unknown      silver  13995  \n",
       "123991        clean    automatic      fwd    sedan     unknown   4500  \n",
       "126770        clean    automatic      fwd    sedan        blue  16900  "
      ]
     },
     "execution_count": 145,
     "metadata": {},
     "output_type": "execute_result"
    }
   ],
   "source": [
    "new_df.sample(10)"
   ]
  },
  {
   "cell_type": "code",
   "execution_count": 146,
   "id": "1b1df30c",
   "metadata": {},
   "outputs": [
    {
     "name": "stderr",
     "output_type": "stream",
     "text": [
      "C:\\Users\\emana\\AppData\\Local\\Temp\\ipykernel_18496\\1939936507.py:2: SettingWithCopyWarning: \n",
      "A value is trying to be set on a copy of a slice from a DataFrame.\n",
      "Try using .loc[row_indexer,col_indexer] = value instead\n",
      "\n",
      "See the caveats in the documentation: https://pandas.pydata.org/pandas-docs/stable/user_guide/indexing.html#returning-a-view-versus-a-copy\n",
      "  new_df['odometer'] = new_df['odometer'].astype(int)\n",
      "C:\\Users\\emana\\AppData\\Local\\Temp\\ipykernel_18496\\1939936507.py:3: SettingWithCopyWarning: \n",
      "A value is trying to be set on a copy of a slice from a DataFrame.\n",
      "Try using .loc[row_indexer,col_indexer] = value instead\n",
      "\n",
      "See the caveats in the documentation: https://pandas.pydata.org/pandas-docs/stable/user_guide/indexing.html#returning-a-view-versus-a-copy\n",
      "  new_df['year'] =  new_df['year'].astype(int)\n"
     ]
    }
   ],
   "source": [
    "# convert the odometer and year from float to integer\n",
    "new_df['odometer'] = new_df['odometer'].astype(int)\n",
    "new_df['year'] =  new_df['year'].astype(int)"
   ]
  },
  {
   "cell_type": "code",
   "execution_count": 147,
   "id": "91f6e438",
   "metadata": {},
   "outputs": [
    {
     "data": {
      "image/png": "[encoded data removed]",
      "text/plain": [
       "<Figure size 1200x900 with 1 Axes>"
      ]
     },
     "metadata": {},
     "output_type": "display_data"
    }
   ],
   "source": [
    "plt.rcParams[\"figure.autolayout\"] = True\n",
    "sns.set_palette('summer_r')\n",
    "plt.figure(figsize =(12,9))\n",
    "sns.barplot(y= new_df['price'],x= new_df['year'])\n",
    "plt.title(\"Price VS Year\",fontsize=20,fontweight ='bold')\n",
    "plt.xlabel('year',fontsize = 20)\n",
    "plt.xticks(rotation=60)\n",
    "plt.ylabel('price ',fontsize = 20)\n",
    "plt.tight_layout()\n",
    "plt.show()"
   ]
  },
  {
   "cell_type": "markdown",
   "id": "76b3d9b2",
   "metadata": {},
   "source": [
    "We can see the car data before 1999 is quiet irrelevant with our current times data. So we are extracting all the car data available after 1999"
   ]
  },
  {
   "cell_type": "code",
   "execution_count": 148,
   "id": "ffc15caa",
   "metadata": {
    "scrolled": true
   },
   "outputs": [
    {
     "data": {
      "text/plain": [
       "(119234, 13)"
      ]
     },
     "execution_count": 148,
     "metadata": {},
     "output_type": "execute_result"
    }
   ],
   "source": [
    "new_df = new_df[new_df['year'] > 1999]\n",
    "new_df.shape"
   ]
  },
  {
   "cell_type": "markdown",
   "id": "bb61e53f",
   "metadata": {},
   "source": [
    "here we want to create a new column refered to the age of  the car and then we wanted to delete the year column"
   ]
  },
  {
   "cell_type": "code",
   "execution_count": 149,
   "id": "a7154a53",
   "metadata": {},
   "outputs": [],
   "source": [
    "new_df['car_age'] = 2022 - new_df['year']\n",
    "new_df.drop(['year'], axis = 1, inplace = True)"
   ]
  },
  {
   "cell_type": "code",
   "execution_count": 150,
   "id": "9ea254b8",
   "metadata": {},
   "outputs": [
    {
     "data": {
      "text/html": [
       "<div>\n",
       "<style scoped>\n",
       "    .dataframe tbody tr th:only-of-type {\n",
       "        vertical-align: middle;\n",
       "    }\n",
       "\n",
       "    .dataframe tbody tr th {\n",
       "        vertical-align: top;\n",
       "    }\n",
       "\n",
       "    .dataframe thead th {\n",
       "        text-align: right;\n",
       "    }\n",
       "</style>\n",
       "<table border=\"1\" class=\"dataframe\">\n",
       "  <thead>\n",
       "    <tr style=\"text-align: right;\">\n",
       "      <th></th>\n",
       "      <th>odometer</th>\n",
       "      <th>price</th>\n",
       "      <th>car_age</th>\n",
       "    </tr>\n",
       "  </thead>\n",
       "  <tbody>\n",
       "    <tr>\n",
       "      <th>count</th>\n",
       "      <td>119234.000000</td>\n",
       "      <td>119234.000000</td>\n",
       "      <td>119234.000000</td>\n",
       "    </tr>\n",
       "    <tr>\n",
       "      <th>mean</th>\n",
       "      <td>103690.244939</td>\n",
       "      <td>14691.969656</td>\n",
       "      <td>10.210972</td>\n",
       "    </tr>\n",
       "    <tr>\n",
       "      <th>std</th>\n",
       "      <td>31414.551745</td>\n",
       "      <td>8229.252533</td>\n",
       "      <td>4.036998</td>\n",
       "    </tr>\n",
       "    <tr>\n",
       "      <th>min</th>\n",
       "      <td>47809.000000</td>\n",
       "      <td>3315.000000</td>\n",
       "      <td>0.000000</td>\n",
       "    </tr>\n",
       "    <tr>\n",
       "      <th>25%</th>\n",
       "      <td>77803.000000</td>\n",
       "      <td>7995.000000</td>\n",
       "      <td>7.000000</td>\n",
       "    </tr>\n",
       "    <tr>\n",
       "      <th>50%</th>\n",
       "      <td>102561.000000</td>\n",
       "      <td>12953.000000</td>\n",
       "      <td>9.000000</td>\n",
       "    </tr>\n",
       "    <tr>\n",
       "      <th>75%</th>\n",
       "      <td>129241.000000</td>\n",
       "      <td>19900.000000</td>\n",
       "      <td>13.000000</td>\n",
       "    </tr>\n",
       "    <tr>\n",
       "      <th>max</th>\n",
       "      <td>163865.000000</td>\n",
       "      <td>36750.000000</td>\n",
       "      <td>22.000000</td>\n",
       "    </tr>\n",
       "  </tbody>\n",
       "</table>\n",
       "</div>"
      ],
      "text/plain": [
       "            odometer          price        car_age\n",
       "count  119234.000000  119234.000000  119234.000000\n",
       "mean   103690.244939   14691.969656      10.210972\n",
       "std     31414.551745    8229.252533       4.036998\n",
       "min     47809.000000    3315.000000       0.000000\n",
       "25%     77803.000000    7995.000000       7.000000\n",
       "50%    102561.000000   12953.000000       9.000000\n",
       "75%    129241.000000   19900.000000      13.000000\n",
       "max    163865.000000   36750.000000      22.000000"
      ]
     },
     "execution_count": 150,
     "metadata": {},
     "output_type": "execute_result"
    }
   ],
   "source": [
    "# lets see the new data\n",
    "new_df.describe()"
   ]
  },
  {
   "cell_type": "markdown",
   "id": "789cf72c",
   "metadata": {},
   "source": [
    "## Data Visualization"
   ]
  },
  {
   "cell_type": "code",
   "execution_count": 151,
   "id": "f17f935c",
   "metadata": {},
   "outputs": [],
   "source": [
    "sample_data = new_df.sample(200)"
   ]
  },
  {
   "cell_type": "code",
   "execution_count": 152,
   "id": "c69a72aa",
   "metadata": {},
   "outputs": [
    {
     "data": {
      "image/png": "[encoded data removed]",
      "text/plain": [
       "<Figure size 750x750 with 12 Axes>"
      ]
     },
     "metadata": {},
     "output_type": "display_data"
    }
   ],
   "source": [
    "sns.pairplot(sample_data)\n",
    "plt.title('Figure 1: Pair Plot')\n",
    "plt.tight_layout()\n",
    "plt.savefig('Insight-Pair-Plot',dpi=None)\n",
    "plt.show()"
   ]
  },
  {
   "cell_type": "code",
   "execution_count": 154,
   "id": "e8fa7698",
   "metadata": {},
   "outputs": [
    {
     "data": {
      "text/plain": [
       "<AxesSubplot:>"
      ]
     },
     "execution_count": 154,
     "metadata": {},
     "output_type": "execute_result"
    },
    {
     "data": {
      "image/png": "[encoded data removed]",
      "text/plain": [
       "<Figure size 640x480 with 2 Axes>"
      ]
     },
     "metadata": {},
     "output_type": "display_data"
    }
   ],
   "source": [
    "sns.heatmap(new_df.corr(), annot=True)"
   ]
  },
  {
   "cell_type": "code",
   "execution_count": 155,
   "id": "abb33a42",
   "metadata": {},
   "outputs": [
    {
     "name": "stderr",
     "output_type": "stream",
     "text": [
      "C:\\Users\\emana\\anaconda3\\lib\\site-packages\\seaborn\\distributions.py:2619: FutureWarning: `distplot` is a deprecated function and will be removed in a future version. Please adapt your code to use either `displot` (a figure-level function with similar flexibility) or `histplot` (an axes-level function for histograms).\n",
      "  warnings.warn(msg, FutureWarning)\n"
     ]
    },
    {
     "data": {
      "image/png": "[encoded data removed]",
      "text/plain": [
       "<Figure size 640x480 with 1 Axes>"
      ]
     },
     "metadata": {},
     "output_type": "display_data"
    }
   ],
   "source": [
    "sns.distplot(new_df.price)\n",
    "plt.tight_layout()\n",
    "plt.title(\"Distribution of price\")\n",
    "plt.savefig('Insight-Dist-Plot',dpi=None)\n",
    "plt.show()"
   ]
  },
  {
   "cell_type": "code",
   "execution_count": 156,
   "id": "2cc6dc5b",
   "metadata": {},
   "outputs": [
    {
     "data": {
      "image/png": "[encoded data removed]",
      "text/plain": [
       "<Figure size 500x500 with 1 Axes>"
      ]
     },
     "metadata": {},
     "output_type": "display_data"
    }
   ],
   "source": [
    "fig,axs=plt.subplots()\n",
    "fig.set_size_inches(5,5)\n",
    "\n",
    "p1=sns.barplot(x='fuel',y='price',data=new_df,ax=axs)\n",
    "axs.set_title('Fuel vs Price')\n",
    "\n",
    "plt.savefig('Insight-Figure-1',dpi=None)\n",
    "plt.show()"
   ]
  },
  {
   "cell_type": "code",
   "execution_count": 157,
   "id": "189e93ce",
   "metadata": {},
   "outputs": [
    {
     "data": {
      "image/png": "[encoded data removed]",
      "text/plain": [
       "<Figure size 1000x500 with 1 Axes>"
      ]
     },
     "metadata": {},
     "output_type": "display_data"
    }
   ],
   "source": [
    "plt.figure(figsize=(10,5))\n",
    "sns.barplot(x='fuel',y='price',hue='condition',data=new_df)\n",
    "plt.title('Fuel + Condition vs Price')\n",
    "plt.savefig('Insight-Figure-2',dpi=None)\n",
    "plt.show()"
   ]
  },
  {
   "cell_type": "markdown",
   "id": "9b2495de",
   "metadata": {},
   "source": [
    "## Data Preprocessing"
   ]
  },
  {
   "cell_type": "code",
   "execution_count": 158,
   "id": "f18c630d",
   "metadata": {},
   "outputs": [
    {
     "data": {
      "text/plain": [
       "Index(['manufacturer', 'model', 'condition', 'cylinders', 'fuel', 'odometer',\n",
       "       'title_status', 'transmission', 'drive', 'type', 'paint_color', 'price',\n",
       "       'car_age'],\n",
       "      dtype='object')"
      ]
     },
     "execution_count": 158,
     "metadata": {},
     "output_type": "execute_result"
    }
   ],
   "source": [
    "new_df.columns"
   ]
  },
  {
   "cell_type": "code",
   "execution_count": 159,
   "id": "0d17c160",
   "metadata": {},
   "outputs": [],
   "source": [
    "final_df = new_df.copy()"
   ]
  },
  {
   "cell_type": "markdown",
   "id": "b9ba59e1",
   "metadata": {},
   "source": [
    "Creating encoder and implimenting them into pipeline"
   ]
  },
  {
   "cell_type": "code",
   "execution_count": 160,
   "id": "9676ed7d",
   "metadata": {},
   "outputs": [],
   "source": [
    "from sklearn.pipeline import Pipeline"
   ]
  },
  {
   "cell_type": "code",
   "execution_count": 161,
   "id": "7dbffedc",
   "metadata": {},
   "outputs": [],
   "source": [
    "pipe_categorical = Pipeline(\n",
    "    steps = [('ordinal_encoder', OrdinalEncoder(categories = [[ 'salvage', 'fair', 'unknown', 'good', 'excellent', 'like new', 'new']])),\n",
    "             ('one_hot_encoder', OneHotEncoder(sparse = False, drop = 'first'))]\n",
    ")"
   ]
  },
  {
   "cell_type": "code",
   "execution_count": 162,
   "id": "c9d70268",
   "metadata": {},
   "outputs": [],
   "source": [
    "pipe_numerical = Pipeline(\n",
    "    steps = [('standard_scaler', StandardScaler())]\n",
    ")"
   ]
  },
  {
   "cell_type": "code",
   "execution_count": 172,
   "id": "9efa50ab",
   "metadata": {},
   "outputs": [],
   "source": [
    "column_transformer = ColumnTransformer(transformers = [\n",
    "    ('condition_pipe_trans', pipe_categorical['ordinal_encoder'], ['condition']),\n",
    "    ('categorical_pipe_trans', pipe_categorical['one_hot_encoder'], ['model', 'manufacturer', 'fuel', 'cylinders','title_status', 'transmission', 'drive', 'type', 'paint_color']),\n",
    "    ('numerical_pipe_trans', pipe_numerical, ['odometer'])\n",
    "])"
   ]
  },
  {
   "cell_type": "markdown",
   "id": "1a6a7e6b",
   "metadata": {},
   "source": [
    "##  Train-test-split\n"
   ]
  },
  {
   "cell_type": "code",
   "execution_count": 173,
   "id": "a2bce48b",
   "metadata": {},
   "outputs": [],
   "source": [
    "from sklearn.model_selection import train_test_split"
   ]
  },
  {
   "cell_type": "code",
   "execution_count": 174,
   "id": "4adbcbc2",
   "metadata": {},
   "outputs": [],
   "source": [
    "X_train, X_test, y_train, y_test = train_test_split(final_df.drop(['price'], axis = 1), final_df['price'], random_state = 42, test_size = .2)"
   ]
  },
  {
   "cell_type": "code",
   "execution_count": 175,
   "id": "457f2dbd",
   "metadata": {},
   "outputs": [],
   "source": [
    "X_train_tnf = column_transformer.fit_transform(X_train)"
   ]
  },
  {
   "cell_type": "code",
   "execution_count": 176,
   "id": "9499b464",
   "metadata": {},
   "outputs": [],
   "source": [
    "X_test_tnf = column_transformer.transform(X_test)"
   ]
  },
  {
   "cell_type": "code",
   "execution_count": 177,
   "id": "b90f5f3e",
   "metadata": {},
   "outputs": [
    {
     "name": "stdout",
     "output_type": "stream",
     "text": [
      "(95387, 131)\n",
      "(23847, 131)\n"
     ]
    }
   ],
   "source": [
    "print(pd.DataFrame(X_train_tnf).shape)\n",
    "print(pd.DataFrame(X_test_tnf).shape)"
   ]
  },
  {
   "cell_type": "markdown",
   "id": "03a6a57d",
   "metadata": {},
   "source": [
    "## Model Training\n"
   ]
  },
  {
   "cell_type": "code",
   "execution_count": 184,
   "id": "ed8b54e1",
   "metadata": {},
   "outputs": [],
   "source": [
    "from sklearn.metrics import mean_squared_error, mean_absolute_error,  r2_score, mean_squared_log_error\n",
    "from sklearn.linear_model import LinearRegression\n",
    "from sklearn.linear_model import Ridge\n",
    "from sklearn.linear_model import LassoCV,RidgeCV\n",
    "from yellowbrick.regressor import AlphaSelection\n",
    "from sklearn.linear_model import Lasso\n",
    "from sklearn.neighbors import KNeighborsRegressor\n",
    "from sklearn.ensemble import RandomForestRegressor\n",
    "from sklearn.ensemble import BaggingRegressor\n",
    "from sklearn.tree import DecisionTreeRegressor\n",
    "from sklearn.svm import SVR\n",
    "from sklearn.ensemble import AdaBoostRegressor\n",
    "import xgboost as xgb\n",
    "import lightgbm as lgb\n",
    "import warnings\n",
    "warnings.filterwarnings('ignore')"
   ]
  },
  {
   "cell_type": "code",
   "execution_count": 185,
   "id": "46161fa9",
   "metadata": {},
   "outputs": [],
   "source": [
    "def result(y_test, y_pred):\n",
    "    r=[]\n",
    "    r.append('%.4f' % r2_score(y_test,y_pred))\n",
    "    r.append('%.4f' % (r2_score(y_test,y_pred)*100))\n",
    "    r.append('%.2f' % mean_squared_error(y_test, y_pred))\n",
    "    r.append('%.2f' % mean_absolute_error(y_test, y_pred))\n",
    "    r.append('%.2f' % np.sqrt(mean_squared_error(y_test, y_pred)))\n",
    "    \n",
    "    return (r)\n",
    "\n",
    "#dataframe that store the performance of each model\n",
    "score_data = pd.DataFrame(index=['R2 Score', 'Accuracy(%)', 'Mean Squared Error', 'Mean Absolute Error', 'Root MSE'])"
   ]
  },
  {
   "cell_type": "markdown",
   "id": "495c5252",
   "metadata": {},
   "source": [
    "# Linear Regression\n"
   ]
  },
  {
   "cell_type": "code",
   "execution_count": 186,
   "id": "75c77934",
   "metadata": {},
   "outputs": [],
   "source": [
    "LR = LinearRegression()\n",
    "LR.fit(X_train_tnf, y_train)\n",
    "y_pred = LR.predict(X_test_tnf)"
   ]
  },
  {
   "cell_type": "code",
   "execution_count": 187,
   "id": "aaf4273e",
   "metadata": {},
   "outputs": [
    {
     "name": "stdout",
     "output_type": "stream",
     "text": [
      "R2_score:  0.5463\n",
      "Mean squared error:  30636440.87\n",
      "Mean absolute error:  4248.59\n",
      "Root mean squared error:  5535.02\n"
     ]
    }
   ],
   "source": [
    "R2_score = r2_score(y_test, y_pred)*100\n",
    "score_lr = result(y_test, y_pred)\n",
    "score_data['Linear Regression'] = score_lr\n",
    "print('R2_score: ', score_lr[0])\n",
    "print('Mean squared error: ', score_lr[2])\n",
    "print('Mean absolute error: ', score_lr[3])\n",
    "print('Root mean squared error: ', score_lr[4])"
   ]
  },
  {
   "cell_type": "markdown",
   "id": "9dc102bc",
   "metadata": {},
   "source": [
    "# K-Nearest Neighbour\n"
   ]
  },
  {
   "cell_type": "code",
   "execution_count": 188,
   "id": "36a0d94e",
   "metadata": {},
   "outputs": [],
   "source": [
    "KNN = KNeighborsRegressor(n_neighbors=5) \n",
    "KNN.fit(X_train_tnf, y_train)\n",
    "y_pred = KNN.predict(X_test_tnf)"
   ]
  },
  {
   "cell_type": "code",
   "execution_count": 189,
   "id": "3e8bb3ac",
   "metadata": {},
   "outputs": [
    {
     "name": "stdout",
     "output_type": "stream",
     "text": [
      "R2 score:  0.6854\n",
      "Mean squared error:  21245371.28\n",
      "Mean absolute error:  3062.71\n",
      "Root mean squared error:  4609.27\n"
     ]
    }
   ],
   "source": [
    "score_knn = result(y_test, y_pred)\n",
    "score_data['K-Nearest Neighbour'] = score_knn\n",
    "print('R2 score: ', score_knn[0])\n",
    "print('Mean squared error: ', score_knn[2])\n",
    "print('Mean absolute error: ', score_knn[3])\n",
    "print('Root mean squared error: ', score_knn[4])"
   ]
  },
  {
   "cell_type": "markdown",
   "id": "82456ff0",
   "metadata": {},
   "source": [
    "# Random Forest Regression\n"
   ]
  },
  {
   "cell_type": "code",
   "execution_count": 190,
   "id": "2677fd25",
   "metadata": {},
   "outputs": [],
   "source": [
    "RFR = RandomForestRegressor(n_estimators=150,random_state=0, min_samples_leaf=1, max_features=0.3, n_jobs=-1, oob_score=True)\n",
    "RFR.fit(X_train_tnf, y_train)\n",
    "y_pred = RFR.predict(X_test_tnf)"
   ]
  },
  {
   "cell_type": "code",
   "execution_count": 191,
   "id": "188f248e",
   "metadata": {},
   "outputs": [
    {
     "name": "stdout",
     "output_type": "stream",
     "text": [
      "R2 score:  0.7826\n",
      "Mean squared error:  14683228.61\n",
      "Mean absolute error:  2333.80\n",
      "Root mean squared error:  3831.87\n"
     ]
    }
   ],
   "source": [
    "score_rfr = result(y_test, y_pred)\n",
    "score_data['Random Forest Regression'] = score_rfr\n",
    "print('R2 score: ', score_rfr[0])\n",
    "print('Mean squared error: ', score_rfr[2])\n",
    "print('Mean absolute error: ', score_rfr[3])\n",
    "print('Root mean squared error: ', score_rfr[4])"
   ]
  },
  {
   "cell_type": "markdown",
   "id": "9a612551",
   "metadata": {},
   "source": [
    "# Bagging Regressor\n"
   ]
  },
  {
   "cell_type": "code",
   "execution_count": 192,
   "id": "67fed6ef",
   "metadata": {},
   "outputs": [],
   "source": [
    "baggReg = BaggingRegressor(base_estimator=DecisionTreeRegressor(max_depth=20),n_estimators=50, random_state=1,\n",
    "                         max_samples=1.0, max_features=1.0, bootstrap=False, \n",
    "                         bootstrap_features=False, oob_score=False, warm_start=False, n_jobs=-1, verbose=0)\n",
    "baggReg.fit(X_train_tnf, y_train)\n",
    "y_pred = baggReg.predict(X_test_tnf)"
   ]
  },
  {
   "cell_type": "code",
   "execution_count": 193,
   "id": "899951ef",
   "metadata": {},
   "outputs": [
    {
     "name": "stdout",
     "output_type": "stream",
     "text": [
      "R2 score:  0.6355\n",
      "Mean squared error:  24612259.27\n",
      "Mean absolute error:  3275.06\n",
      "Root mean squared error:  4961.07\n"
     ]
    }
   ],
   "source": [
    "score_bagg = result(y_test, y_pred)\n",
    "score_data['Bagging Regressor'] = score_bagg\n",
    "print('R2 score: ', score_bagg[0])\n",
    "print('Mean squared error: ', score_bagg[2])\n",
    "print('Mean absolute error: ', score_bagg[3])\n",
    "print('Root mean squared error: ', score_bagg[4])"
   ]
  },
  {
   "cell_type": "markdown",
   "id": "de693478",
   "metadata": {},
   "source": [
    "# AdaBoost Regressor\n"
   ]
  },
  {
   "cell_type": "code",
   "execution_count": 194,
   "id": "ddb741eb",
   "metadata": {},
   "outputs": [],
   "source": [
    "ABR = AdaBoostRegressor(\n",
    "    DecisionTreeRegressor(max_depth=24),\n",
    "    n_estimators=200,learning_rate=0.1)\n",
    "ABR.fit(X_train_tnf, y_train)\n",
    "y_pred = ABR.predict(X_test_tnf)"
   ]
  },
  {
   "cell_type": "code",
   "execution_count": 195,
   "id": "2642b362",
   "metadata": {},
   "outputs": [
    {
     "name": "stdout",
     "output_type": "stream",
     "text": [
      "R2 score:  0.7673\n",
      "Mean squared error:  15714614.90\n",
      "Mean absolute error:  2455.96\n",
      "Root mean squared error:  3964.17\n"
     ]
    }
   ],
   "source": [
    "score_abr = result(y_test, y_pred)\n",
    "score_data['AdaBoost Regressor'] = score_abr\n",
    "print('R2 score: ', score_abr[0])\n",
    "print('Mean squared error: ', score_abr[2])\n",
    "print('Mean absolute error: ', score_abr[3])\n",
    "print('Root mean squared error: ', score_abr[4])"
   ]
  },
  {
   "cell_type": "markdown",
   "id": "f17f9f1f",
   "metadata": {},
   "source": [
    "# XGBoost Regressor\n"
   ]
  },
  {
   "cell_type": "code",
   "execution_count": 196,
   "id": "33d5bb5c",
   "metadata": {},
   "outputs": [],
   "source": [
    "XGB = xgb.XGBRegressor(objective ='reg:squarederror', learning_rate = 0.4,\n",
    "                max_depth = 24, alpha = 5, n_estimators = 200)\n",
    "XGB.fit(X_train_tnf, y_train)\n",
    "y_pred = XGB.predict(X_test_tnf)"
   ]
  },
  {
   "cell_type": "code",
   "execution_count": 197,
   "id": "aebe4014",
   "metadata": {},
   "outputs": [
    {
     "name": "stdout",
     "output_type": "stream",
     "text": [
      "R2 score:  0.7533\n",
      "Mean squared error:  16658831.08\n",
      "Mean absolute error:  2227.57\n",
      "Root mean squared error:  4081.52\n"
     ]
    }
   ],
   "source": [
    "score_xgb = result(y_test, y_pred)\n",
    "score_data['XGBoost Regressor'] = score_xgb\n",
    "print('R2 score: ', score_xgb[0])\n",
    "print('Mean squared error: ', score_xgb[2])\n",
    "print('Mean absolute error: ', score_xgb[3])\n",
    "print('Root mean squared error: ', score_xgb[4])"
   ]
  },
  {
   "cell_type": "markdown",
   "id": "b0a484b2",
   "metadata": {},
   "source": [
    "# Overall result and model selection"
   ]
  },
  {
   "cell_type": "code",
   "execution_count": 198,
   "id": "fd1cd8a5",
   "metadata": {
    "scrolled": true
   },
   "outputs": [
    {
     "data": {
      "text/html": [
       "<div>\n",
       "<style scoped>\n",
       "    .dataframe tbody tr th:only-of-type {\n",
       "        vertical-align: middle;\n",
       "    }\n",
       "\n",
       "    .dataframe tbody tr th {\n",
       "        vertical-align: top;\n",
       "    }\n",
       "\n",
       "    .dataframe thead th {\n",
       "        text-align: right;\n",
       "    }\n",
       "</style>\n",
       "<table border=\"1\" class=\"dataframe\">\n",
       "  <thead>\n",
       "    <tr style=\"text-align: right;\">\n",
       "      <th></th>\n",
       "      <th>Linear Regression</th>\n",
       "      <th>K-Nearest Neighbour</th>\n",
       "      <th>Random Forest Regression</th>\n",
       "      <th>Bagging Regressor</th>\n",
       "      <th>AdaBoost Regressor</th>\n",
       "      <th>XGBoost Regressor</th>\n",
       "    </tr>\n",
       "  </thead>\n",
       "  <tbody>\n",
       "    <tr>\n",
       "      <th>R2 Score</th>\n",
       "      <td>0.5463</td>\n",
       "      <td>0.6854</td>\n",
       "      <td>0.7826</td>\n",
       "      <td>0.6355</td>\n",
       "      <td>0.7673</td>\n",
       "      <td>0.7533</td>\n",
       "    </tr>\n",
       "    <tr>\n",
       "      <th>Accuracy(%)</th>\n",
       "      <td>54.6335</td>\n",
       "      <td>68.5398</td>\n",
       "      <td>78.2571</td>\n",
       "      <td>63.5541</td>\n",
       "      <td>76.7298</td>\n",
       "      <td>75.3316</td>\n",
       "    </tr>\n",
       "    <tr>\n",
       "      <th>Mean Squared Error</th>\n",
       "      <td>30636440.87</td>\n",
       "      <td>21245371.28</td>\n",
       "      <td>14683228.61</td>\n",
       "      <td>24612259.27</td>\n",
       "      <td>15714614.90</td>\n",
       "      <td>16658831.08</td>\n",
       "    </tr>\n",
       "    <tr>\n",
       "      <th>Mean Absolute Error</th>\n",
       "      <td>4248.59</td>\n",
       "      <td>3062.71</td>\n",
       "      <td>2333.80</td>\n",
       "      <td>3275.06</td>\n",
       "      <td>2455.96</td>\n",
       "      <td>2227.57</td>\n",
       "    </tr>\n",
       "    <tr>\n",
       "      <th>Root MSE</th>\n",
       "      <td>5535.02</td>\n",
       "      <td>4609.27</td>\n",
       "      <td>3831.87</td>\n",
       "      <td>4961.07</td>\n",
       "      <td>3964.17</td>\n",
       "      <td>4081.52</td>\n",
       "    </tr>\n",
       "  </tbody>\n",
       "</table>\n",
       "</div>"
      ],
      "text/plain": [
       "                    Linear Regression K-Nearest Neighbour  \\\n",
       "R2 Score                       0.5463              0.6854   \n",
       "Accuracy(%)                   54.6335             68.5398   \n",
       "Mean Squared Error        30636440.87         21245371.28   \n",
       "Mean Absolute Error           4248.59             3062.71   \n",
       "Root MSE                      5535.02             4609.27   \n",
       "\n",
       "                    Random Forest Regression Bagging Regressor  \\\n",
       "R2 Score                              0.7826            0.6355   \n",
       "Accuracy(%)                          78.2571           63.5541   \n",
       "Mean Squared Error               14683228.61       24612259.27   \n",
       "Mean Absolute Error                  2333.80           3275.06   \n",
       "Root MSE                             3831.87           4961.07   \n",
       "\n",
       "                    AdaBoost Regressor XGBoost Regressor  \n",
       "R2 Score                        0.7673            0.7533  \n",
       "Accuracy(%)                    76.7298           75.3316  \n",
       "Mean Squared Error         15714614.90       16658831.08  \n",
       "Mean Absolute Error            2455.96           2227.57  \n",
       "Root MSE                       3964.17           4081.52  "
      ]
     },
     "execution_count": 198,
     "metadata": {},
     "output_type": "execute_result"
    }
   ],
   "source": [
    "score_data"
   ]
  }
 ],
 "metadata": {
  "kernelspec": {
   "display_name": "Python 3 (ipykernel)",
   "language": "python",
   "name": "python3"
  },
  "language_info": {
   "codemirror_mode": {
    "name": "ipython",
    "version": 3
   },
   "file_extension": ".py",
   "mimetype": "text/x-python",
   "name": "python",
   "nbconvert_exporter": "python",
   "pygments_lexer": "ipython3",
   "version": "3.9.13"
  }
 },
 "nbformat": 4,
 "nbformat_minor": 5
}
