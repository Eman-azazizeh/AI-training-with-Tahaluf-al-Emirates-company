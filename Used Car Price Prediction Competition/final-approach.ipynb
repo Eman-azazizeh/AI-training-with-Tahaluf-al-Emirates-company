{
 "cells": [
  {
   "cell_type": "code",
   "execution_count": 1,
   "id": "dd8405ab",
   "metadata": {
    "_cell_guid": "b1076dfc-b9ad-4769-8c92-a6c4dae69d19",
    "_uuid": "8f2839f25d086af736a60e9eeb907d3b93b6e0e5",
    "execution": {
     "iopub.execute_input": "2022-03-13T17:40:50.483873Z",
     "iopub.status.busy": "2022-03-13T17:40:50.482915Z",
     "iopub.status.idle": "2022-03-13T17:40:50.494269Z",
     "shell.execute_reply": "2022-03-13T17:40:50.495046Z",
     "shell.execute_reply.started": "2022-03-13T13:55:22.827488Z"
    },
    "papermill": {
     "duration": 0.110844,
     "end_time": "2022-03-13T17:40:50.495528",
     "exception": false,
     "start_time": "2022-03-13T17:40:50.384684",
     "status": "completed"
    },
    "tags": []
   },
   "outputs": [
    {
     "name": "stdout",
     "output_type": "stream",
     "text": [
      "/kaggle/input/craigslist-carstrucks-data/vehicles.csv\n"
     ]
    }
   ],
   "source": [
    "# This Python 3 environment comes with many helpful analytics libraries installed\n",
    "# It is defined by the kaggle/python Docker image: https://github.com/kaggle/docker-python\n",
    "# For example, here's several helpful packages to load\n",
    "\n",
    "import numpy as np # linear algebra\n",
    "import pandas as pd # data processing, CSV file I/O (e.g. pd.read_csv)\n",
    "\n",
    "# Input data files are available in the read-only \"../input/\" directory\n",
    "# For example, running this (by clicking run or pressing Shift+Enter) will list all files under the input directory\n",
    "\n",
    "import os\n",
    "for dirname, _, filenames in os.walk('/kaggle/input'):\n",
    "    for filename in filenames:\n",
    "        print(os.path.join(dirname, filename))\n",
    "\n",
    "# You can write up to 20GB to the current directory (/kaggle/working/) that gets preserved as output when you create a version using \"Save & Run All\" \n",
    "# You can also write temporary files to /kaggle/temp/, but they won't be saved outside of the current session"
   ]
  },
  {
   "cell_type": "code",
   "execution_count": 2,
   "id": "be31ab86",
   "metadata": {
    "execution": {
     "iopub.execute_input": "2022-03-13T17:40:50.675521Z",
     "iopub.status.busy": "2022-03-13T17:40:50.674807Z",
     "iopub.status.idle": "2022-03-13T17:40:53.745640Z",
     "shell.execute_reply": "2022-03-13T17:40:53.744977Z",
     "shell.execute_reply.started": "2022-03-13T13:55:22.870872Z"
    },
    "papermill": {
     "duration": 3.16505,
     "end_time": "2022-03-13T17:40:53.745818",
     "exception": false,
     "start_time": "2022-03-13T17:40:50.580768",
     "status": "completed"
    },
    "tags": []
   },
   "outputs": [
    {
     "data": {
      "text/html": [
       "<style type='text/css'>\n",
       ".datatable table.frame { margin-bottom: 0; }\n",
       ".datatable table.frame thead { border-bottom: none; }\n",
       ".datatable table.frame tr.coltypes td {  color: #FFFFFF;  line-height: 6px;  padding: 0 0.5em;}\n",
       ".datatable .bool    { background: #DDDD99; }\n",
       ".datatable .object  { background: #565656; }\n",
       ".datatable .int     { background: #5D9E5D; }\n",
       ".datatable .float   { background: #4040CC; }\n",
       ".datatable .str     { background: #CC4040; }\n",
       ".datatable .time    { background: #40CC40; }\n",
       ".datatable .row_index {  background: var(--jp-border-color3);  border-right: 1px solid var(--jp-border-color0);  color: var(--jp-ui-font-color3);  font-size: 9px;}\n",
       ".datatable .frame tbody td { text-align: left; }\n",
       ".datatable .frame tr.coltypes .row_index {  background: var(--jp-border-color0);}\n",
       ".datatable th:nth-child(2) { padding-left: 12px; }\n",
       ".datatable .hellipsis {  color: var(--jp-cell-editor-border-color);}\n",
       ".datatable .vellipsis {  background: var(--jp-layout-color0);  color: var(--jp-cell-editor-border-color);}\n",
       ".datatable .na {  color: var(--jp-cell-editor-border-color);  font-size: 80%;}\n",
       ".datatable .sp {  opacity: 0.25;}\n",
       ".datatable .footer { font-size: 9px; }\n",
       ".datatable .frame_dimensions {  background: var(--jp-border-color3);  border-top: 1px solid var(--jp-border-color0);  color: var(--jp-ui-font-color3);  display: inline-block;  opacity: 0.6;  padding: 1px 10px 1px 5px;}\n",
       "</style>\n"
      ],
      "text/plain": [
       "<IPython.core.display.HTML object>"
      ]
     },
     "metadata": {},
     "output_type": "display_data"
    }
   ],
   "source": [
    "# other packages \n",
    "import matplotlib.pyplot as plt\n",
    "\n",
    "import matplotlib.pylab as plt\n",
    "%matplotlib inline\n",
    "from matplotlib.pylab import rcParams\n",
    "rcParams['figure.figsize'] = 12, 4\n",
    "\n",
    "# for data processing\n",
    "from sklearn.preprocessing import StandardScaler\n",
    "from sklearn.model_selection import train_test_split\n",
    "\n",
    "# for Linear regression model & gradient Boosting\n",
    "from sklearn.linear_model import LinearRegression\n",
    "import statsmodels.api as sm\n",
    "import lightgbm as lgb\n",
    "from sklearn.metrics import mean_squared_error\n",
    "\n",
    "# for CART Feature Importance & decision Tree\n",
    "\n",
    "# for random Forest\n",
    "from sklearn.ensemble import RandomForestRegressor\n",
    "from sklearn.model_selection import GridSearchCV\n"
   ]
  },
  {
   "cell_type": "code",
   "execution_count": 3,
   "id": "34fdd03a",
   "metadata": {
    "execution": {
     "iopub.execute_input": "2022-03-13T17:40:53.922912Z",
     "iopub.status.busy": "2022-03-13T17:40:53.922174Z",
     "iopub.status.idle": "2022-03-13T17:41:34.706494Z",
     "shell.execute_reply": "2022-03-13T17:41:34.705899Z",
     "shell.execute_reply.started": "2022-03-13T13:55:25.799926Z"
    },
    "papermill": {
     "duration": 40.876054,
     "end_time": "2022-03-13T17:41:34.706731",
     "exception": false,
     "start_time": "2022-03-13T17:40:53.830677",
     "status": "completed"
    },
    "tags": []
   },
   "outputs": [],
   "source": [
    "car_df = pd.read_csv('/kaggle/input/craigslist-carstrucks-data/vehicles.csv')"
   ]
  },
  {
   "cell_type": "code",
   "execution_count": 4,
   "id": "c5e780c2",
   "metadata": {
    "execution": {
     "iopub.execute_input": "2022-03-13T17:41:34.914107Z",
     "iopub.status.busy": "2022-03-13T17:41:34.913427Z",
     "iopub.status.idle": "2022-03-13T17:41:35.563971Z",
     "shell.execute_reply": "2022-03-13T17:41:35.563216Z",
     "shell.execute_reply.started": "2022-03-13T13:56:03.836747Z"
    },
    "papermill": {
     "duration": 0.771035,
     "end_time": "2022-03-13T17:41:35.564146",
     "exception": false,
     "start_time": "2022-03-13T17:41:34.793111",
     "status": "completed"
    },
    "tags": []
   },
   "outputs": [
    {
     "data": {
      "text/html": [
       "<div>\n",
       "<style scoped>\n",
       "    .dataframe tbody tr th:only-of-type {\n",
       "        vertical-align: middle;\n",
       "    }\n",
       "\n",
       "    .dataframe tbody tr th {\n",
       "        vertical-align: top;\n",
       "    }\n",
       "\n",
       "    .dataframe thead th {\n",
       "        text-align: right;\n",
       "    }\n",
       "</style>\n",
       "<table border=\"1\" class=\"dataframe\">\n",
       "  <thead>\n",
       "    <tr style=\"text-align: right;\">\n",
       "      <th></th>\n",
       "      <th>id</th>\n",
       "      <th>url</th>\n",
       "      <th>region</th>\n",
       "      <th>region_url</th>\n",
       "      <th>price</th>\n",
       "      <th>year</th>\n",
       "      <th>manufacturer</th>\n",
       "      <th>model</th>\n",
       "      <th>condition</th>\n",
       "      <th>cylinders</th>\n",
       "      <th>...</th>\n",
       "      <th>size</th>\n",
       "      <th>type</th>\n",
       "      <th>paint_color</th>\n",
       "      <th>image_url</th>\n",
       "      <th>description</th>\n",
       "      <th>county</th>\n",
       "      <th>state</th>\n",
       "      <th>lat</th>\n",
       "      <th>long</th>\n",
       "      <th>posting_date</th>\n",
       "    </tr>\n",
       "  </thead>\n",
       "  <tbody>\n",
       "    <tr>\n",
       "      <th>0</th>\n",
       "      <td>7222695916</td>\n",
       "      <td>https://prescott.craigslist.org/cto/d/prescott...</td>\n",
       "      <td>prescott</td>\n",
       "      <td>https://prescott.craigslist.org</td>\n",
       "      <td>6000</td>\n",
       "      <td>NaN</td>\n",
       "      <td>NaN</td>\n",
       "      <td>NaN</td>\n",
       "      <td>NaN</td>\n",
       "      <td>NaN</td>\n",
       "      <td>...</td>\n",
       "      <td>NaN</td>\n",
       "      <td>NaN</td>\n",
       "      <td>NaN</td>\n",
       "      <td>NaN</td>\n",
       "      <td>NaN</td>\n",
       "      <td>NaN</td>\n",
       "      <td>az</td>\n",
       "      <td>NaN</td>\n",
       "      <td>NaN</td>\n",
       "      <td>NaN</td>\n",
       "    </tr>\n",
       "    <tr>\n",
       "      <th>1</th>\n",
       "      <td>7218891961</td>\n",
       "      <td>https://fayar.craigslist.org/ctd/d/bentonville...</td>\n",
       "      <td>fayetteville</td>\n",
       "      <td>https://fayar.craigslist.org</td>\n",
       "      <td>11900</td>\n",
       "      <td>NaN</td>\n",
       "      <td>NaN</td>\n",
       "      <td>NaN</td>\n",
       "      <td>NaN</td>\n",
       "      <td>NaN</td>\n",
       "      <td>...</td>\n",
       "      <td>NaN</td>\n",
       "      <td>NaN</td>\n",
       "      <td>NaN</td>\n",
       "      <td>NaN</td>\n",
       "      <td>NaN</td>\n",
       "      <td>NaN</td>\n",
       "      <td>ar</td>\n",
       "      <td>NaN</td>\n",
       "      <td>NaN</td>\n",
       "      <td>NaN</td>\n",
       "    </tr>\n",
       "    <tr>\n",
       "      <th>2</th>\n",
       "      <td>7221797935</td>\n",
       "      <td>https://keys.craigslist.org/cto/d/summerland-k...</td>\n",
       "      <td>florida keys</td>\n",
       "      <td>https://keys.craigslist.org</td>\n",
       "      <td>21000</td>\n",
       "      <td>NaN</td>\n",
       "      <td>NaN</td>\n",
       "      <td>NaN</td>\n",
       "      <td>NaN</td>\n",
       "      <td>NaN</td>\n",
       "      <td>...</td>\n",
       "      <td>NaN</td>\n",
       "      <td>NaN</td>\n",
       "      <td>NaN</td>\n",
       "      <td>NaN</td>\n",
       "      <td>NaN</td>\n",
       "      <td>NaN</td>\n",
       "      <td>fl</td>\n",
       "      <td>NaN</td>\n",
       "      <td>NaN</td>\n",
       "      <td>NaN</td>\n",
       "    </tr>\n",
       "    <tr>\n",
       "      <th>3</th>\n",
       "      <td>7222270760</td>\n",
       "      <td>https://worcester.craigslist.org/cto/d/west-br...</td>\n",
       "      <td>worcester / central MA</td>\n",
       "      <td>https://worcester.craigslist.org</td>\n",
       "      <td>1500</td>\n",
       "      <td>NaN</td>\n",
       "      <td>NaN</td>\n",
       "      <td>NaN</td>\n",
       "      <td>NaN</td>\n",
       "      <td>NaN</td>\n",
       "      <td>...</td>\n",
       "      <td>NaN</td>\n",
       "      <td>NaN</td>\n",
       "      <td>NaN</td>\n",
       "      <td>NaN</td>\n",
       "      <td>NaN</td>\n",
       "      <td>NaN</td>\n",
       "      <td>ma</td>\n",
       "      <td>NaN</td>\n",
       "      <td>NaN</td>\n",
       "      <td>NaN</td>\n",
       "    </tr>\n",
       "    <tr>\n",
       "      <th>4</th>\n",
       "      <td>7210384030</td>\n",
       "      <td>https://greensboro.craigslist.org/cto/d/trinit...</td>\n",
       "      <td>greensboro</td>\n",
       "      <td>https://greensboro.craigslist.org</td>\n",
       "      <td>4900</td>\n",
       "      <td>NaN</td>\n",
       "      <td>NaN</td>\n",
       "      <td>NaN</td>\n",
       "      <td>NaN</td>\n",
       "      <td>NaN</td>\n",
       "      <td>...</td>\n",
       "      <td>NaN</td>\n",
       "      <td>NaN</td>\n",
       "      <td>NaN</td>\n",
       "      <td>NaN</td>\n",
       "      <td>NaN</td>\n",
       "      <td>NaN</td>\n",
       "      <td>nc</td>\n",
       "      <td>NaN</td>\n",
       "      <td>NaN</td>\n",
       "      <td>NaN</td>\n",
       "    </tr>\n",
       "    <tr>\n",
       "      <th>...</th>\n",
       "      <td>...</td>\n",
       "      <td>...</td>\n",
       "      <td>...</td>\n",
       "      <td>...</td>\n",
       "      <td>...</td>\n",
       "      <td>...</td>\n",
       "      <td>...</td>\n",
       "      <td>...</td>\n",
       "      <td>...</td>\n",
       "      <td>...</td>\n",
       "      <td>...</td>\n",
       "      <td>...</td>\n",
       "      <td>...</td>\n",
       "      <td>...</td>\n",
       "      <td>...</td>\n",
       "      <td>...</td>\n",
       "      <td>...</td>\n",
       "      <td>...</td>\n",
       "      <td>...</td>\n",
       "      <td>...</td>\n",
       "      <td>...</td>\n",
       "    </tr>\n",
       "    <tr>\n",
       "      <th>426875</th>\n",
       "      <td>7301591192</td>\n",
       "      <td>https://wyoming.craigslist.org/ctd/d/atlanta-2...</td>\n",
       "      <td>wyoming</td>\n",
       "      <td>https://wyoming.craigslist.org</td>\n",
       "      <td>23590</td>\n",
       "      <td>2019.0</td>\n",
       "      <td>nissan</td>\n",
       "      <td>maxima s sedan 4d</td>\n",
       "      <td>good</td>\n",
       "      <td>6 cylinders</td>\n",
       "      <td>...</td>\n",
       "      <td>NaN</td>\n",
       "      <td>sedan</td>\n",
       "      <td>NaN</td>\n",
       "      <td>https://images.craigslist.org/00o0o_iiraFnHg8q...</td>\n",
       "      <td>Carvana is the safer way to buy a car During t...</td>\n",
       "      <td>NaN</td>\n",
       "      <td>wy</td>\n",
       "      <td>33.786500</td>\n",
       "      <td>-84.445400</td>\n",
       "      <td>2021-04-04T03:21:31-0600</td>\n",
       "    </tr>\n",
       "    <tr>\n",
       "      <th>426876</th>\n",
       "      <td>7301591187</td>\n",
       "      <td>https://wyoming.craigslist.org/ctd/d/atlanta-2...</td>\n",
       "      <td>wyoming</td>\n",
       "      <td>https://wyoming.craigslist.org</td>\n",
       "      <td>30590</td>\n",
       "      <td>2020.0</td>\n",
       "      <td>volvo</td>\n",
       "      <td>s60 t5 momentum sedan 4d</td>\n",
       "      <td>good</td>\n",
       "      <td>NaN</td>\n",
       "      <td>...</td>\n",
       "      <td>NaN</td>\n",
       "      <td>sedan</td>\n",
       "      <td>red</td>\n",
       "      <td>https://images.craigslist.org/00x0x_15sbgnxCIS...</td>\n",
       "      <td>Carvana is the safer way to buy a car During t...</td>\n",
       "      <td>NaN</td>\n",
       "      <td>wy</td>\n",
       "      <td>33.786500</td>\n",
       "      <td>-84.445400</td>\n",
       "      <td>2021-04-04T03:21:29-0600</td>\n",
       "    </tr>\n",
       "    <tr>\n",
       "      <th>426877</th>\n",
       "      <td>7301591147</td>\n",
       "      <td>https://wyoming.craigslist.org/ctd/d/atlanta-2...</td>\n",
       "      <td>wyoming</td>\n",
       "      <td>https://wyoming.craigslist.org</td>\n",
       "      <td>34990</td>\n",
       "      <td>2020.0</td>\n",
       "      <td>cadillac</td>\n",
       "      <td>xt4 sport suv 4d</td>\n",
       "      <td>good</td>\n",
       "      <td>NaN</td>\n",
       "      <td>...</td>\n",
       "      <td>NaN</td>\n",
       "      <td>hatchback</td>\n",
       "      <td>white</td>\n",
       "      <td>https://images.craigslist.org/00L0L_farM7bxnxR...</td>\n",
       "      <td>Carvana is the safer way to buy a car During t...</td>\n",
       "      <td>NaN</td>\n",
       "      <td>wy</td>\n",
       "      <td>33.779214</td>\n",
       "      <td>-84.411811</td>\n",
       "      <td>2021-04-04T03:21:17-0600</td>\n",
       "    </tr>\n",
       "    <tr>\n",
       "      <th>426878</th>\n",
       "      <td>7301591140</td>\n",
       "      <td>https://wyoming.craigslist.org/ctd/d/atlanta-2...</td>\n",
       "      <td>wyoming</td>\n",
       "      <td>https://wyoming.craigslist.org</td>\n",
       "      <td>28990</td>\n",
       "      <td>2018.0</td>\n",
       "      <td>lexus</td>\n",
       "      <td>es 350 sedan 4d</td>\n",
       "      <td>good</td>\n",
       "      <td>6 cylinders</td>\n",
       "      <td>...</td>\n",
       "      <td>NaN</td>\n",
       "      <td>sedan</td>\n",
       "      <td>silver</td>\n",
       "      <td>https://images.craigslist.org/00z0z_bKnIVGLkDT...</td>\n",
       "      <td>Carvana is the safer way to buy a car During t...</td>\n",
       "      <td>NaN</td>\n",
       "      <td>wy</td>\n",
       "      <td>33.786500</td>\n",
       "      <td>-84.445400</td>\n",
       "      <td>2021-04-04T03:21:11-0600</td>\n",
       "    </tr>\n",
       "    <tr>\n",
       "      <th>426879</th>\n",
       "      <td>7301591129</td>\n",
       "      <td>https://wyoming.craigslist.org/ctd/d/atlanta-2...</td>\n",
       "      <td>wyoming</td>\n",
       "      <td>https://wyoming.craigslist.org</td>\n",
       "      <td>30590</td>\n",
       "      <td>2019.0</td>\n",
       "      <td>bmw</td>\n",
       "      <td>4 series 430i gran coupe</td>\n",
       "      <td>good</td>\n",
       "      <td>NaN</td>\n",
       "      <td>...</td>\n",
       "      <td>NaN</td>\n",
       "      <td>coupe</td>\n",
       "      <td>NaN</td>\n",
       "      <td>https://images.craigslist.org/00Y0Y_lEUocjyRxa...</td>\n",
       "      <td>Carvana is the safer way to buy a car During t...</td>\n",
       "      <td>NaN</td>\n",
       "      <td>wy</td>\n",
       "      <td>33.779214</td>\n",
       "      <td>-84.411811</td>\n",
       "      <td>2021-04-04T03:21:07-0600</td>\n",
       "    </tr>\n",
       "  </tbody>\n",
       "</table>\n",
       "<p>426880 rows × 26 columns</p>\n",
       "</div>"
      ],
      "text/plain": [
       "                id                                                url  \\\n",
       "0       7222695916  https://prescott.craigslist.org/cto/d/prescott...   \n",
       "1       7218891961  https://fayar.craigslist.org/ctd/d/bentonville...   \n",
       "2       7221797935  https://keys.craigslist.org/cto/d/summerland-k...   \n",
       "3       7222270760  https://worcester.craigslist.org/cto/d/west-br...   \n",
       "4       7210384030  https://greensboro.craigslist.org/cto/d/trinit...   \n",
       "...            ...                                                ...   \n",
       "426875  7301591192  https://wyoming.craigslist.org/ctd/d/atlanta-2...   \n",
       "426876  7301591187  https://wyoming.craigslist.org/ctd/d/atlanta-2...   \n",
       "426877  7301591147  https://wyoming.craigslist.org/ctd/d/atlanta-2...   \n",
       "426878  7301591140  https://wyoming.craigslist.org/ctd/d/atlanta-2...   \n",
       "426879  7301591129  https://wyoming.craigslist.org/ctd/d/atlanta-2...   \n",
       "\n",
       "                        region                         region_url  price  \\\n",
       "0                     prescott    https://prescott.craigslist.org   6000   \n",
       "1                 fayetteville       https://fayar.craigslist.org  11900   \n",
       "2                 florida keys        https://keys.craigslist.org  21000   \n",
       "3       worcester / central MA   https://worcester.craigslist.org   1500   \n",
       "4                   greensboro  https://greensboro.craigslist.org   4900   \n",
       "...                        ...                                ...    ...   \n",
       "426875                 wyoming     https://wyoming.craigslist.org  23590   \n",
       "426876                 wyoming     https://wyoming.craigslist.org  30590   \n",
       "426877                 wyoming     https://wyoming.craigslist.org  34990   \n",
       "426878                 wyoming     https://wyoming.craigslist.org  28990   \n",
       "426879                 wyoming     https://wyoming.craigslist.org  30590   \n",
       "\n",
       "          year manufacturer                     model condition    cylinders  \\\n",
       "0          NaN          NaN                       NaN       NaN          NaN   \n",
       "1          NaN          NaN                       NaN       NaN          NaN   \n",
       "2          NaN          NaN                       NaN       NaN          NaN   \n",
       "3          NaN          NaN                       NaN       NaN          NaN   \n",
       "4          NaN          NaN                       NaN       NaN          NaN   \n",
       "...        ...          ...                       ...       ...          ...   \n",
       "426875  2019.0       nissan         maxima s sedan 4d      good  6 cylinders   \n",
       "426876  2020.0        volvo  s60 t5 momentum sedan 4d      good          NaN   \n",
       "426877  2020.0     cadillac          xt4 sport suv 4d      good          NaN   \n",
       "426878  2018.0        lexus           es 350 sedan 4d      good  6 cylinders   \n",
       "426879  2019.0          bmw  4 series 430i gran coupe      good          NaN   \n",
       "\n",
       "        ... size       type paint_color  \\\n",
       "0       ...  NaN        NaN         NaN   \n",
       "1       ...  NaN        NaN         NaN   \n",
       "2       ...  NaN        NaN         NaN   \n",
       "3       ...  NaN        NaN         NaN   \n",
       "4       ...  NaN        NaN         NaN   \n",
       "...     ...  ...        ...         ...   \n",
       "426875  ...  NaN      sedan         NaN   \n",
       "426876  ...  NaN      sedan         red   \n",
       "426877  ...  NaN  hatchback       white   \n",
       "426878  ...  NaN      sedan      silver   \n",
       "426879  ...  NaN      coupe         NaN   \n",
       "\n",
       "                                                image_url  \\\n",
       "0                                                     NaN   \n",
       "1                                                     NaN   \n",
       "2                                                     NaN   \n",
       "3                                                     NaN   \n",
       "4                                                     NaN   \n",
       "...                                                   ...   \n",
       "426875  https://images.craigslist.org/00o0o_iiraFnHg8q...   \n",
       "426876  https://images.craigslist.org/00x0x_15sbgnxCIS...   \n",
       "426877  https://images.craigslist.org/00L0L_farM7bxnxR...   \n",
       "426878  https://images.craigslist.org/00z0z_bKnIVGLkDT...   \n",
       "426879  https://images.craigslist.org/00Y0Y_lEUocjyRxa...   \n",
       "\n",
       "                                              description county state  \\\n",
       "0                                                     NaN    NaN    az   \n",
       "1                                                     NaN    NaN    ar   \n",
       "2                                                     NaN    NaN    fl   \n",
       "3                                                     NaN    NaN    ma   \n",
       "4                                                     NaN    NaN    nc   \n",
       "...                                                   ...    ...   ...   \n",
       "426875  Carvana is the safer way to buy a car During t...    NaN    wy   \n",
       "426876  Carvana is the safer way to buy a car During t...    NaN    wy   \n",
       "426877  Carvana is the safer way to buy a car During t...    NaN    wy   \n",
       "426878  Carvana is the safer way to buy a car During t...    NaN    wy   \n",
       "426879  Carvana is the safer way to buy a car During t...    NaN    wy   \n",
       "\n",
       "              lat       long              posting_date  \n",
       "0             NaN        NaN                       NaN  \n",
       "1             NaN        NaN                       NaN  \n",
       "2             NaN        NaN                       NaN  \n",
       "3             NaN        NaN                       NaN  \n",
       "4             NaN        NaN                       NaN  \n",
       "...           ...        ...                       ...  \n",
       "426875  33.786500 -84.445400  2021-04-04T03:21:31-0600  \n",
       "426876  33.786500 -84.445400  2021-04-04T03:21:29-0600  \n",
       "426877  33.779214 -84.411811  2021-04-04T03:21:17-0600  \n",
       "426878  33.786500 -84.445400  2021-04-04T03:21:11-0600  \n",
       "426879  33.779214 -84.411811  2021-04-04T03:21:07-0600  \n",
       "\n",
       "[426880 rows x 26 columns]"
      ]
     },
     "execution_count": 4,
     "metadata": {},
     "output_type": "execute_result"
    }
   ],
   "source": [
    "car_df"
   ]
  },
  {
   "cell_type": "markdown",
   "id": "2078e767",
   "metadata": {
    "papermill": {
     "duration": 0.089914,
     "end_time": "2022-03-13T17:41:35.744882",
     "exception": false,
     "start_time": "2022-03-13T17:41:35.654968",
     "status": "completed"
    },
    "tags": []
   },
   "source": [
    "# Remove Unessary Columns"
   ]
  },
  {
   "cell_type": "code",
   "execution_count": 5,
   "id": "5b598e3d",
   "metadata": {
    "execution": {
     "iopub.execute_input": "2022-03-13T17:41:35.958914Z",
     "iopub.status.busy": "2022-03-13T17:41:35.927631Z",
     "iopub.status.idle": "2022-03-13T17:41:35.990345Z",
     "shell.execute_reply": "2022-03-13T17:41:35.989780Z",
     "shell.execute_reply.started": "2022-03-13T13:56:04.393158Z"
    },
    "papermill": {
     "duration": 0.159514,
     "end_time": "2022-03-13T17:41:35.990536",
     "exception": false,
     "start_time": "2022-03-13T17:41:35.831022",
     "status": "completed"
    },
    "tags": []
   },
   "outputs": [],
   "source": [
    "# drop all columns that are irrelavant to linear model \n",
    "# choosen through human Intuition \n",
    "unneeded_columns = ['id','url','region_url','image_url','description','posting_date','lat','long','county']\n",
    "\n",
    "car_df = car_df.drop(unneeded_columns, axis=1)"
   ]
  },
  {
   "cell_type": "markdown",
   "id": "3202c433",
   "metadata": {
    "papermill": {
     "duration": 0.086141,
     "end_time": "2022-03-13T17:41:36.162712",
     "exception": false,
     "start_time": "2022-03-13T17:41:36.076571",
     "status": "completed"
    },
    "tags": []
   },
   "source": [
    "# Remove Null Values"
   ]
  },
  {
   "cell_type": "code",
   "execution_count": 6,
   "id": "5691a93d",
   "metadata": {
    "execution": {
     "iopub.execute_input": "2022-03-13T17:41:36.345288Z",
     "iopub.status.busy": "2022-03-13T17:41:36.340552Z",
     "iopub.status.idle": "2022-03-13T17:41:36.929577Z",
     "shell.execute_reply": "2022-03-13T17:41:36.930384Z",
     "shell.execute_reply.started": "2022-03-13T13:56:04.458442Z"
    },
    "papermill": {
     "duration": 0.681786,
     "end_time": "2022-03-13T17:41:36.930687",
     "exception": false,
     "start_time": "2022-03-13T17:41:36.248901",
     "status": "completed"
    },
    "tags": []
   },
   "outputs": [
    {
     "name": "stdout",
     "output_type": "stream",
     "text": [
      "<class 'pandas.core.frame.DataFrame'>\n",
      "RangeIndex: 426880 entries, 0 to 426879\n",
      "Data columns (total 17 columns):\n",
      " #   Column        Non-Null Count   Dtype  \n",
      "---  ------        --------------   -----  \n",
      " 0   region        426880 non-null  object \n",
      " 1   price         426880 non-null  int64  \n",
      " 2   year          425675 non-null  float64\n",
      " 3   manufacturer  409234 non-null  object \n",
      " 4   model         421603 non-null  object \n",
      " 5   condition     252776 non-null  object \n",
      " 6   cylinders     249202 non-null  object \n",
      " 7   fuel          423867 non-null  object \n",
      " 8   odometer      422480 non-null  float64\n",
      " 9   title_status  418638 non-null  object \n",
      " 10  transmission  424324 non-null  object \n",
      " 11  VIN           265838 non-null  object \n",
      " 12  drive         296313 non-null  object \n",
      " 13  size          120519 non-null  object \n",
      " 14  type          334022 non-null  object \n",
      " 15  paint_color   296677 non-null  object \n",
      " 16  state         426880 non-null  object \n",
      "dtypes: float64(2), int64(1), object(14)\n",
      "memory usage: 55.4+ MB\n"
     ]
    }
   ],
   "source": [
    "car_df.info()"
   ]
  },
  {
   "cell_type": "code",
   "execution_count": null,
   "id": "77968575",
   "metadata": {
    "papermill": {
     "duration": 0.086611,
     "end_time": "2022-03-13T17:41:37.106348",
     "exception": false,
     "start_time": "2022-03-13T17:41:37.019737",
     "status": "completed"
    },
    "tags": []
   },
   "outputs": [],
   "source": []
  },
  {
   "cell_type": "code",
   "execution_count": 7,
   "id": "558eb3c5",
   "metadata": {
    "execution": {
     "iopub.execute_input": "2022-03-13T17:41:37.286088Z",
     "iopub.status.busy": "2022-03-13T17:41:37.285403Z",
     "iopub.status.idle": "2022-03-13T17:41:37.857531Z",
     "shell.execute_reply": "2022-03-13T17:41:37.858125Z",
     "shell.execute_reply.started": "2022-03-13T13:56:05.069535Z"
    },
    "papermill": {
     "duration": 0.66449,
     "end_time": "2022-03-13T17:41:37.858342",
     "exception": false,
     "start_time": "2022-03-13T17:41:37.193852",
     "status": "completed"
    },
    "tags": []
   },
   "outputs": [
    {
     "data": {
      "text/plain": [
       "1215152"
      ]
     },
     "execution_count": 7,
     "metadata": {},
     "output_type": "execute_result"
    }
   ],
   "source": [
    "# Check if Data is fully numerical\n",
    "\n",
    "car_df.isna().sum().sum()\n",
    "\n"
   ]
  },
  {
   "cell_type": "markdown",
   "id": "99edf215",
   "metadata": {
    "papermill": {
     "duration": 0.090788,
     "end_time": "2022-03-13T17:41:38.036020",
     "exception": false,
     "start_time": "2022-03-13T17:41:37.945232",
     "status": "completed"
    },
    "tags": []
   },
   "source": [
    "# Find and Remove Outliers"
   ]
  },
  {
   "cell_type": "code",
   "execution_count": 8,
   "id": "23df14bd",
   "metadata": {
    "execution": {
     "iopub.execute_input": "2022-03-13T17:41:38.219217Z",
     "iopub.status.busy": "2022-03-13T17:41:38.218405Z",
     "iopub.status.idle": "2022-03-13T17:41:38.222996Z",
     "shell.execute_reply": "2022-03-13T17:41:38.222401Z",
     "shell.execute_reply.started": "2022-03-13T13:56:05.638133Z"
    },
    "papermill": {
     "duration": 0.099703,
     "end_time": "2022-03-13T17:41:38.223155",
     "exception": false,
     "start_time": "2022-03-13T17:41:38.123452",
     "status": "completed"
    },
    "tags": []
   },
   "outputs": [],
   "source": [
    "# Box. plot function \n",
    "def plot_boxplot(df, ft):\n",
    "    df.boxplot(column=[ft])\n",
    "    plt.grid(False)\n",
    "    plt.show()"
   ]
  },
  {
   "cell_type": "code",
   "execution_count": 9,
   "id": "f6c3be98",
   "metadata": {
    "execution": {
     "iopub.execute_input": "2022-03-13T17:41:38.402732Z",
     "iopub.status.busy": "2022-03-13T17:41:38.402001Z",
     "iopub.status.idle": "2022-03-13T17:41:41.277770Z",
     "shell.execute_reply": "2022-03-13T17:41:41.277099Z",
     "shell.execute_reply.started": "2022-03-13T13:56:05.644863Z"
    },
    "papermill": {
     "duration": 2.967362,
     "end_time": "2022-03-13T17:41:41.277925",
     "exception": false,
     "start_time": "2022-03-13T17:41:38.310563",
     "status": "completed"
    },
    "tags": []
   },
   "outputs": [
    {
     "data": {
      "image/png": "[encoded data removed]",
      "text/plain": [
       "<Figure size 864x288 with 1 Axes>"
      ]
     },
     "metadata": {
      "needs_background": "light"
     },
     "output_type": "display_data"
    },
    {
     "data": {
      "image/png": "[encoded data removed]",
      "text/plain": [
       "<Figure size 864x288 with 1 Axes>"
      ]
     },
     "metadata": {
      "needs_background": "light"
     },
     "output_type": "display_data"
    },
    {
     "data": {
      "image/png": "[encoded data removed]",
      "text/plain": [
       "<Figure size 864x288 with 1 Axes>"
      ]
     },
     "metadata": {
      "needs_background": "light"
     },
     "output_type": "display_data"
    }
   ],
   "source": [
    "plot_boxplot(car_df,'price')\n",
    "plot_boxplot(car_df,'odometer')\n",
    "plot_boxplot(car_df,'year')"
   ]
  },
  {
   "cell_type": "code",
   "execution_count": 10,
   "id": "b0702085",
   "metadata": {
    "execution": {
     "iopub.execute_input": "2022-03-13T17:41:41.458052Z",
     "iopub.status.busy": "2022-03-13T17:41:41.457419Z",
     "iopub.status.idle": "2022-03-13T17:41:41.541449Z",
     "shell.execute_reply": "2022-03-13T17:41:41.540921Z",
     "shell.execute_reply.started": "2022-03-13T13:56:08.440742Z"
    },
    "papermill": {
     "duration": 0.175261,
     "end_time": "2022-03-13T17:41:41.541673",
     "exception": false,
     "start_time": "2022-03-13T17:41:41.366412",
     "status": "completed"
    },
    "tags": []
   },
   "outputs": [],
   "source": [
    "# find Extreme Values for price\n",
    "# car_df = car_df[car_df.price < 500000]\n",
    "pmin = 500\n",
    "pmax = 70000\n",
    "car_df = car_df[car_df['price'].between(pmin, pmax)]\n"
   ]
  },
  {
   "cell_type": "code",
   "execution_count": 11,
   "id": "1f44a751",
   "metadata": {
    "execution": {
     "iopub.execute_input": "2022-03-13T17:41:41.727060Z",
     "iopub.status.busy": "2022-03-13T17:41:41.726350Z",
     "iopub.status.idle": "2022-03-13T17:41:41.813055Z",
     "shell.execute_reply": "2022-03-13T17:41:41.812538Z",
     "shell.execute_reply.started": "2022-03-13T13:56:08.522309Z"
    },
    "papermill": {
     "duration": 0.180397,
     "end_time": "2022-03-13T17:41:41.813214",
     "exception": false,
     "start_time": "2022-03-13T17:41:41.632817",
     "status": "completed"
    },
    "tags": []
   },
   "outputs": [],
   "source": [
    "# find Extreme Values for Year\n",
    "# car_df = car_df[car_df.price < 500000]\n",
    "year_min = 2000\n",
    "year_max = 2022\n",
    "car_df = car_df[car_df['year'].between(year_min, year_max)]\n",
    "\n"
   ]
  },
  {
   "cell_type": "code",
   "execution_count": 12,
   "id": "3d4d53b9",
   "metadata": {
    "execution": {
     "iopub.execute_input": "2022-03-13T17:41:41.995782Z",
     "iopub.status.busy": "2022-03-13T17:41:41.995060Z",
     "iopub.status.idle": "2022-03-13T17:41:42.077035Z",
     "shell.execute_reply": "2022-03-13T17:41:42.077613Z",
     "shell.execute_reply.started": "2022-03-13T13:56:08.599642Z"
    },
    "papermill": {
     "duration": 0.175585,
     "end_time": "2022-03-13T17:41:42.077805",
     "exception": false,
     "start_time": "2022-03-13T17:41:41.902220",
     "status": "completed"
    },
    "tags": []
   },
   "outputs": [],
   "source": [
    "# find Extreme Values for odometer\n",
    "# car_df = car_df[car_df.price < 500000]\n",
    "odo_min = 1000\n",
    "odo_max = 350000\n",
    "car_df = car_df[car_df['odometer'].between(odo_min, odo_max)]"
   ]
  },
  {
   "cell_type": "code",
   "execution_count": 13,
   "id": "9c267057",
   "metadata": {
    "execution": {
     "iopub.execute_input": "2022-03-13T17:41:42.261083Z",
     "iopub.status.busy": "2022-03-13T17:41:42.260451Z",
     "iopub.status.idle": "2022-03-13T17:41:42.262967Z",
     "shell.execute_reply": "2022-03-13T17:41:42.263569Z",
     "shell.execute_reply.started": "2022-03-13T13:56:08.674331Z"
    },
    "papermill": {
     "duration": 0.097299,
     "end_time": "2022-03-13T17:41:42.263737",
     "exception": false,
     "start_time": "2022-03-13T17:41:42.166438",
     "status": "completed"
    },
    "tags": []
   },
   "outputs": [
    {
     "data": {
      "text/plain": [
       "(347507, 17)"
      ]
     },
     "execution_count": 13,
     "metadata": {},
     "output_type": "execute_result"
    }
   ],
   "source": [
    "car_df.shape"
   ]
  },
  {
   "cell_type": "code",
   "execution_count": 14,
   "id": "a0b10c3a",
   "metadata": {
    "execution": {
     "iopub.execute_input": "2022-03-13T17:41:42.452459Z",
     "iopub.status.busy": "2022-03-13T17:41:42.445595Z",
     "iopub.status.idle": "2022-03-13T17:41:42.506873Z",
     "shell.execute_reply": "2022-03-13T17:41:42.507368Z",
     "shell.execute_reply.started": "2022-03-13T13:56:08.680501Z"
    },
    "papermill": {
     "duration": 0.154234,
     "end_time": "2022-03-13T17:41:42.507557",
     "exception": false,
     "start_time": "2022-03-13T17:41:42.353323",
     "status": "completed"
    },
    "tags": []
   },
   "outputs": [
    {
     "data": {
      "text/html": [
       "<div>\n",
       "<style scoped>\n",
       "    .dataframe tbody tr th:only-of-type {\n",
       "        vertical-align: middle;\n",
       "    }\n",
       "\n",
       "    .dataframe tbody tr th {\n",
       "        vertical-align: top;\n",
       "    }\n",
       "\n",
       "    .dataframe thead th {\n",
       "        text-align: right;\n",
       "    }\n",
       "</style>\n",
       "<table border=\"1\" class=\"dataframe\">\n",
       "  <thead>\n",
       "    <tr style=\"text-align: right;\">\n",
       "      <th></th>\n",
       "      <th>price</th>\n",
       "      <th>year</th>\n",
       "      <th>odometer</th>\n",
       "    </tr>\n",
       "  </thead>\n",
       "  <tbody>\n",
       "    <tr>\n",
       "      <th>count</th>\n",
       "      <td>347507.000000</td>\n",
       "      <td>347507.000000</td>\n",
       "      <td>347507.000000</td>\n",
       "    </tr>\n",
       "    <tr>\n",
       "      <th>mean</th>\n",
       "      <td>19192.204813</td>\n",
       "      <td>2012.778876</td>\n",
       "      <td>93472.972001</td>\n",
       "    </tr>\n",
       "    <tr>\n",
       "      <th>std</th>\n",
       "      <td>13424.020584</td>\n",
       "      <td>5.020566</td>\n",
       "      <td>61044.560596</td>\n",
       "    </tr>\n",
       "    <tr>\n",
       "      <th>min</th>\n",
       "      <td>500.000000</td>\n",
       "      <td>2000.000000</td>\n",
       "      <td>1000.000000</td>\n",
       "    </tr>\n",
       "    <tr>\n",
       "      <th>25%</th>\n",
       "      <td>7995.000000</td>\n",
       "      <td>2009.000000</td>\n",
       "      <td>40495.500000</td>\n",
       "    </tr>\n",
       "    <tr>\n",
       "      <th>50%</th>\n",
       "      <td>15999.000000</td>\n",
       "      <td>2014.000000</td>\n",
       "      <td>88947.000000</td>\n",
       "    </tr>\n",
       "    <tr>\n",
       "      <th>75%</th>\n",
       "      <td>27990.000000</td>\n",
       "      <td>2017.000000</td>\n",
       "      <td>135362.000000</td>\n",
       "    </tr>\n",
       "    <tr>\n",
       "      <th>max</th>\n",
       "      <td>70000.000000</td>\n",
       "      <td>2022.000000</td>\n",
       "      <td>350000.000000</td>\n",
       "    </tr>\n",
       "  </tbody>\n",
       "</table>\n",
       "</div>"
      ],
      "text/plain": [
       "               price           year       odometer\n",
       "count  347507.000000  347507.000000  347507.000000\n",
       "mean    19192.204813    2012.778876   93472.972001\n",
       "std     13424.020584       5.020566   61044.560596\n",
       "min       500.000000    2000.000000    1000.000000\n",
       "25%      7995.000000    2009.000000   40495.500000\n",
       "50%     15999.000000    2014.000000   88947.000000\n",
       "75%     27990.000000    2017.000000  135362.000000\n",
       "max     70000.000000    2022.000000  350000.000000"
      ]
     },
     "execution_count": 14,
     "metadata": {},
     "output_type": "execute_result"
    }
   ],
   "source": [
    "car_df.describe()"
   ]
  },
  {
   "cell_type": "code",
   "execution_count": 15,
   "id": "199fe54b",
   "metadata": {
    "execution": {
     "iopub.execute_input": "2022-03-13T17:41:42.692706Z",
     "iopub.status.busy": "2022-03-13T17:41:42.688951Z",
     "iopub.status.idle": "2022-03-13T17:41:45.204824Z",
     "shell.execute_reply": "2022-03-13T17:41:45.205554Z",
     "shell.execute_reply.started": "2022-03-13T13:56:08.747544Z"
    },
    "papermill": {
     "duration": 2.608707,
     "end_time": "2022-03-13T17:41:45.205736",
     "exception": false,
     "start_time": "2022-03-13T17:41:42.597029",
     "status": "completed"
    },
    "tags": []
   },
   "outputs": [
    {
     "data": {
      "image/png": "[encoded data removed]",
      "text/plain": [
       "<Figure size 864x288 with 1 Axes>"
      ]
     },
     "metadata": {
      "needs_background": "light"
     },
     "output_type": "display_data"
    },
    {
     "data": {
      "image/png": "[encoded data removed]",
      "text/plain": [
       "<Figure size 864x288 with 1 Axes>"
      ]
     },
     "metadata": {
      "needs_background": "light"
     },
     "output_type": "display_data"
    },
    {
     "data": {
      "image/png": "[encoded data removed]",
      "text/plain": [
       "<Figure size 864x288 with 1 Axes>"
      ]
     },
     "metadata": {
      "needs_background": "light"
     },
     "output_type": "display_data"
    }
   ],
   "source": [
    "plot_boxplot(car_df,'price')\n",
    "plot_boxplot(car_df,'odometer')\n",
    "plot_boxplot(car_df,'year')"
   ]
  },
  {
   "cell_type": "code",
   "execution_count": 16,
   "id": "97d055a8",
   "metadata": {
    "execution": {
     "iopub.execute_input": "2022-03-13T17:41:45.848818Z",
     "iopub.status.busy": "2022-03-13T17:41:45.848054Z",
     "iopub.status.idle": "2022-03-13T17:41:46.328108Z",
     "shell.execute_reply": "2022-03-13T17:41:46.327357Z",
     "shell.execute_reply.started": "2022-03-13T13:56:11.056413Z"
    },
    "papermill": {
     "duration": 1.030969,
     "end_time": "2022-03-13T17:41:46.328276",
     "exception": false,
     "start_time": "2022-03-13T17:41:45.297307",
     "status": "completed"
    },
    "tags": []
   },
   "outputs": [
    {
     "data": {
      "text/plain": [
       "region               0\n",
       "price                0\n",
       "year                 0\n",
       "manufacturer      9875\n",
       "model             2677\n",
       "condition       132517\n",
       "cylinders       143741\n",
       "fuel              2016\n",
       "odometer             0\n",
       "title_status      5917\n",
       "transmission      1415\n",
       "VIN             123708\n",
       "drive           104630\n",
       "size            252062\n",
       "type             70283\n",
       "paint_color      98468\n",
       "state                0\n",
       "dtype: int64"
      ]
     },
     "execution_count": 16,
     "metadata": {},
     "output_type": "execute_result"
    }
   ],
   "source": [
    "# Check if Data is fully numerical\n",
    "\n",
    "car_df.isna().sum().sum()\n",
    "\n",
    "car_df.isna().sum()"
   ]
  },
  {
   "cell_type": "markdown",
   "id": "09286f1f",
   "metadata": {
    "papermill": {
     "duration": 0.096256,
     "end_time": "2022-03-13T17:41:46.518428",
     "exception": false,
     "start_time": "2022-03-13T17:41:46.422172",
     "status": "completed"
    },
    "tags": []
   },
   "source": [
    "# Remove Outliers "
   ]
  },
  {
   "cell_type": "code",
   "execution_count": 17,
   "id": "bee92953",
   "metadata": {
    "execution": {
     "iopub.execute_input": "2022-03-13T17:41:46.718342Z",
     "iopub.status.busy": "2022-03-13T17:41:46.717610Z",
     "iopub.status.idle": "2022-03-13T17:41:46.862391Z",
     "shell.execute_reply": "2022-03-13T17:41:46.861716Z",
     "shell.execute_reply.started": "2022-03-13T13:56:11.988906Z"
    },
    "papermill": {
     "duration": 0.250278,
     "end_time": "2022-03-13T17:41:46.862567",
     "exception": false,
     "start_time": "2022-03-13T17:41:46.612289",
     "status": "completed"
    },
    "tags": []
   },
   "outputs": [],
   "source": [
    "# Outliers Function \n",
    "cols = ['price', 'year', 'odometer'] # one or more\n",
    "\n",
    "Q1 = car_df[cols].quantile(0.25)\n",
    "Q3 = car_df[cols].quantile(0.75)\n",
    "IQR = Q3 - Q1\n",
    "\n",
    "car_df = car_df[~((car_df[cols] < (Q1 - 1.5 * IQR)) |(car_df[cols] > (Q3 + 1.5 * IQR))).any(axis=1)]"
   ]
  },
  {
   "cell_type": "code",
   "execution_count": 18,
   "id": "695dadf3",
   "metadata": {
    "execution": {
     "iopub.execute_input": "2022-03-13T17:41:47.079483Z",
     "iopub.status.busy": "2022-03-13T17:41:47.057646Z",
     "iopub.status.idle": "2022-03-13T17:41:47.084001Z",
     "shell.execute_reply": "2022-03-13T17:41:47.084480Z",
     "shell.execute_reply.started": "2022-03-13T13:56:12.136197Z"
    },
    "papermill": {
     "duration": 0.128358,
     "end_time": "2022-03-13T17:41:47.084674",
     "exception": false,
     "start_time": "2022-03-13T17:41:46.956316",
     "status": "completed"
    },
    "tags": []
   },
   "outputs": [
    {
     "data": {
      "text/html": [
       "<div>\n",
       "<style scoped>\n",
       "    .dataframe tbody tr th:only-of-type {\n",
       "        vertical-align: middle;\n",
       "    }\n",
       "\n",
       "    .dataframe tbody tr th {\n",
       "        vertical-align: top;\n",
       "    }\n",
       "\n",
       "    .dataframe thead th {\n",
       "        text-align: right;\n",
       "    }\n",
       "</style>\n",
       "<table border=\"1\" class=\"dataframe\">\n",
       "  <thead>\n",
       "    <tr style=\"text-align: right;\">\n",
       "      <th></th>\n",
       "      <th>region</th>\n",
       "      <th>price</th>\n",
       "      <th>year</th>\n",
       "      <th>manufacturer</th>\n",
       "      <th>model</th>\n",
       "      <th>condition</th>\n",
       "      <th>cylinders</th>\n",
       "      <th>fuel</th>\n",
       "      <th>odometer</th>\n",
       "      <th>title_status</th>\n",
       "      <th>transmission</th>\n",
       "      <th>VIN</th>\n",
       "      <th>drive</th>\n",
       "      <th>size</th>\n",
       "      <th>type</th>\n",
       "      <th>paint_color</th>\n",
       "      <th>state</th>\n",
       "    </tr>\n",
       "  </thead>\n",
       "  <tbody>\n",
       "    <tr>\n",
       "      <th>27</th>\n",
       "      <td>auburn</td>\n",
       "      <td>33590</td>\n",
       "      <td>2014.0</td>\n",
       "      <td>gmc</td>\n",
       "      <td>sierra 1500 crew cab slt</td>\n",
       "      <td>good</td>\n",
       "      <td>8 cylinders</td>\n",
       "      <td>gas</td>\n",
       "      <td>57923.0</td>\n",
       "      <td>clean</td>\n",
       "      <td>other</td>\n",
       "      <td>3GTP1VEC4EG551563</td>\n",
       "      <td>NaN</td>\n",
       "      <td>NaN</td>\n",
       "      <td>pickup</td>\n",
       "      <td>white</td>\n",
       "      <td>al</td>\n",
       "    </tr>\n",
       "    <tr>\n",
       "      <th>28</th>\n",
       "      <td>auburn</td>\n",
       "      <td>22590</td>\n",
       "      <td>2010.0</td>\n",
       "      <td>chevrolet</td>\n",
       "      <td>silverado 1500</td>\n",
       "      <td>good</td>\n",
       "      <td>8 cylinders</td>\n",
       "      <td>gas</td>\n",
       "      <td>71229.0</td>\n",
       "      <td>clean</td>\n",
       "      <td>other</td>\n",
       "      <td>1GCSCSE06AZ123805</td>\n",
       "      <td>NaN</td>\n",
       "      <td>NaN</td>\n",
       "      <td>pickup</td>\n",
       "      <td>blue</td>\n",
       "      <td>al</td>\n",
       "    </tr>\n",
       "    <tr>\n",
       "      <th>29</th>\n",
       "      <td>auburn</td>\n",
       "      <td>39590</td>\n",
       "      <td>2020.0</td>\n",
       "      <td>chevrolet</td>\n",
       "      <td>silverado 1500 crew</td>\n",
       "      <td>good</td>\n",
       "      <td>8 cylinders</td>\n",
       "      <td>gas</td>\n",
       "      <td>19160.0</td>\n",
       "      <td>clean</td>\n",
       "      <td>other</td>\n",
       "      <td>3GCPWCED5LG130317</td>\n",
       "      <td>NaN</td>\n",
       "      <td>NaN</td>\n",
       "      <td>pickup</td>\n",
       "      <td>red</td>\n",
       "      <td>al</td>\n",
       "    </tr>\n",
       "    <tr>\n",
       "      <th>30</th>\n",
       "      <td>auburn</td>\n",
       "      <td>30990</td>\n",
       "      <td>2017.0</td>\n",
       "      <td>toyota</td>\n",
       "      <td>tundra double cab sr</td>\n",
       "      <td>good</td>\n",
       "      <td>8 cylinders</td>\n",
       "      <td>gas</td>\n",
       "      <td>41124.0</td>\n",
       "      <td>clean</td>\n",
       "      <td>other</td>\n",
       "      <td>5TFRM5F17HX120972</td>\n",
       "      <td>NaN</td>\n",
       "      <td>NaN</td>\n",
       "      <td>pickup</td>\n",
       "      <td>red</td>\n",
       "      <td>al</td>\n",
       "    </tr>\n",
       "    <tr>\n",
       "      <th>31</th>\n",
       "      <td>auburn</td>\n",
       "      <td>15000</td>\n",
       "      <td>2013.0</td>\n",
       "      <td>ford</td>\n",
       "      <td>f-150 xlt</td>\n",
       "      <td>excellent</td>\n",
       "      <td>6 cylinders</td>\n",
       "      <td>gas</td>\n",
       "      <td>128000.0</td>\n",
       "      <td>clean</td>\n",
       "      <td>automatic</td>\n",
       "      <td>NaN</td>\n",
       "      <td>rwd</td>\n",
       "      <td>full-size</td>\n",
       "      <td>truck</td>\n",
       "      <td>black</td>\n",
       "      <td>al</td>\n",
       "    </tr>\n",
       "    <tr>\n",
       "      <th>...</th>\n",
       "      <td>...</td>\n",
       "      <td>...</td>\n",
       "      <td>...</td>\n",
       "      <td>...</td>\n",
       "      <td>...</td>\n",
       "      <td>...</td>\n",
       "      <td>...</td>\n",
       "      <td>...</td>\n",
       "      <td>...</td>\n",
       "      <td>...</td>\n",
       "      <td>...</td>\n",
       "      <td>...</td>\n",
       "      <td>...</td>\n",
       "      <td>...</td>\n",
       "      <td>...</td>\n",
       "      <td>...</td>\n",
       "      <td>...</td>\n",
       "    </tr>\n",
       "    <tr>\n",
       "      <th>426875</th>\n",
       "      <td>wyoming</td>\n",
       "      <td>23590</td>\n",
       "      <td>2019.0</td>\n",
       "      <td>nissan</td>\n",
       "      <td>maxima s sedan 4d</td>\n",
       "      <td>good</td>\n",
       "      <td>6 cylinders</td>\n",
       "      <td>gas</td>\n",
       "      <td>32226.0</td>\n",
       "      <td>clean</td>\n",
       "      <td>other</td>\n",
       "      <td>1N4AA6AV6KC367801</td>\n",
       "      <td>fwd</td>\n",
       "      <td>NaN</td>\n",
       "      <td>sedan</td>\n",
       "      <td>NaN</td>\n",
       "      <td>wy</td>\n",
       "    </tr>\n",
       "    <tr>\n",
       "      <th>426876</th>\n",
       "      <td>wyoming</td>\n",
       "      <td>30590</td>\n",
       "      <td>2020.0</td>\n",
       "      <td>volvo</td>\n",
       "      <td>s60 t5 momentum sedan 4d</td>\n",
       "      <td>good</td>\n",
       "      <td>NaN</td>\n",
       "      <td>gas</td>\n",
       "      <td>12029.0</td>\n",
       "      <td>clean</td>\n",
       "      <td>other</td>\n",
       "      <td>7JR102FKXLG042696</td>\n",
       "      <td>fwd</td>\n",
       "      <td>NaN</td>\n",
       "      <td>sedan</td>\n",
       "      <td>red</td>\n",
       "      <td>wy</td>\n",
       "    </tr>\n",
       "    <tr>\n",
       "      <th>426877</th>\n",
       "      <td>wyoming</td>\n",
       "      <td>34990</td>\n",
       "      <td>2020.0</td>\n",
       "      <td>cadillac</td>\n",
       "      <td>xt4 sport suv 4d</td>\n",
       "      <td>good</td>\n",
       "      <td>NaN</td>\n",
       "      <td>diesel</td>\n",
       "      <td>4174.0</td>\n",
       "      <td>clean</td>\n",
       "      <td>other</td>\n",
       "      <td>1GYFZFR46LF088296</td>\n",
       "      <td>NaN</td>\n",
       "      <td>NaN</td>\n",
       "      <td>hatchback</td>\n",
       "      <td>white</td>\n",
       "      <td>wy</td>\n",
       "    </tr>\n",
       "    <tr>\n",
       "      <th>426878</th>\n",
       "      <td>wyoming</td>\n",
       "      <td>28990</td>\n",
       "      <td>2018.0</td>\n",
       "      <td>lexus</td>\n",
       "      <td>es 350 sedan 4d</td>\n",
       "      <td>good</td>\n",
       "      <td>6 cylinders</td>\n",
       "      <td>gas</td>\n",
       "      <td>30112.0</td>\n",
       "      <td>clean</td>\n",
       "      <td>other</td>\n",
       "      <td>58ABK1GG4JU103853</td>\n",
       "      <td>fwd</td>\n",
       "      <td>NaN</td>\n",
       "      <td>sedan</td>\n",
       "      <td>silver</td>\n",
       "      <td>wy</td>\n",
       "    </tr>\n",
       "    <tr>\n",
       "      <th>426879</th>\n",
       "      <td>wyoming</td>\n",
       "      <td>30590</td>\n",
       "      <td>2019.0</td>\n",
       "      <td>bmw</td>\n",
       "      <td>4 series 430i gran coupe</td>\n",
       "      <td>good</td>\n",
       "      <td>NaN</td>\n",
       "      <td>gas</td>\n",
       "      <td>22716.0</td>\n",
       "      <td>clean</td>\n",
       "      <td>other</td>\n",
       "      <td>WBA4J1C58KBM14708</td>\n",
       "      <td>rwd</td>\n",
       "      <td>NaN</td>\n",
       "      <td>coupe</td>\n",
       "      <td>NaN</td>\n",
       "      <td>wy</td>\n",
       "    </tr>\n",
       "  </tbody>\n",
       "</table>\n",
       "<p>341618 rows × 17 columns</p>\n",
       "</div>"
      ],
      "text/plain": [
       "         region  price    year manufacturer                     model  \\\n",
       "27       auburn  33590  2014.0          gmc  sierra 1500 crew cab slt   \n",
       "28       auburn  22590  2010.0    chevrolet            silverado 1500   \n",
       "29       auburn  39590  2020.0    chevrolet       silverado 1500 crew   \n",
       "30       auburn  30990  2017.0       toyota      tundra double cab sr   \n",
       "31       auburn  15000  2013.0         ford                 f-150 xlt   \n",
       "...         ...    ...     ...          ...                       ...   \n",
       "426875  wyoming  23590  2019.0       nissan         maxima s sedan 4d   \n",
       "426876  wyoming  30590  2020.0        volvo  s60 t5 momentum sedan 4d   \n",
       "426877  wyoming  34990  2020.0     cadillac          xt4 sport suv 4d   \n",
       "426878  wyoming  28990  2018.0        lexus           es 350 sedan 4d   \n",
       "426879  wyoming  30590  2019.0          bmw  4 series 430i gran coupe   \n",
       "\n",
       "        condition    cylinders    fuel  odometer title_status transmission  \\\n",
       "27           good  8 cylinders     gas   57923.0        clean        other   \n",
       "28           good  8 cylinders     gas   71229.0        clean        other   \n",
       "29           good  8 cylinders     gas   19160.0        clean        other   \n",
       "30           good  8 cylinders     gas   41124.0        clean        other   \n",
       "31      excellent  6 cylinders     gas  128000.0        clean    automatic   \n",
       "...           ...          ...     ...       ...          ...          ...   \n",
       "426875       good  6 cylinders     gas   32226.0        clean        other   \n",
       "426876       good          NaN     gas   12029.0        clean        other   \n",
       "426877       good          NaN  diesel    4174.0        clean        other   \n",
       "426878       good  6 cylinders     gas   30112.0        clean        other   \n",
       "426879       good          NaN     gas   22716.0        clean        other   \n",
       "\n",
       "                      VIN drive       size       type paint_color state  \n",
       "27      3GTP1VEC4EG551563   NaN        NaN     pickup       white    al  \n",
       "28      1GCSCSE06AZ123805   NaN        NaN     pickup        blue    al  \n",
       "29      3GCPWCED5LG130317   NaN        NaN     pickup         red    al  \n",
       "30      5TFRM5F17HX120972   NaN        NaN     pickup         red    al  \n",
       "31                    NaN   rwd  full-size      truck       black    al  \n",
       "...                   ...   ...        ...        ...         ...   ...  \n",
       "426875  1N4AA6AV6KC367801   fwd        NaN      sedan         NaN    wy  \n",
       "426876  7JR102FKXLG042696   fwd        NaN      sedan         red    wy  \n",
       "426877  1GYFZFR46LF088296   NaN        NaN  hatchback       white    wy  \n",
       "426878  58ABK1GG4JU103853   fwd        NaN      sedan      silver    wy  \n",
       "426879  WBA4J1C58KBM14708   rwd        NaN      coupe         NaN    wy  \n",
       "\n",
       "[341618 rows x 17 columns]"
      ]
     },
     "execution_count": 18,
     "metadata": {},
     "output_type": "execute_result"
    }
   ],
   "source": [
    "car_df"
   ]
  },
  {
   "cell_type": "code",
   "execution_count": 19,
   "id": "169a04e0",
   "metadata": {
    "execution": {
     "iopub.execute_input": "2022-03-13T17:41:47.276870Z",
     "iopub.status.busy": "2022-03-13T17:41:47.275973Z",
     "iopub.status.idle": "2022-03-13T17:41:47.280697Z",
     "shell.execute_reply": "2022-03-13T17:41:47.280073Z",
     "shell.execute_reply.started": "2022-03-13T13:56:12.170189Z"
    },
    "papermill": {
     "duration": 0.102999,
     "end_time": "2022-03-13T17:41:47.280833",
     "exception": false,
     "start_time": "2022-03-13T17:41:47.177834",
     "status": "completed"
    },
    "tags": []
   },
   "outputs": [
    {
     "data": {
      "text/plain": [
       "(341618, 17)"
      ]
     },
     "execution_count": 19,
     "metadata": {},
     "output_type": "execute_result"
    }
   ],
   "source": [
    "car_df.shape"
   ]
  },
  {
   "cell_type": "code",
   "execution_count": 20,
   "id": "47519bc7",
   "metadata": {
    "execution": {
     "iopub.execute_input": "2022-03-13T17:41:47.477818Z",
     "iopub.status.busy": "2022-03-13T17:41:47.477158Z",
     "iopub.status.idle": "2022-03-13T17:41:47.535777Z",
     "shell.execute_reply": "2022-03-13T17:41:47.535206Z",
     "shell.execute_reply.started": "2022-03-13T13:56:12.182687Z"
    },
    "papermill": {
     "duration": 0.161645,
     "end_time": "2022-03-13T17:41:47.535915",
     "exception": false,
     "start_time": "2022-03-13T17:41:47.374270",
     "status": "completed"
    },
    "tags": []
   },
   "outputs": [
    {
     "data": {
      "text/html": [
       "<div>\n",
       "<style scoped>\n",
       "    .dataframe tbody tr th:only-of-type {\n",
       "        vertical-align: middle;\n",
       "    }\n",
       "\n",
       "    .dataframe tbody tr th {\n",
       "        vertical-align: top;\n",
       "    }\n",
       "\n",
       "    .dataframe thead th {\n",
       "        text-align: right;\n",
       "    }\n",
       "</style>\n",
       "<table border=\"1\" class=\"dataframe\">\n",
       "  <thead>\n",
       "    <tr style=\"text-align: right;\">\n",
       "      <th></th>\n",
       "      <th>price</th>\n",
       "      <th>year</th>\n",
       "      <th>odometer</th>\n",
       "    </tr>\n",
       "  </thead>\n",
       "  <tbody>\n",
       "    <tr>\n",
       "      <th>count</th>\n",
       "      <td>341618.000000</td>\n",
       "      <td>341618.000000</td>\n",
       "      <td>341618.000000</td>\n",
       "    </tr>\n",
       "    <tr>\n",
       "      <th>mean</th>\n",
       "      <td>18689.686108</td>\n",
       "      <td>2012.753119</td>\n",
       "      <td>93123.298348</td>\n",
       "    </tr>\n",
       "    <tr>\n",
       "      <th>std</th>\n",
       "      <td>12553.577508</td>\n",
       "      <td>4.995401</td>\n",
       "      <td>59429.797179</td>\n",
       "    </tr>\n",
       "    <tr>\n",
       "      <th>min</th>\n",
       "      <td>500.000000</td>\n",
       "      <td>2000.000000</td>\n",
       "      <td>1000.000000</td>\n",
       "    </tr>\n",
       "    <tr>\n",
       "      <th>25%</th>\n",
       "      <td>7995.000000</td>\n",
       "      <td>2009.000000</td>\n",
       "      <td>40884.000000</td>\n",
       "    </tr>\n",
       "    <tr>\n",
       "      <th>50%</th>\n",
       "      <td>15995.000000</td>\n",
       "      <td>2014.000000</td>\n",
       "      <td>89379.000000</td>\n",
       "    </tr>\n",
       "    <tr>\n",
       "      <th>75%</th>\n",
       "      <td>27590.000000</td>\n",
       "      <td>2017.000000</td>\n",
       "      <td>135168.000000</td>\n",
       "    </tr>\n",
       "    <tr>\n",
       "      <th>max</th>\n",
       "      <td>57981.000000</td>\n",
       "      <td>2022.000000</td>\n",
       "      <td>277542.000000</td>\n",
       "    </tr>\n",
       "  </tbody>\n",
       "</table>\n",
       "</div>"
      ],
      "text/plain": [
       "               price           year       odometer\n",
       "count  341618.000000  341618.000000  341618.000000\n",
       "mean    18689.686108    2012.753119   93123.298348\n",
       "std     12553.577508       4.995401   59429.797179\n",
       "min       500.000000    2000.000000    1000.000000\n",
       "25%      7995.000000    2009.000000   40884.000000\n",
       "50%     15995.000000    2014.000000   89379.000000\n",
       "75%     27590.000000    2017.000000  135168.000000\n",
       "max     57981.000000    2022.000000  277542.000000"
      ]
     },
     "execution_count": 20,
     "metadata": {},
     "output_type": "execute_result"
    }
   ],
   "source": [
    "car_df.describe()"
   ]
  },
  {
   "cell_type": "markdown",
   "id": "a0252ca4",
   "metadata": {
    "papermill": {
     "duration": 0.094631,
     "end_time": "2022-03-13T17:41:47.724393",
     "exception": false,
     "start_time": "2022-03-13T17:41:47.629762",
     "status": "completed"
    },
    "tags": []
   },
   "source": [
    "# Remove Null Values"
   ]
  },
  {
   "cell_type": "markdown",
   "id": "fa4eee9e",
   "metadata": {
    "papermill": {
     "duration": 0.09398,
     "end_time": "2022-03-13T17:41:47.915776",
     "exception": false,
     "start_time": "2022-03-13T17:41:47.821796",
     "status": "completed"
    },
    "tags": []
   },
   "source": [
    "# Clean Catagorical Variables"
   ]
  },
  {
   "cell_type": "code",
   "execution_count": 21,
   "id": "c8f1fa14",
   "metadata": {
    "execution": {
     "iopub.execute_input": "2022-03-13T17:41:48.558538Z",
     "iopub.status.busy": "2022-03-13T17:41:48.557377Z",
     "iopub.status.idle": "2022-03-13T17:41:49.035054Z",
     "shell.execute_reply": "2022-03-13T17:41:49.035837Z",
     "shell.execute_reply.started": "2022-03-13T13:56:12.251678Z"
    },
    "papermill": {
     "duration": 1.025022,
     "end_time": "2022-03-13T17:41:49.036119",
     "exception": false,
     "start_time": "2022-03-13T17:41:48.011097",
     "status": "completed"
    },
    "tags": []
   },
   "outputs": [
    {
     "name": "stdout",
     "output_type": "stream",
     "text": [
      "<class 'pandas.core.frame.DataFrame'>\n",
      "Int64Index: 341618 entries, 27 to 426879\n",
      "Data columns (total 17 columns):\n",
      " #   Column        Non-Null Count   Dtype  \n",
      "---  ------        --------------   -----  \n",
      " 0   region        341618 non-null  object \n",
      " 1   price         341618 non-null  int64  \n",
      " 2   year          341618 non-null  float64\n",
      " 3   manufacturer  332123 non-null  object \n",
      " 4   model         339097 non-null  object \n",
      " 5   condition     212436 non-null  object \n",
      " 6   cylinders     200504 non-null  object \n",
      " 7   fuel          339621 non-null  object \n",
      " 8   odometer      341618 non-null  float64\n",
      " 9   title_status  335743 non-null  object \n",
      " 10  transmission  340266 non-null  object \n",
      " 11  VIN           219842 non-null  object \n",
      " 12  drive         238345 non-null  object \n",
      " 13  size          94094 non-null   object \n",
      " 14  type          272737 non-null  object \n",
      " 15  paint_color   244823 non-null  object \n",
      " 16  state         341618 non-null  object \n",
      "dtypes: float64(2), int64(1), object(14)\n",
      "memory usage: 46.9+ MB\n"
     ]
    },
    {
     "data": {
      "text/plain": [
       "region               0\n",
       "price                0\n",
       "year                 0\n",
       "manufacturer      9495\n",
       "model             2521\n",
       "condition       129182\n",
       "cylinders       141114\n",
       "fuel              1997\n",
       "odometer             0\n",
       "title_status      5875\n",
       "transmission      1352\n",
       "VIN             121776\n",
       "drive           103273\n",
       "size            247524\n",
       "type             68881\n",
       "paint_color      96795\n",
       "state                0\n",
       "dtype: int64"
      ]
     },
     "execution_count": 21,
     "metadata": {},
     "output_type": "execute_result"
    }
   ],
   "source": [
    "# Find Which columns have too many null values \n",
    "car_df.info()\n",
    "car_df.isna().sum()\n",
    "\n"
   ]
  },
  {
   "cell_type": "code",
   "execution_count": 22,
   "id": "29f89e0e",
   "metadata": {
    "execution": {
     "iopub.execute_input": "2022-03-13T17:41:49.233720Z",
     "iopub.status.busy": "2022-03-13T17:41:49.233008Z",
     "iopub.status.idle": "2022-03-13T17:41:49.689293Z",
     "shell.execute_reply": "2022-03-13T17:41:49.688641Z",
     "shell.execute_reply.started": "2022-03-13T13:56:13.193685Z"
    },
    "papermill": {
     "duration": 0.556872,
     "end_time": "2022-03-13T17:41:49.689456",
     "exception": false,
     "start_time": "2022-03-13T17:41:49.132584",
     "status": "completed"
    },
    "tags": []
   },
   "outputs": [
    {
     "data": {
      "text/plain": [
       "region          0.000000\n",
       "price           0.000000\n",
       "year            0.000000\n",
       "manufacturer    0.027794\n",
       "model           0.007380\n",
       "condition       0.378148\n",
       "cylinders       0.413075\n",
       "fuel            0.005846\n",
       "odometer        0.000000\n",
       "title_status    0.017198\n",
       "transmission    0.003958\n",
       "VIN             0.356468\n",
       "drive           0.302305\n",
       "size            0.724564\n",
       "type            0.201632\n",
       "paint_color     0.283343\n",
       "state           0.000000\n",
       "dtype: float64"
      ]
     },
     "execution_count": 22,
     "metadata": {},
     "output_type": "execute_result"
    }
   ],
   "source": [
    "car_df.isna().mean()"
   ]
  },
  {
   "cell_type": "code",
   "execution_count": 23,
   "id": "a363795a",
   "metadata": {
    "execution": {
     "iopub.execute_input": "2022-03-13T17:41:50.335251Z",
     "iopub.status.busy": "2022-03-13T17:41:50.334495Z",
     "iopub.status.idle": "2022-03-13T17:41:50.349730Z",
     "shell.execute_reply": "2022-03-13T17:41:50.350232Z",
     "shell.execute_reply.started": "2022-03-13T13:56:13.652402Z"
    },
    "papermill": {
     "duration": 0.563049,
     "end_time": "2022-03-13T17:41:50.350431",
     "exception": false,
     "start_time": "2022-03-13T17:41:49.787382",
     "status": "completed"
    },
    "tags": []
   },
   "outputs": [
    {
     "data": {
      "text/plain": [
       "region          False\n",
       "price           False\n",
       "year            False\n",
       "manufacturer    False\n",
       "model           False\n",
       "condition        True\n",
       "cylinders        True\n",
       "fuel            False\n",
       "odometer        False\n",
       "title_status    False\n",
       "transmission    False\n",
       "VIN              True\n",
       "drive            True\n",
       "size             True\n",
       "type             True\n",
       "paint_color      True\n",
       "state           False\n",
       "dtype: bool"
      ]
     },
     "execution_count": 23,
     "metadata": {},
     "output_type": "execute_result"
    }
   ],
   "source": [
    "# seperate columns with null values that have over 5% null\n",
    "car_df.isna().mean()>0.15"
   ]
  },
  {
   "cell_type": "code",
   "execution_count": 24,
   "id": "d1a837ef",
   "metadata": {
    "execution": {
     "iopub.execute_input": "2022-03-13T17:41:50.554704Z",
     "iopub.status.busy": "2022-03-13T17:41:50.553648Z",
     "iopub.status.idle": "2022-03-13T17:41:51.014149Z",
     "shell.execute_reply": "2022-03-13T17:41:51.014697Z",
     "shell.execute_reply.started": "2022-03-13T13:56:14.111374Z"
    },
    "papermill": {
     "duration": 0.567005,
     "end_time": "2022-03-13T17:41:51.014887",
     "exception": false,
     "start_time": "2022-03-13T17:41:50.447882",
     "status": "completed"
    },
    "tags": []
   },
   "outputs": [
    {
     "data": {
      "text/plain": [
       "Index(['condition', 'cylinders', 'VIN', 'drive', 'size', 'type',\n",
       "       'paint_color'],\n",
       "      dtype='object')"
      ]
     },
     "execution_count": 24,
     "metadata": {},
     "output_type": "execute_result"
    }
   ],
   "source": [
    "# Index of columns with null vlaues over 5%\n",
    "car_df.columns[car_df.isna().mean() > 0.05]"
   ]
  },
  {
   "cell_type": "code",
   "execution_count": 25,
   "id": "217b7a23",
   "metadata": {
    "execution": {
     "iopub.execute_input": "2022-03-13T17:41:51.213919Z",
     "iopub.status.busy": "2022-03-13T17:41:51.212975Z",
     "iopub.status.idle": "2022-03-13T17:41:51.686237Z",
     "shell.execute_reply": "2022-03-13T17:41:51.686758Z",
     "shell.execute_reply.started": "2022-03-13T13:56:14.570669Z"
    },
    "papermill": {
     "duration": 0.572982,
     "end_time": "2022-03-13T17:41:51.686930",
     "exception": false,
     "start_time": "2022-03-13T17:41:51.113948",
     "status": "completed"
    },
    "tags": []
   },
   "outputs": [],
   "source": [
    "# drop columns with null vlaues over 5% from the dataset  \n",
    "high_null_count_columns = car_df.columns[car_df.isna().mean() > 0.05]\n",
    "car_df = car_df.drop(high_null_count_columns, axis=1)"
   ]
  },
  {
   "cell_type": "code",
   "execution_count": 26,
   "id": "f495c1da",
   "metadata": {
    "execution": {
     "iopub.execute_input": "2022-03-13T17:41:52.136483Z",
     "iopub.status.busy": "2022-03-13T17:41:51.887550Z",
     "iopub.status.idle": "2022-03-13T17:41:52.147431Z",
     "shell.execute_reply": "2022-03-13T17:41:52.146774Z",
     "shell.execute_reply.started": "2022-03-13T13:56:15.066687Z"
    },
    "papermill": {
     "duration": 0.359332,
     "end_time": "2022-03-13T17:41:52.147614",
     "exception": false,
     "start_time": "2022-03-13T17:41:51.788282",
     "status": "completed"
    },
    "tags": []
   },
   "outputs": [
    {
     "data": {
      "text/plain": [
       "region          0.000000\n",
       "price           0.000000\n",
       "year            0.000000\n",
       "manufacturer    0.027794\n",
       "model           0.007380\n",
       "fuel            0.005846\n",
       "odometer        0.000000\n",
       "title_status    0.017198\n",
       "transmission    0.003958\n",
       "state           0.000000\n",
       "dtype: float64"
      ]
     },
     "execution_count": 26,
     "metadata": {},
     "output_type": "execute_result"
    }
   ],
   "source": [
    "car_df.isna().mean()"
   ]
  },
  {
   "cell_type": "code",
   "execution_count": 27,
   "id": "72ab98b3",
   "metadata": {
    "execution": {
     "iopub.execute_input": "2022-03-13T17:41:52.355990Z",
     "iopub.status.busy": "2022-03-13T17:41:52.355277Z",
     "iopub.status.idle": "2022-03-13T17:41:52.596727Z",
     "shell.execute_reply": "2022-03-13T17:41:52.597237Z",
     "shell.execute_reply.started": "2022-03-13T13:56:15.326765Z"
    },
    "papermill": {
     "duration": 0.35252,
     "end_time": "2022-03-13T17:41:52.597446",
     "exception": false,
     "start_time": "2022-03-13T17:41:52.244926",
     "status": "completed"
    },
    "tags": []
   },
   "outputs": [
    {
     "data": {
      "text/plain": [
       "{'region': 404,\n",
       " 'manufacturer': 42,\n",
       " 'model': 21471,\n",
       " 'fuel': 6,\n",
       " 'title_status': 7,\n",
       " 'transmission': 4,\n",
       " 'state': 51}"
      ]
     },
     "execution_count": 27,
     "metadata": {},
     "output_type": "execute_result"
    }
   ],
   "source": [
    "# clean catagorical data\n",
    "# through one hot encoding\n",
    "# or if too many unique values cut from dataset \n",
    "\n",
    "\n",
    "# Create a dictionary \n",
    "\n",
    "# how many unquie variable is each column\n",
    "{column: len(car_df[column].unique()) for column in car_df.columns if car_df.dtypes[column] == 'object'}"
   ]
  },
  {
   "cell_type": "code",
   "execution_count": 28,
   "id": "1fa92bca",
   "metadata": {
    "execution": {
     "iopub.execute_input": "2022-03-13T17:41:52.798950Z",
     "iopub.status.busy": "2022-03-13T17:41:52.798271Z",
     "iopub.status.idle": "2022-03-13T17:41:52.884205Z",
     "shell.execute_reply": "2022-03-13T17:41:52.884765Z",
     "shell.execute_reply.started": "2022-03-13T13:56:15.587564Z"
    },
    "papermill": {
     "duration": 0.188525,
     "end_time": "2022-03-13T17:41:52.884978",
     "exception": false,
     "start_time": "2022-03-13T17:41:52.696453",
     "status": "completed"
    },
    "tags": []
   },
   "outputs": [],
   "source": [
    "# Drop model as too many unique values to one hot encode due to lack of memory allowance \n",
    "car_df = car_df.drop('model', axis=1)\n",
    "car_df = car_df.drop('transmission', axis=1)\n",
    "car_df = car_df.drop('state', axis=1)\n",
    "car_df = car_df.drop('region', axis=1)\n",
    "car_df = car_df.drop('manufacturer', axis=1)\n"
   ]
  },
  {
   "cell_type": "code",
   "execution_count": 29,
   "id": "2de4efa4",
   "metadata": {
    "execution": {
     "iopub.execute_input": "2022-03-13T17:41:53.085739Z",
     "iopub.status.busy": "2022-03-13T17:41:53.085039Z",
     "iopub.status.idle": "2022-03-13T17:41:53.090256Z",
     "shell.execute_reply": "2022-03-13T17:41:53.090748Z",
     "shell.execute_reply.started": "2022-03-13T13:56:15.678062Z"
    },
    "papermill": {
     "duration": 0.108328,
     "end_time": "2022-03-13T17:41:53.090961",
     "exception": false,
     "start_time": "2022-03-13T17:41:52.982633",
     "status": "completed"
    },
    "tags": []
   },
   "outputs": [],
   "source": [
    "# One hot encode function\n",
    "def onehot_encode(df, columns, prefixes):\n",
    "    df = df.copy()\n",
    "#     pair into tuples \n",
    "    for column, prefix in zip(columns, prefixes):\n",
    "        dummies = pd.get_dummies(df[column], prefix=prefix)\n",
    "        df = pd.concat([df, dummies], axis=1)\n",
    "        df = df.drop(column, axis=1)\n",
    "    return df"
   ]
  },
  {
   "cell_type": "code",
   "execution_count": 30,
   "id": "33e7606f",
   "metadata": {
    "execution": {
     "iopub.execute_input": "2022-03-13T17:41:53.291754Z",
     "iopub.status.busy": "2022-03-13T17:41:53.291051Z",
     "iopub.status.idle": "2022-03-13T17:41:53.459404Z",
     "shell.execute_reply": "2022-03-13T17:41:53.459882Z",
     "shell.execute_reply.started": "2022-03-13T13:56:15.687011Z"
    },
    "papermill": {
     "duration": 0.269277,
     "end_time": "2022-03-13T17:41:53.460080",
     "exception": false,
     "start_time": "2022-03-13T17:41:53.190803",
     "status": "completed"
    },
    "tags": []
   },
   "outputs": [],
   "source": [
    "car_df = onehot_encode(\n",
    "    car_df,\n",
    "    ['title_status','fuel'],\n",
    "    ['title_status','fuel']\n",
    ")"
   ]
  },
  {
   "cell_type": "code",
   "execution_count": 31,
   "id": "4ef914ce",
   "metadata": {
    "execution": {
     "iopub.execute_input": "2022-03-13T17:41:53.658396Z",
     "iopub.status.busy": "2022-03-13T17:41:53.657763Z",
     "iopub.status.idle": "2022-03-13T17:41:53.814239Z",
     "shell.execute_reply": "2022-03-13T17:41:53.813627Z",
     "shell.execute_reply.started": "2022-03-13T13:56:15.864993Z"
    },
    "papermill": {
     "duration": 0.257031,
     "end_time": "2022-03-13T17:41:53.814375",
     "exception": false,
     "start_time": "2022-03-13T17:41:53.557344",
     "status": "completed"
    },
    "tags": []
   },
   "outputs": [
    {
     "data": {
      "text/html": [
       "<div>\n",
       "<style scoped>\n",
       "    .dataframe tbody tr th:only-of-type {\n",
       "        vertical-align: middle;\n",
       "    }\n",
       "\n",
       "    .dataframe tbody tr th {\n",
       "        vertical-align: top;\n",
       "    }\n",
       "\n",
       "    .dataframe thead th {\n",
       "        text-align: right;\n",
       "    }\n",
       "</style>\n",
       "<table border=\"1\" class=\"dataframe\">\n",
       "  <thead>\n",
       "    <tr style=\"text-align: right;\">\n",
       "      <th></th>\n",
       "      <th>price</th>\n",
       "      <th>year</th>\n",
       "      <th>odometer</th>\n",
       "      <th>title_status_clean</th>\n",
       "      <th>title_status_lien</th>\n",
       "      <th>title_status_missing</th>\n",
       "      <th>title_status_parts only</th>\n",
       "      <th>title_status_rebuilt</th>\n",
       "      <th>title_status_salvage</th>\n",
       "      <th>fuel_diesel</th>\n",
       "      <th>fuel_electric</th>\n",
       "      <th>fuel_gas</th>\n",
       "      <th>fuel_hybrid</th>\n",
       "      <th>fuel_other</th>\n",
       "    </tr>\n",
       "  </thead>\n",
       "  <tbody>\n",
       "    <tr>\n",
       "      <th>count</th>\n",
       "      <td>341618.000000</td>\n",
       "      <td>341618.000000</td>\n",
       "      <td>341618.000000</td>\n",
       "      <td>341618.000000</td>\n",
       "      <td>341618.000000</td>\n",
       "      <td>341618.000000</td>\n",
       "      <td>341618.000000</td>\n",
       "      <td>341618.000000</td>\n",
       "      <td>341618.000000</td>\n",
       "      <td>341618.000000</td>\n",
       "      <td>341618.000000</td>\n",
       "      <td>341618.000000</td>\n",
       "      <td>341618.000000</td>\n",
       "      <td>341618.000000</td>\n",
       "    </tr>\n",
       "    <tr>\n",
       "      <th>mean</th>\n",
       "      <td>18689.686108</td>\n",
       "      <td>2012.753119</td>\n",
       "      <td>93123.298348</td>\n",
       "      <td>0.949078</td>\n",
       "      <td>0.003729</td>\n",
       "      <td>0.000480</td>\n",
       "      <td>0.000184</td>\n",
       "      <td>0.019446</td>\n",
       "      <td>0.009885</td>\n",
       "      <td>0.055296</td>\n",
       "      <td>0.004285</td>\n",
       "      <td>0.845316</td>\n",
       "      <td>0.013550</td>\n",
       "      <td>0.075707</td>\n",
       "    </tr>\n",
       "    <tr>\n",
       "      <th>std</th>\n",
       "      <td>12553.577508</td>\n",
       "      <td>4.995401</td>\n",
       "      <td>59429.797179</td>\n",
       "      <td>0.219840</td>\n",
       "      <td>0.060954</td>\n",
       "      <td>0.021905</td>\n",
       "      <td>0.013579</td>\n",
       "      <td>0.138086</td>\n",
       "      <td>0.098932</td>\n",
       "      <td>0.228557</td>\n",
       "      <td>0.065323</td>\n",
       "      <td>0.361604</td>\n",
       "      <td>0.115614</td>\n",
       "      <td>0.264530</td>\n",
       "    </tr>\n",
       "    <tr>\n",
       "      <th>min</th>\n",
       "      <td>500.000000</td>\n",
       "      <td>2000.000000</td>\n",
       "      <td>1000.000000</td>\n",
       "      <td>0.000000</td>\n",
       "      <td>0.000000</td>\n",
       "      <td>0.000000</td>\n",
       "      <td>0.000000</td>\n",
       "      <td>0.000000</td>\n",
       "      <td>0.000000</td>\n",
       "      <td>0.000000</td>\n",
       "      <td>0.000000</td>\n",
       "      <td>0.000000</td>\n",
       "      <td>0.000000</td>\n",
       "      <td>0.000000</td>\n",
       "    </tr>\n",
       "    <tr>\n",
       "      <th>25%</th>\n",
       "      <td>7995.000000</td>\n",
       "      <td>2009.000000</td>\n",
       "      <td>40884.000000</td>\n",
       "      <td>1.000000</td>\n",
       "      <td>0.000000</td>\n",
       "      <td>0.000000</td>\n",
       "      <td>0.000000</td>\n",
       "      <td>0.000000</td>\n",
       "      <td>0.000000</td>\n",
       "      <td>0.000000</td>\n",
       "      <td>0.000000</td>\n",
       "      <td>1.000000</td>\n",
       "      <td>0.000000</td>\n",
       "      <td>0.000000</td>\n",
       "    </tr>\n",
       "    <tr>\n",
       "      <th>50%</th>\n",
       "      <td>15995.000000</td>\n",
       "      <td>2014.000000</td>\n",
       "      <td>89379.000000</td>\n",
       "      <td>1.000000</td>\n",
       "      <td>0.000000</td>\n",
       "      <td>0.000000</td>\n",
       "      <td>0.000000</td>\n",
       "      <td>0.000000</td>\n",
       "      <td>0.000000</td>\n",
       "      <td>0.000000</td>\n",
       "      <td>0.000000</td>\n",
       "      <td>1.000000</td>\n",
       "      <td>0.000000</td>\n",
       "      <td>0.000000</td>\n",
       "    </tr>\n",
       "    <tr>\n",
       "      <th>75%</th>\n",
       "      <td>27590.000000</td>\n",
       "      <td>2017.000000</td>\n",
       "      <td>135168.000000</td>\n",
       "      <td>1.000000</td>\n",
       "      <td>0.000000</td>\n",
       "      <td>0.000000</td>\n",
       "      <td>0.000000</td>\n",
       "      <td>0.000000</td>\n",
       "      <td>0.000000</td>\n",
       "      <td>0.000000</td>\n",
       "      <td>0.000000</td>\n",
       "      <td>1.000000</td>\n",
       "      <td>0.000000</td>\n",
       "      <td>0.000000</td>\n",
       "    </tr>\n",
       "    <tr>\n",
       "      <th>max</th>\n",
       "      <td>57981.000000</td>\n",
       "      <td>2022.000000</td>\n",
       "      <td>277542.000000</td>\n",
       "      <td>1.000000</td>\n",
       "      <td>1.000000</td>\n",
       "      <td>1.000000</td>\n",
       "      <td>1.000000</td>\n",
       "      <td>1.000000</td>\n",
       "      <td>1.000000</td>\n",
       "      <td>1.000000</td>\n",
       "      <td>1.000000</td>\n",
       "      <td>1.000000</td>\n",
       "      <td>1.000000</td>\n",
       "      <td>1.000000</td>\n",
       "    </tr>\n",
       "  </tbody>\n",
       "</table>\n",
       "</div>"
      ],
      "text/plain": [
       "               price           year       odometer  title_status_clean  \\\n",
       "count  341618.000000  341618.000000  341618.000000       341618.000000   \n",
       "mean    18689.686108    2012.753119   93123.298348            0.949078   \n",
       "std     12553.577508       4.995401   59429.797179            0.219840   \n",
       "min       500.000000    2000.000000    1000.000000            0.000000   \n",
       "25%      7995.000000    2009.000000   40884.000000            1.000000   \n",
       "50%     15995.000000    2014.000000   89379.000000            1.000000   \n",
       "75%     27590.000000    2017.000000  135168.000000            1.000000   \n",
       "max     57981.000000    2022.000000  277542.000000            1.000000   \n",
       "\n",
       "       title_status_lien  title_status_missing  title_status_parts only  \\\n",
       "count      341618.000000         341618.000000            341618.000000   \n",
       "mean            0.003729              0.000480                 0.000184   \n",
       "std             0.060954              0.021905                 0.013579   \n",
       "min             0.000000              0.000000                 0.000000   \n",
       "25%             0.000000              0.000000                 0.000000   \n",
       "50%             0.000000              0.000000                 0.000000   \n",
       "75%             0.000000              0.000000                 0.000000   \n",
       "max             1.000000              1.000000                 1.000000   \n",
       "\n",
       "       title_status_rebuilt  title_status_salvage    fuel_diesel  \\\n",
       "count         341618.000000         341618.000000  341618.000000   \n",
       "mean               0.019446              0.009885       0.055296   \n",
       "std                0.138086              0.098932       0.228557   \n",
       "min                0.000000              0.000000       0.000000   \n",
       "25%                0.000000              0.000000       0.000000   \n",
       "50%                0.000000              0.000000       0.000000   \n",
       "75%                0.000000              0.000000       0.000000   \n",
       "max                1.000000              1.000000       1.000000   \n",
       "\n",
       "       fuel_electric       fuel_gas    fuel_hybrid     fuel_other  \n",
       "count  341618.000000  341618.000000  341618.000000  341618.000000  \n",
       "mean        0.004285       0.845316       0.013550       0.075707  \n",
       "std         0.065323       0.361604       0.115614       0.264530  \n",
       "min         0.000000       0.000000       0.000000       0.000000  \n",
       "25%         0.000000       1.000000       0.000000       0.000000  \n",
       "50%         0.000000       1.000000       0.000000       0.000000  \n",
       "75%         0.000000       1.000000       0.000000       0.000000  \n",
       "max         1.000000       1.000000       1.000000       1.000000  "
      ]
     },
     "execution_count": 31,
     "metadata": {},
     "output_type": "execute_result"
    }
   ],
   "source": [
    "car_df.describe()"
   ]
  },
  {
   "cell_type": "code",
   "execution_count": 32,
   "id": "4aaeebfb",
   "metadata": {
    "execution": {
     "iopub.execute_input": "2022-03-13T17:41:54.013162Z",
     "iopub.status.busy": "2022-03-13T17:41:54.012537Z",
     "iopub.status.idle": "2022-03-13T17:41:54.028896Z",
     "shell.execute_reply": "2022-03-13T17:41:54.028377Z",
     "shell.execute_reply.started": "2022-03-13T13:56:16.002315Z"
    },
    "papermill": {
     "duration": 0.11716,
     "end_time": "2022-03-13T17:41:54.029039",
     "exception": false,
     "start_time": "2022-03-13T17:41:53.911879",
     "status": "completed"
    },
    "tags": []
   },
   "outputs": [
    {
     "data": {
      "text/plain": [
       "price                      0.0\n",
       "year                       0.0\n",
       "odometer                   0.0\n",
       "title_status_clean         0.0\n",
       "title_status_lien          0.0\n",
       "title_status_missing       0.0\n",
       "title_status_parts only    0.0\n",
       "title_status_rebuilt       0.0\n",
       "title_status_salvage       0.0\n",
       "fuel_diesel                0.0\n",
       "fuel_electric              0.0\n",
       "fuel_gas                   0.0\n",
       "fuel_hybrid                0.0\n",
       "fuel_other                 0.0\n",
       "dtype: float64"
      ]
     },
     "execution_count": 32,
     "metadata": {},
     "output_type": "execute_result"
    }
   ],
   "source": [
    "car_df.isna().mean()"
   ]
  },
  {
   "cell_type": "markdown",
   "id": "6643f650",
   "metadata": {
    "papermill": {
     "duration": 0.098513,
     "end_time": "2022-03-13T17:41:54.226754",
     "exception": false,
     "start_time": "2022-03-13T17:41:54.128241",
     "status": "completed"
    },
    "tags": []
   },
   "source": [
    "# Data Split & Scalling"
   ]
  },
  {
   "cell_type": "code",
   "execution_count": 33,
   "id": "895e090d",
   "metadata": {
    "execution": {
     "iopub.execute_input": "2022-03-13T17:41:54.427240Z",
     "iopub.status.busy": "2022-03-13T17:41:54.426652Z",
     "iopub.status.idle": "2022-03-13T17:41:54.428972Z",
     "shell.execute_reply": "2022-03-13T17:41:54.429460Z",
     "shell.execute_reply.started": "2022-03-13T13:56:16.024610Z"
    },
    "papermill": {
     "duration": 0.105397,
     "end_time": "2022-03-13T17:41:54.429662",
     "exception": false,
     "start_time": "2022-03-13T17:41:54.324265",
     "status": "completed"
    },
    "tags": []
   },
   "outputs": [],
   "source": [
    "clean_df = car_df"
   ]
  },
  {
   "cell_type": "code",
   "execution_count": 34,
   "id": "e93e3647",
   "metadata": {
    "execution": {
     "iopub.execute_input": "2022-03-13T17:41:54.648185Z",
     "iopub.status.busy": "2022-03-13T17:41:54.647427Z",
     "iopub.status.idle": "2022-03-13T17:41:54.660245Z",
     "shell.execute_reply": "2022-03-13T17:41:54.660875Z",
     "shell.execute_reply.started": "2022-03-13T13:56:16.030561Z"
    },
    "papermill": {
     "duration": 0.133046,
     "end_time": "2022-03-13T17:41:54.661071",
     "exception": false,
     "start_time": "2022-03-13T17:41:54.528025",
     "status": "completed"
    },
    "tags": []
   },
   "outputs": [],
   "source": [
    "# Data split \n",
    "y_orignial = clean_df.loc[:,'price']\n",
    "X_orignial = clean_df.drop('price', axis=1)"
   ]
  },
  {
   "cell_type": "code",
   "execution_count": 35,
   "id": "ad8195b7",
   "metadata": {
    "execution": {
     "iopub.execute_input": "2022-03-13T17:41:54.886406Z",
     "iopub.status.busy": "2022-03-13T17:41:54.885491Z",
     "iopub.status.idle": "2022-03-13T17:41:54.906714Z",
     "shell.execute_reply": "2022-03-13T17:41:54.907240Z",
     "shell.execute_reply.started": "2022-03-13T13:56:16.047910Z"
    },
    "papermill": {
     "duration": 0.136235,
     "end_time": "2022-03-13T17:41:54.907451",
     "exception": false,
     "start_time": "2022-03-13T17:41:54.771216",
     "status": "completed"
    },
    "tags": []
   },
   "outputs": [
    {
     "data": {
      "text/html": [
       "<div>\n",
       "<style scoped>\n",
       "    .dataframe tbody tr th:only-of-type {\n",
       "        vertical-align: middle;\n",
       "    }\n",
       "\n",
       "    .dataframe tbody tr th {\n",
       "        vertical-align: top;\n",
       "    }\n",
       "\n",
       "    .dataframe thead th {\n",
       "        text-align: right;\n",
       "    }\n",
       "</style>\n",
       "<table border=\"1\" class=\"dataframe\">\n",
       "  <thead>\n",
       "    <tr style=\"text-align: right;\">\n",
       "      <th></th>\n",
       "      <th>year</th>\n",
       "      <th>odometer</th>\n",
       "      <th>title_status_clean</th>\n",
       "      <th>title_status_lien</th>\n",
       "      <th>title_status_missing</th>\n",
       "      <th>title_status_parts only</th>\n",
       "      <th>title_status_rebuilt</th>\n",
       "      <th>title_status_salvage</th>\n",
       "      <th>fuel_diesel</th>\n",
       "      <th>fuel_electric</th>\n",
       "      <th>fuel_gas</th>\n",
       "      <th>fuel_hybrid</th>\n",
       "      <th>fuel_other</th>\n",
       "    </tr>\n",
       "  </thead>\n",
       "  <tbody>\n",
       "    <tr>\n",
       "      <th>27</th>\n",
       "      <td>2014.0</td>\n",
       "      <td>57923.0</td>\n",
       "      <td>1</td>\n",
       "      <td>0</td>\n",
       "      <td>0</td>\n",
       "      <td>0</td>\n",
       "      <td>0</td>\n",
       "      <td>0</td>\n",
       "      <td>0</td>\n",
       "      <td>0</td>\n",
       "      <td>1</td>\n",
       "      <td>0</td>\n",
       "      <td>0</td>\n",
       "    </tr>\n",
       "    <tr>\n",
       "      <th>28</th>\n",
       "      <td>2010.0</td>\n",
       "      <td>71229.0</td>\n",
       "      <td>1</td>\n",
       "      <td>0</td>\n",
       "      <td>0</td>\n",
       "      <td>0</td>\n",
       "      <td>0</td>\n",
       "      <td>0</td>\n",
       "      <td>0</td>\n",
       "      <td>0</td>\n",
       "      <td>1</td>\n",
       "      <td>0</td>\n",
       "      <td>0</td>\n",
       "    </tr>\n",
       "    <tr>\n",
       "      <th>29</th>\n",
       "      <td>2020.0</td>\n",
       "      <td>19160.0</td>\n",
       "      <td>1</td>\n",
       "      <td>0</td>\n",
       "      <td>0</td>\n",
       "      <td>0</td>\n",
       "      <td>0</td>\n",
       "      <td>0</td>\n",
       "      <td>0</td>\n",
       "      <td>0</td>\n",
       "      <td>1</td>\n",
       "      <td>0</td>\n",
       "      <td>0</td>\n",
       "    </tr>\n",
       "    <tr>\n",
       "      <th>30</th>\n",
       "      <td>2017.0</td>\n",
       "      <td>41124.0</td>\n",
       "      <td>1</td>\n",
       "      <td>0</td>\n",
       "      <td>0</td>\n",
       "      <td>0</td>\n",
       "      <td>0</td>\n",
       "      <td>0</td>\n",
       "      <td>0</td>\n",
       "      <td>0</td>\n",
       "      <td>1</td>\n",
       "      <td>0</td>\n",
       "      <td>0</td>\n",
       "    </tr>\n",
       "    <tr>\n",
       "      <th>31</th>\n",
       "      <td>2013.0</td>\n",
       "      <td>128000.0</td>\n",
       "      <td>1</td>\n",
       "      <td>0</td>\n",
       "      <td>0</td>\n",
       "      <td>0</td>\n",
       "      <td>0</td>\n",
       "      <td>0</td>\n",
       "      <td>0</td>\n",
       "      <td>0</td>\n",
       "      <td>1</td>\n",
       "      <td>0</td>\n",
       "      <td>0</td>\n",
       "    </tr>\n",
       "    <tr>\n",
       "      <th>...</th>\n",
       "      <td>...</td>\n",
       "      <td>...</td>\n",
       "      <td>...</td>\n",
       "      <td>...</td>\n",
       "      <td>...</td>\n",
       "      <td>...</td>\n",
       "      <td>...</td>\n",
       "      <td>...</td>\n",
       "      <td>...</td>\n",
       "      <td>...</td>\n",
       "      <td>...</td>\n",
       "      <td>...</td>\n",
       "      <td>...</td>\n",
       "    </tr>\n",
       "    <tr>\n",
       "      <th>426875</th>\n",
       "      <td>2019.0</td>\n",
       "      <td>32226.0</td>\n",
       "      <td>1</td>\n",
       "      <td>0</td>\n",
       "      <td>0</td>\n",
       "      <td>0</td>\n",
       "      <td>0</td>\n",
       "      <td>0</td>\n",
       "      <td>0</td>\n",
       "      <td>0</td>\n",
       "      <td>1</td>\n",
       "      <td>0</td>\n",
       "      <td>0</td>\n",
       "    </tr>\n",
       "    <tr>\n",
       "      <th>426876</th>\n",
       "      <td>2020.0</td>\n",
       "      <td>12029.0</td>\n",
       "      <td>1</td>\n",
       "      <td>0</td>\n",
       "      <td>0</td>\n",
       "      <td>0</td>\n",
       "      <td>0</td>\n",
       "      <td>0</td>\n",
       "      <td>0</td>\n",
       "      <td>0</td>\n",
       "      <td>1</td>\n",
       "      <td>0</td>\n",
       "      <td>0</td>\n",
       "    </tr>\n",
       "    <tr>\n",
       "      <th>426877</th>\n",
       "      <td>2020.0</td>\n",
       "      <td>4174.0</td>\n",
       "      <td>1</td>\n",
       "      <td>0</td>\n",
       "      <td>0</td>\n",
       "      <td>0</td>\n",
       "      <td>0</td>\n",
       "      <td>0</td>\n",
       "      <td>1</td>\n",
       "      <td>0</td>\n",
       "      <td>0</td>\n",
       "      <td>0</td>\n",
       "      <td>0</td>\n",
       "    </tr>\n",
       "    <tr>\n",
       "      <th>426878</th>\n",
       "      <td>2018.0</td>\n",
       "      <td>30112.0</td>\n",
       "      <td>1</td>\n",
       "      <td>0</td>\n",
       "      <td>0</td>\n",
       "      <td>0</td>\n",
       "      <td>0</td>\n",
       "      <td>0</td>\n",
       "      <td>0</td>\n",
       "      <td>0</td>\n",
       "      <td>1</td>\n",
       "      <td>0</td>\n",
       "      <td>0</td>\n",
       "    </tr>\n",
       "    <tr>\n",
       "      <th>426879</th>\n",
       "      <td>2019.0</td>\n",
       "      <td>22716.0</td>\n",
       "      <td>1</td>\n",
       "      <td>0</td>\n",
       "      <td>0</td>\n",
       "      <td>0</td>\n",
       "      <td>0</td>\n",
       "      <td>0</td>\n",
       "      <td>0</td>\n",
       "      <td>0</td>\n",
       "      <td>1</td>\n",
       "      <td>0</td>\n",
       "      <td>0</td>\n",
       "    </tr>\n",
       "  </tbody>\n",
       "</table>\n",
       "<p>341618 rows × 13 columns</p>\n",
       "</div>"
      ],
      "text/plain": [
       "          year  odometer  title_status_clean  title_status_lien  \\\n",
       "27      2014.0   57923.0                   1                  0   \n",
       "28      2010.0   71229.0                   1                  0   \n",
       "29      2020.0   19160.0                   1                  0   \n",
       "30      2017.0   41124.0                   1                  0   \n",
       "31      2013.0  128000.0                   1                  0   \n",
       "...        ...       ...                 ...                ...   \n",
       "426875  2019.0   32226.0                   1                  0   \n",
       "426876  2020.0   12029.0                   1                  0   \n",
       "426877  2020.0    4174.0                   1                  0   \n",
       "426878  2018.0   30112.0                   1                  0   \n",
       "426879  2019.0   22716.0                   1                  0   \n",
       "\n",
       "        title_status_missing  title_status_parts only  title_status_rebuilt  \\\n",
       "27                         0                        0                     0   \n",
       "28                         0                        0                     0   \n",
       "29                         0                        0                     0   \n",
       "30                         0                        0                     0   \n",
       "31                         0                        0                     0   \n",
       "...                      ...                      ...                   ...   \n",
       "426875                     0                        0                     0   \n",
       "426876                     0                        0                     0   \n",
       "426877                     0                        0                     0   \n",
       "426878                     0                        0                     0   \n",
       "426879                     0                        0                     0   \n",
       "\n",
       "        title_status_salvage  fuel_diesel  fuel_electric  fuel_gas  \\\n",
       "27                         0            0              0         1   \n",
       "28                         0            0              0         1   \n",
       "29                         0            0              0         1   \n",
       "30                         0            0              0         1   \n",
       "31                         0            0              0         1   \n",
       "...                      ...          ...            ...       ...   \n",
       "426875                     0            0              0         1   \n",
       "426876                     0            0              0         1   \n",
       "426877                     0            1              0         0   \n",
       "426878                     0            0              0         1   \n",
       "426879                     0            0              0         1   \n",
       "\n",
       "        fuel_hybrid  fuel_other  \n",
       "27                0           0  \n",
       "28                0           0  \n",
       "29                0           0  \n",
       "30                0           0  \n",
       "31                0           0  \n",
       "...             ...         ...  \n",
       "426875            0           0  \n",
       "426876            0           0  \n",
       "426877            0           0  \n",
       "426878            0           0  \n",
       "426879            0           0  \n",
       "\n",
       "[341618 rows x 13 columns]"
      ]
     },
     "execution_count": 35,
     "metadata": {},
     "output_type": "execute_result"
    }
   ],
   "source": [
    "X_orignial"
   ]
  },
  {
   "cell_type": "code",
   "execution_count": 36,
   "id": "50330e97",
   "metadata": {
    "execution": {
     "iopub.execute_input": "2022-03-13T17:41:55.124255Z",
     "iopub.status.busy": "2022-03-13T17:41:55.123363Z",
     "iopub.status.idle": "2022-03-13T17:41:55.217695Z",
     "shell.execute_reply": "2022-03-13T17:41:55.217121Z",
     "shell.execute_reply.started": "2022-03-13T13:56:16.069647Z"
    },
    "papermill": {
     "duration": 0.204089,
     "end_time": "2022-03-13T17:41:55.217866",
     "exception": false,
     "start_time": "2022-03-13T17:41:55.013777",
     "status": "completed"
    },
    "tags": []
   },
   "outputs": [],
   "source": [
    "# Data Scalling\n",
    "scaler = StandardScaler()\n",
    "\n",
    "X_orignial_scaled = scaler.fit_transform(X_orignial)\n",
    "\n"
   ]
  },
  {
   "cell_type": "code",
   "execution_count": 37,
   "id": "d10e4abe",
   "metadata": {
    "execution": {
     "iopub.execute_input": "2022-03-13T17:41:55.435277Z",
     "iopub.status.busy": "2022-03-13T17:41:55.434423Z",
     "iopub.status.idle": "2022-03-13T17:41:55.437990Z",
     "shell.execute_reply": "2022-03-13T17:41:55.438521Z",
     "shell.execute_reply.started": "2022-03-13T13:56:16.164198Z"
    },
    "papermill": {
     "duration": 0.114355,
     "end_time": "2022-03-13T17:41:55.438706",
     "exception": false,
     "start_time": "2022-03-13T17:41:55.324351",
     "status": "completed"
    },
    "tags": []
   },
   "outputs": [
    {
     "data": {
      "text/plain": [
       "array([[ 0.24960616, -0.59230136,  0.23163461, ...,  0.42777356,\n",
       "        -0.11720219, -0.28619651],\n",
       "       [-0.55113153, -0.36840661,  0.23163461, ...,  0.42777356,\n",
       "        -0.11720219, -0.28619651],\n",
       "       [ 1.45071269, -1.24455088,  0.23163461, ...,  0.42777356,\n",
       "        -0.11720219, -0.28619651],\n",
       "       ...,\n",
       "       [ 1.45071269, -1.49671432,  0.23163461, ..., -2.3376854 ,\n",
       "        -0.11720219, -0.28619651],\n",
       "       [ 1.05034384, -1.06026595,  0.23163461, ...,  0.42777356,\n",
       "        -0.11720219, -0.28619651],\n",
       "       [ 1.25052827, -1.18471549,  0.23163461, ...,  0.42777356,\n",
       "        -0.11720219, -0.28619651]])"
      ]
     },
     "execution_count": 37,
     "metadata": {},
     "output_type": "execute_result"
    }
   ],
   "source": [
    "X_orignial_scaled"
   ]
  },
  {
   "cell_type": "markdown",
   "id": "ae3f81d9",
   "metadata": {
    "papermill": {
     "duration": 0.100596,
     "end_time": "2022-03-13T17:41:55.643545",
     "exception": false,
     "start_time": "2022-03-13T17:41:55.542949",
     "status": "completed"
    },
    "tags": []
   },
   "source": [
    "# Multiple Linear Regression Model "
   ]
  },
  {
   "cell_type": "code",
   "execution_count": 38,
   "id": "e79adab5",
   "metadata": {
    "execution": {
     "iopub.execute_input": "2022-03-13T17:41:55.862059Z",
     "iopub.status.busy": "2022-03-13T17:41:55.861335Z",
     "iopub.status.idle": "2022-03-13T17:41:55.996799Z",
     "shell.execute_reply": "2022-03-13T17:41:55.995952Z",
     "shell.execute_reply.started": "2022-03-13T13:56:16.172930Z"
    },
    "papermill": {
     "duration": 0.254113,
     "end_time": "2022-03-13T17:41:55.997010",
     "exception": false,
     "start_time": "2022-03-13T17:41:55.742897",
     "status": "completed"
    },
    "tags": []
   },
   "outputs": [],
   "source": [
    "# Train Test Split for Linear Regression \n",
    "X_train_LRM, X_test_LRM, y_train_LRM, y_test_LRM = train_test_split(X_orignial_scaled, y_orignial, train_size=0.7, random_state=740)"
   ]
  },
  {
   "cell_type": "code",
   "execution_count": 39,
   "id": "9943f7d4",
   "metadata": {
    "execution": {
     "iopub.execute_input": "2022-03-13T17:41:56.217638Z",
     "iopub.status.busy": "2022-03-13T17:41:56.216915Z",
     "iopub.status.idle": "2022-03-13T17:41:56.385196Z",
     "shell.execute_reply": "2022-03-13T17:41:56.386128Z",
     "shell.execute_reply.started": "2022-03-13T13:56:16.263670Z"
    },
    "papermill": {
     "duration": 0.281577,
     "end_time": "2022-03-13T17:41:56.386457",
     "exception": false,
     "start_time": "2022-03-13T17:41:56.104880",
     "status": "completed"
    },
    "tags": []
   },
   "outputs": [],
   "source": [
    "lin_model = LinearRegression()\n",
    "\n",
    "lin_model.fit(X_train_LRM, y_train_LRM)\n",
    "\n",
    "lin_Y_prediction = lin_model.predict(X_test_LRM)"
   ]
  },
  {
   "cell_type": "code",
   "execution_count": 40,
   "id": "2c9bf37a",
   "metadata": {
    "execution": {
     "iopub.execute_input": "2022-03-13T17:41:56.678169Z",
     "iopub.status.busy": "2022-03-13T17:41:56.677296Z",
     "iopub.status.idle": "2022-03-13T17:41:56.688646Z",
     "shell.execute_reply": "2022-03-13T17:41:56.689553Z",
     "shell.execute_reply.started": "2022-03-13T13:56:16.487256Z"
    },
    "papermill": {
     "duration": 0.130721,
     "end_time": "2022-03-13T17:41:56.689883",
     "exception": false,
     "start_time": "2022-03-13T17:41:56.559162",
     "status": "completed"
    },
    "tags": []
   },
   "outputs": [
    {
     "name": "stdout",
     "output_type": "stream",
     "text": [
      "Linear Regression RMSE: 8583.065993685255\n",
      "Linear Regression R^2 Score: 0.5373349371575002\n"
     ]
    }
   ],
   "source": [
    "lin_loss = np.sqrt(mean_squared_error(y_test_LRM, lin_Y_prediction))\n",
    "print(\"Linear Regression RMSE:\", lin_loss)\n",
    "print(\"Linear Regression R^2 Score:\", lin_model.score(X_test_LRM, y_test_LRM))"
   ]
  },
  {
   "cell_type": "markdown",
   "id": "588a4c7d",
   "metadata": {
    "papermill": {
     "duration": 0.113684,
     "end_time": "2022-03-13T17:41:56.959265",
     "exception": false,
     "start_time": "2022-03-13T17:41:56.845581",
     "status": "completed"
    },
    "tags": []
   },
   "source": [
    "Showing Feature importance"
   ]
  },
  {
   "cell_type": "code",
   "execution_count": 41,
   "id": "990413cf",
   "metadata": {
    "execution": {
     "iopub.execute_input": "2022-03-13T17:41:57.174940Z",
     "iopub.status.busy": "2022-03-13T17:41:57.172068Z",
     "iopub.status.idle": "2022-03-13T17:41:57.323991Z",
     "shell.execute_reply": "2022-03-13T17:41:57.321709Z",
     "shell.execute_reply.started": "2022-03-13T13:56:16.517816Z"
    },
    "papermill": {
     "duration": 0.261462,
     "end_time": "2022-03-13T17:41:57.324329",
     "exception": false,
     "start_time": "2022-03-13T17:41:57.062867",
     "status": "completed"
    },
    "tags": []
   },
   "outputs": [
    {
     "name": "stdout",
     "output_type": "stream",
     "text": [
      "Feature: 0, Score: 5197.65469\n",
      "Feature: 1, Score: -3992.56642\n",
      "Feature: 2, Score: 664.43659\n",
      "Feature: 3, Score: 199.21414\n",
      "Feature: 4, Score: -81.04086\n",
      "Feature: 5, Score: -60.17827\n",
      "Feature: 6, Score: -500.62421\n",
      "Feature: 7, Score: -363.62410\n",
      "Feature: 8, Score: 3671.77125\n",
      "Feature: 9, Score: -52.52176\n",
      "Feature: 10, Score: -224.76428\n",
      "Feature: 11, Score: -453.33087\n",
      "Feature: 12, Score: 702.99401\n"
     ]
    }
   ],
   "source": [
    "# define the model\n",
    "model = LinearRegression()\n",
    "# fit the model\n",
    "model.fit(X_train_LRM, y_train_LRM)\n",
    "# get importance\n",
    "importance = model.coef_\n",
    "# summarize feature importance\n",
    "for i,v in enumerate(importance):\n",
    "    print('Feature: %0d, Score: %.5f' % (i,v))\n"
   ]
  },
  {
   "cell_type": "code",
   "execution_count": 42,
   "id": "20f43145",
   "metadata": {
    "execution": {
     "iopub.execute_input": "2022-03-13T17:41:57.587996Z",
     "iopub.status.busy": "2022-03-13T17:41:57.585135Z",
     "iopub.status.idle": "2022-03-13T17:41:57.793746Z",
     "shell.execute_reply": "2022-03-13T17:41:57.793148Z",
     "shell.execute_reply.started": "2022-03-13T13:56:16.682348Z"
    },
    "papermill": {
     "duration": 0.316224,
     "end_time": "2022-03-13T17:41:57.793921",
     "exception": false,
     "start_time": "2022-03-13T17:41:57.477697",
     "status": "completed"
    },
    "tags": []
   },
   "outputs": [
    {
     "data": {
      "image/png": "[encoded data removed]",
      "text/plain": [
       "<Figure size 864x288 with 1 Axes>"
      ]
     },
     "metadata": {
      "needs_background": "light"
     },
     "output_type": "display_data"
    }
   ],
   "source": [
    "# plot feature importance\n",
    "plt.bar([x for x in range(len(importance))], importance)\n",
    "plt.show()"
   ]
  },
  {
   "cell_type": "markdown",
   "id": "962d1e6a",
   "metadata": {
    "papermill": {
     "duration": 0.102071,
     "end_time": "2022-03-13T17:41:58.005632",
     "exception": false,
     "start_time": "2022-03-13T17:41:57.903561",
     "status": "completed"
    },
    "tags": []
   },
   "source": [
    "Fine tune Multi Linear Regression by keeping 3 of the highest feature importance. \n",
    "\n",
    "- odometer\n",
    "- fuel Types \n",
    "- transmisson types\n"
   ]
  },
  {
   "cell_type": "markdown",
   "id": "6bf3664a",
   "metadata": {
    "papermill": {
     "duration": 0.100996,
     "end_time": "2022-03-13T17:41:58.210277",
     "exception": false,
     "start_time": "2022-03-13T17:41:58.109281",
     "status": "completed"
    },
    "tags": []
   },
   "source": [
    "# Fine Tuned Multi Linear Regression"
   ]
  },
  {
   "cell_type": "code",
   "execution_count": 43,
   "id": "4651c652",
   "metadata": {
    "execution": {
     "iopub.execute_input": "2022-03-13T17:41:58.420894Z",
     "iopub.status.busy": "2022-03-13T17:41:58.420248Z",
     "iopub.status.idle": "2022-03-13T17:41:58.437349Z",
     "shell.execute_reply": "2022-03-13T17:41:58.437993Z",
     "shell.execute_reply.started": "2022-03-13T13:56:16.897136Z"
    },
    "papermill": {
     "duration": 0.126344,
     "end_time": "2022-03-13T17:41:58.438248",
     "exception": false,
     "start_time": "2022-03-13T17:41:58.311904",
     "status": "completed"
    },
    "tags": []
   },
   "outputs": [
    {
     "data": {
      "text/html": [
       "<div>\n",
       "<style scoped>\n",
       "    .dataframe tbody tr th:only-of-type {\n",
       "        vertical-align: middle;\n",
       "    }\n",
       "\n",
       "    .dataframe tbody tr th {\n",
       "        vertical-align: top;\n",
       "    }\n",
       "\n",
       "    .dataframe thead th {\n",
       "        text-align: right;\n",
       "    }\n",
       "</style>\n",
       "<table border=\"1\" class=\"dataframe\">\n",
       "  <thead>\n",
       "    <tr style=\"text-align: right;\">\n",
       "      <th></th>\n",
       "      <th>year</th>\n",
       "      <th>odometer</th>\n",
       "      <th>title_status_clean</th>\n",
       "      <th>title_status_lien</th>\n",
       "      <th>title_status_missing</th>\n",
       "      <th>title_status_parts only</th>\n",
       "      <th>title_status_rebuilt</th>\n",
       "      <th>title_status_salvage</th>\n",
       "      <th>fuel_diesel</th>\n",
       "      <th>fuel_electric</th>\n",
       "      <th>fuel_gas</th>\n",
       "      <th>fuel_hybrid</th>\n",
       "      <th>fuel_other</th>\n",
       "    </tr>\n",
       "  </thead>\n",
       "  <tbody>\n",
       "    <tr>\n",
       "      <th>27</th>\n",
       "      <td>2014.0</td>\n",
       "      <td>57923.0</td>\n",
       "      <td>1</td>\n",
       "      <td>0</td>\n",
       "      <td>0</td>\n",
       "      <td>0</td>\n",
       "      <td>0</td>\n",
       "      <td>0</td>\n",
       "      <td>0</td>\n",
       "      <td>0</td>\n",
       "      <td>1</td>\n",
       "      <td>0</td>\n",
       "      <td>0</td>\n",
       "    </tr>\n",
       "    <tr>\n",
       "      <th>28</th>\n",
       "      <td>2010.0</td>\n",
       "      <td>71229.0</td>\n",
       "      <td>1</td>\n",
       "      <td>0</td>\n",
       "      <td>0</td>\n",
       "      <td>0</td>\n",
       "      <td>0</td>\n",
       "      <td>0</td>\n",
       "      <td>0</td>\n",
       "      <td>0</td>\n",
       "      <td>1</td>\n",
       "      <td>0</td>\n",
       "      <td>0</td>\n",
       "    </tr>\n",
       "    <tr>\n",
       "      <th>29</th>\n",
       "      <td>2020.0</td>\n",
       "      <td>19160.0</td>\n",
       "      <td>1</td>\n",
       "      <td>0</td>\n",
       "      <td>0</td>\n",
       "      <td>0</td>\n",
       "      <td>0</td>\n",
       "      <td>0</td>\n",
       "      <td>0</td>\n",
       "      <td>0</td>\n",
       "      <td>1</td>\n",
       "      <td>0</td>\n",
       "      <td>0</td>\n",
       "    </tr>\n",
       "    <tr>\n",
       "      <th>30</th>\n",
       "      <td>2017.0</td>\n",
       "      <td>41124.0</td>\n",
       "      <td>1</td>\n",
       "      <td>0</td>\n",
       "      <td>0</td>\n",
       "      <td>0</td>\n",
       "      <td>0</td>\n",
       "      <td>0</td>\n",
       "      <td>0</td>\n",
       "      <td>0</td>\n",
       "      <td>1</td>\n",
       "      <td>0</td>\n",
       "      <td>0</td>\n",
       "    </tr>\n",
       "    <tr>\n",
       "      <th>31</th>\n",
       "      <td>2013.0</td>\n",
       "      <td>128000.0</td>\n",
       "      <td>1</td>\n",
       "      <td>0</td>\n",
       "      <td>0</td>\n",
       "      <td>0</td>\n",
       "      <td>0</td>\n",
       "      <td>0</td>\n",
       "      <td>0</td>\n",
       "      <td>0</td>\n",
       "      <td>1</td>\n",
       "      <td>0</td>\n",
       "      <td>0</td>\n",
       "    </tr>\n",
       "    <tr>\n",
       "      <th>...</th>\n",
       "      <td>...</td>\n",
       "      <td>...</td>\n",
       "      <td>...</td>\n",
       "      <td>...</td>\n",
       "      <td>...</td>\n",
       "      <td>...</td>\n",
       "      <td>...</td>\n",
       "      <td>...</td>\n",
       "      <td>...</td>\n",
       "      <td>...</td>\n",
       "      <td>...</td>\n",
       "      <td>...</td>\n",
       "      <td>...</td>\n",
       "    </tr>\n",
       "    <tr>\n",
       "      <th>426875</th>\n",
       "      <td>2019.0</td>\n",
       "      <td>32226.0</td>\n",
       "      <td>1</td>\n",
       "      <td>0</td>\n",
       "      <td>0</td>\n",
       "      <td>0</td>\n",
       "      <td>0</td>\n",
       "      <td>0</td>\n",
       "      <td>0</td>\n",
       "      <td>0</td>\n",
       "      <td>1</td>\n",
       "      <td>0</td>\n",
       "      <td>0</td>\n",
       "    </tr>\n",
       "    <tr>\n",
       "      <th>426876</th>\n",
       "      <td>2020.0</td>\n",
       "      <td>12029.0</td>\n",
       "      <td>1</td>\n",
       "      <td>0</td>\n",
       "      <td>0</td>\n",
       "      <td>0</td>\n",
       "      <td>0</td>\n",
       "      <td>0</td>\n",
       "      <td>0</td>\n",
       "      <td>0</td>\n",
       "      <td>1</td>\n",
       "      <td>0</td>\n",
       "      <td>0</td>\n",
       "    </tr>\n",
       "    <tr>\n",
       "      <th>426877</th>\n",
       "      <td>2020.0</td>\n",
       "      <td>4174.0</td>\n",
       "      <td>1</td>\n",
       "      <td>0</td>\n",
       "      <td>0</td>\n",
       "      <td>0</td>\n",
       "      <td>0</td>\n",
       "      <td>0</td>\n",
       "      <td>1</td>\n",
       "      <td>0</td>\n",
       "      <td>0</td>\n",
       "      <td>0</td>\n",
       "      <td>0</td>\n",
       "    </tr>\n",
       "    <tr>\n",
       "      <th>426878</th>\n",
       "      <td>2018.0</td>\n",
       "      <td>30112.0</td>\n",
       "      <td>1</td>\n",
       "      <td>0</td>\n",
       "      <td>0</td>\n",
       "      <td>0</td>\n",
       "      <td>0</td>\n",
       "      <td>0</td>\n",
       "      <td>0</td>\n",
       "      <td>0</td>\n",
       "      <td>1</td>\n",
       "      <td>0</td>\n",
       "      <td>0</td>\n",
       "    </tr>\n",
       "    <tr>\n",
       "      <th>426879</th>\n",
       "      <td>2019.0</td>\n",
       "      <td>22716.0</td>\n",
       "      <td>1</td>\n",
       "      <td>0</td>\n",
       "      <td>0</td>\n",
       "      <td>0</td>\n",
       "      <td>0</td>\n",
       "      <td>0</td>\n",
       "      <td>0</td>\n",
       "      <td>0</td>\n",
       "      <td>1</td>\n",
       "      <td>0</td>\n",
       "      <td>0</td>\n",
       "    </tr>\n",
       "  </tbody>\n",
       "</table>\n",
       "<p>341618 rows × 13 columns</p>\n",
       "</div>"
      ],
      "text/plain": [
       "          year  odometer  title_status_clean  title_status_lien  \\\n",
       "27      2014.0   57923.0                   1                  0   \n",
       "28      2010.0   71229.0                   1                  0   \n",
       "29      2020.0   19160.0                   1                  0   \n",
       "30      2017.0   41124.0                   1                  0   \n",
       "31      2013.0  128000.0                   1                  0   \n",
       "...        ...       ...                 ...                ...   \n",
       "426875  2019.0   32226.0                   1                  0   \n",
       "426876  2020.0   12029.0                   1                  0   \n",
       "426877  2020.0    4174.0                   1                  0   \n",
       "426878  2018.0   30112.0                   1                  0   \n",
       "426879  2019.0   22716.0                   1                  0   \n",
       "\n",
       "        title_status_missing  title_status_parts only  title_status_rebuilt  \\\n",
       "27                         0                        0                     0   \n",
       "28                         0                        0                     0   \n",
       "29                         0                        0                     0   \n",
       "30                         0                        0                     0   \n",
       "31                         0                        0                     0   \n",
       "...                      ...                      ...                   ...   \n",
       "426875                     0                        0                     0   \n",
       "426876                     0                        0                     0   \n",
       "426877                     0                        0                     0   \n",
       "426878                     0                        0                     0   \n",
       "426879                     0                        0                     0   \n",
       "\n",
       "        title_status_salvage  fuel_diesel  fuel_electric  fuel_gas  \\\n",
       "27                         0            0              0         1   \n",
       "28                         0            0              0         1   \n",
       "29                         0            0              0         1   \n",
       "30                         0            0              0         1   \n",
       "31                         0            0              0         1   \n",
       "...                      ...          ...            ...       ...   \n",
       "426875                     0            0              0         1   \n",
       "426876                     0            0              0         1   \n",
       "426877                     0            1              0         0   \n",
       "426878                     0            0              0         1   \n",
       "426879                     0            0              0         1   \n",
       "\n",
       "        fuel_hybrid  fuel_other  \n",
       "27                0           0  \n",
       "28                0           0  \n",
       "29                0           0  \n",
       "30                0           0  \n",
       "31                0           0  \n",
       "...             ...         ...  \n",
       "426875            0           0  \n",
       "426876            0           0  \n",
       "426877            0           0  \n",
       "426878            0           0  \n",
       "426879            0           0  \n",
       "\n",
       "[341618 rows x 13 columns]"
      ]
     },
     "execution_count": 43,
     "metadata": {},
     "output_type": "execute_result"
    }
   ],
   "source": [
    "X_orignial"
   ]
  },
  {
   "cell_type": "code",
   "execution_count": 44,
   "id": "da7f7053",
   "metadata": {
    "execution": {
     "iopub.execute_input": "2022-03-13T17:41:58.652036Z",
     "iopub.status.busy": "2022-03-13T17:41:58.651404Z",
     "iopub.status.idle": "2022-03-13T17:41:58.655304Z",
     "shell.execute_reply": "2022-03-13T17:41:58.655886Z",
     "shell.execute_reply.started": "2022-03-13T13:56:16.922317Z"
    },
    "papermill": {
     "duration": 0.114901,
     "end_time": "2022-03-13T17:41:58.656103",
     "exception": false,
     "start_time": "2022-03-13T17:41:58.541202",
     "status": "completed"
    },
    "tags": []
   },
   "outputs": [],
   "source": [
    "# # X_Fine_tuned = X_orignial.drop((['fuel_electric', 'tititle_statustle_missing', 'tititle_statustle_parts only'], axis=1, inplace=True))\n",
    "# # X_orignial.drop(['fuel_electric', 'tititle_statustle_missing'], axis=1)\n",
    "\n",
    "# X_Fine_tuned = X_orignial.drop('fuel_electric', axis=1)\n",
    "# X_Fine_tuned = X_orignial.drop('tititle_statustle_parts only', axis=1)\n",
    "# X_Fine_tuned = X_orignial.drop('tititle_statustle_rebuilt', axis=1)\n",
    "# X_Fine_tuned = X_orignial.drop('tititle_statustle_rebuilt', axis=1)\n",
    "# X_Fine_tuned = X_orignial.drop('tititle_statustle_rebuilt', axis=1)\n",
    "# X_Fine_tuned = X_orignial.drop('tititle_statustle_rebuilt', axis=1)"
   ]
  },
  {
   "cell_type": "code",
   "execution_count": 45,
   "id": "761d970b",
   "metadata": {
    "execution": {
     "iopub.execute_input": "2022-03-13T17:41:58.882237Z",
     "iopub.status.busy": "2022-03-13T17:41:58.881592Z",
     "iopub.status.idle": "2022-03-13T17:41:58.884595Z",
     "shell.execute_reply": "2022-03-13T17:41:58.885122Z",
     "shell.execute_reply.started": "2022-03-13T13:56:16.928789Z"
    },
    "papermill": {
     "duration": 0.116512,
     "end_time": "2022-03-13T17:41:58.885307",
     "exception": false,
     "start_time": "2022-03-13T17:41:58.768795",
     "status": "completed"
    },
    "tags": []
   },
   "outputs": [],
   "source": [
    "# X_Fine_tuned"
   ]
  },
  {
   "cell_type": "code",
   "execution_count": 46,
   "id": "355b671d",
   "metadata": {
    "execution": {
     "iopub.execute_input": "2022-03-13T17:41:59.111742Z",
     "iopub.status.busy": "2022-03-13T17:41:59.110770Z",
     "iopub.status.idle": "2022-03-13T17:41:59.113140Z",
     "shell.execute_reply": "2022-03-13T17:41:59.113797Z",
     "shell.execute_reply.started": "2022-03-13T13:56:16.943108Z"
    },
    "papermill": {
     "duration": 0.118504,
     "end_time": "2022-03-13T17:41:59.113969",
     "exception": false,
     "start_time": "2022-03-13T17:41:58.995465",
     "status": "completed"
    },
    "tags": []
   },
   "outputs": [],
   "source": [
    "# # Data Scalling\n",
    "# scaler = StandardScaler()\n",
    "\n",
    "# X_Fine_tuned = scaler.fit_transform(X_Fine_tuned)"
   ]
  },
  {
   "cell_type": "code",
   "execution_count": 47,
   "id": "aca80c23",
   "metadata": {
    "execution": {
     "iopub.execute_input": "2022-03-13T17:41:59.333362Z",
     "iopub.status.busy": "2022-03-13T17:41:59.332382Z",
     "iopub.status.idle": "2022-03-13T17:41:59.336244Z",
     "shell.execute_reply": "2022-03-13T17:41:59.335779Z",
     "shell.execute_reply.started": "2022-03-13T13:56:16.950292Z"
    },
    "papermill": {
     "duration": 0.114429,
     "end_time": "2022-03-13T17:41:59.336379",
     "exception": false,
     "start_time": "2022-03-13T17:41:59.221950",
     "status": "completed"
    },
    "tags": []
   },
   "outputs": [],
   "source": [
    "# # Train Test Split for Fined Tuned Linear Regression\n",
    "# X_train_LRM, X_test_LRM, y_train_LRM, y_test_LRM = train_test_split(X_Fine_tuned, y_orignial, train_size=0.7, random_state=740)"
   ]
  },
  {
   "cell_type": "code",
   "execution_count": 48,
   "id": "34b4c8e0",
   "metadata": {
    "execution": {
     "iopub.execute_input": "2022-03-13T17:41:59.542473Z",
     "iopub.status.busy": "2022-03-13T17:41:59.541542Z",
     "iopub.status.idle": "2022-03-13T17:41:59.543804Z",
     "shell.execute_reply": "2022-03-13T17:41:59.544239Z",
     "shell.execute_reply.started": "2022-03-13T13:56:16.962091Z"
    },
    "papermill": {
     "duration": 0.106665,
     "end_time": "2022-03-13T17:41:59.544394",
     "exception": false,
     "start_time": "2022-03-13T17:41:59.437729",
     "status": "completed"
    },
    "tags": []
   },
   "outputs": [],
   "source": [
    "# lin_model = LinearRegression()\n",
    "\n",
    "# lin_model.fit(X_train_LRM, y_train_LRM)\n",
    "\n",
    "# lin_Y_prediction = lin_model.predict(X_test_LRM)"
   ]
  },
  {
   "cell_type": "code",
   "execution_count": 49,
   "id": "181c06b0",
   "metadata": {
    "execution": {
     "iopub.execute_input": "2022-03-13T17:41:59.751138Z",
     "iopub.status.busy": "2022-03-13T17:41:59.750209Z",
     "iopub.status.idle": "2022-03-13T17:41:59.753192Z",
     "shell.execute_reply": "2022-03-13T17:41:59.753697Z",
     "shell.execute_reply.started": "2022-03-13T13:56:16.972581Z"
    },
    "papermill": {
     "duration": 0.108089,
     "end_time": "2022-03-13T17:41:59.753859",
     "exception": false,
     "start_time": "2022-03-13T17:41:59.645770",
     "status": "completed"
    },
    "tags": []
   },
   "outputs": [],
   "source": [
    "# lin_loss = np.sqrt(mean_squared_error(y_test_LRM, lin_Y_prediction))\n",
    "# print(\"Linear Regression RMSE:\", lin_loss)\n",
    "# print(\"Linear Regression R^2 Score:\", lin_model.score(X_test_LRM, y_test_LRM))"
   ]
  },
  {
   "cell_type": "markdown",
   "id": "dd5c20b3",
   "metadata": {
    "papermill": {
     "duration": 0.102282,
     "end_time": "2022-03-13T17:41:59.959529",
     "exception": false,
     "start_time": "2022-03-13T17:41:59.857247",
     "status": "completed"
    },
    "tags": []
   },
   "source": [
    "# Gradient Boosting Tree"
   ]
  },
  {
   "cell_type": "code",
   "execution_count": 50,
   "id": "3e9332da",
   "metadata": {
    "execution": {
     "iopub.execute_input": "2022-03-13T17:42:00.169316Z",
     "iopub.status.busy": "2022-03-13T17:42:00.168426Z",
     "iopub.status.idle": "2022-03-13T17:42:00.186856Z",
     "shell.execute_reply": "2022-03-13T17:42:00.187392Z",
     "shell.execute_reply.started": "2022-03-13T13:56:16.982838Z"
    },
    "papermill": {
     "duration": 0.123284,
     "end_time": "2022-03-13T17:42:00.187621",
     "exception": false,
     "start_time": "2022-03-13T17:42:00.064337",
     "status": "completed"
    },
    "tags": []
   },
   "outputs": [
    {
     "data": {
      "text/html": [
       "<div>\n",
       "<style scoped>\n",
       "    .dataframe tbody tr th:only-of-type {\n",
       "        vertical-align: middle;\n",
       "    }\n",
       "\n",
       "    .dataframe tbody tr th {\n",
       "        vertical-align: top;\n",
       "    }\n",
       "\n",
       "    .dataframe thead th {\n",
       "        text-align: right;\n",
       "    }\n",
       "</style>\n",
       "<table border=\"1\" class=\"dataframe\">\n",
       "  <thead>\n",
       "    <tr style=\"text-align: right;\">\n",
       "      <th></th>\n",
       "      <th>price</th>\n",
       "      <th>year</th>\n",
       "      <th>odometer</th>\n",
       "      <th>title_status_clean</th>\n",
       "      <th>title_status_lien</th>\n",
       "      <th>title_status_missing</th>\n",
       "      <th>title_status_parts only</th>\n",
       "      <th>title_status_rebuilt</th>\n",
       "      <th>title_status_salvage</th>\n",
       "      <th>fuel_diesel</th>\n",
       "      <th>fuel_electric</th>\n",
       "      <th>fuel_gas</th>\n",
       "      <th>fuel_hybrid</th>\n",
       "      <th>fuel_other</th>\n",
       "    </tr>\n",
       "  </thead>\n",
       "  <tbody>\n",
       "    <tr>\n",
       "      <th>27</th>\n",
       "      <td>33590</td>\n",
       "      <td>2014.0</td>\n",
       "      <td>57923.0</td>\n",
       "      <td>1</td>\n",
       "      <td>0</td>\n",
       "      <td>0</td>\n",
       "      <td>0</td>\n",
       "      <td>0</td>\n",
       "      <td>0</td>\n",
       "      <td>0</td>\n",
       "      <td>0</td>\n",
       "      <td>1</td>\n",
       "      <td>0</td>\n",
       "      <td>0</td>\n",
       "    </tr>\n",
       "    <tr>\n",
       "      <th>28</th>\n",
       "      <td>22590</td>\n",
       "      <td>2010.0</td>\n",
       "      <td>71229.0</td>\n",
       "      <td>1</td>\n",
       "      <td>0</td>\n",
       "      <td>0</td>\n",
       "      <td>0</td>\n",
       "      <td>0</td>\n",
       "      <td>0</td>\n",
       "      <td>0</td>\n",
       "      <td>0</td>\n",
       "      <td>1</td>\n",
       "      <td>0</td>\n",
       "      <td>0</td>\n",
       "    </tr>\n",
       "    <tr>\n",
       "      <th>29</th>\n",
       "      <td>39590</td>\n",
       "      <td>2020.0</td>\n",
       "      <td>19160.0</td>\n",
       "      <td>1</td>\n",
       "      <td>0</td>\n",
       "      <td>0</td>\n",
       "      <td>0</td>\n",
       "      <td>0</td>\n",
       "      <td>0</td>\n",
       "      <td>0</td>\n",
       "      <td>0</td>\n",
       "      <td>1</td>\n",
       "      <td>0</td>\n",
       "      <td>0</td>\n",
       "    </tr>\n",
       "    <tr>\n",
       "      <th>30</th>\n",
       "      <td>30990</td>\n",
       "      <td>2017.0</td>\n",
       "      <td>41124.0</td>\n",
       "      <td>1</td>\n",
       "      <td>0</td>\n",
       "      <td>0</td>\n",
       "      <td>0</td>\n",
       "      <td>0</td>\n",
       "      <td>0</td>\n",
       "      <td>0</td>\n",
       "      <td>0</td>\n",
       "      <td>1</td>\n",
       "      <td>0</td>\n",
       "      <td>0</td>\n",
       "    </tr>\n",
       "    <tr>\n",
       "      <th>31</th>\n",
       "      <td>15000</td>\n",
       "      <td>2013.0</td>\n",
       "      <td>128000.0</td>\n",
       "      <td>1</td>\n",
       "      <td>0</td>\n",
       "      <td>0</td>\n",
       "      <td>0</td>\n",
       "      <td>0</td>\n",
       "      <td>0</td>\n",
       "      <td>0</td>\n",
       "      <td>0</td>\n",
       "      <td>1</td>\n",
       "      <td>0</td>\n",
       "      <td>0</td>\n",
       "    </tr>\n",
       "    <tr>\n",
       "      <th>...</th>\n",
       "      <td>...</td>\n",
       "      <td>...</td>\n",
       "      <td>...</td>\n",
       "      <td>...</td>\n",
       "      <td>...</td>\n",
       "      <td>...</td>\n",
       "      <td>...</td>\n",
       "      <td>...</td>\n",
       "      <td>...</td>\n",
       "      <td>...</td>\n",
       "      <td>...</td>\n",
       "      <td>...</td>\n",
       "      <td>...</td>\n",
       "      <td>...</td>\n",
       "    </tr>\n",
       "    <tr>\n",
       "      <th>426875</th>\n",
       "      <td>23590</td>\n",
       "      <td>2019.0</td>\n",
       "      <td>32226.0</td>\n",
       "      <td>1</td>\n",
       "      <td>0</td>\n",
       "      <td>0</td>\n",
       "      <td>0</td>\n",
       "      <td>0</td>\n",
       "      <td>0</td>\n",
       "      <td>0</td>\n",
       "      <td>0</td>\n",
       "      <td>1</td>\n",
       "      <td>0</td>\n",
       "      <td>0</td>\n",
       "    </tr>\n",
       "    <tr>\n",
       "      <th>426876</th>\n",
       "      <td>30590</td>\n",
       "      <td>2020.0</td>\n",
       "      <td>12029.0</td>\n",
       "      <td>1</td>\n",
       "      <td>0</td>\n",
       "      <td>0</td>\n",
       "      <td>0</td>\n",
       "      <td>0</td>\n",
       "      <td>0</td>\n",
       "      <td>0</td>\n",
       "      <td>0</td>\n",
       "      <td>1</td>\n",
       "      <td>0</td>\n",
       "      <td>0</td>\n",
       "    </tr>\n",
       "    <tr>\n",
       "      <th>426877</th>\n",
       "      <td>34990</td>\n",
       "      <td>2020.0</td>\n",
       "      <td>4174.0</td>\n",
       "      <td>1</td>\n",
       "      <td>0</td>\n",
       "      <td>0</td>\n",
       "      <td>0</td>\n",
       "      <td>0</td>\n",
       "      <td>0</td>\n",
       "      <td>1</td>\n",
       "      <td>0</td>\n",
       "      <td>0</td>\n",
       "      <td>0</td>\n",
       "      <td>0</td>\n",
       "    </tr>\n",
       "    <tr>\n",
       "      <th>426878</th>\n",
       "      <td>28990</td>\n",
       "      <td>2018.0</td>\n",
       "      <td>30112.0</td>\n",
       "      <td>1</td>\n",
       "      <td>0</td>\n",
       "      <td>0</td>\n",
       "      <td>0</td>\n",
       "      <td>0</td>\n",
       "      <td>0</td>\n",
       "      <td>0</td>\n",
       "      <td>0</td>\n",
       "      <td>1</td>\n",
       "      <td>0</td>\n",
       "      <td>0</td>\n",
       "    </tr>\n",
       "    <tr>\n",
       "      <th>426879</th>\n",
       "      <td>30590</td>\n",
       "      <td>2019.0</td>\n",
       "      <td>22716.0</td>\n",
       "      <td>1</td>\n",
       "      <td>0</td>\n",
       "      <td>0</td>\n",
       "      <td>0</td>\n",
       "      <td>0</td>\n",
       "      <td>0</td>\n",
       "      <td>0</td>\n",
       "      <td>0</td>\n",
       "      <td>1</td>\n",
       "      <td>0</td>\n",
       "      <td>0</td>\n",
       "    </tr>\n",
       "  </tbody>\n",
       "</table>\n",
       "<p>341618 rows × 14 columns</p>\n",
       "</div>"
      ],
      "text/plain": [
       "        price    year  odometer  title_status_clean  title_status_lien  \\\n",
       "27      33590  2014.0   57923.0                   1                  0   \n",
       "28      22590  2010.0   71229.0                   1                  0   \n",
       "29      39590  2020.0   19160.0                   1                  0   \n",
       "30      30990  2017.0   41124.0                   1                  0   \n",
       "31      15000  2013.0  128000.0                   1                  0   \n",
       "...       ...     ...       ...                 ...                ...   \n",
       "426875  23590  2019.0   32226.0                   1                  0   \n",
       "426876  30590  2020.0   12029.0                   1                  0   \n",
       "426877  34990  2020.0    4174.0                   1                  0   \n",
       "426878  28990  2018.0   30112.0                   1                  0   \n",
       "426879  30590  2019.0   22716.0                   1                  0   \n",
       "\n",
       "        title_status_missing  title_status_parts only  title_status_rebuilt  \\\n",
       "27                         0                        0                     0   \n",
       "28                         0                        0                     0   \n",
       "29                         0                        0                     0   \n",
       "30                         0                        0                     0   \n",
       "31                         0                        0                     0   \n",
       "...                      ...                      ...                   ...   \n",
       "426875                     0                        0                     0   \n",
       "426876                     0                        0                     0   \n",
       "426877                     0                        0                     0   \n",
       "426878                     0                        0                     0   \n",
       "426879                     0                        0                     0   \n",
       "\n",
       "        title_status_salvage  fuel_diesel  fuel_electric  fuel_gas  \\\n",
       "27                         0            0              0         1   \n",
       "28                         0            0              0         1   \n",
       "29                         0            0              0         1   \n",
       "30                         0            0              0         1   \n",
       "31                         0            0              0         1   \n",
       "...                      ...          ...            ...       ...   \n",
       "426875                     0            0              0         1   \n",
       "426876                     0            0              0         1   \n",
       "426877                     0            1              0         0   \n",
       "426878                     0            0              0         1   \n",
       "426879                     0            0              0         1   \n",
       "\n",
       "        fuel_hybrid  fuel_other  \n",
       "27                0           0  \n",
       "28                0           0  \n",
       "29                0           0  \n",
       "30                0           0  \n",
       "31                0           0  \n",
       "...             ...         ...  \n",
       "426875            0           0  \n",
       "426876            0           0  \n",
       "426877            0           0  \n",
       "426878            0           0  \n",
       "426879            0           0  \n",
       "\n",
       "[341618 rows x 14 columns]"
      ]
     },
     "execution_count": 50,
     "metadata": {},
     "output_type": "execute_result"
    }
   ],
   "source": [
    "clean_df"
   ]
  },
  {
   "cell_type": "code",
   "execution_count": 51,
   "id": "f7b3b0bc",
   "metadata": {
    "execution": {
     "iopub.execute_input": "2022-03-13T17:42:00.402598Z",
     "iopub.status.busy": "2022-03-13T17:42:00.401906Z",
     "iopub.status.idle": "2022-03-13T17:42:00.481459Z",
     "shell.execute_reply": "2022-03-13T17:42:00.481966Z",
     "shell.execute_reply.started": "2022-03-13T13:56:17.009684Z"
    },
    "papermill": {
     "duration": 0.190484,
     "end_time": "2022-03-13T17:42:00.482182",
     "exception": false,
     "start_time": "2022-03-13T17:42:00.291698",
     "status": "completed"
    },
    "tags": []
   },
   "outputs": [],
   "source": [
    "# Train Test Split for Linear Regression \n",
    "X_train, X_test, y_train, y_test = train_test_split(X_orignial_scaled, y_orignial, train_size=0.7, random_state=740)"
   ]
  },
  {
   "cell_type": "code",
   "execution_count": 52,
   "id": "720d11de",
   "metadata": {
    "execution": {
     "iopub.execute_input": "2022-03-13T17:42:00.693976Z",
     "iopub.status.busy": "2022-03-13T17:42:00.693283Z",
     "iopub.status.idle": "2022-03-13T17:42:00.697332Z",
     "shell.execute_reply": "2022-03-13T17:42:00.697940Z",
     "shell.execute_reply.started": "2022-03-13T13:56:17.104233Z"
    },
    "papermill": {
     "duration": 0.111987,
     "end_time": "2022-03-13T17:42:00.698143",
     "exception": false,
     "start_time": "2022-03-13T17:42:00.586156",
     "status": "completed"
    },
    "tags": []
   },
   "outputs": [],
   "source": [
    "from sklearn.tree import DecisionTreeRegressor\n",
    "from sklearn.metrics import mean_squared_error\n",
    "from sklearn.metrics import mean_absolute_error\n",
    "from sklearn.metrics import r2_score\n",
    "from sklearn.model_selection import cross_val_score\n",
    "from sklearn.ensemble import GradientBoostingRegressor"
   ]
  },
  {
   "cell_type": "markdown",
   "id": "c931ec1e",
   "metadata": {
    "papermill": {
     "duration": 0.10548,
     "end_time": "2022-03-13T17:42:00.908326",
     "exception": false,
     "start_time": "2022-03-13T17:42:00.802846",
     "status": "completed"
    },
    "tags": []
   },
   "source": [
    "# Simple Gradient Boosting Model"
   ]
  },
  {
   "cell_type": "code",
   "execution_count": 53,
   "id": "1de52279",
   "metadata": {
    "execution": {
     "iopub.execute_input": "2022-03-13T17:42:01.120937Z",
     "iopub.status.busy": "2022-03-13T17:42:01.120296Z",
     "iopub.status.idle": "2022-03-13T17:42:01.124285Z",
     "shell.execute_reply": "2022-03-13T17:42:01.124865Z",
     "shell.execute_reply.started": "2022-03-13T13:56:17.112193Z"
    },
    "papermill": {
     "duration": 0.111947,
     "end_time": "2022-03-13T17:42:01.125044",
     "exception": false,
     "start_time": "2022-03-13T17:42:01.013097",
     "status": "completed"
    },
    "tags": []
   },
   "outputs": [],
   "source": [
    "# Gradient boosting Regressor model \n",
    "gradientregressor = GradientBoostingRegressor(max_depth=2,\n",
    "                                             n_estimators=3,\n",
    "                                             learning_rate=1.0)"
   ]
  },
  {
   "cell_type": "code",
   "execution_count": 54,
   "id": "bf0de9e2",
   "metadata": {
    "execution": {
     "iopub.execute_input": "2022-03-13T17:42:01.335552Z",
     "iopub.status.busy": "2022-03-13T17:42:01.334915Z",
     "iopub.status.idle": "2022-03-13T17:42:01.953363Z",
     "shell.execute_reply": "2022-03-13T17:42:01.952795Z",
     "shell.execute_reply.started": "2022-03-13T13:56:17.127293Z"
    },
    "papermill": {
     "duration": 0.724438,
     "end_time": "2022-03-13T17:42:01.953499",
     "exception": false,
     "start_time": "2022-03-13T17:42:01.229061",
     "status": "completed"
    },
    "tags": []
   },
   "outputs": [],
   "source": [
    "# training Model\n",
    "model = gradientregressor.fit(X_train,y_train)"
   ]
  },
  {
   "cell_type": "code",
   "execution_count": 55,
   "id": "d1637ab1",
   "metadata": {
    "execution": {
     "iopub.execute_input": "2022-03-13T17:42:02.165758Z",
     "iopub.status.busy": "2022-03-13T17:42:02.164992Z",
     "iopub.status.idle": "2022-03-13T17:42:02.179764Z",
     "shell.execute_reply": "2022-03-13T17:42:02.180289Z",
     "shell.execute_reply.started": "2022-03-13T13:56:17.564238Z"
    },
    "papermill": {
     "duration": 0.123244,
     "end_time": "2022-03-13T17:42:02.180466",
     "exception": false,
     "start_time": "2022-03-13T17:42:02.057222",
     "status": "completed"
    },
    "tags": []
   },
   "outputs": [],
   "source": [
    "# prediction \n",
    "y_pred = model.predict(X_test)"
   ]
  },
  {
   "cell_type": "code",
   "execution_count": 56,
   "id": "823d301c",
   "metadata": {
    "execution": {
     "iopub.execute_input": "2022-03-13T17:42:02.393227Z",
     "iopub.status.busy": "2022-03-13T17:42:02.392606Z",
     "iopub.status.idle": "2022-03-13T17:42:02.397587Z",
     "shell.execute_reply": "2022-03-13T17:42:02.398076Z",
     "shell.execute_reply.started": "2022-03-13T13:56:17.580615Z"
    },
    "papermill": {
     "duration": 0.113617,
     "end_time": "2022-03-13T17:42:02.398257",
     "exception": false,
     "start_time": "2022-03-13T17:42:02.284640",
     "status": "completed"
    },
    "tags": []
   },
   "outputs": [
    {
     "data": {
      "text/plain": [
       "0.19144910852723074"
      ]
     },
     "execution_count": 56,
     "metadata": {},
     "output_type": "execute_result"
    }
   ],
   "source": [
    "r2_score(y_pred,y_test)"
   ]
  },
  {
   "cell_type": "code",
   "execution_count": 57,
   "id": "87deade0",
   "metadata": {
    "execution": {
     "iopub.execute_input": "2022-03-13T17:42:02.611683Z",
     "iopub.status.busy": "2022-03-13T17:42:02.610046Z",
     "iopub.status.idle": "2022-03-13T17:42:02.613418Z",
     "shell.execute_reply": "2022-03-13T17:42:02.613928Z",
     "shell.execute_reply.started": "2022-03-13T13:56:17.590687Z"
    },
    "papermill": {
     "duration": 0.110774,
     "end_time": "2022-03-13T17:42:02.614094",
     "exception": false,
     "start_time": "2022-03-13T17:42:02.503320",
     "status": "completed"
    },
    "tags": []
   },
   "outputs": [],
   "source": [
    "# # visualise \n",
    "\n",
    "# # plot feature importance \n",
    "# feature_importance = model.feature_importances_\n",
    "\n",
    "# feature_importance = 100 * (feature_importance /feature_importance.max())"
   ]
  },
  {
   "cell_type": "markdown",
   "id": "7486fc69",
   "metadata": {
    "papermill": {
     "duration": 0.103674,
     "end_time": "2022-03-13T17:42:02.821903",
     "exception": false,
     "start_time": "2022-03-13T17:42:02.718229",
     "status": "completed"
    },
    "tags": []
   },
   "source": [
    "# Tune Hyperparameters "
   ]
  },
  {
   "cell_type": "code",
   "execution_count": 58,
   "id": "be3a7872",
   "metadata": {
    "execution": {
     "iopub.execute_input": "2022-03-13T17:42:03.036286Z",
     "iopub.status.busy": "2022-03-13T17:42:03.035682Z",
     "iopub.status.idle": "2022-03-13T17:42:03.039193Z",
     "shell.execute_reply": "2022-03-13T17:42:03.039803Z",
     "shell.execute_reply.started": "2022-03-13T13:56:17.596710Z"
    },
    "papermill": {
     "duration": 0.111921,
     "end_time": "2022-03-13T17:42:03.039975",
     "exception": false,
     "start_time": "2022-03-13T17:42:02.928054",
     "status": "completed"
    },
    "tags": []
   },
   "outputs": [],
   "source": [
    "from sklearn.model_selection import GridSearchCV"
   ]
  },
  {
   "cell_type": "code",
   "execution_count": 59,
   "id": "e0e18831",
   "metadata": {
    "execution": {
     "iopub.execute_input": "2022-03-13T17:42:03.251114Z",
     "iopub.status.busy": "2022-03-13T17:42:03.250493Z",
     "iopub.status.idle": "2022-03-13T17:42:03.255066Z",
     "shell.execute_reply": "2022-03-13T17:42:03.255638Z",
     "shell.execute_reply.started": "2022-03-13T13:56:17.605662Z"
    },
    "papermill": {
     "duration": 0.111408,
     "end_time": "2022-03-13T17:42:03.255812",
     "exception": false,
     "start_time": "2022-03-13T17:42:03.144404",
     "status": "completed"
    },
    "tags": []
   },
   "outputs": [],
   "source": [
    "# Tune the learing rate And \n",
    "LR = {'learning_rate':[0.5], 'n_estimators':[80,95,100,105]}\n",
    "\n",
    "tuning = GridSearchCV(estimator = GradientBoostingRegressor(), param_grid = LR, scoring='r2')"
   ]
  },
  {
   "cell_type": "code",
   "execution_count": 60,
   "id": "19352558",
   "metadata": {
    "execution": {
     "iopub.execute_input": "2022-03-13T17:42:03.468287Z",
     "iopub.status.busy": "2022-03-13T17:42:03.467607Z",
     "iopub.status.idle": "2022-03-13T17:47:03.925726Z",
     "shell.execute_reply": "2022-03-13T17:47:03.926297Z",
     "shell.execute_reply.started": "2022-03-13T13:56:17.615882Z"
    },
    "papermill": {
     "duration": 300.565967,
     "end_time": "2022-03-13T17:47:03.926524",
     "exception": false,
     "start_time": "2022-03-13T17:42:03.360557",
     "status": "completed"
    },
    "tags": []
   },
   "outputs": [
    {
     "data": {
      "text/plain": [
       "({'learning_rate': 0.5, 'n_estimators': 105}, 0.5995200586396644)"
      ]
     },
     "execution_count": 60,
     "metadata": {},
     "output_type": "execute_result"
    }
   ],
   "source": [
    "tuning.fit(X_train,y_train)\n",
    "tuning.best_params_, tuning.best_score_"
   ]
  },
  {
   "cell_type": "code",
   "execution_count": null,
   "id": "2b9f491d",
   "metadata": {
    "papermill": {
     "duration": 0.106394,
     "end_time": "2022-03-13T17:47:04.139407",
     "exception": false,
     "start_time": "2022-03-13T17:47:04.033013",
     "status": "completed"
    },
    "tags": []
   },
   "outputs": [],
   "source": []
  },
  {
   "cell_type": "code",
   "execution_count": 61,
   "id": "30e490af",
   "metadata": {
    "execution": {
     "iopub.execute_input": "2022-03-13T17:47:04.357493Z",
     "iopub.status.busy": "2022-03-13T17:47:04.356886Z",
     "iopub.status.idle": "2022-03-13T18:08:28.588475Z",
     "shell.execute_reply": "2022-03-13T18:08:28.589002Z",
     "shell.execute_reply.started": "2022-03-13T14:12:30.183502Z"
    },
    "papermill": {
     "duration": 1284.344819,
     "end_time": "2022-03-13T18:08:28.589184",
     "exception": false,
     "start_time": "2022-03-13T17:47:04.244365",
     "status": "completed"
    },
    "tags": []
   },
   "outputs": [
    {
     "data": {
      "text/plain": [
       "({'learning_rate': 0.5, 'n_estimators': 300}, 0.6212622608492561)"
      ]
     },
     "execution_count": 61,
     "metadata": {},
     "output_type": "execute_result"
    }
   ],
   "source": [
    "# Tune the learing rate And \n",
    "LR = {'learning_rate':[0.5,0.2], 'n_estimators':[80,200,250,300]}\n",
    "\n",
    "tuning = GridSearchCV(estimator = GradientBoostingRegressor(), param_grid = LR, scoring='r2')\n",
    "tuning = GridSearchCV(estimator = GradientBoostingRegressor(), param_grid = LR, scoring='r2')\n",
    "tuning.fit(X_train,y_train)\n",
    "tuning.best_params_, tuning.best_score_"
   ]
  },
  {
   "cell_type": "code",
   "execution_count": 62,
   "id": "fdd6fb97",
   "metadata": {
    "execution": {
     "iopub.execute_input": "2022-03-13T18:08:28.802181Z",
     "iopub.status.busy": "2022-03-13T18:08:28.801476Z",
     "iopub.status.idle": "2022-03-13T18:54:37.289575Z",
     "shell.execute_reply": "2022-03-13T18:54:37.290082Z",
     "shell.execute_reply.started": "2022-03-13T14:35:12.967574Z"
    },
    "papermill": {
     "duration": 2768.597167,
     "end_time": "2022-03-13T18:54:37.290264",
     "exception": false,
     "start_time": "2022-03-13T18:08:28.693097",
     "status": "completed"
    },
    "tags": []
   },
   "outputs": [
    {
     "data": {
      "text/plain": [
       "({'learning_rate': 0.5, 'n_estimators': 600}, 0.642177580034177)"
      ]
     },
     "execution_count": 62,
     "metadata": {},
     "output_type": "execute_result"
    }
   ],
   "source": [
    "# Tune the learing rate And \n",
    "LR = {'learning_rate':[0.5,0.2], 'n_estimators':[300,400,500,600]}\n",
    "\n",
    "tuning = GridSearchCV(estimator = GradientBoostingRegressor(), param_grid = LR, scoring='r2')\n",
    "tuning = GridSearchCV(estimator = GradientBoostingRegressor(), param_grid = LR, scoring='r2')\n",
    "tuning.fit(X_train,y_train)\n",
    "tuning.best_params_, tuning.best_score_"
   ]
  },
  {
   "cell_type": "code",
   "execution_count": 63,
   "id": "6417db79",
   "metadata": {
    "execution": {
     "iopub.execute_input": "2022-03-13T18:54:37.503873Z",
     "iopub.status.busy": "2022-03-13T18:54:37.502940Z",
     "iopub.status.idle": "2022-03-13T18:54:37.506496Z",
     "shell.execute_reply": "2022-03-13T18:54:37.507100Z"
    },
    "papermill": {
     "duration": 0.111965,
     "end_time": "2022-03-13T18:54:37.507269",
     "exception": false,
     "start_time": "2022-03-13T18:54:37.395304",
     "status": "completed"
    },
    "tags": []
   },
   "outputs": [],
   "source": [
    "# from the tunning above its clear that the increase of estimators platuaes at 300 n estimators (number of tress)in r2 performace"
   ]
  },
  {
   "cell_type": "code",
   "execution_count": 64,
   "id": "1f5f1da2",
   "metadata": {
    "execution": {
     "iopub.execute_input": "2022-03-13T18:54:37.719665Z",
     "iopub.status.busy": "2022-03-13T18:54:37.718736Z",
     "iopub.status.idle": "2022-03-13T19:49:53.512382Z",
     "shell.execute_reply": "2022-03-13T19:49:53.512940Z",
     "shell.execute_reply.started": "2022-03-13T15:30:17.188973Z"
    },
    "papermill": {
     "duration": 3315.901721,
     "end_time": "2022-03-13T19:49:53.513152",
     "exception": false,
     "start_time": "2022-03-13T18:54:37.611431",
     "status": "completed"
    },
    "tags": []
   },
   "outputs": [
    {
     "data": {
      "text/plain": [
       "({'learning_rate': 0.5, 'max_depth': 10, 'n_estimators': 300},\n",
       " 0.7179407914513748)"
      ]
     },
     "execution_count": 64,
     "metadata": {},
     "output_type": "execute_result"
    }
   ],
   "source": [
    "# Tune the max depth \n",
    "LR = {'learning_rate':[0.5], 'n_estimators':[300], 'max_depth':[1,5,10,32]}\n",
    "\n",
    "tuning = GridSearchCV(estimator = GradientBoostingRegressor(), param_grid = LR, scoring='r2')\n",
    "tuning = GridSearchCV(estimator = GradientBoostingRegressor(), param_grid = LR, scoring='r2')\n",
    "tuning.fit(X_train,y_train)\n",
    "tuning.best_params_, tuning.best_score_"
   ]
  },
  {
   "cell_type": "code",
   "execution_count": 65,
   "id": "b66e796d",
   "metadata": {
    "execution": {
     "iopub.execute_input": "2022-03-13T19:49:53.732853Z",
     "iopub.status.busy": "2022-03-13T19:49:53.731760Z",
     "iopub.status.idle": "2022-03-13T19:49:53.736086Z",
     "shell.execute_reply": "2022-03-13T19:49:53.736723Z"
    },
    "papermill": {
     "duration": 0.115564,
     "end_time": "2022-03-13T19:49:53.736943",
     "exception": false,
     "start_time": "2022-03-13T19:49:53.621379",
     "status": "completed"
    },
    "tags": []
   },
   "outputs": [],
   "source": [
    "# # Tune the max depth \n",
    "# LR = {'learning_rate':[0.5], 'n_estimators':[300], 'max_depth':[10], 'min_samples_leaf':[0.1,0.5,1]}\n",
    "\n",
    "# tuning = GridSearchCV(estimator = GradientBoostingRegressor(), param_grid = LR, scoring='r2')\n",
    "# tuning = GridSearchCV(estimator = GradientBoostingRegressor(), param_grid = LR, scoring='r2')\n",
    "# tuning.fit(X_train,y_train)\n",
    "# tuning.best_params_, tuning.best_score_"
   ]
  },
  {
   "cell_type": "markdown",
   "id": "74353579",
   "metadata": {
    "papermill": {
     "duration": 0.124317,
     "end_time": "2022-03-13T19:49:53.981570",
     "exception": false,
     "start_time": "2022-03-13T19:49:53.857253",
     "status": "completed"
    },
    "tags": []
   },
   "source": [
    "# Final Gradient Boosted Regression Model"
   ]
  },
  {
   "cell_type": "code",
   "execution_count": 66,
   "id": "bea95113",
   "metadata": {
    "execution": {
     "iopub.execute_input": "2022-03-13T19:49:54.199443Z",
     "iopub.status.busy": "2022-03-13T19:49:54.198523Z",
     "iopub.status.idle": "2022-03-13T19:49:54.202561Z",
     "shell.execute_reply": "2022-03-13T19:49:54.203112Z",
     "shell.execute_reply.started": "2022-03-13T17:33:55.780937Z"
    },
    "papermill": {
     "duration": 0.113216,
     "end_time": "2022-03-13T19:49:54.203283",
     "exception": false,
     "start_time": "2022-03-13T19:49:54.090067",
     "status": "completed"
    },
    "tags": []
   },
   "outputs": [],
   "source": [
    "# Optimised version \n",
    "# Gradient boosting Regressor model \n",
    "gradientregressor = GradientBoostingRegressor(\n",
    "                                             n_estimators=300,\n",
    "                                             learning_rate=0.5,\n",
    "                                             max_depth=10)"
   ]
  },
  {
   "cell_type": "code",
   "execution_count": 67,
   "id": "f76312b4",
   "metadata": {
    "execution": {
     "iopub.execute_input": "2022-03-13T19:49:54.418061Z",
     "iopub.status.busy": "2022-03-13T19:49:54.417072Z",
     "iopub.status.idle": "2022-03-13T19:52:48.704768Z",
     "shell.execute_reply": "2022-03-13T19:52:48.705295Z",
     "shell.execute_reply.started": "2022-03-13T17:33:59.225666Z"
    },
    "papermill": {
     "duration": 174.395991,
     "end_time": "2022-03-13T19:52:48.705554",
     "exception": false,
     "start_time": "2022-03-13T19:49:54.309563",
     "status": "completed"
    },
    "tags": []
   },
   "outputs": [],
   "source": [
    "# training Model\n",
    "model = gradientregressor.fit(X_train,y_train)"
   ]
  },
  {
   "cell_type": "code",
   "execution_count": 68,
   "id": "d77c98a9",
   "metadata": {
    "execution": {
     "iopub.execute_input": "2022-03-13T19:52:48.924353Z",
     "iopub.status.busy": "2022-03-13T19:52:48.923681Z",
     "iopub.status.idle": "2022-03-13T19:52:49.810830Z",
     "shell.execute_reply": "2022-03-13T19:52:49.811690Z",
     "shell.execute_reply.started": "2022-03-13T17:39:30.535282Z"
    },
    "papermill": {
     "duration": 0.997112,
     "end_time": "2022-03-13T19:52:49.811981",
     "exception": false,
     "start_time": "2022-03-13T19:52:48.814869",
     "status": "completed"
    },
    "tags": []
   },
   "outputs": [],
   "source": [
    "# prediction \n",
    "y_pred = model.predict(X_test)"
   ]
  },
  {
   "cell_type": "code",
   "execution_count": 69,
   "id": "a1d28ec3",
   "metadata": {
    "execution": {
     "iopub.execute_input": "2022-03-13T19:52:50.063692Z",
     "iopub.status.busy": "2022-03-13T19:52:50.062998Z",
     "iopub.status.idle": "2022-03-13T19:52:50.067698Z",
     "shell.execute_reply": "2022-03-13T19:52:50.068191Z",
     "shell.execute_reply.started": "2022-03-13T17:39:35.294069Z"
    },
    "papermill": {
     "duration": 0.118467,
     "end_time": "2022-03-13T19:52:50.068390",
     "exception": false,
     "start_time": "2022-03-13T19:52:49.949923",
     "status": "completed"
    },
    "tags": []
   },
   "outputs": [
    {
     "data": {
      "text/plain": [
       "0.6457486755097039"
      ]
     },
     "execution_count": 69,
     "metadata": {},
     "output_type": "execute_result"
    }
   ],
   "source": [
    "r2_score(y_pred,y_test)"
   ]
  },
  {
   "cell_type": "code",
   "execution_count": 70,
   "id": "ae880bfb",
   "metadata": {
    "execution": {
     "iopub.execute_input": "2022-03-13T19:52:50.288114Z",
     "iopub.status.busy": "2022-03-13T19:52:50.287374Z",
     "iopub.status.idle": "2022-03-13T19:52:50.291534Z",
     "shell.execute_reply": "2022-03-13T19:52:50.290932Z",
     "shell.execute_reply.started": "2022-03-13T14:01:25.046361Z"
    },
    "papermill": {
     "duration": 0.115811,
     "end_time": "2022-03-13T19:52:50.291684",
     "exception": false,
     "start_time": "2022-03-13T19:52:50.175873",
     "status": "completed"
    },
    "tags": []
   },
   "outputs": [],
   "source": [
    "# # instantiate a Decision Tree Regressor \n",
    "# dt = DecisionTreeRegressor(max_depth=4,\n",
    "# #                          stopping condition \n",
    "#                            min_samples_leaf=0.1,\n",
    "#                            random_state=740)\n",
    "# 300,400,500,600"
   ]
  },
  {
   "cell_type": "code",
   "execution_count": 71,
   "id": "0d09f156",
   "metadata": {
    "execution": {
     "iopub.execute_input": "2022-03-13T19:52:50.511262Z",
     "iopub.status.busy": "2022-03-13T19:52:50.510585Z",
     "iopub.status.idle": "2022-03-13T19:52:50.513332Z",
     "shell.execute_reply": "2022-03-13T19:52:50.513828Z",
     "shell.execute_reply.started": "2022-03-13T14:01:25.052722Z"
    },
    "papermill": {
     "duration": 0.11386,
     "end_time": "2022-03-13T19:52:50.513988",
     "exception": false,
     "start_time": "2022-03-13T19:52:50.400128",
     "status": "completed"
    },
    "tags": []
   },
   "outputs": [],
   "source": [
    "# # Fit model \n",
    "# dt.fit(X_train,y_train)"
   ]
  },
  {
   "cell_type": "code",
   "execution_count": 72,
   "id": "9d5be0ea",
   "metadata": {
    "execution": {
     "iopub.execute_input": "2022-03-13T19:52:50.731135Z",
     "iopub.status.busy": "2022-03-13T19:52:50.730496Z",
     "iopub.status.idle": "2022-03-13T19:52:50.732628Z",
     "shell.execute_reply": "2022-03-13T19:52:50.733197Z",
     "shell.execute_reply.started": "2022-03-13T14:01:25.064922Z"
    },
    "papermill": {
     "duration": 0.112478,
     "end_time": "2022-03-13T19:52:50.733357",
     "exception": false,
     "start_time": "2022-03-13T19:52:50.620879",
     "status": "completed"
    },
    "tags": []
   },
   "outputs": [],
   "source": [
    "# # predict test labels\n",
    "# y_predict = dt.predict(X_test)"
   ]
  },
  {
   "cell_type": "code",
   "execution_count": 73,
   "id": "561cc811",
   "metadata": {
    "execution": {
     "iopub.execute_input": "2022-03-13T19:52:50.949866Z",
     "iopub.status.busy": "2022-03-13T19:52:50.949069Z",
     "iopub.status.idle": "2022-03-13T19:52:50.952341Z",
     "shell.execute_reply": "2022-03-13T19:52:50.952871Z",
     "shell.execute_reply.started": "2022-03-13T14:01:25.076632Z"
    },
    "papermill": {
     "duration": 0.113596,
     "end_time": "2022-03-13T19:52:50.953040",
     "exception": false,
     "start_time": "2022-03-13T19:52:50.839444",
     "status": "completed"
    },
    "tags": []
   },
   "outputs": [],
   "source": [
    "# # calculate test MSE\n",
    "# mse_dt = MSE(y_test, y_predict)\n"
   ]
  },
  {
   "cell_type": "code",
   "execution_count": 74,
   "id": "2833db64",
   "metadata": {
    "execution": {
     "iopub.execute_input": "2022-03-13T19:52:51.168904Z",
     "iopub.status.busy": "2022-03-13T19:52:51.168228Z",
     "iopub.status.idle": "2022-03-13T19:52:51.171074Z",
     "shell.execute_reply": "2022-03-13T19:52:51.171570Z",
     "shell.execute_reply.started": "2022-03-13T14:01:25.087295Z"
    },
    "papermill": {
     "duration": 0.111455,
     "end_time": "2022-03-13T19:52:51.171736",
     "exception": false,
     "start_time": "2022-03-13T19:52:51.060281",
     "status": "completed"
    },
    "tags": []
   },
   "outputs": [],
   "source": [
    "\n",
    "# # calculate rmse for fair comparison between other model \n",
    "# rmse_dt = mse_dt**(1/2)\n",
    "\n",
    "# # Print RMSE\n",
    "# print(rmse_dt)"
   ]
  },
  {
   "cell_type": "code",
   "execution_count": 75,
   "id": "6f992de5",
   "metadata": {
    "execution": {
     "iopub.execute_input": "2022-03-13T19:52:51.387582Z",
     "iopub.status.busy": "2022-03-13T19:52:51.386476Z",
     "iopub.status.idle": "2022-03-13T19:52:51.389866Z",
     "shell.execute_reply": "2022-03-13T19:52:51.390407Z",
     "shell.execute_reply.started": "2022-03-13T14:01:25.099733Z"
    },
    "papermill": {
     "duration": 0.113998,
     "end_time": "2022-03-13T19:52:51.390635",
     "exception": false,
     "start_time": "2022-03-13T19:52:51.276637",
     "status": "completed"
    },
    "tags": []
   },
   "outputs": [],
   "source": [
    "# Gradient boosting Tress \n",
    "# Due to non linear relationship between y and xs i believe it will provide a more accurate prediction"
   ]
  },
  {
   "cell_type": "code",
   "execution_count": null,
   "id": "a5181c02",
   "metadata": {
    "papermill": {
     "duration": 0.106092,
     "end_time": "2022-03-13T19:52:51.602788",
     "exception": false,
     "start_time": "2022-03-13T19:52:51.496696",
     "status": "completed"
    },
    "tags": []
   },
   "outputs": [],
   "source": []
  }
 ],
 "metadata": {
  "kernelspec": {
   "display_name": "Python 3",
   "language": "python",
   "name": "python3"
  },
  "language_info": {
   "codemirror_mode": {
    "name": "ipython",
    "version": 3
   },
   "file_extension": ".py",
   "mimetype": "text/x-python",
   "name": "python",
   "nbconvert_exporter": "python",
   "pygments_lexer": "ipython3",
   "version": "3.7.12"
  },
  "papermill": {
   "default_parameters": {},
   "duration": 7933.287858,
   "end_time": "2022-03-13T19:52:53.242265",
   "environment_variables": {},
   "exception": null,
   "input_path": "__notebook__.ipynb",
   "output_path": "__notebook__.ipynb",
   "parameters": {},
   "start_time": "2022-03-13T17:40:39.954407",
   "version": "2.3.3"
  }
 },
 "nbformat": 4,
 "nbformat_minor": 5
}
